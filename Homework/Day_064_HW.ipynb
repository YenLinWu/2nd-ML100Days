{
 "cells": [
  {
   "cell_type": "markdown",
   "metadata": {},
   "source": [
    "# 作業\n",
    "* 選擇迴歸資料集(右) - 交錯六群，在其他參數保持預設值的情況下，只允許調整隱藏層層數與神經元數量，且遵守下列限制   \n",
    "> * 隱藏層神經元總數最多 8 個 (即 : 可以單層 8 個，或兩層 5 個與 3 個)   \n",
    "> * 遞迴次數只允許跑到500次  \n",
    "* 在上述限制下，挑戰看看測試誤差 (Test Loss) 最低能到多少? 請回答你的神經元參數與 Test Loss 數\n",
    "  \n",
    "##### Ans:\n",
    "Test 1 :\n",
    "2 Hidden Layers ( 4 neurons, 4 neurons ) : 0.015  \n",
    "\n",
    "Test 2 :\n",
    "2 Hidden Layers ( 6 neurons, 2 neurons ) : 0.012  \n",
    "\n",
    "Test 3 :\n",
    "2 Hidden Layers ( 2 neurons, 6 neurons ) : 0.029  \n",
    "\n",
    "Test 4 :\n",
    "2 Hidden Layers ( 7 neurons, 1 neuron ) : 0.012 \n",
    "\n",
    "Test 5 :\n",
    "2 Hidden Layers ( 1 neuron, 7 neurons ) : 0.042 \n",
    "\n",
    "Test 6 :\n",
    "2 Hidden Layers ( 4 neurons, 3 neurons ) : 0.017\n",
    "\n",
    "Test 7 :\n",
    "2 Hidden Layers ( 3 neurons, 4 neurons ) : 0.015\n",
    "\n",
    "Test 8 :\n",
    "1 Hidden Layers ( 8 neurons ) : 0.012  \n",
    "\n",
    "Test 9 :\n",
    "1 Hidden Layers ( 6 neurons ) : 0.014  \n"
   ]
  },
  {
   "cell_type": "markdown",
   "metadata": {
    "collapsed": true
   },
   "source": []
  }
 ],
 "metadata": {
  "kernelspec": {
   "display_name": "Python 3",
   "language": "python",
   "name": "python3"
  },
  "language_info": {
   "codemirror_mode": {
    "name": "ipython",
    "version": 3
   },
   "file_extension": ".py",
   "mimetype": "text/x-python",
   "name": "python",
   "nbconvert_exporter": "python",
   "pygments_lexer": "ipython3",
   "version": "3.7.3"
  }
 },
 "nbformat": 4,
 "nbformat_minor": 2
}
