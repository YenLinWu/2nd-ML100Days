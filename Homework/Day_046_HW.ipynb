{
 "cells": [
  {
   "cell_type": "markdown",
   "metadata": {},
   "source": [
    "### 作業\n",
    "目前已經學過許多的模型，相信大家對整體流程應該比較掌握了，這次作業請改用**手寫辨識資料集**，步驟流程都是一樣的，請試著自己撰寫程式碼來完成所有步驟"
   ]
  },
  {
   "cell_type": "code",
   "execution_count": 1,
   "metadata": {},
   "outputs": [],
   "source": [
    "from sklearn import datasets, metrics\n",
    "from sklearn.model_selection import train_test_split\n",
    "\n",
    "# 決策樹：\n",
    "# 分類問題：DecisionTreeClassifier；迴歸問題：DecisionTreeRegressor\n",
    "from sklearn.tree import DecisionTreeClassifier, DecisionTreeRegressor\n",
    "\n",
    "#隨機森林\n",
    "# 分類問題：RandomForestClassifier；迴歸問題：RandomForestRegressor\n",
    "from sklearn.ensemble import RandomForestClassifier, RandomForestRegressor\n",
    "\n",
    "# 梯度提升機\n",
    "# 分類問題：GradientBoostingClassifier；迴歸問題：GradientBoostingRegressor\n",
    "from sklearn.ensemble import GradientBoostingClassifier, GradientBoostingRegressor\n",
    "\n",
    "\n",
    "from sklearn.linear_model import LinearRegression, LogisticRegression\n",
    "from sklearn.metrics import mean_squared_error, r2_score, accuracy_score"
   ]
  },
  {
   "cell_type": "code",
   "execution_count": 2,
   "metadata": {},
   "outputs": [],
   "source": [
    "digits = datasets.load_digits( )\n",
    "\n",
    "# 切分訓練集/測試集\n",
    "x_train, x_test, y_train, y_test = train_test_split( digits.data, digits.target, test_size = 0.25, random_state = 4 )"
   ]
  },
  {
   "cell_type": "markdown",
   "metadata": {},
   "source": [
    "### 梯度提升機\n",
    "- https://scikit-learn.org/stable/modules/generated/sklearn.ensemble.GradientBoostingClassifier.html  \n",
    "- https://scikit-learn.org/stable/modules/generated/sklearn.ensemble.GradientBoostingRegressor.html\n",
    "\n",
    "  \n",
    "相關文獻：\n",
    "- https://www.youtube.com/watch?v=tH9FH1DH5n0  \n",
    "- http://blog.kaggle.com/2017/01/23/a-kaggle-master-explains-gradient-boosting/\n",
    "- https://homes.cs.washington.edu/~tqchen/pdf/BoostedTree.pdf  "
   ]
  },
  {
   "cell_type": "code",
   "execution_count": 3,
   "metadata": {},
   "outputs": [],
   "source": [
    "# 建立梯度提升機模型\n",
    "GBC = GradientBoostingClassifier( )\n",
    "# n_estimators ( default = 100 )：最大的迭代次數，即模型的數量 ( 過大容易產生過擬合 )\n",
    "# learning_rate ( default = 0.1 )：每個模型的權重數，較小的 learning_rate 會需要較多的迭代次數(n_estimators)\n",
    "# 註：調參數時， n_estimators 與  learning_rate 會一起調整！\n",
    "# loss ( default = ’deviance’ )：分類模型的損失函數有 'deviance' 及 'exponential' 兩種；若選用 'exponential' ，則是套用 Adaboost 演算法。\n",
    "#                                          一般建議使用預設，它對二元或多元分類有較佳的優化效果。\n",
    "\n",
    "\n",
    "# 訓練模型\n",
    "GBC.fit( x_train, y_train )\n",
    "\n",
    "# 預測測試集\n",
    "y_pred = GBC.predict( x_test )"
   ]
  },
  {
   "cell_type": "code",
   "execution_count": 4,
   "metadata": {},
   "outputs": [
    {
     "name": "stdout",
     "output_type": "stream",
     "text": [
      "Acuuracy :  0.9644444444444444\n"
     ]
    }
   ],
   "source": [
    "# 評估模型\n",
    "acc = metrics.accuracy_score( y_test, y_pred )\n",
    "print( 'Acuuracy : ', acc )"
   ]
  }
 ],
 "metadata": {
  "kernelspec": {
   "display_name": "Python 3",
   "language": "python",
   "name": "python3"
  },
  "language_info": {
   "codemirror_mode": {
    "name": "ipython",
    "version": 3
   },
   "file_extension": ".py",
   "mimetype": "text/x-python",
   "name": "python",
   "nbconvert_exporter": "python",
   "pygments_lexer": "ipython3",
   "version": "3.6.8"
  }
 },
 "nbformat": 4,
 "nbformat_minor": 2
}
