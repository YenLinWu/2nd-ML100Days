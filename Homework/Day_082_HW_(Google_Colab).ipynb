{
  "nbformat": 4,
  "nbformat_minor": 0,
  "metadata": {
    "kernelspec": {
      "display_name": "Python 3",
      "language": "python",
      "name": "python3"
    },
    "language_info": {
      "codemirror_mode": {
        "name": "ipython",
        "version": 3
      },
      "file_extension": ".py",
      "mimetype": "text/x-python",
      "name": "python",
      "nbconvert_exporter": "python",
      "pygments_lexer": "ipython3",
      "version": "3.6.5"
    },
    "colab": {
      "name": "Day_082_HW.ipynb",
      "version": "0.3.2",
      "provenance": [],
      "collapsed_sections": [],
      "toc_visible": true
    }
  },
  "cells": [
    {
      "cell_type": "markdown",
      "metadata": {
        "id": "-ScMGlcqa6T4",
        "colab_type": "text"
      },
      "source": [
        "## 範例重點\n",
        "* 知道如何在 keras 中加入 dropout\n",
        "* 了解 dropout 中 ratio 的意義與對訓練的影響"
      ]
    },
    {
      "cell_type": "markdown",
      "metadata": {
        "id": "1XlJwN3Aa6UX",
        "colab_type": "text"
      },
      "source": [
        "## Work\n",
        "1. 請比較使用不同層數以及不同 Dropout rate 對訓練的效果\n",
        "2. 將 optimizer 改成使用 Adam 並加上適當的 dropout rate 檢視結果"
      ]
    },
    {
      "cell_type": "code",
      "metadata": {
        "id": "oxEoybxUa6T5",
        "colab_type": "code",
        "colab": {
          "base_uri": "https://localhost:8080/",
          "height": 34
        },
        "outputId": "415d5768-8928-47d1-d940-0c833c6fb16a"
      },
      "source": [
        "import os\n",
        "import keras\n",
        "\n",
        "# 神經網絡正規化\n",
        "from keras.regularizers import l1, l2, l1_l2 \n",
        "# 神經網絡隨機拋棄\n",
        "from keras.layers import Dropout \n",
        "\n",
        "import matplotlib.pyplot as plt\n",
        "%matplotlib inline\n",
        "\n",
        "\n",
        "# 本範例不需使用 GPU, 將 GPU 設定為 \"無\"\n",
        "# os.environ[\"CUDA_VISIBLE_DEVICES\"] = \"\""
      ],
      "execution_count": 1,
      "outputs": [
        {
          "output_type": "stream",
          "text": [
            "Using TensorFlow backend.\n"
          ],
          "name": "stderr"
        }
      ]
    },
    {
      "cell_type": "code",
      "metadata": {
        "id": "nfaM9J-ya6UC",
        "colab_type": "code",
        "colab": {
          "base_uri": "https://localhost:8080/",
          "height": 52
        },
        "outputId": "5b1ea92c-d626-4557-d570-5435f84663f9"
      },
      "source": [
        "train, test = keras.datasets.cifar10.load_data( )"
      ],
      "execution_count": 2,
      "outputs": [
        {
          "output_type": "stream",
          "text": [
            "Downloading data from https://www.cs.toronto.edu/~kriz/cifar-10-python.tar.gz\n",
            "170500096/170498071 [==============================] - 6s 0us/step\n"
          ],
          "name": "stdout"
        }
      ]
    },
    {
      "cell_type": "markdown",
      "metadata": {
        "id": "rO19beFEb7-C",
        "colab_type": "text"
      },
      "source": [
        "# 資料前處理 - 標準化 及 獨熱編碼(OneHot Encoding)"
      ]
    },
    {
      "cell_type": "code",
      "metadata": {
        "id": "r8AFvtlla6UF",
        "colab_type": "code",
        "colab": {}
      },
      "source": [
        "def preproc_x( x, flatten = True ) :\n",
        "    x = x / 255.\n",
        "    if flatten:\n",
        "        x = x.reshape( ( len(x), -1 ) )\n",
        "    return x\n",
        "\n",
        "def preproc_y( y, num_classes = 10 ) :\n",
        "    if y.shape[ -1 ] == 1:\n",
        "        y = keras.utils.to_categorical( y, num_classes )\n",
        "    return y  "
      ],
      "execution_count": 0,
      "outputs": []
    },
    {
      "cell_type": "code",
      "metadata": {
        "id": "oXKrlcDua6UI",
        "colab_type": "code",
        "colab": {}
      },
      "source": [
        "x_train, y_train = train\n",
        "x_test, y_test = test\n",
        "\n",
        "# 資料前處理 - X 標準化\n",
        "x_train = preproc_x(x_train)\n",
        "x_test = preproc_x(x_test)\n",
        "\n",
        "# 資料前處理 -Y 轉成 onehot\n",
        "y_train = preproc_y(y_train)\n",
        "y_test = preproc_y(y_test)"
      ],
      "execution_count": 0,
      "outputs": []
    },
    {
      "cell_type": "markdown",
      "metadata": {
        "id": "8VncpEULcDpb",
        "colab_type": "text"
      },
      "source": [
        "# 建立神經網絡模型(  L1- Regularization, SGD )"
      ]
    },
    {
      "cell_type": "code",
      "metadata": {
        "id": "02yaqDBla6UL",
        "colab_type": "code",
        "colab": {
          "base_uri": "https://localhost:8080/",
          "height": 565
        },
        "outputId": "836887b2-4a30-4fb0-9cdd-0423a31dda8a"
      },
      "source": [
        "def build_mlp( input_shape, output_units = 10, num_neurons = [ 512, 256, 128 ], l1_parameter = 0, dropout_ratio = 0 ) : \n",
        "    \n",
        "    input_layer = keras.layers.Input( input_shape )\n",
        "    \n",
        "    for i, n_units in enumerate( num_neurons ) : \n",
        "        if i == 0 :\n",
        "            x = keras.layers.Dense( units = n_units, \n",
        "                                    activation = \"relu\", \n",
        "                                    kernel_regularizer = l1( l1_parameter ),\n",
        "                                    name = \"hidden_layer_\" + str( i+1 ) )( input_layer )  \n",
        "            \n",
        "            # Dropout Layer\n",
        "            x = Dropout( rate = dropout_ratio, \n",
        "                         name = \"Dropout_Layer_\" + str( i+1 ) )( x ) \n",
        "              \n",
        "        else:\n",
        "            x = keras.layers.Dense( units = n_units, \n",
        "                                    activation = \"relu\", \n",
        "                                    kernel_regularizer = l1( l1_parameter ), \n",
        "                                    name = \"hidden_layer_\" + str( i+1 ) )( x )  \n",
        "            \n",
        "            # Dropout Layer\n",
        "            x = Dropout( rate = dropout_ratio,\n",
        "                         name = \"Dropout_Layer_\" + str( i+1 ) )( x )  \n",
        "              \n",
        "              \n",
        "    output_layer = keras.layers.Dense( units = output_units, \n",
        "                                       activation = 'softmax', \n",
        "                                       name = 'output_layer' )( x )\n",
        "    \n",
        "    model = keras.models.Model( inputs = [ input_layer ], outputs = [ output_layer ] )\n",
        "    return model\n",
        "\n",
        "model = build_mlp( input_shape = x_train.shape[ 1: ] ) \n",
        "model.summary( )"
      ],
      "execution_count": 5,
      "outputs": [
        {
          "output_type": "stream",
          "text": [
            "WARNING: Logging before flag parsing goes to stderr.\n",
            "W0718 16:48:00.777392 139754024302464 deprecation_wrapper.py:119] From /usr/local/lib/python3.6/dist-packages/keras/backend/tensorflow_backend.py:74: The name tf.get_default_graph is deprecated. Please use tf.compat.v1.get_default_graph instead.\n",
            "\n",
            "W0718 16:48:00.819787 139754024302464 deprecation_wrapper.py:119] From /usr/local/lib/python3.6/dist-packages/keras/backend/tensorflow_backend.py:517: The name tf.placeholder is deprecated. Please use tf.compat.v1.placeholder instead.\n",
            "\n",
            "W0718 16:48:00.834322 139754024302464 deprecation_wrapper.py:119] From /usr/local/lib/python3.6/dist-packages/keras/backend/tensorflow_backend.py:4138: The name tf.random_uniform is deprecated. Please use tf.random.uniform instead.\n",
            "\n"
          ],
          "name": "stderr"
        },
        {
          "output_type": "stream",
          "text": [
            "_________________________________________________________________\n",
            "Layer (type)                 Output Shape              Param #   \n",
            "=================================================================\n",
            "input_1 (InputLayer)         (None, 3072)              0         \n",
            "_________________________________________________________________\n",
            "hidden_layer_1 (Dense)       (None, 512)               1573376   \n",
            "_________________________________________________________________\n",
            "Dropout_Layer_1 (Dropout)    (None, 512)               0         \n",
            "_________________________________________________________________\n",
            "hidden_layer_2 (Dense)       (None, 256)               131328    \n",
            "_________________________________________________________________\n",
            "Dropout_Layer_2 (Dropout)    (None, 256)               0         \n",
            "_________________________________________________________________\n",
            "hidden_layer_3 (Dense)       (None, 128)               32896     \n",
            "_________________________________________________________________\n",
            "Dropout_Layer_3 (Dropout)    (None, 128)               0         \n",
            "_________________________________________________________________\n",
            "output_layer (Dense)         (None, 10)                1290      \n",
            "=================================================================\n",
            "Total params: 1,738,890\n",
            "Trainable params: 1,738,890\n",
            "Non-trainable params: 0\n",
            "_________________________________________________________________\n"
          ],
          "name": "stdout"
        }
      ]
    },
    {
      "cell_type": "markdown",
      "metadata": {
        "id": "fIiAUyf1dyT8",
        "colab_type": "text"
      },
      "source": [
        "## 設定超參數"
      ]
    },
    {
      "cell_type": "code",
      "metadata": {
        "id": "wMoefahxa6UN",
        "colab_type": "code",
        "colab": {}
      },
      "source": [
        "## 超參數設定\n",
        "LEARNING_RATE = 1e-3\n",
        "EPOCHS = 50\n",
        "BATCH_SIZE = 256\n",
        "MOMENTUM = 0.95  \n",
        "L1_PARAMETER = 1e-6  \n",
        "Dropout_Ratio = [ 0.25, 0.5 ]"
      ],
      "execution_count": 0,
      "outputs": []
    },
    {
      "cell_type": "markdown",
      "metadata": {
        "id": "DCFkzOG0eMa4",
        "colab_type": "text"
      },
      "source": [
        "## 優化器(Optimizer)"
      ]
    },
    {
      "cell_type": "code",
      "metadata": {
        "id": "iTyBn5OKef4n",
        "colab_type": "code",
        "colab": {}
      },
      "source": [
        "SGD = keras.optimizers.SGD( lr = LEARNING_RATE, \n",
        "                            momentum = MOMENTUM, \n",
        "                            nesterov = True\n",
        "                            )\n",
        "\n",
        "Optimizers = 'SGD'"
      ],
      "execution_count": 0,
      "outputs": []
    },
    {
      "cell_type": "markdown",
      "metadata": {
        "id": "Neg4DjhlesQr",
        "colab_type": "text"
      },
      "source": [
        "## 訓練模型"
      ]
    },
    {
      "cell_type": "code",
      "metadata": {
        "id": "lYr7zBS8et2n",
        "colab_type": "code",
        "colab": {
          "base_uri": "https://localhost:8080/",
          "height": 1000
        },
        "outputId": "54fbf780-9d16-4c38-ab0c-c3bedfa19378"
      },
      "source": [
        "results = {}\n",
        "\n",
        "\"\"\"\n",
        "建立訓練與實驗迴圈並蒐集資料\n",
        "\"\"\"\n",
        "for dropout_ratio in Dropout_Ratio :\n",
        "    keras.backend.clear_session( )    # 清掉舊的 Graph \n",
        "    \n",
        "    print( 'Dropout Ratio = ' + str( dropout_ratio ) )\n",
        "    model = build_mlp( input_shape = x_train.shape[ 1: ],\n",
        "                       l1_parameter = L1_PARAMETER, \n",
        "                       dropout_ratio = dropout_ratio\n",
        "                       )\n",
        "    model.summary( )\n",
        "    \n",
        "    \n",
        "    # 執行神經網絡\n",
        "    model.compile( loss = 'categorical_crossentropy', \n",
        "                   optimizer = Optimizers, \n",
        "                   metrics=[ 'accuracy' ] \n",
        "                   )\n",
        "\n",
        "    model.fit( x_train, y_train, \n",
        "               epochs = EPOCHS,     \n",
        "               batch_size = BATCH_SIZE, \n",
        "               validation_data = ( x_test, y_test ), \n",
        "               shuffle = True\n",
        "               )\n",
        "    \n",
        "    # Collect results\n",
        "    train_loss = model.history.history[ 'loss' ]\n",
        "    valid_loss = model.history.history[ 'val_loss' ]\n",
        "    train_acc = model.history.history[ 'acc' ]\n",
        "    valid_acc = model.history.history[ 'val_acc' ]\n",
        "    \n",
        "    exp_name_tag = \"dropout.-%s\" % str( dropout_ratio )\n",
        "    results[ exp_name_tag ] = { 'train-loss': train_loss,\n",
        "                                'valid-loss': valid_loss,\n",
        "                                'train-acc': train_acc,\n",
        "                                'valid-acc': valid_acc\n",
        "                                }"
      ],
      "execution_count": 8,
      "outputs": [
        {
          "output_type": "stream",
          "text": [
            "W0718 16:48:00.963029 139754024302464 deprecation_wrapper.py:119] From /usr/local/lib/python3.6/dist-packages/keras/backend/tensorflow_backend.py:95: The name tf.reset_default_graph is deprecated. Please use tf.compat.v1.reset_default_graph instead.\n",
            "\n",
            "W0718 16:48:00.965353 139754024302464 deprecation_wrapper.py:119] From /usr/local/lib/python3.6/dist-packages/keras/backend/tensorflow_backend.py:98: The name tf.placeholder_with_default is deprecated. Please use tf.compat.v1.placeholder_with_default instead.\n",
            "\n",
            "W0718 16:48:01.004122 139754024302464 deprecation.py:506] From /usr/local/lib/python3.6/dist-packages/keras/backend/tensorflow_backend.py:3445: calling dropout (from tensorflow.python.ops.nn_ops) with keep_prob is deprecated and will be removed in a future version.\n",
            "Instructions for updating:\n",
            "Please use `rate` instead of `keep_prob`. Rate should be set to `rate = 1 - keep_prob`.\n"
          ],
          "name": "stderr"
        },
        {
          "output_type": "stream",
          "text": [
            "Dropout Ratio = 0.25\n"
          ],
          "name": "stdout"
        },
        {
          "output_type": "stream",
          "text": [
            "W0718 16:48:01.114165 139754024302464 deprecation_wrapper.py:119] From /usr/local/lib/python3.6/dist-packages/keras/optimizers.py:790: The name tf.train.Optimizer is deprecated. Please use tf.compat.v1.train.Optimizer instead.\n",
            "\n"
          ],
          "name": "stderr"
        },
        {
          "output_type": "stream",
          "text": [
            "_________________________________________________________________\n",
            "Layer (type)                 Output Shape              Param #   \n",
            "=================================================================\n",
            "input_1 (InputLayer)         (None, 3072)              0         \n",
            "_________________________________________________________________\n",
            "hidden_layer_1 (Dense)       (None, 512)               1573376   \n",
            "_________________________________________________________________\n",
            "Dropout_Layer_1 (Dropout)    (None, 512)               0         \n",
            "_________________________________________________________________\n",
            "hidden_layer_2 (Dense)       (None, 256)               131328    \n",
            "_________________________________________________________________\n",
            "Dropout_Layer_2 (Dropout)    (None, 256)               0         \n",
            "_________________________________________________________________\n",
            "hidden_layer_3 (Dense)       (None, 128)               32896     \n",
            "_________________________________________________________________\n",
            "Dropout_Layer_3 (Dropout)    (None, 128)               0         \n",
            "_________________________________________________________________\n",
            "output_layer (Dense)         (None, 10)                1290      \n",
            "=================================================================\n",
            "Total params: 1,738,890\n",
            "Trainable params: 1,738,890\n",
            "Non-trainable params: 0\n",
            "_________________________________________________________________\n"
          ],
          "name": "stdout"
        },
        {
          "output_type": "stream",
          "text": [
            "W0718 16:48:01.421015 139754024302464 deprecation.py:323] From /usr/local/lib/python3.6/dist-packages/tensorflow/python/ops/math_grad.py:1250: add_dispatch_support.<locals>.wrapper (from tensorflow.python.ops.array_ops) is deprecated and will be removed in a future version.\n",
            "Instructions for updating:\n",
            "Use tf.where in 2.0, which has the same broadcast rule as np.where\n"
          ],
          "name": "stderr"
        },
        {
          "output_type": "stream",
          "text": [
            "Train on 50000 samples, validate on 10000 samples\n",
            "Epoch 1/50\n",
            "50000/50000 [==============================] - 15s 293us/step - loss: 2.2488 - acc: 0.1744 - val_loss: 2.0758 - val_acc: 0.2714\n",
            "Epoch 2/50\n",
            "50000/50000 [==============================] - 13s 262us/step - loss: 2.0920 - acc: 0.2426 - val_loss: 1.9854 - val_acc: 0.3193\n",
            "Epoch 3/50\n",
            "50000/50000 [==============================] - 13s 261us/step - loss: 2.0161 - acc: 0.2745 - val_loss: 1.9153 - val_acc: 0.3409\n",
            "Epoch 4/50\n",
            "50000/50000 [==============================] - 13s 261us/step - loss: 1.9693 - acc: 0.2946 - val_loss: 1.8736 - val_acc: 0.3550\n",
            "Epoch 5/50\n",
            "50000/50000 [==============================] - 13s 260us/step - loss: 1.9332 - acc: 0.3148 - val_loss: 1.8441 - val_acc: 0.3640\n",
            "Epoch 6/50\n",
            "50000/50000 [==============================] - 13s 260us/step - loss: 1.9053 - acc: 0.3256 - val_loss: 1.8125 - val_acc: 0.3736\n",
            "Epoch 7/50\n",
            "50000/50000 [==============================] - 13s 261us/step - loss: 1.8774 - acc: 0.3387 - val_loss: 1.7942 - val_acc: 0.3828\n",
            "Epoch 8/50\n",
            "50000/50000 [==============================] - 14s 273us/step - loss: 1.8553 - acc: 0.3470 - val_loss: 1.7784 - val_acc: 0.3870\n",
            "Epoch 9/50\n",
            "50000/50000 [==============================] - 13s 268us/step - loss: 1.8362 - acc: 0.3529 - val_loss: 1.7336 - val_acc: 0.4022\n",
            "Epoch 10/50\n",
            "50000/50000 [==============================] - 13s 268us/step - loss: 1.8157 - acc: 0.3621 - val_loss: 1.7220 - val_acc: 0.4054\n",
            "Epoch 11/50\n",
            "50000/50000 [==============================] - 13s 267us/step - loss: 1.7943 - acc: 0.3695 - val_loss: 1.7082 - val_acc: 0.4130\n",
            "Epoch 12/50\n",
            "50000/50000 [==============================] - 13s 267us/step - loss: 1.7822 - acc: 0.3764 - val_loss: 1.7013 - val_acc: 0.4093\n",
            "Epoch 13/50\n",
            "50000/50000 [==============================] - 13s 270us/step - loss: 1.7663 - acc: 0.3825 - val_loss: 1.6691 - val_acc: 0.4300\n",
            "Epoch 14/50\n",
            "50000/50000 [==============================] - 13s 267us/step - loss: 1.7562 - acc: 0.3864 - val_loss: 1.6538 - val_acc: 0.4292\n",
            "Epoch 15/50\n",
            "50000/50000 [==============================] - 13s 266us/step - loss: 1.7412 - acc: 0.3943 - val_loss: 1.6556 - val_acc: 0.4214\n",
            "Epoch 16/50\n",
            "50000/50000 [==============================] - 13s 268us/step - loss: 1.7279 - acc: 0.3972 - val_loss: 1.6600 - val_acc: 0.4255\n",
            "Epoch 17/50\n",
            "50000/50000 [==============================] - 13s 267us/step - loss: 1.7198 - acc: 0.4020 - val_loss: 1.6295 - val_acc: 0.4370\n",
            "Epoch 18/50\n",
            "50000/50000 [==============================] - 13s 266us/step - loss: 1.7057 - acc: 0.4048 - val_loss: 1.6340 - val_acc: 0.4367\n",
            "Epoch 19/50\n",
            "50000/50000 [==============================] - 13s 266us/step - loss: 1.6967 - acc: 0.4099 - val_loss: 1.6150 - val_acc: 0.4439\n",
            "Epoch 20/50\n",
            "50000/50000 [==============================] - 13s 264us/step - loss: 1.6848 - acc: 0.4113 - val_loss: 1.6098 - val_acc: 0.4474\n",
            "Epoch 21/50\n",
            "50000/50000 [==============================] - 13s 264us/step - loss: 1.6763 - acc: 0.4154 - val_loss: 1.5851 - val_acc: 0.4585\n",
            "Epoch 22/50\n",
            "50000/50000 [==============================] - 13s 267us/step - loss: 1.6665 - acc: 0.4203 - val_loss: 1.6064 - val_acc: 0.4458\n",
            "Epoch 23/50\n",
            "50000/50000 [==============================] - 13s 263us/step - loss: 1.6569 - acc: 0.4257 - val_loss: 1.5813 - val_acc: 0.4561\n",
            "Epoch 24/50\n",
            "50000/50000 [==============================] - 13s 264us/step - loss: 1.6492 - acc: 0.4280 - val_loss: 1.5981 - val_acc: 0.4489\n",
            "Epoch 25/50\n",
            "50000/50000 [==============================] - 13s 265us/step - loss: 1.6402 - acc: 0.4304 - val_loss: 1.5955 - val_acc: 0.4475\n",
            "Epoch 26/50\n",
            "50000/50000 [==============================] - 13s 265us/step - loss: 1.6296 - acc: 0.4329 - val_loss: 1.5639 - val_acc: 0.4569\n",
            "Epoch 27/50\n",
            "50000/50000 [==============================] - 13s 266us/step - loss: 1.6238 - acc: 0.4360 - val_loss: 1.5528 - val_acc: 0.4597\n",
            "Epoch 28/50\n",
            "50000/50000 [==============================] - 13s 268us/step - loss: 1.6184 - acc: 0.4404 - val_loss: 1.5541 - val_acc: 0.4665\n",
            "Epoch 29/50\n",
            "50000/50000 [==============================] - 13s 264us/step - loss: 1.6098 - acc: 0.4423 - val_loss: 1.5396 - val_acc: 0.4655\n",
            "Epoch 30/50\n",
            "50000/50000 [==============================] - 13s 265us/step - loss: 1.6010 - acc: 0.4422 - val_loss: 1.5332 - val_acc: 0.4729\n",
            "Epoch 31/50\n",
            "50000/50000 [==============================] - 14s 272us/step - loss: 1.5963 - acc: 0.4462 - val_loss: 1.5134 - val_acc: 0.4779\n",
            "Epoch 32/50\n",
            "50000/50000 [==============================] - 13s 267us/step - loss: 1.5893 - acc: 0.4499 - val_loss: 1.5150 - val_acc: 0.4775\n",
            "Epoch 33/50\n",
            "50000/50000 [==============================] - 13s 266us/step - loss: 1.5802 - acc: 0.4515 - val_loss: 1.5491 - val_acc: 0.4564\n",
            "Epoch 34/50\n",
            "50000/50000 [==============================] - 13s 264us/step - loss: 1.5722 - acc: 0.4532 - val_loss: 1.5226 - val_acc: 0.4743\n",
            "Epoch 35/50\n",
            "50000/50000 [==============================] - 13s 268us/step - loss: 1.5720 - acc: 0.4559 - val_loss: 1.5322 - val_acc: 0.4711\n",
            "Epoch 36/50\n",
            "50000/50000 [==============================] - 13s 267us/step - loss: 1.5642 - acc: 0.4572 - val_loss: 1.4917 - val_acc: 0.4865\n",
            "Epoch 37/50\n",
            "50000/50000 [==============================] - 13s 268us/step - loss: 1.5548 - acc: 0.4605 - val_loss: 1.4797 - val_acc: 0.4865\n",
            "Epoch 38/50\n",
            "50000/50000 [==============================] - 13s 268us/step - loss: 1.5493 - acc: 0.4623 - val_loss: 1.4921 - val_acc: 0.4869\n",
            "Epoch 39/50\n",
            "50000/50000 [==============================] - 13s 265us/step - loss: 1.5413 - acc: 0.4652 - val_loss: 1.4930 - val_acc: 0.4822\n",
            "Epoch 40/50\n",
            "50000/50000 [==============================] - 13s 267us/step - loss: 1.5408 - acc: 0.4648 - val_loss: 1.5295 - val_acc: 0.4763\n",
            "Epoch 41/50\n",
            "50000/50000 [==============================] - 13s 264us/step - loss: 1.5322 - acc: 0.4672 - val_loss: 1.4933 - val_acc: 0.4684\n",
            "Epoch 42/50\n",
            "50000/50000 [==============================] - 13s 263us/step - loss: 1.5260 - acc: 0.4708 - val_loss: 1.4877 - val_acc: 0.4744\n",
            "Epoch 43/50\n",
            "50000/50000 [==============================] - 13s 264us/step - loss: 1.5215 - acc: 0.4738 - val_loss: 1.5209 - val_acc: 0.4769\n",
            "Epoch 44/50\n",
            "50000/50000 [==============================] - 13s 264us/step - loss: 1.5098 - acc: 0.4762 - val_loss: 1.5619 - val_acc: 0.4571\n",
            "Epoch 45/50\n",
            "50000/50000 [==============================] - 13s 263us/step - loss: 1.5091 - acc: 0.4781 - val_loss: 1.4542 - val_acc: 0.4949\n",
            "Epoch 46/50\n",
            "50000/50000 [==============================] - 13s 268us/step - loss: 1.5024 - acc: 0.4786 - val_loss: 1.4963 - val_acc: 0.4716\n",
            "Epoch 47/50\n",
            "50000/50000 [==============================] - 13s 269us/step - loss: 1.5021 - acc: 0.4794 - val_loss: 1.4663 - val_acc: 0.4905\n",
            "Epoch 48/50\n",
            "50000/50000 [==============================] - 13s 264us/step - loss: 1.4942 - acc: 0.4815 - val_loss: 1.4442 - val_acc: 0.5001\n",
            "Epoch 49/50\n",
            "50000/50000 [==============================] - 13s 264us/step - loss: 1.4918 - acc: 0.4817 - val_loss: 1.4910 - val_acc: 0.4866\n",
            "Epoch 50/50\n",
            "50000/50000 [==============================] - 13s 265us/step - loss: 1.4851 - acc: 0.4844 - val_loss: 1.4485 - val_acc: 0.5024\n",
            "Dropout Ratio = 0.5\n",
            "_________________________________________________________________\n",
            "Layer (type)                 Output Shape              Param #   \n",
            "=================================================================\n",
            "input_1 (InputLayer)         (None, 3072)              0         \n",
            "_________________________________________________________________\n",
            "hidden_layer_1 (Dense)       (None, 512)               1573376   \n",
            "_________________________________________________________________\n",
            "Dropout_Layer_1 (Dropout)    (None, 512)               0         \n",
            "_________________________________________________________________\n",
            "hidden_layer_2 (Dense)       (None, 256)               131328    \n",
            "_________________________________________________________________\n",
            "Dropout_Layer_2 (Dropout)    (None, 256)               0         \n",
            "_________________________________________________________________\n",
            "hidden_layer_3 (Dense)       (None, 128)               32896     \n",
            "_________________________________________________________________\n",
            "Dropout_Layer_3 (Dropout)    (None, 128)               0         \n",
            "_________________________________________________________________\n",
            "output_layer (Dense)         (None, 10)                1290      \n",
            "=================================================================\n",
            "Total params: 1,738,890\n",
            "Trainable params: 1,738,890\n",
            "Non-trainable params: 0\n",
            "_________________________________________________________________\n",
            "Train on 50000 samples, validate on 10000 samples\n",
            "Epoch 1/50\n",
            "50000/50000 [==============================] - 14s 284us/step - loss: 2.3462 - acc: 0.1334 - val_loss: 2.2380 - val_acc: 0.2370\n",
            "Epoch 2/50\n",
            "50000/50000 [==============================] - 13s 265us/step - loss: 2.2621 - acc: 0.1712 - val_loss: 2.1676 - val_acc: 0.2661\n",
            "Epoch 3/50\n",
            "50000/50000 [==============================] - 13s 267us/step - loss: 2.2057 - acc: 0.1961 - val_loss: 2.0990 - val_acc: 0.2718\n",
            "Epoch 4/50\n",
            "50000/50000 [==============================] - 14s 271us/step - loss: 2.1592 - acc: 0.2133 - val_loss: 2.0535 - val_acc: 0.2977\n",
            "Epoch 5/50\n",
            "50000/50000 [==============================] - 14s 271us/step - loss: 2.1204 - acc: 0.2258 - val_loss: 2.0049 - val_acc: 0.3052\n",
            "Epoch 6/50\n",
            "50000/50000 [==============================] - 13s 267us/step - loss: 2.0891 - acc: 0.2385 - val_loss: 1.9792 - val_acc: 0.3100\n",
            "Epoch 7/50\n",
            "50000/50000 [==============================] - 13s 265us/step - loss: 2.0627 - acc: 0.2513 - val_loss: 1.9593 - val_acc: 0.3363\n",
            "Epoch 8/50\n",
            "50000/50000 [==============================] - 13s 266us/step - loss: 2.0409 - acc: 0.2613 - val_loss: 1.9308 - val_acc: 0.3443\n",
            "Epoch 9/50\n",
            "50000/50000 [==============================] - 13s 264us/step - loss: 2.0161 - acc: 0.2712 - val_loss: 1.9207 - val_acc: 0.3398\n",
            "Epoch 10/50\n",
            "50000/50000 [==============================] - 13s 264us/step - loss: 2.0062 - acc: 0.2767 - val_loss: 1.8880 - val_acc: 0.3509\n",
            "Epoch 11/50\n",
            "50000/50000 [==============================] - 13s 267us/step - loss: 1.9884 - acc: 0.2836 - val_loss: 1.8905 - val_acc: 0.3522\n",
            "Epoch 12/50\n",
            "50000/50000 [==============================] - 13s 265us/step - loss: 1.9745 - acc: 0.2901 - val_loss: 1.8582 - val_acc: 0.3634\n",
            "Epoch 13/50\n",
            "50000/50000 [==============================] - 13s 263us/step - loss: 1.9598 - acc: 0.2986 - val_loss: 1.8590 - val_acc: 0.3640\n",
            "Epoch 14/50\n",
            "50000/50000 [==============================] - 13s 264us/step - loss: 1.9490 - acc: 0.3018 - val_loss: 1.8305 - val_acc: 0.3675\n",
            "Epoch 15/50\n",
            "50000/50000 [==============================] - 13s 265us/step - loss: 1.9363 - acc: 0.3092 - val_loss: 1.8160 - val_acc: 0.3753\n",
            "Epoch 16/50\n",
            "50000/50000 [==============================] - 13s 264us/step - loss: 1.9239 - acc: 0.3114 - val_loss: 1.8298 - val_acc: 0.3766\n",
            "Epoch 17/50\n",
            "50000/50000 [==============================] - 13s 264us/step - loss: 1.9169 - acc: 0.3139 - val_loss: 1.7928 - val_acc: 0.3843\n",
            "Epoch 18/50\n",
            "50000/50000 [==============================] - 13s 264us/step - loss: 1.9065 - acc: 0.3174 - val_loss: 1.7931 - val_acc: 0.3861\n",
            "Epoch 19/50\n",
            "50000/50000 [==============================] - 14s 270us/step - loss: 1.8992 - acc: 0.3249 - val_loss: 1.7716 - val_acc: 0.3916\n",
            "Epoch 20/50\n",
            "50000/50000 [==============================] - 13s 267us/step - loss: 1.8865 - acc: 0.3285 - val_loss: 1.7612 - val_acc: 0.3971\n",
            "Epoch 21/50\n",
            "50000/50000 [==============================] - 13s 269us/step - loss: 1.8794 - acc: 0.3315 - val_loss: 1.7603 - val_acc: 0.3895\n",
            "Epoch 22/50\n",
            "50000/50000 [==============================] - 14s 272us/step - loss: 1.8687 - acc: 0.3389 - val_loss: 1.7529 - val_acc: 0.4015\n",
            "Epoch 23/50\n",
            "50000/50000 [==============================] - 13s 269us/step - loss: 1.8559 - acc: 0.3403 - val_loss: 1.7375 - val_acc: 0.3946\n",
            "Epoch 24/50\n",
            "50000/50000 [==============================] - 13s 270us/step - loss: 1.8555 - acc: 0.3431 - val_loss: 1.7281 - val_acc: 0.3993\n",
            "Epoch 25/50\n",
            "50000/50000 [==============================] - 13s 269us/step - loss: 1.8465 - acc: 0.3463 - val_loss: 1.7496 - val_acc: 0.4026\n",
            "Epoch 26/50\n",
            "50000/50000 [==============================] - 13s 265us/step - loss: 1.8397 - acc: 0.3504 - val_loss: 1.7117 - val_acc: 0.4126\n",
            "Epoch 27/50\n",
            "50000/50000 [==============================] - 13s 267us/step - loss: 1.8325 - acc: 0.3504 - val_loss: 1.6993 - val_acc: 0.4140\n",
            "Epoch 28/50\n",
            "50000/50000 [==============================] - 14s 278us/step - loss: 1.8243 - acc: 0.3557 - val_loss: 1.7223 - val_acc: 0.3962\n",
            "Epoch 29/50\n",
            "50000/50000 [==============================] - 13s 270us/step - loss: 1.8188 - acc: 0.3583 - val_loss: 1.6901 - val_acc: 0.4192\n",
            "Epoch 30/50\n",
            "50000/50000 [==============================] - 14s 272us/step - loss: 1.8127 - acc: 0.3618 - val_loss: 1.6905 - val_acc: 0.4157\n",
            "Epoch 31/50\n",
            "50000/50000 [==============================] - 14s 270us/step - loss: 1.8070 - acc: 0.3638 - val_loss: 1.6871 - val_acc: 0.4102\n",
            "Epoch 32/50\n",
            "50000/50000 [==============================] - 13s 265us/step - loss: 1.8013 - acc: 0.3655 - val_loss: 1.6807 - val_acc: 0.4160\n",
            "Epoch 33/50\n",
            "50000/50000 [==============================] - 13s 265us/step - loss: 1.7935 - acc: 0.3705 - val_loss: 1.6713 - val_acc: 0.4260\n",
            "Epoch 34/50\n",
            "50000/50000 [==============================] - 13s 266us/step - loss: 1.7914 - acc: 0.3684 - val_loss: 1.6708 - val_acc: 0.4217\n",
            "Epoch 35/50\n",
            "50000/50000 [==============================] - 13s 266us/step - loss: 1.7839 - acc: 0.3727 - val_loss: 1.6534 - val_acc: 0.4317\n",
            "Epoch 36/50\n",
            "50000/50000 [==============================] - 14s 270us/step - loss: 1.7765 - acc: 0.3750 - val_loss: 1.7048 - val_acc: 0.4200\n",
            "Epoch 37/50\n",
            "50000/50000 [==============================] - 13s 266us/step - loss: 1.7703 - acc: 0.3795 - val_loss: 1.6560 - val_acc: 0.4294\n",
            "Epoch 38/50\n",
            "50000/50000 [==============================] - 13s 266us/step - loss: 1.7627 - acc: 0.3790 - val_loss: 1.6358 - val_acc: 0.4348\n",
            "Epoch 39/50\n",
            "50000/50000 [==============================] - 13s 265us/step - loss: 1.7640 - acc: 0.3805 - val_loss: 1.6529 - val_acc: 0.4294\n",
            "Epoch 40/50\n",
            "50000/50000 [==============================] - 13s 266us/step - loss: 1.7559 - acc: 0.3853 - val_loss: 1.6516 - val_acc: 0.4326\n",
            "Epoch 41/50\n",
            "50000/50000 [==============================] - 13s 266us/step - loss: 1.7512 - acc: 0.3880 - val_loss: 1.6431 - val_acc: 0.4315\n",
            "Epoch 42/50\n",
            "50000/50000 [==============================] - 13s 265us/step - loss: 1.7468 - acc: 0.3863 - val_loss: 1.6132 - val_acc: 0.4472\n",
            "Epoch 43/50\n",
            "50000/50000 [==============================] - 13s 265us/step - loss: 1.7432 - acc: 0.3873 - val_loss: 1.6137 - val_acc: 0.4395\n",
            "Epoch 44/50\n",
            "50000/50000 [==============================] - 13s 265us/step - loss: 1.7330 - acc: 0.3918 - val_loss: 1.6562 - val_acc: 0.4242\n",
            "Epoch 45/50\n",
            "50000/50000 [==============================] - 13s 267us/step - loss: 1.7339 - acc: 0.3913 - val_loss: 1.6055 - val_acc: 0.4538\n",
            "Epoch 46/50\n",
            "50000/50000 [==============================] - 13s 266us/step - loss: 1.7262 - acc: 0.3950 - val_loss: 1.5972 - val_acc: 0.4505\n",
            "Epoch 47/50\n",
            "50000/50000 [==============================] - 13s 265us/step - loss: 1.7232 - acc: 0.3959 - val_loss: 1.6119 - val_acc: 0.4477\n",
            "Epoch 48/50\n",
            "50000/50000 [==============================] - 13s 266us/step - loss: 1.7218 - acc: 0.3976 - val_loss: 1.6025 - val_acc: 0.4494\n",
            "Epoch 49/50\n",
            "50000/50000 [==============================] - 13s 267us/step - loss: 1.7143 - acc: 0.4000 - val_loss: 1.6184 - val_acc: 0.4402\n",
            "Epoch 50/50\n",
            "50000/50000 [==============================] - 13s 267us/step - loss: 1.7087 - acc: 0.4008 - val_loss: 1.5940 - val_acc: 0.4592\n"
          ],
          "name": "stdout"
        }
      ]
    },
    {
      "cell_type": "markdown",
      "metadata": {
        "id": "4VBTxggYgEop",
        "colab_type": "text"
      },
      "source": [
        "## 損失函數及準確率"
      ]
    },
    {
      "cell_type": "code",
      "metadata": {
        "id": "LAxGnHHygNPF",
        "colab_type": "code",
        "colab": {
          "base_uri": "https://localhost:8080/",
          "height": 762
        },
        "outputId": "c05b0f20-2e64-408f-e5b9-d1dd0b661c5d"
      },
      "source": [
        "color_bar = [ 'r', 'g' ]\n",
        "\n",
        "plt.figure( figsize = ( 8, 6 ) )\n",
        "for i, cond in enumerate( results.keys( ) ) :\n",
        "    plt.plot( range( len(results[ cond ][ 'train-loss' ] ) ), results[ cond ][ 'train-loss' ], '-', label = 'train loss: ' + cond, color = color_bar[i] )\n",
        "    plt.plot( range( len(results[ cond ][ 'valid-loss' ] ) ), results[ cond ][ 'valid-loss' ], '--', label = 'valid-loss: ' + cond, color = color_bar[i] )\n",
        "plt.title( 'Loss' )\n",
        "plt.legend( )\n",
        "plt.show( )\n",
        "\n",
        "plt.figure( figsize = ( 8, 6 ) )\n",
        "for i, cond in enumerate( results.keys( ) ) :\n",
        "    plt.plot(range( len( results[ cond ][ 'train-acc' ] ) ), results[ cond ][ 'train-acc' ], '-', label = 'train acc: ' + cond, color = color_bar[i] )\n",
        "    plt.plot(range( len( results[ cond ][ 'valid-acc' ] ) ), results[ cond ][ 'valid-acc' ], '--', label = 'valid acc: ' + cond, color = color_bar[i] )\n",
        "plt.title( 'Accuracy' )\n",
        "plt.legend( )\n",
        "plt.show( )"
      ],
      "execution_count": 9,
      "outputs": [
        {
          "output_type": "display_data",
          "data": {
            "image/png": "[encoded data removed]",
            "text/plain": [
              "<Figure size 576x432 with 1 Axes>"
            ]
          },
          "metadata": {
            "tags": []
          }
        },
        {
          "output_type": "display_data",
          "data": {
            "image/png": "[encoded data removed]",
            "text/plain": [
              "<Figure size 576x432 with 1 Axes>"
            ]
          },
          "metadata": {
            "tags": []
          }
        }
      ]
    },
    {
      "cell_type": "markdown",
      "metadata": {
        "id": "laY28Z1jg8Bs",
        "colab_type": "text"
      },
      "source": [
        "# 建立神經網絡模型( L1- Regularization, Adam )"
      ]
    },
    {
      "cell_type": "code",
      "metadata": {
        "id": "LE70gsUhhSPE",
        "colab_type": "code",
        "colab": {
          "base_uri": "https://localhost:8080/",
          "height": 492
        },
        "outputId": "f5724525-d7bb-4aaa-889b-14fa7f0fa499"
      },
      "source": [
        "def build_mlp( input_shape, output_units = 10, num_neurons = [ 512, 256, 128, 128 ], l1_parameter = 0, dropout_ratio = 0 ) : \n",
        "    \n",
        "    input_layer = keras.layers.Input( input_shape )\n",
        "    \n",
        "    for i, n_units in enumerate( num_neurons ) : \n",
        "        if i == 0 :\n",
        "            x = keras.layers.Dense( units = n_units, \n",
        "                                    activation = \"relu\", \n",
        "                                    kernel_regularizer = l1( l1_parameter ),\n",
        "                                    name = \"hidden_layer_\" + str( i+1 ) )( input_layer )  \n",
        "            \n",
        "            # Dropout Layer\n",
        "            x = Dropout( rate = dropout_ratio, \n",
        "                         name = \"Dropout_Layer_\" + str( i+1 ) )( x ) \n",
        "              \n",
        "        else:\n",
        "            x = keras.layers.Dense( units = n_units, \n",
        "                                    activation = \"relu\", \n",
        "                                    kernel_regularizer = l1( l1_parameter ), \n",
        "                                    name = \"hidden_layer_\" + str( i+1 ) )( x )  \n",
        "            \n",
        "            # Dropout Layer\n",
        "            x = Dropout( rate = dropout_ratio,\n",
        "                         name = \"Dropout_Layer_\" + str( i+1 ) )( x )  \n",
        "              \n",
        "              \n",
        "    output_layer = keras.layers.Dense( units = output_units, \n",
        "                                       activation = 'softmax', \n",
        "                                       name = 'output_layer' )( x )\n",
        "    \n",
        "    model = keras.models.Model( inputs = [ input_layer ], outputs = [ output_layer ] )\n",
        "    return model\n",
        "\n",
        "model = build_mlp( input_shape = x_train.shape[ 1: ] ) \n",
        "model.summary( )"
      ],
      "execution_count": 10,
      "outputs": [
        {
          "output_type": "stream",
          "text": [
            "_________________________________________________________________\n",
            "Layer (type)                 Output Shape              Param #   \n",
            "=================================================================\n",
            "input_2 (InputLayer)         (None, 3072)              0         \n",
            "_________________________________________________________________\n",
            "hidden_layer_1 (Dense)       (None, 512)               1573376   \n",
            "_________________________________________________________________\n",
            "Dropout_Layer_1 (Dropout)    (None, 512)               0         \n",
            "_________________________________________________________________\n",
            "hidden_layer_2 (Dense)       (None, 256)               131328    \n",
            "_________________________________________________________________\n",
            "Dropout_Layer_2 (Dropout)    (None, 256)               0         \n",
            "_________________________________________________________________\n",
            "hidden_layer_3 (Dense)       (None, 128)               32896     \n",
            "_________________________________________________________________\n",
            "Dropout_Layer_3 (Dropout)    (None, 128)               0         \n",
            "_________________________________________________________________\n",
            "hidden_layer_4 (Dense)       (None, 128)               16512     \n",
            "_________________________________________________________________\n",
            "Dropout_Layer_4 (Dropout)    (None, 128)               0         \n",
            "_________________________________________________________________\n",
            "output_layer (Dense)         (None, 10)                1290      \n",
            "=================================================================\n",
            "Total params: 1,755,402\n",
            "Trainable params: 1,755,402\n",
            "Non-trainable params: 0\n",
            "_________________________________________________________________\n"
          ],
          "name": "stdout"
        }
      ]
    },
    {
      "cell_type": "markdown",
      "metadata": {
        "id": "tXV2Lk36hPy3",
        "colab_type": "text"
      },
      "source": [
        "## 設定超參數"
      ]
    },
    {
      "cell_type": "code",
      "metadata": {
        "id": "MgcBtTLDhxp1",
        "colab_type": "code",
        "colab": {}
      },
      "source": [
        "## 超參數設定\n",
        "LEARNING_RATE = 1e-3\n",
        "EPOCHS = 50\n",
        "BATCH_SIZE = 256\n",
        "MOMENTUM = 0.95  \n",
        "L1_PARAMETER = 1e-5  \n",
        "Dropout_Ratio = [ 0.25 ]"
      ],
      "execution_count": 0,
      "outputs": []
    },
    {
      "cell_type": "markdown",
      "metadata": {
        "id": "qzXl4qs2h43j",
        "colab_type": "text"
      },
      "source": [
        "## 優化器(Optimizer)"
      ]
    },
    {
      "cell_type": "code",
      "metadata": {
        "id": "m9y55MPrh8nv",
        "colab_type": "code",
        "colab": {}
      },
      "source": [
        "Adam = keras.optimizers.Adam( lr = LEARNING_RATE, \n",
        "                              epsilon = None\n",
        "                              )  \n",
        "\n",
        "Optimizers = 'Adam' "
      ],
      "execution_count": 0,
      "outputs": []
    },
    {
      "cell_type": "markdown",
      "metadata": {
        "id": "WPBhPUsLisVW",
        "colab_type": "text"
      },
      "source": [
        "## 訓練模型"
      ]
    },
    {
      "cell_type": "code",
      "metadata": {
        "id": "62f293fxiwAT",
        "colab_type": "code",
        "colab": {
          "base_uri": "https://localhost:8080/",
          "height": 1000
        },
        "outputId": "541e37ad-16a3-4945-b03f-386edc86b58a"
      },
      "source": [
        "results = {}\n",
        "\n",
        "\"\"\"\n",
        "建立訓練與實驗迴圈並蒐集資料\n",
        "\"\"\"\n",
        "for dropout_ratio in Dropout_Ratio :\n",
        "    keras.backend.clear_session( )    # 清掉舊的 Graph \n",
        "    \n",
        "    print( 'Adam with Dropout Ratio = ' + str( dropout_ratio ) )\n",
        "    model = build_mlp( input_shape = x_train.shape[ 1: ],\n",
        "                       l1_parameter = L1_PARAMETER, \n",
        "                       dropout_ratio = dropout_ratio\n",
        "                       )\n",
        "    model.summary( )\n",
        "    \n",
        "    \n",
        "    # 執行神經網絡\n",
        "    model.compile( loss = 'categorical_crossentropy', \n",
        "                   optimizer = Optimizers, \n",
        "                   metrics=[ 'accuracy' ] \n",
        "                   )\n",
        "\n",
        "    model.fit( x_train, y_train, \n",
        "               epochs = EPOCHS,     \n",
        "               batch_size = BATCH_SIZE, \n",
        "               validation_data = ( x_test, y_test ), \n",
        "               shuffle = True\n",
        "               )\n",
        "    \n",
        "    # Collect results\n",
        "    train_loss = model.history.history[ 'loss' ]\n",
        "    valid_loss = model.history.history[ 'val_loss' ]\n",
        "    train_acc = model.history.history[ 'acc' ]\n",
        "    valid_acc = model.history.history[ 'val_acc' ]\n",
        "    \n",
        "    exp_name_tag = \"dropout.-%s\" % str( dropout_ratio )\n",
        "    results[ exp_name_tag ] = { 'train-loss': train_loss,\n",
        "                                'valid-loss': valid_loss,\n",
        "                                'train-acc': train_acc,\n",
        "                                'valid-acc': valid_acc\n",
        "                                }"
      ],
      "execution_count": 13,
      "outputs": [
        {
          "output_type": "stream",
          "text": [
            "Adam with Dropout Ratio = 0.25\n",
            "_________________________________________________________________\n",
            "Layer (type)                 Output Shape              Param #   \n",
            "=================================================================\n",
            "input_1 (InputLayer)         (None, 3072)              0         \n",
            "_________________________________________________________________\n",
            "hidden_layer_1 (Dense)       (None, 512)               1573376   \n",
            "_________________________________________________________________\n",
            "Dropout_Layer_1 (Dropout)    (None, 512)               0         \n",
            "_________________________________________________________________\n",
            "hidden_layer_2 (Dense)       (None, 256)               131328    \n",
            "_________________________________________________________________\n",
            "Dropout_Layer_2 (Dropout)    (None, 256)               0         \n",
            "_________________________________________________________________\n",
            "hidden_layer_3 (Dense)       (None, 128)               32896     \n",
            "_________________________________________________________________\n",
            "Dropout_Layer_3 (Dropout)    (None, 128)               0         \n",
            "_________________________________________________________________\n",
            "hidden_layer_4 (Dense)       (None, 128)               16512     \n",
            "_________________________________________________________________\n",
            "Dropout_Layer_4 (Dropout)    (None, 128)               0         \n",
            "_________________________________________________________________\n",
            "output_layer (Dense)         (None, 10)                1290      \n",
            "=================================================================\n",
            "Total params: 1,755,402\n",
            "Trainable params: 1,755,402\n",
            "Non-trainable params: 0\n",
            "_________________________________________________________________\n",
            "Train on 50000 samples, validate on 10000 samples\n",
            "Epoch 1/50\n",
            "50000/50000 [==============================] - 16s 327us/step - loss: 2.4117 - acc: 0.2106 - val_loss: 2.1470 - val_acc: 0.3181\n",
            "Epoch 2/50\n",
            "50000/50000 [==============================] - 16s 315us/step - loss: 2.1122 - acc: 0.2968 - val_loss: 1.9664 - val_acc: 0.3517\n",
            "Epoch 3/50\n",
            "50000/50000 [==============================] - 16s 314us/step - loss: 1.9904 - acc: 0.3225 - val_loss: 1.8496 - val_acc: 0.3748\n",
            "Epoch 4/50\n",
            "50000/50000 [==============================] - 16s 312us/step - loss: 1.9250 - acc: 0.3350 - val_loss: 1.8347 - val_acc: 0.3814\n",
            "Epoch 5/50\n",
            "50000/50000 [==============================] - 16s 312us/step - loss: 1.8941 - acc: 0.3445 - val_loss: 1.8346 - val_acc: 0.3714\n",
            "Epoch 6/50\n",
            "50000/50000 [==============================] - 16s 311us/step - loss: 1.8622 - acc: 0.3538 - val_loss: 1.7835 - val_acc: 0.3864\n",
            "Epoch 7/50\n",
            "50000/50000 [==============================] - 16s 312us/step - loss: 1.8443 - acc: 0.3593 - val_loss: 1.7408 - val_acc: 0.4150\n",
            "Epoch 8/50\n",
            "50000/50000 [==============================] - 16s 310us/step - loss: 1.8130 - acc: 0.3692 - val_loss: 1.7419 - val_acc: 0.4127\n",
            "Epoch 9/50\n",
            "50000/50000 [==============================] - 15s 307us/step - loss: 1.8015 - acc: 0.3725 - val_loss: 1.7259 - val_acc: 0.4163\n",
            "Epoch 10/50\n",
            "50000/50000 [==============================] - 15s 310us/step - loss: 1.7792 - acc: 0.3818 - val_loss: 1.6904 - val_acc: 0.4281\n",
            "Epoch 11/50\n",
            "50000/50000 [==============================] - 16s 311us/step - loss: 1.7684 - acc: 0.3863 - val_loss: 1.6825 - val_acc: 0.4314\n",
            "Epoch 12/50\n",
            "50000/50000 [==============================] - 16s 312us/step - loss: 1.7580 - acc: 0.3885 - val_loss: 1.6923 - val_acc: 0.4284\n",
            "Epoch 13/50\n",
            "50000/50000 [==============================] - 16s 312us/step - loss: 1.7465 - acc: 0.3916 - val_loss: 1.6590 - val_acc: 0.4444\n",
            "Epoch 14/50\n",
            "50000/50000 [==============================] - 16s 312us/step - loss: 1.7408 - acc: 0.3977 - val_loss: 1.6524 - val_acc: 0.4426\n",
            "Epoch 15/50\n",
            "50000/50000 [==============================] - 16s 314us/step - loss: 1.7375 - acc: 0.3981 - val_loss: 1.6417 - val_acc: 0.4462\n",
            "Epoch 16/50\n",
            "50000/50000 [==============================] - 16s 314us/step - loss: 1.7335 - acc: 0.3978 - val_loss: 1.6419 - val_acc: 0.4441\n",
            "Epoch 17/50\n",
            "50000/50000 [==============================] - 16s 311us/step - loss: 1.7172 - acc: 0.4031 - val_loss: 1.6352 - val_acc: 0.4453\n",
            "Epoch 18/50\n",
            "50000/50000 [==============================] - 16s 313us/step - loss: 1.7100 - acc: 0.4051 - val_loss: 1.6345 - val_acc: 0.4467\n",
            "Epoch 19/50\n",
            "50000/50000 [==============================] - 15s 309us/step - loss: 1.7143 - acc: 0.4056 - val_loss: 1.6331 - val_acc: 0.4462\n",
            "Epoch 20/50\n",
            "50000/50000 [==============================] - 16s 311us/step - loss: 1.6989 - acc: 0.4137 - val_loss: 1.6229 - val_acc: 0.4482\n",
            "Epoch 21/50\n",
            "50000/50000 [==============================] - 16s 313us/step - loss: 1.7025 - acc: 0.4083 - val_loss: 1.6209 - val_acc: 0.4481\n",
            "Epoch 22/50\n",
            "50000/50000 [==============================] - 16s 311us/step - loss: 1.6866 - acc: 0.4140 - val_loss: 1.6103 - val_acc: 0.4552\n",
            "Epoch 23/50\n",
            "50000/50000 [==============================] - 16s 310us/step - loss: 1.6908 - acc: 0.4179 - val_loss: 1.6551 - val_acc: 0.4415\n",
            "Epoch 24/50\n",
            "50000/50000 [==============================] - 16s 312us/step - loss: 1.6938 - acc: 0.4158 - val_loss: 1.6050 - val_acc: 0.4618\n",
            "Epoch 25/50\n",
            "50000/50000 [==============================] - 16s 312us/step - loss: 1.6740 - acc: 0.4224 - val_loss: 1.6289 - val_acc: 0.4473\n",
            "Epoch 26/50\n",
            "50000/50000 [==============================] - 16s 313us/step - loss: 1.6809 - acc: 0.4148 - val_loss: 1.6208 - val_acc: 0.4586\n",
            "Epoch 27/50\n",
            "50000/50000 [==============================] - 16s 312us/step - loss: 1.6719 - acc: 0.4222 - val_loss: 1.6102 - val_acc: 0.4508\n",
            "Epoch 28/50\n",
            "50000/50000 [==============================] - 16s 316us/step - loss: 1.6678 - acc: 0.4238 - val_loss: 1.5929 - val_acc: 0.4586\n",
            "Epoch 29/50\n",
            "50000/50000 [==============================] - 16s 314us/step - loss: 1.6689 - acc: 0.4223 - val_loss: 1.5813 - val_acc: 0.4691\n",
            "Epoch 30/50\n",
            "50000/50000 [==============================] - 16s 313us/step - loss: 1.6695 - acc: 0.4226 - val_loss: 1.5752 - val_acc: 0.4688\n",
            "Epoch 31/50\n",
            "50000/50000 [==============================] - 16s 312us/step - loss: 1.6620 - acc: 0.4246 - val_loss: 1.5827 - val_acc: 0.4652\n",
            "Epoch 32/50\n",
            "50000/50000 [==============================] - 16s 310us/step - loss: 1.6604 - acc: 0.4289 - val_loss: 1.5698 - val_acc: 0.4704\n",
            "Epoch 33/50\n",
            "50000/50000 [==============================] - 15s 309us/step - loss: 1.6561 - acc: 0.4303 - val_loss: 1.5773 - val_acc: 0.4683\n",
            "Epoch 34/50\n",
            "50000/50000 [==============================] - 16s 312us/step - loss: 1.6487 - acc: 0.4300 - val_loss: 1.5661 - val_acc: 0.4728\n",
            "Epoch 35/50\n",
            "50000/50000 [==============================] - 16s 315us/step - loss: 1.6531 - acc: 0.4321 - val_loss: 1.5856 - val_acc: 0.4645\n",
            "Epoch 36/50\n",
            "50000/50000 [==============================] - 16s 314us/step - loss: 1.6453 - acc: 0.4311 - val_loss: 1.5870 - val_acc: 0.4673\n",
            "Epoch 37/50\n",
            "50000/50000 [==============================] - 16s 313us/step - loss: 1.6497 - acc: 0.4302 - val_loss: 1.5902 - val_acc: 0.4629\n",
            "Epoch 38/50\n",
            "50000/50000 [==============================] - 16s 313us/step - loss: 1.6497 - acc: 0.4288 - val_loss: 1.5780 - val_acc: 0.4673\n",
            "Epoch 39/50\n",
            "50000/50000 [==============================] - 16s 313us/step - loss: 1.6386 - acc: 0.4360 - val_loss: 1.5669 - val_acc: 0.4723\n",
            "Epoch 40/50\n",
            "50000/50000 [==============================] - 16s 316us/step - loss: 1.6439 - acc: 0.4375 - val_loss: 1.5677 - val_acc: 0.4708\n",
            "Epoch 41/50\n",
            "50000/50000 [==============================] - 16s 317us/step - loss: 1.6389 - acc: 0.4363 - val_loss: 1.5796 - val_acc: 0.4710\n",
            "Epoch 42/50\n",
            "50000/50000 [==============================] - 16s 313us/step - loss: 1.6336 - acc: 0.4365 - val_loss: 1.5732 - val_acc: 0.4694\n",
            "Epoch 43/50\n",
            "50000/50000 [==============================] - 16s 313us/step - loss: 1.6287 - acc: 0.4416 - val_loss: 1.5594 - val_acc: 0.4775\n",
            "Epoch 44/50\n",
            "50000/50000 [==============================] - 16s 312us/step - loss: 1.6350 - acc: 0.4363 - val_loss: 1.5533 - val_acc: 0.4805\n",
            "Epoch 45/50\n",
            "50000/50000 [==============================] - 16s 313us/step - loss: 1.6247 - acc: 0.4422 - val_loss: 1.5680 - val_acc: 0.4672\n",
            "Epoch 46/50\n",
            "50000/50000 [==============================] - 16s 315us/step - loss: 1.6312 - acc: 0.4366 - val_loss: 1.6058 - val_acc: 0.4567\n",
            "Epoch 47/50\n",
            "50000/50000 [==============================] - 16s 315us/step - loss: 1.6312 - acc: 0.4385 - val_loss: 1.5959 - val_acc: 0.4651\n",
            "Epoch 48/50\n",
            "50000/50000 [==============================] - 16s 318us/step - loss: 1.6300 - acc: 0.4411 - val_loss: 1.5884 - val_acc: 0.4655\n",
            "Epoch 49/50\n",
            "50000/50000 [==============================] - 16s 316us/step - loss: 1.6230 - acc: 0.4459 - val_loss: 1.5864 - val_acc: 0.4631\n",
            "Epoch 50/50\n",
            "50000/50000 [==============================] - 16s 313us/step - loss: 1.6225 - acc: 0.4417 - val_loss: 1.5675 - val_acc: 0.4717\n"
          ],
          "name": "stdout"
        }
      ]
    },
    {
      "cell_type": "markdown",
      "metadata": {
        "id": "0H9IX2fpjFEX",
        "colab_type": "text"
      },
      "source": [
        "## 損失函數及準確率"
      ]
    },
    {
      "cell_type": "code",
      "metadata": {
        "id": "CfaL_jQMjJ_Q",
        "colab_type": "code",
        "colab": {
          "base_uri": "https://localhost:8080/",
          "height": 762
        },
        "outputId": "cc7b2a06-2a21-4cd9-cd8e-0815520147e8"
      },
      "source": [
        "plt.figure( figsize = ( 8, 6 ) )\n",
        "for i, cond in enumerate( results.keys( ) ) :\n",
        "    plt.plot( range( len(results[ cond ][ 'train-loss' ] ) ), results[ cond ][ 'train-loss' ], '-', label = 'train loss' )\n",
        "    plt.plot( range( len(results[ cond ][ 'valid-loss' ] ) ), results[ cond ][ 'valid-loss' ], '--', label = 'valid loss' )\n",
        "plt.title( 'Loss' )\n",
        "plt.legend( )\n",
        "plt.show( )\n",
        "\n",
        "plt.figure( figsize = ( 8, 6 ) )\n",
        "for i, cond in enumerate( results.keys( ) ) :\n",
        "    plt.plot(range( len( results[ cond ][ 'train-acc' ] ) ), results[ cond ][ 'train-acc' ], '-', label = 'train accuracy' )\n",
        "    plt.plot(range( len( results[ cond ][ 'valid-acc' ] ) ), results[ cond ][ 'valid-acc' ], '--', label = 'valid accuracy' )\n",
        "plt.title( 'Accuracy' )\n",
        "plt.legend( )\n",
        "plt.show( )"
      ],
      "execution_count": 14,
      "outputs": [
        {
          "output_type": "display_data",
          "data": {
            "image/png": "[encoded data removed]",
            "text/plain": [
              "<Figure size 576x432 with 1 Axes>"
            ]
          },
          "metadata": {
            "tags": []
          }
        },
        {
          "output_type": "display_data",
          "data": {
            "image/png": "[encoded data removed]",
            "text/plain": [
              "<Figure size 576x432 with 1 Axes>"
            ]
          },
          "metadata": {
            "tags": []
          }
        }
      ]
    }
  ]
}