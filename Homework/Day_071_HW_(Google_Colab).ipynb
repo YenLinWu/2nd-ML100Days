{
  "nbformat": 4,
  "nbformat_minor": 0,
  "metadata": {
    "colab": {
      "name": "Day_071_使用損失函數_HW.ipynb",
      "version": "0.3.2",
      "provenance": [],
      "collapsed_sections": [],
      "toc_visible": true
    },
    "language_info": {
      "codemirror_mode": {
        "name": "ipython",
        "version": 3
      },
      "file_extension": ".py",
      "mimetype": "text/x-python",
      "name": "python",
      "nbconvert_exporter": "python",
      "pygments_lexer": "ipython3",
      "version": "3.7.3"
    },
    "kernelspec": {
      "display_name": "Python 3",
      "language": "python",
      "name": "python3"
    }
  },
  "cells": [
    {
      "cell_type": "markdown",
      "metadata": {
        "colab_type": "text",
        "id": "cj4tE8e8iUtO"
      },
      "source": [
        "#   \n",
        "\n",
        "# 作業目標:\n",
        "\n",
        "    1. 藉由固定的 dataset, 來驗證不同loss function\n",
        "    2. Dataset 的特性跟我們選用的loss function 對accrancy 的影響\n",
        "    \n",
        "    \n",
        "# 作業重點: \n",
        "    請分別選用 \"MSE\", \"binary _crossentropy\"\n",
        "    查看Train/test accurancy and loss rate\n",
        "    "
      ]
    },
    {
      "cell_type": "markdown",
      "metadata": {
        "colab_type": "text",
        "id": "R51J4KyyiUsL"
      },
      "source": [
        "# 導入必要的函數"
      ]
    },
    {
      "cell_type": "code",
      "metadata": {
        "colab_type": "code",
        "id": "Qd68OQjciUsM",
        "colab": {
          "base_uri": "https://localhost:8080/",
          "height": 34
        },
        "outputId": "f6fb6640-63e9-4c1d-ad67-abd4e54e05bd"
      },
      "source": [
        "from keras.datasets import cifar10\n",
        "import numpy as np\n",
        "np.random.seed( 10 )"
      ],
      "execution_count": 1,
      "outputs": [
        {
          "output_type": "stream",
          "text": [
            "Using TensorFlow backend.\n"
          ],
          "name": "stderr"
        }
      ]
    },
    {
      "cell_type": "markdown",
      "metadata": {
        "colab_type": "text",
        "id": "GxKuzQLQiUsP"
      },
      "source": [
        "# 資料準備"
      ]
    },
    {
      "cell_type": "code",
      "metadata": {
        "colab_type": "code",
        "id": "MIbFZdTCiUsQ",
        "colab": {
          "base_uri": "https://localhost:8080/",
          "height": 52
        },
        "outputId": "2f5c870e-0d2b-412c-f149-15b7deecf217"
      },
      "source": [
        "#取得Keras Dataset\n",
        "( x_img_train, y_label_train ), ( x_img_test, y_label_test ) = cifar10.load_data( )"
      ],
      "execution_count": 2,
      "outputs": [
        {
          "output_type": "stream",
          "text": [
            "Downloading data from https://www.cs.toronto.edu/~kriz/cifar-10-python.tar.gz\n",
            "170500096/170498071 [==============================] - 4s 0us/step\n"
          ],
          "name": "stdout"
        }
      ]
    },
    {
      "cell_type": "code",
      "metadata": {
        "colab_type": "code",
        "id": "J8CJVjNOiUsS",
        "colab": {
          "base_uri": "https://localhost:8080/",
          "height": 52
        },
        "outputId": "67af01bb-2a2a-4c61-fe3b-037502f6d95d"
      },
      "source": [
        "#確認 CIFAR10 Dataset 資料維度\n",
        "print( \"Train data : \", 'Images : ', x_img_train.shape, ' Labels : ', y_label_train.shape ) \n",
        "print( \"Test  data : \", 'Images : ', x_img_test.shape , ' Labels : ', y_label_test.shape ) "
      ],
      "execution_count": 3,
      "outputs": [
        {
          "output_type": "stream",
          "text": [
            "Train data :  Images :  (50000, 32, 32, 3)  Labels :  (50000, 1)\n",
            "Test  data :  Images :  (10000, 32, 32, 3)  Labels :  (10000, 1)\n"
          ],
          "name": "stdout"
        }
      ]
    },
    {
      "cell_type": "code",
      "metadata": {
        "colab_type": "code",
        "id": "V3P6P4DXiUsV",
        "colab": {}
      },
      "source": [
        "#資料正規化\n",
        "x_img_train_normalize = x_img_train.astype( 'float32' ) / 255.0\n",
        "x_img_test_normalize = x_img_test.astype( 'float32' ) / 255.0"
      ],
      "execution_count": 0,
      "outputs": []
    },
    {
      "cell_type": "code",
      "metadata": {
        "colab_type": "code",
        "id": "vsDyjKYliUsX",
        "colab": {
          "base_uri": "https://localhost:8080/",
          "height": 34
        },
        "outputId": "86e0fa70-2348-43b4-a337-a2863931e7d6"
      },
      "source": [
        "#針對Label 做 ONE HOT ENCODE\n",
        "from keras.utils import np_utils\n",
        "y_label_train_OneHot = np_utils.to_categorical( y_label_train )\n",
        "y_label_test_OneHot = np_utils.to_categorical( y_label_test )\n",
        "\n",
        "print( 'Test Label data : ', y_label_test_OneHot.shape )"
      ],
      "execution_count": 5,
      "outputs": [
        {
          "output_type": "stream",
          "text": [
            "Test Label data :  (10000, 10)\n"
          ],
          "name": "stdout"
        }
      ]
    },
    {
      "cell_type": "markdown",
      "metadata": {
        "colab_type": "text",
        "id": "RutW2OtgiUsZ"
      },
      "source": [
        "# 建立模型"
      ]
    },
    {
      "cell_type": "code",
      "metadata": {
        "colab_type": "code",
        "id": "aHz592aXiUsa",
        "colab": {}
      },
      "source": [
        "from keras.models import Sequential\n",
        "from keras.layers import Dense, Dropout, Activation, Flatten\n",
        "from keras.layers import Conv2D, MaxPooling2D, ZeroPadding2D"
      ],
      "execution_count": 0,
      "outputs": []
    },
    {
      "cell_type": "code",
      "metadata": {
        "colab_type": "code",
        "id": "hslqrIp0iUse",
        "colab": {
          "base_uri": "https://localhost:8080/",
          "height": 90
        },
        "outputId": "5557a8b2-081b-4f7a-ae1c-964bc10b3b95"
      },
      "source": [
        "model = Sequential()"
      ],
      "execution_count": 7,
      "outputs": [
        {
          "output_type": "stream",
          "text": [
            "WARNING: Logging before flag parsing goes to stderr.\n",
            "W0707 09:56:44.110180 139893276268416 deprecation_wrapper.py:119] From /usr/local/lib/python3.6/dist-packages/keras/backend/tensorflow_backend.py:74: The name tf.get_default_graph is deprecated. Please use tf.compat.v1.get_default_graph instead.\n",
            "\n"
          ],
          "name": "stderr"
        }
      ]
    },
    {
      "cell_type": "markdown",
      "metadata": {
        "id": "HdS_mkkbvr-J",
        "colab_type": "text"
      },
      "source": [
        "### 卷積層1與池化層1"
      ]
    },
    {
      "cell_type": "code",
      "metadata": {
        "colab_type": "code",
        "id": "ED7dqe1YiUsm",
        "colab": {
          "base_uri": "https://localhost:8080/",
          "height": 230
        },
        "outputId": "f55c0c68-a4bf-4d61-e17d-305db893cee2"
      },
      "source": [
        "model.add( Conv2D( filters = 32, \n",
        "                   kernel_size = ( 3, 3 ), \n",
        "                   input_shape = ( 32, 32, 3 ), \n",
        "                   activation = 'relu', \n",
        "                   padding = 'same' \n",
        "                   ) )\n",
        "\n",
        "model.add( Dropout( rate = 0.25 ) )\n",
        "model.add( MaxPooling2D( pool_size = ( 2, 2 ) ) )"
      ],
      "execution_count": 8,
      "outputs": [
        {
          "output_type": "stream",
          "text": [
            "W0707 09:56:44.164116 139893276268416 deprecation_wrapper.py:119] From /usr/local/lib/python3.6/dist-packages/keras/backend/tensorflow_backend.py:517: The name tf.placeholder is deprecated. Please use tf.compat.v1.placeholder instead.\n",
            "\n",
            "W0707 09:56:44.179066 139893276268416 deprecation_wrapper.py:119] From /usr/local/lib/python3.6/dist-packages/keras/backend/tensorflow_backend.py:4138: The name tf.random_uniform is deprecated. Please use tf.random.uniform instead.\n",
            "\n",
            "W0707 09:56:44.229145 139893276268416 deprecation_wrapper.py:119] From /usr/local/lib/python3.6/dist-packages/keras/backend/tensorflow_backend.py:133: The name tf.placeholder_with_default is deprecated. Please use tf.compat.v1.placeholder_with_default instead.\n",
            "\n",
            "W0707 09:56:44.242542 139893276268416 deprecation.py:506] From /usr/local/lib/python3.6/dist-packages/keras/backend/tensorflow_backend.py:3445: calling dropout (from tensorflow.python.ops.nn_ops) with keep_prob is deprecated and will be removed in a future version.\n",
            "Instructions for updating:\n",
            "Please use `rate` instead of `keep_prob`. Rate should be set to `rate = 1 - keep_prob`.\n",
            "W0707 09:56:44.262168 139893276268416 deprecation_wrapper.py:119] From /usr/local/lib/python3.6/dist-packages/keras/backend/tensorflow_backend.py:3976: The name tf.nn.max_pool is deprecated. Please use tf.nn.max_pool2d instead.\n",
            "\n"
          ],
          "name": "stderr"
        }
      ]
    },
    {
      "cell_type": "markdown",
      "metadata": {
        "id": "H5GaVyaSuyu2",
        "colab_type": "text"
      },
      "source": [
        "### 卷積層2與池化層2"
      ]
    },
    {
      "cell_type": "code",
      "metadata": {
        "colab_type": "code",
        "id": "xxyETiKNiUs1",
        "colab": {}
      },
      "source": [
        "model.add( Conv2D( filters = 64, \n",
        "                   kernel_size = ( 3, 3 ), \n",
        "                   activation = 'relu', \n",
        "                   padding = 'same' \n",
        "                   ) )\n",
        "\n",
        "model.add( Dropout( rate = 0.25 ) )\n",
        "model.add( MaxPooling2D( pool_size = ( 2, 2 ) ) )"
      ],
      "execution_count": 0,
      "outputs": []
    },
    {
      "cell_type": "markdown",
      "metadata": {
        "id": "FwTPZAiwu6j9",
        "colab_type": "text"
      },
      "source": [
        "### 建立神經網路(平坦層、隱藏層、輸出層)"
      ]
    },
    {
      "cell_type": "code",
      "metadata": {
        "colab_type": "code",
        "id": "UQOfU54_iUs_",
        "colab": {}
      },
      "source": [
        "model.add( Flatten( ) )\n",
        "model.add( Dropout( rate = 0.25 ) )"
      ],
      "execution_count": 0,
      "outputs": []
    },
    {
      "cell_type": "code",
      "metadata": {
        "colab_type": "code",
        "id": "_NV-8sq4iUtD",
        "colab": {}
      },
      "source": [
        "model.add( Dense( 1024, activation = 'relu' ) )\n",
        "model.add( Dropout( rate = 0.25 ) )"
      ],
      "execution_count": 0,
      "outputs": []
    },
    {
      "cell_type": "code",
      "metadata": {
        "colab_type": "code",
        "id": "qVK77krOiUtF",
        "colab": {}
      },
      "source": [
        "model.add( Dense( 10, activation = 'softmax' ) )"
      ],
      "execution_count": 0,
      "outputs": []
    },
    {
      "cell_type": "markdown",
      "metadata": {
        "id": "qZJO7nYRvBtW",
        "colab_type": "text"
      },
      "source": [
        "### 檢查model 的STACK"
      ]
    },
    {
      "cell_type": "code",
      "metadata": {
        "colab_type": "code",
        "id": "ZxzRIjR0iUtH",
        "colab": {
          "base_uri": "https://localhost:8080/",
          "height": 545
        },
        "outputId": "51f3cf00-8191-4ae3-e6e7-b4eb136d929e"
      },
      "source": [
        "print( model.summary( ) )"
      ],
      "execution_count": 13,
      "outputs": [
        {
          "output_type": "stream",
          "text": [
            "_________________________________________________________________\n",
            "Layer (type)                 Output Shape              Param #   \n",
            "=================================================================\n",
            "conv2d_1 (Conv2D)            (None, 32, 32, 32)        896       \n",
            "_________________________________________________________________\n",
            "dropout_1 (Dropout)          (None, 32, 32, 32)        0         \n",
            "_________________________________________________________________\n",
            "max_pooling2d_1 (MaxPooling2 (None, 16, 16, 32)        0         \n",
            "_________________________________________________________________\n",
            "conv2d_2 (Conv2D)            (None, 16, 16, 64)        18496     \n",
            "_________________________________________________________________\n",
            "dropout_2 (Dropout)          (None, 16, 16, 64)        0         \n",
            "_________________________________________________________________\n",
            "max_pooling2d_2 (MaxPooling2 (None, 8, 8, 64)          0         \n",
            "_________________________________________________________________\n",
            "flatten_1 (Flatten)          (None, 4096)              0         \n",
            "_________________________________________________________________\n",
            "dropout_3 (Dropout)          (None, 4096)              0         \n",
            "_________________________________________________________________\n",
            "dense_1 (Dense)              (None, 1024)              4195328   \n",
            "_________________________________________________________________\n",
            "dropout_4 (Dropout)          (None, 1024)              0         \n",
            "_________________________________________________________________\n",
            "dense_2 (Dense)              (None, 10)                10250     \n",
            "=================================================================\n",
            "Total params: 4,224,970\n",
            "Trainable params: 4,224,970\n",
            "Non-trainable params: 0\n",
            "_________________________________________________________________\n",
            "None\n"
          ],
          "name": "stdout"
        }
      ]
    },
    {
      "cell_type": "markdown",
      "metadata": {
        "colab_type": "text",
        "id": "qBbCuziziUtM"
      },
      "source": [
        "# 訓練模型"
      ]
    },
    {
      "cell_type": "markdown",
      "metadata": {
        "id": "pcvqioGF2KaQ",
        "colab_type": "text"
      },
      "source": [
        "#### Loss Function = MSE"
      ]
    },
    {
      "cell_type": "code",
      "metadata": {
        "colab_type": "code",
        "id": "Q6BiBcseiUtP",
        "colab": {
          "base_uri": "https://localhost:8080/",
          "height": 72
        },
        "outputId": "1ec7aa26-d29e-44b6-b8f1-0406a77798c6"
      },
      "source": [
        "model.compile( loss = 'MSE', \n",
        "               optimizer = 'sgd', \n",
        "               metrics = [ 'accuracy' ] \n",
        "               )"
      ],
      "execution_count": 14,
      "outputs": [
        {
          "output_type": "stream",
          "text": [
            "W0707 09:56:44.477802 139893276268416 deprecation_wrapper.py:119] From /usr/local/lib/python3.6/dist-packages/keras/optimizers.py:790: The name tf.train.Optimizer is deprecated. Please use tf.compat.v1.train.Optimizer instead.\n",
            "\n"
          ],
          "name": "stderr"
        }
      ]
    },
    {
      "cell_type": "code",
      "metadata": {
        "colab_type": "code",
        "id": "4-GdDgmQiUtS",
        "colab": {
          "base_uri": "https://localhost:8080/",
          "height": 512
        },
        "outputId": "5b163726-9d4b-4b38-925d-2eb6ef224697"
      },
      "source": [
        "train_history = model.fit( x = x_img_train_normalize,\n",
        "                           y = y_label_train_OneHot, \n",
        "                           validation_split = 0.25,   # 驗證集佔訓練集的比例\n",
        "                           epochs = 12,               # 模擬次數\n",
        "                           batch_size = 128,          # 每批次的資料筆數\n",
        "                           verbose = 1                # 顯示模型訓練進度 \n",
        "                           )"
      ],
      "execution_count": 15,
      "outputs": [
        {
          "output_type": "stream",
          "text": [
            "W0707 09:56:44.960925 139893276268416 deprecation_wrapper.py:119] From /usr/local/lib/python3.6/dist-packages/keras/backend/tensorflow_backend.py:986: The name tf.assign_add is deprecated. Please use tf.compat.v1.assign_add instead.\n",
            "\n"
          ],
          "name": "stderr"
        },
        {
          "output_type": "stream",
          "text": [
            "Train on 37500 samples, validate on 12500 samples\n",
            "Epoch 1/12\n",
            "37500/37500 [==============================] - 118s 3ms/step - loss: 0.0904 - acc: 0.1085 - val_loss: 0.0898 - val_acc: 0.1318\n",
            "Epoch 2/12\n",
            "37500/37500 [==============================] - 116s 3ms/step - loss: 0.0901 - acc: 0.1086 - val_loss: 0.0897 - val_acc: 0.1395\n",
            "Epoch 3/12\n",
            "37500/37500 [==============================] - 117s 3ms/step - loss: 0.0899 - acc: 0.1182 - val_loss: 0.0897 - val_acc: 0.1427\n",
            "Epoch 4/12\n",
            "37500/37500 [==============================] - 118s 3ms/step - loss: 0.0898 - acc: 0.1220 - val_loss: 0.0896 - val_acc: 0.1502\n",
            "Epoch 5/12\n",
            "37500/37500 [==============================] - 118s 3ms/step - loss: 0.0897 - acc: 0.1262 - val_loss: 0.0895 - val_acc: 0.1574\n",
            "Epoch 6/12\n",
            "37500/37500 [==============================] - 118s 3ms/step - loss: 0.0896 - acc: 0.1322 - val_loss: 0.0895 - val_acc: 0.1663\n",
            "Epoch 7/12\n",
            "37500/37500 [==============================] - 118s 3ms/step - loss: 0.0895 - acc: 0.1392 - val_loss: 0.0894 - val_acc: 0.1726\n",
            "Epoch 8/12\n",
            "37500/37500 [==============================] - 118s 3ms/step - loss: 0.0894 - acc: 0.1433 - val_loss: 0.0893 - val_acc: 0.1810\n",
            "Epoch 9/12\n",
            "37500/37500 [==============================] - 118s 3ms/step - loss: 0.0893 - acc: 0.1477 - val_loss: 0.0892 - val_acc: 0.1899\n",
            "Epoch 10/12\n",
            "37500/37500 [==============================] - 118s 3ms/step - loss: 0.0891 - acc: 0.1539 - val_loss: 0.0892 - val_acc: 0.1937\n",
            "Epoch 11/12\n",
            "37500/37500 [==============================] - 118s 3ms/step - loss: 0.0890 - acc: 0.1593 - val_loss: 0.0891 - val_acc: 0.1998\n",
            "Epoch 12/12\n",
            "37500/37500 [==============================] - 118s 3ms/step - loss: 0.0888 - acc: 0.1639 - val_loss: 0.0890 - val_acc: 0.2043\n"
          ],
          "name": "stdout"
        }
      ]
    },
    {
      "cell_type": "code",
      "metadata": {
        "id": "7mL64eKrij80",
        "colab_type": "code",
        "colab": {
          "base_uri": "https://localhost:8080/",
          "height": 52
        },
        "outputId": "b158e273-0348-4179-a29f-9df76cbd65d5"
      },
      "source": [
        "scores = model.evaluate( x_img_test_normalize, y_label_test_OneHot )\n",
        "\n",
        "print( 'accuracy = ', scores[1] )"
      ],
      "execution_count": 16,
      "outputs": [
        {
          "output_type": "stream",
          "text": [
            "10000/10000 [==============================] - 7s 734us/step\n",
            "accuracy =  0.2029\n"
          ],
          "name": "stdout"
        }
      ]
    },
    {
      "cell_type": "markdown",
      "metadata": {
        "id": "C5OoFGJqs-Bz",
        "colab_type": "text"
      },
      "source": [
        "#### 以圖形顯示訓練過程"
      ]
    },
    {
      "cell_type": "code",
      "metadata": {
        "id": "625XVrT7s-hO",
        "colab_type": "code",
        "colab": {
          "base_uri": "https://localhost:8080/",
          "height": 350
        },
        "outputId": "a84f6cc7-b667-497c-dc46-7271deb8cd99"
      },
      "source": [
        "import matplotlib.pyplot as plt\n",
        "from keras.utils import plot_model\n",
        "from IPython.display import Image\n",
        "\n",
        "def show_train_history( train_history ) : \n",
        "        fig = plt.gcf( )\n",
        "        fig.set_size_inches( 12, 5 )\n",
        "        \n",
        "        plt.subplot( 121 )\n",
        "        plt.plot( train_history.history[ 'acc' ] )\n",
        "        plt.plot( train_history.history[ 'val_acc' ] )\n",
        "        plt.title( 'MSE Train History' )\n",
        "        plt.xlabel( 'Epoch' )\n",
        "        plt.ylabel( 'Accuracy' )\n",
        "        plt.legend( [ 'train', 'validation' ], loc = 'upper left' )\n",
        "        \n",
        "        plt.subplot( 122 )\n",
        "        plt.plot( train_history.history[ 'loss' ] )\n",
        "        plt.plot( train_history.history[ 'val_loss' ] )\n",
        "        plt.title( 'MSE Train History' )\n",
        "        plt.xlabel( 'Epoch' )\n",
        "        plt.ylabel( 'Loss' )\n",
        "        plt.legend( [ 'train', 'validation' ], loc = 'upper left' )\n",
        "        \n",
        "        plt.show( )\n",
        "        \n",
        "        \n",
        "\n",
        "show_train_history( train_history )"
      ],
      "execution_count": 17,
      "outputs": [
        {
          "output_type": "display_data",
          "data": {
            "image/png": "[encoded data removed]",
            "text/plain": [
              "<Figure size 864x360 with 2 Axes>"
            ]
          },
          "metadata": {
            "tags": []
          }
        }
      ]
    },
    {
      "cell_type": "markdown",
      "metadata": {
        "id": "Ar4AaMCK2dI6",
        "colab_type": "text"
      },
      "source": [
        "#### Loss Function = binary_crossentropy"
      ]
    },
    {
      "cell_type": "code",
      "metadata": {
        "id": "Bxy-ivRS2lnk",
        "colab_type": "code",
        "colab": {
          "base_uri": "https://localhost:8080/",
          "height": 90
        },
        "outputId": "1e0c1067-23cc-4285-eeb4-26cd7474bc12"
      },
      "source": [
        "model.compile( loss = 'binary_crossentropy', \n",
        "               optimizer = 'sgd', \n",
        "               metrics = [ 'accuracy' ] \n",
        "               )"
      ],
      "execution_count": 18,
      "outputs": [
        {
          "output_type": "stream",
          "text": [
            "W0707 10:20:25.175120 139893276268416 deprecation.py:323] From /usr/local/lib/python3.6/dist-packages/tensorflow/python/ops/nn_impl.py:180: add_dispatch_support.<locals>.wrapper (from tensorflow.python.ops.array_ops) is deprecated and will be removed in a future version.\n",
            "Instructions for updating:\n",
            "Use tf.where in 2.0, which has the same broadcast rule as np.where\n"
          ],
          "name": "stderr"
        }
      ]
    },
    {
      "cell_type": "code",
      "metadata": {
        "id": "UxgJfYsm2xne",
        "colab_type": "code",
        "colab": {
          "base_uri": "https://localhost:8080/",
          "height": 477
        },
        "outputId": "7c777743-5035-4253-a770-73894a6295cc"
      },
      "source": [
        "train_history = model.fit( x = x_img_train_normalize,\n",
        "                           y = y_label_train_OneHot, \n",
        "                           validation_split = 0.25,   # 驗證集佔訓練集的比例\n",
        "                           epochs = 12,               # 模擬次數\n",
        "                           batch_size = 128,          # 每批次的資料筆數\n",
        "                           verbose = 1                # 顯示模型訓練進度 \n",
        "                           )"
      ],
      "execution_count": 19,
      "outputs": [
        {
          "output_type": "stream",
          "text": [
            "Train on 37500 samples, validate on 12500 samples\n",
            "Epoch 1/12\n",
            "37500/37500 [==============================] - 118s 3ms/step - loss: 0.3172 - acc: 0.9000 - val_loss: 0.3167 - val_acc: 0.9000\n",
            "Epoch 2/12\n",
            "37500/37500 [==============================] - 117s 3ms/step - loss: 0.3129 - acc: 0.9000 - val_loss: 0.3129 - val_acc: 0.9000\n",
            "Epoch 3/12\n",
            "37500/37500 [==============================] - 116s 3ms/step - loss: 0.3074 - acc: 0.9000 - val_loss: 0.3081 - val_acc: 0.9000\n",
            "Epoch 4/12\n",
            "37500/37500 [==============================] - 117s 3ms/step - loss: 0.3017 - acc: 0.9001 - val_loss: 0.3037 - val_acc: 0.9000\n",
            "Epoch 5/12\n",
            "37500/37500 [==============================] - 117s 3ms/step - loss: 0.2970 - acc: 0.9002 - val_loss: 0.2994 - val_acc: 0.9000\n",
            "Epoch 6/12\n",
            "37500/37500 [==============================] - 116s 3ms/step - loss: 0.2935 - acc: 0.9004 - val_loss: 0.2966 - val_acc: 0.9000\n",
            "Epoch 7/12\n",
            "37500/37500 [==============================] - 117s 3ms/step - loss: 0.2909 - acc: 0.9005 - val_loss: 0.2940 - val_acc: 0.9001\n",
            "Epoch 8/12\n",
            "37500/37500 [==============================] - 117s 3ms/step - loss: 0.2886 - acc: 0.9007 - val_loss: 0.2923 - val_acc: 0.9000\n",
            "Epoch 9/12\n",
            "37500/37500 [==============================] - 117s 3ms/step - loss: 0.2866 - acc: 0.9006 - val_loss: 0.2903 - val_acc: 0.9002\n",
            "Epoch 10/12\n",
            "37500/37500 [==============================] - 117s 3ms/step - loss: 0.2849 - acc: 0.9008 - val_loss: 0.2891 - val_acc: 0.9001\n",
            "Epoch 11/12\n",
            "37500/37500 [==============================] - 116s 3ms/step - loss: 0.2830 - acc: 0.9010 - val_loss: 0.2873 - val_acc: 0.9002\n",
            "Epoch 12/12\n",
            "37500/37500 [==============================] - 117s 3ms/step - loss: 0.2812 - acc: 0.9013 - val_loss: 0.2858 - val_acc: 0.9002\n"
          ],
          "name": "stdout"
        }
      ]
    },
    {
      "cell_type": "markdown",
      "metadata": {
        "id": "bvUDf_GF25Fi",
        "colab_type": "text"
      },
      "source": [
        "#### 以圖形顯示訓練過程"
      ]
    },
    {
      "cell_type": "code",
      "metadata": {
        "id": "x-Iu-3xp28mb",
        "colab_type": "code",
        "colab": {
          "base_uri": "https://localhost:8080/",
          "height": 350
        },
        "outputId": "13f0aeed-ac09-4cc5-eff1-2be821474b95"
      },
      "source": [
        "def show_train_history( train_history ) : \n",
        "        fig = plt.gcf( )\n",
        "        fig.set_size_inches( 12, 5 )\n",
        "        \n",
        "        plt.subplot( 121 )\n",
        "        plt.plot( train_history.history[ 'acc' ] )\n",
        "        plt.plot( train_history.history[ 'val_acc' ] )\n",
        "        plt.title( 'binary_crossentropy Train History' )\n",
        "        plt.xlabel( 'Epoch' )\n",
        "        plt.ylabel( 'Accuracy' )\n",
        "        plt.legend( [ 'train', 'validation' ], loc = 'upper left' )\n",
        "        \n",
        "        plt.subplot( 122 )\n",
        "        plt.plot( train_history.history[ 'loss' ] )\n",
        "        plt.plot( train_history.history[ 'val_loss' ] )\n",
        "        plt.title( 'binary_crossentropy Train History' )\n",
        "        plt.xlabel( 'Epoch' )\n",
        "        plt.ylabel( 'Loss' )\n",
        "        plt.legend( [ 'train', 'validation' ], loc = 'upper left' )\n",
        "        \n",
        "        plt.show( )\n",
        "        \n",
        "        \n",
        "\n",
        "show_train_history( train_history )"
      ],
      "execution_count": 20,
      "outputs": [
        {
          "output_type": "display_data",
          "data": {
            "image/png": "[encoded data removed]",
            "text/plain": [
              "<Figure size 864x360 with 2 Axes>"
            ]
          },
          "metadata": {
            "tags": []
          }
        }
      ]
    }
  ]
}