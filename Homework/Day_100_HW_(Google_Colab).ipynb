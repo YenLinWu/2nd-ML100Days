{
  "nbformat": 4,
  "nbformat_minor": 0,
  "metadata": {
    "kernelspec": {
      "display_name": "Python 3",
      "language": "python",
      "name": "python3"
    },
    "language_info": {
      "codemirror_mode": {
        "name": "ipython",
        "version": 3
      },
      "file_extension": ".py",
      "mimetype": "text/x-python",
      "name": "python",
      "nbconvert_exporter": "python",
      "pygments_lexer": "ipython3",
      "version": "3.7.3"
    },
    "colab": {
      "name": "Day_100_transfer_learning_HW.ipynb",
      "version": "0.3.2",
      "provenance": [],
      "collapsed_sections": [],
      "toc_visible": true
    }
  },
  "cells": [
    {
      "cell_type": "markdown",
      "metadata": {
        "id": "bM3s9YZrVJBr",
        "colab_type": "text"
      },
      "source": [
        "## 作業\n",
        "礙於不是所有同學都有 GPU ，這邊的範例使用的是簡化版本的 ResNet，確保所有同學都能夠順利訓練!\n",
        "\n",
        "\n",
        "最後一天的作業請閱讀這篇非常詳盡的[文章](https://blog.gtwang.org/programming/keras-resnet-50-pre-trained-model-build-dogs-cats-image-classification-system/)，基本上已經涵蓋了所有訓練　CNN 常用的技巧，請使用所有學過的訓練技巧，盡可能地提高 Cifar-10 的 test data 準確率，截圖你最佳的結果並上傳來完成最後一次的作業吧!\n",
        "\n",
        "另外這些技巧在 Kaggle 上也會被許多人使用，更有人會開發一些新的技巧，例如使把預訓練在 ImageNet 上的模型當成 feature extractor 後，再拿擷取出的特徵重新訓練新的模型，這些技巧再進階的課程我們會在提到，有興趣的同學也可以[參考](https://www.kaggle.com/insaff/img-feature-extraction-with-pretrained-resnet)"
      ]
    },
    {
      "cell_type": "markdown",
      "metadata": {
        "id": "Vo25xgsaiUbK",
        "colab_type": "text"
      },
      "source": [
        "## 第一次訓練"
      ]
    },
    {
      "cell_type": "code",
      "metadata": {
        "id": "_5gyj6W6VJBs",
        "colab_type": "code",
        "colab": {
          "base_uri": "https://localhost:8080/",
          "height": 34
        },
        "outputId": "c878a6c0-9e76-44ff-9731-3bc6f76a161d"
      },
      "source": [
        "import os\n",
        "import keras\n",
        "\n",
        "from keras.datasets import cifar10\n",
        "from keras.utils import to_categorical\n",
        "from keras.preprocessing.image import ImageDataGenerator\n",
        "from keras.models import Sequential\n",
        "\n",
        "import matplotlib.pyplot as plt\n",
        "%matplotlib inline\n",
        "\n",
        "# resnet_builder.py\n",
        "from keras.models import Model\n",
        "from keras import backend as K\n",
        "from keras.layers import Conv2D, BatchNormalization, MaxPooling2D, AveragePooling2D\n",
        "from keras.layers import Input, Dense, Dropout, Activation, Flatten\n",
        "from keras.optimizers import RMSprop, Adam\n",
        "from keras.regularizers import l2"
      ],
      "execution_count": 1,
      "outputs": [
        {
          "output_type": "stream",
          "text": [
            "Using TensorFlow backend.\n"
          ],
          "name": "stderr"
        }
      ]
    },
    {
      "cell_type": "code",
      "metadata": {
        "id": "_kWjLBvSVJBw",
        "colab_type": "code",
        "colab": {
          "base_uri": "https://localhost:8080/",
          "height": 105
        },
        "outputId": "e1f1c8b7-2d20-4252-d5fe-ef2e7096fb41"
      },
      "source": [
        "# 讀取資料集並作前處理\n",
        "( x_train, y_train ), ( x_test, y_test ) = cifar10.load_data( )\n",
        "print( 'x_train shape : ', x_train.shape )\n",
        "print( x_train.shape[0], 'train samples' )\n",
        "print( x_test.shape[0], 'test samples' )\n",
        "\n",
        "# 資料標準化\n",
        "x_train = x_train.astype( 'float32' )\n",
        "x_test = x_test.astype( 'float32' )\n",
        "x_train = x_train / 255.\n",
        "x_test = x_test / 255.\n",
        "\n",
        "# 獨熱編碼\n",
        "num_classes = 10\n",
        "y_train = to_categorical( y_train, num_classes )\n",
        "y_test = to_categorical( y_test, num_classes )"
      ],
      "execution_count": 2,
      "outputs": [
        {
          "output_type": "stream",
          "text": [
            "Downloading data from https://www.cs.toronto.edu/~kriz/cifar-10-python.tar.gz\n",
            "170500096/170498071 [==============================] - 2s 0us/step\n",
            "x_train shape :  (50000, 32, 32, 3)\n",
            "50000 train samples\n",
            "10000 test samples\n"
          ],
          "name": "stdout"
        }
      ]
    },
    {
      "cell_type": "code",
      "metadata": {
        "id": "V6og1N2BVJBz",
        "colab_type": "code",
        "colab": {}
      },
      "source": [
        "def resnet_layer( inputs,\n",
        "                        num_filters = 16,\n",
        "                        kernel_size = 3,\n",
        "                        strides = 1,\n",
        "                        activation = 'relu',\n",
        "                        batch_normalization=True,\n",
        "                        conv_first = True ) :\n",
        "    \"\"\"2D Convolution-Batch Normalization-Activation stack builder\n",
        "    # Arguments\n",
        "        inputs (tensor): input tensor from input image or previous layer\n",
        "        num_filters (int): Conv2D number of filters\n",
        "        kernel_size (int): Conv2D square kernel dimensions\n",
        "        strides (int): Conv2D square stride dimensions\n",
        "        activation (string): activation name\n",
        "        batch_normalization (bool): whether to include batch normalization\n",
        "        conv_first (bool): conv-bn-activation (True) or\n",
        "            bn-activation-conv (False)\n",
        "    # Returns\n",
        "        x (tensor): tensor as input to the next layer\n",
        "    \"\"\"\n",
        "    conv = Conv2D( num_filters,\n",
        "                            kernel_size = kernel_size,\n",
        "                            strides = strides,\n",
        "                            padding = 'same',\n",
        "                            kernel_initializer = 'he_normal',\n",
        "                            kernel_regularizer = l2(1e-4) \n",
        "                            )\n",
        "\n",
        "    x = inputs\n",
        "    if conv_first:\n",
        "        x = conv(x)\n",
        "        if batch_normalization:\n",
        "            x = BatchNormalization( )( x )\n",
        "        if activation is not None:\n",
        "            x = Activation( activation )( x )\n",
        "    else:\n",
        "        if batch_normalization:\n",
        "            x = BatchNormalization( )( x )\n",
        "        if activation is not None:\n",
        "            x = Activation( activation )( x )\n",
        "        x = conv( x )\n",
        "    return x"
      ],
      "execution_count": 0,
      "outputs": []
    },
    {
      "cell_type": "code",
      "metadata": {
        "id": "rdIOlP56VJB3",
        "colab_type": "code",
        "colab": {}
      },
      "source": [
        "def resnet( input_shape, depth =11, num_classes = 10 ) :\n",
        "    \"\"\"ResNet Version 2 Model builder [b]\n",
        "    Stacks of (1 x 1)-(3 x 3)-(1 x 1) BN-ReLU-Conv2D or also known as\n",
        "    bottleneck layer\n",
        "    First shortcut connection per layer is 1 x 1 Conv2D.\n",
        "    Second and onwards shortcut connection is identity.\n",
        "    At the beginning of each stage, the feature map size is halved (downsampled)\n",
        "    by a convolutional layer with strides=2, while the number of filter maps is\n",
        "    doubled. Within each stage, the layers have the same number filters and the\n",
        "    same filter map sizes.\n",
        "    Features maps sizes:\n",
        "    conv1  : 32x32,  16\n",
        "    stage 0: 32x32,  64\n",
        "    stage 1: 16x16, 128\n",
        "    stage 2:  8x8,  256\n",
        "    # Arguments\n",
        "        input_shape (tensor): shape of input image tensor\n",
        "        depth (int): number of core convolutional layers\n",
        "        num_classes (int): number of classes (CIFAR10 has 10)\n",
        "    # Returns\n",
        "        model (Model): Keras model instance\n",
        "    \"\"\"\n",
        "    if (depth - 2) % 9 != 0:\n",
        "        raise ValueError('depth should be 9n+2 (eg 56 or 110 in [b])')\n",
        "    # Start model definition.\n",
        "    num_filters_in = 16\n",
        "    num_res_blocks = int((depth - 2) / 9)\n",
        "\n",
        "    inputs = Input(shape=input_shape)\n",
        "    # v2 performs Conv2D with BN-ReLU on input before splitting into 2 paths\n",
        "    x = resnet_layer(inputs=inputs,\n",
        "                     num_filters=num_filters_in,\n",
        "                     conv_first=True)\n",
        "\n",
        "    # Instantiate the stack of residual units\n",
        "    for stage in range(3):\n",
        "        for res_block in range(num_res_blocks):\n",
        "            activation = 'relu'\n",
        "            batch_normalization = True\n",
        "            strides = 1\n",
        "            if stage == 0:\n",
        "                num_filters_out = num_filters_in * 4\n",
        "                if res_block == 0:  # first layer and first stage\n",
        "                    activation = None\n",
        "                    batch_normalization = False\n",
        "            else:\n",
        "                num_filters_out = num_filters_in * 2\n",
        "                if res_block == 0:  # first layer but not first stage\n",
        "                    strides = 2    # downsample\n",
        "\n",
        "            # bottleneck residual unit\n",
        "            y = resnet_layer(inputs=x,\n",
        "                             num_filters=num_filters_in,\n",
        "                             kernel_size=1,\n",
        "                             strides=strides,\n",
        "                             activation=activation,\n",
        "                             batch_normalization=batch_normalization,\n",
        "                             conv_first=False)\n",
        "            y = resnet_layer(inputs=y,\n",
        "                             num_filters=num_filters_in,\n",
        "                             conv_first=False)\n",
        "            y = resnet_layer(inputs=y,\n",
        "                             num_filters=num_filters_out,\n",
        "                             kernel_size=1,\n",
        "                             conv_first=False)\n",
        "            if res_block == 0:\n",
        "                # linear projection residual shortcut connection to match\n",
        "                # changed dims\n",
        "                x = resnet_layer(inputs=x,\n",
        "                                 num_filters=num_filters_out,\n",
        "                                 kernel_size=1,\n",
        "                                 strides=strides,\n",
        "                                 activation=None,\n",
        "                                 batch_normalization=False)\n",
        "            x = keras.layers.add([x, y])\n",
        "\n",
        "        num_filters_in = num_filters_out\n",
        "\n",
        "    # Add classifier on top.\n",
        "    # v2 has BN-ReLU before Pooling\n",
        "    x = BatchNormalization( )(x)\n",
        "    x = Activation('relu')(x)\n",
        "    x = AveragePooling2D(pool_size=8)(x)\n",
        "    y = Flatten()(x)\n",
        "    outputs = Dense(num_classes,\n",
        "                    activation='softmax',\n",
        "                    kernel_initializer='he_normal')(y)\n",
        "\n",
        "    # Instantiate model.\n",
        "    model = Model( inputs = inputs, outputs = outputs )\n",
        "    return model"
      ],
      "execution_count": 0,
      "outputs": []
    },
    {
      "cell_type": "code",
      "metadata": {
        "id": "rJHyTGusVJB6",
        "colab_type": "code",
        "colab": {
          "base_uri": "https://localhost:8080/",
          "height": 1000
        },
        "outputId": "9c787af5-abb9-4d05-b113-3a0255e6c38d"
      },
      "source": [
        "model = resnet( input_shape = ( 32, 32, 3 ) ) \n",
        "model.summary( )"
      ],
      "execution_count": 5,
      "outputs": [
        {
          "output_type": "stream",
          "text": [
            "WARNING: Logging before flag parsing goes to stderr.\n",
            "W0809 10:36:02.013258 140100567476096 deprecation_wrapper.py:119] From /usr/local/lib/python3.6/dist-packages/keras/backend/tensorflow_backend.py:74: The name tf.get_default_graph is deprecated. Please use tf.compat.v1.get_default_graph instead.\n",
            "\n",
            "W0809 10:36:02.052336 140100567476096 deprecation_wrapper.py:119] From /usr/local/lib/python3.6/dist-packages/keras/backend/tensorflow_backend.py:517: The name tf.placeholder is deprecated. Please use tf.compat.v1.placeholder instead.\n",
            "\n",
            "W0809 10:36:02.060939 140100567476096 deprecation_wrapper.py:119] From /usr/local/lib/python3.6/dist-packages/keras/backend/tensorflow_backend.py:4185: The name tf.truncated_normal is deprecated. Please use tf.random.truncated_normal instead.\n",
            "\n",
            "W0809 10:36:02.132625 140100567476096 deprecation_wrapper.py:119] From /usr/local/lib/python3.6/dist-packages/keras/backend/tensorflow_backend.py:174: The name tf.get_default_session is deprecated. Please use tf.compat.v1.get_default_session instead.\n",
            "\n",
            "W0809 10:36:02.133835 140100567476096 deprecation_wrapper.py:119] From /usr/local/lib/python3.6/dist-packages/keras/backend/tensorflow_backend.py:181: The name tf.ConfigProto is deprecated. Please use tf.compat.v1.ConfigProto instead.\n",
            "\n",
            "W0809 10:36:02.420465 140100567476096 deprecation_wrapper.py:119] From /usr/local/lib/python3.6/dist-packages/keras/backend/tensorflow_backend.py:1834: The name tf.nn.fused_batch_norm is deprecated. Please use tf.compat.v1.nn.fused_batch_norm instead.\n",
            "\n",
            "W0809 10:36:03.562568 140100567476096 deprecation_wrapper.py:119] From /usr/local/lib/python3.6/dist-packages/keras/backend/tensorflow_backend.py:3980: The name tf.nn.avg_pool is deprecated. Please use tf.nn.avg_pool2d instead.\n",
            "\n"
          ],
          "name": "stderr"
        },
        {
          "output_type": "stream",
          "text": [
            "__________________________________________________________________________________________________\n",
            "Layer (type)                    Output Shape         Param #     Connected to                     \n",
            "==================================================================================================\n",
            "input_1 (InputLayer)            (None, 32, 32, 3)    0                                            \n",
            "__________________________________________________________________________________________________\n",
            "conv2d_1 (Conv2D)               (None, 32, 32, 16)   448         input_1[0][0]                    \n",
            "__________________________________________________________________________________________________\n",
            "batch_normalization_1 (BatchNor (None, 32, 32, 16)   64          conv2d_1[0][0]                   \n",
            "__________________________________________________________________________________________________\n",
            "activation_1 (Activation)       (None, 32, 32, 16)   0           batch_normalization_1[0][0]      \n",
            "__________________________________________________________________________________________________\n",
            "conv2d_2 (Conv2D)               (None, 32, 32, 16)   272         activation_1[0][0]               \n",
            "__________________________________________________________________________________________________\n",
            "batch_normalization_2 (BatchNor (None, 32, 32, 16)   64          conv2d_2[0][0]                   \n",
            "__________________________________________________________________________________________________\n",
            "activation_2 (Activation)       (None, 32, 32, 16)   0           batch_normalization_2[0][0]      \n",
            "__________________________________________________________________________________________________\n",
            "conv2d_3 (Conv2D)               (None, 32, 32, 16)   2320        activation_2[0][0]               \n",
            "__________________________________________________________________________________________________\n",
            "batch_normalization_3 (BatchNor (None, 32, 32, 16)   64          conv2d_3[0][0]                   \n",
            "__________________________________________________________________________________________________\n",
            "activation_3 (Activation)       (None, 32, 32, 16)   0           batch_normalization_3[0][0]      \n",
            "__________________________________________________________________________________________________\n",
            "conv2d_5 (Conv2D)               (None, 32, 32, 64)   1088        activation_1[0][0]               \n",
            "__________________________________________________________________________________________________\n",
            "conv2d_4 (Conv2D)               (None, 32, 32, 64)   1088        activation_3[0][0]               \n",
            "__________________________________________________________________________________________________\n",
            "add_1 (Add)                     (None, 32, 32, 64)   0           conv2d_5[0][0]                   \n",
            "                                                                 conv2d_4[0][0]                   \n",
            "__________________________________________________________________________________________________\n",
            "batch_normalization_4 (BatchNor (None, 32, 32, 64)   256         add_1[0][0]                      \n",
            "__________________________________________________________________________________________________\n",
            "activation_4 (Activation)       (None, 32, 32, 64)   0           batch_normalization_4[0][0]      \n",
            "__________________________________________________________________________________________________\n",
            "conv2d_6 (Conv2D)               (None, 16, 16, 64)   4160        activation_4[0][0]               \n",
            "__________________________________________________________________________________________________\n",
            "batch_normalization_5 (BatchNor (None, 16, 16, 64)   256         conv2d_6[0][0]                   \n",
            "__________________________________________________________________________________________________\n",
            "activation_5 (Activation)       (None, 16, 16, 64)   0           batch_normalization_5[0][0]      \n",
            "__________________________________________________________________________________________________\n",
            "conv2d_7 (Conv2D)               (None, 16, 16, 64)   36928       activation_5[0][0]               \n",
            "__________________________________________________________________________________________________\n",
            "batch_normalization_6 (BatchNor (None, 16, 16, 64)   256         conv2d_7[0][0]                   \n",
            "__________________________________________________________________________________________________\n",
            "activation_6 (Activation)       (None, 16, 16, 64)   0           batch_normalization_6[0][0]      \n",
            "__________________________________________________________________________________________________\n",
            "conv2d_9 (Conv2D)               (None, 16, 16, 128)  8320        add_1[0][0]                      \n",
            "__________________________________________________________________________________________________\n",
            "conv2d_8 (Conv2D)               (None, 16, 16, 128)  8320        activation_6[0][0]               \n",
            "__________________________________________________________________________________________________\n",
            "add_2 (Add)                     (None, 16, 16, 128)  0           conv2d_9[0][0]                   \n",
            "                                                                 conv2d_8[0][0]                   \n",
            "__________________________________________________________________________________________________\n",
            "batch_normalization_7 (BatchNor (None, 16, 16, 128)  512         add_2[0][0]                      \n",
            "__________________________________________________________________________________________________\n",
            "activation_7 (Activation)       (None, 16, 16, 128)  0           batch_normalization_7[0][0]      \n",
            "__________________________________________________________________________________________________\n",
            "conv2d_10 (Conv2D)              (None, 8, 8, 128)    16512       activation_7[0][0]               \n",
            "__________________________________________________________________________________________________\n",
            "batch_normalization_8 (BatchNor (None, 8, 8, 128)    512         conv2d_10[0][0]                  \n",
            "__________________________________________________________________________________________________\n",
            "activation_8 (Activation)       (None, 8, 8, 128)    0           batch_normalization_8[0][0]      \n",
            "__________________________________________________________________________________________________\n",
            "conv2d_11 (Conv2D)              (None, 8, 8, 128)    147584      activation_8[0][0]               \n",
            "__________________________________________________________________________________________________\n",
            "batch_normalization_9 (BatchNor (None, 8, 8, 128)    512         conv2d_11[0][0]                  \n",
            "__________________________________________________________________________________________________\n",
            "activation_9 (Activation)       (None, 8, 8, 128)    0           batch_normalization_9[0][0]      \n",
            "__________________________________________________________________________________________________\n",
            "conv2d_13 (Conv2D)              (None, 8, 8, 256)    33024       add_2[0][0]                      \n",
            "__________________________________________________________________________________________________\n",
            "conv2d_12 (Conv2D)              (None, 8, 8, 256)    33024       activation_9[0][0]               \n",
            "__________________________________________________________________________________________________\n",
            "add_3 (Add)                     (None, 8, 8, 256)    0           conv2d_13[0][0]                  \n",
            "                                                                 conv2d_12[0][0]                  \n",
            "__________________________________________________________________________________________________\n",
            "batch_normalization_10 (BatchNo (None, 8, 8, 256)    1024        add_3[0][0]                      \n",
            "__________________________________________________________________________________________________\n",
            "activation_10 (Activation)      (None, 8, 8, 256)    0           batch_normalization_10[0][0]     \n",
            "__________________________________________________________________________________________________\n",
            "average_pooling2d_1 (AveragePoo (None, 1, 1, 256)    0           activation_10[0][0]              \n",
            "__________________________________________________________________________________________________\n",
            "flatten_1 (Flatten)             (None, 256)          0           average_pooling2d_1[0][0]        \n",
            "__________________________________________________________________________________________________\n",
            "dense_1 (Dense)                 (None, 10)           2570        flatten_1[0][0]                  \n",
            "==================================================================================================\n",
            "Total params: 299,178\n",
            "Trainable params: 297,418\n",
            "Non-trainable params: 1,760\n",
            "__________________________________________________________________________________________________\n"
          ],
          "name": "stdout"
        }
      ]
    },
    {
      "cell_type": "code",
      "metadata": {
        "id": "oJgZ3x49VJB9",
        "colab_type": "code",
        "colab": {}
      },
      "source": [
        "# 設定超參數\n",
        "Learning_Rate = 0.01\n",
        "Batch_Size = 128 \n",
        "Epochs = 10 "
      ],
      "execution_count": 0,
      "outputs": []
    },
    {
      "cell_type": "code",
      "metadata": {
        "id": "XL1NYdiOVJB_",
        "colab_type": "code",
        "colab": {
          "base_uri": "https://localhost:8080/",
          "height": 530
        },
        "outputId": "e1a62b71-a712-499a-fc18-7bbc7ac537f7"
      },
      "source": [
        "# 訓練模型\n",
        "model.compile( loss = 'categorical_crossentropy',\n",
        "                      optimizer = Adam( lr = Learning_Rate ),\n",
        "                      metrics = [ 'accuracy' ] \n",
        "                      )\n",
        "\n",
        "history = model.fit( x_train, y_train,\n",
        "                           batch_size = Batch_Size,\n",
        "                           epochs = Epochs,                         \n",
        "                           validation_data = ( x_test, y_test ), \n",
        "                           verbose = 1\n",
        "                           )\n",
        "\n",
        "score = model.evaluate( x_test, y_test, verbose = 0 )\n",
        "\n",
        "print( 'Test loss : ', score[0] )\n",
        "print( 'Test accuracy : ', score[1] )"
      ],
      "execution_count": 7,
      "outputs": [
        {
          "output_type": "stream",
          "text": [
            "W0809 10:36:03.660736 140100567476096 deprecation_wrapper.py:119] From /usr/local/lib/python3.6/dist-packages/keras/optimizers.py:790: The name tf.train.Optimizer is deprecated. Please use tf.compat.v1.train.Optimizer instead.\n",
            "\n",
            "W0809 10:36:03.975455 140100567476096 deprecation.py:323] From /usr/local/lib/python3.6/dist-packages/tensorflow/python/ops/math_grad.py:1250: add_dispatch_support.<locals>.wrapper (from tensorflow.python.ops.array_ops) is deprecated and will be removed in a future version.\n",
            "Instructions for updating:\n",
            "Use tf.where in 2.0, which has the same broadcast rule as np.where\n"
          ],
          "name": "stderr"
        },
        {
          "output_type": "stream",
          "text": [
            "Train on 50000 samples, validate on 10000 samples\n",
            "Epoch 1/10\n",
            "50000/50000 [==============================] - 726s 15ms/step - loss: 1.7168 - acc: 0.4219 - val_loss: 1.9962 - val_acc: 0.3444\n",
            "Epoch 2/10\n",
            "50000/50000 [==============================] - 723s 14ms/step - loss: 1.3931 - acc: 0.5454 - val_loss: 1.6941 - val_acc: 0.4313\n",
            "Epoch 3/10\n",
            "50000/50000 [==============================] - 723s 14ms/step - loss: 1.2771 - acc: 0.5969 - val_loss: 2.3248 - val_acc: 0.3243\n",
            "Epoch 4/10\n",
            "50000/50000 [==============================] - 720s 14ms/step - loss: 1.2033 - acc: 0.6249 - val_loss: 2.0713 - val_acc: 0.4029\n",
            "Epoch 5/10\n",
            "50000/50000 [==============================] - 715s 14ms/step - loss: 1.1512 - acc: 0.6452 - val_loss: 3.3021 - val_acc: 0.1858\n",
            "Epoch 6/10\n",
            "50000/50000 [==============================] - 713s 14ms/step - loss: 1.1186 - acc: 0.6608 - val_loss: 1.9887 - val_acc: 0.4544\n",
            "Epoch 7/10\n",
            "50000/50000 [==============================] - 710s 14ms/step - loss: 1.0802 - acc: 0.6738 - val_loss: 1.4582 - val_acc: 0.5368\n",
            "Epoch 8/10\n",
            "50000/50000 [==============================] - 724s 14ms/step - loss: 1.0569 - acc: 0.6836 - val_loss: 1.4917 - val_acc: 0.5864\n",
            "Epoch 9/10\n",
            "50000/50000 [==============================] - 726s 15ms/step - loss: 1.0327 - acc: 0.6952 - val_loss: 1.7121 - val_acc: 0.4937\n",
            "Epoch 10/10\n",
            "50000/50000 [==============================] - 726s 15ms/step - loss: 1.0202 - acc: 0.7015 - val_loss: 3.1118 - val_acc: 0.3714\n",
            "Test loss :  3.111838129043579\n",
            "Test accuracy :  0.3714\n"
          ],
          "name": "stdout"
        }
      ]
    },
    {
      "cell_type": "code",
      "metadata": {
        "id": "kox2QSfLVJCC",
        "colab_type": "code",
        "colab": {}
      },
      "source": [
        "# 儲存 model\n",
        "from keras.models import Model\n",
        "\n",
        "model.save( 'model_1st.h5' )"
      ],
      "execution_count": 0,
      "outputs": []
    },
    {
      "cell_type": "code",
      "metadata": {
        "id": "9WyqnSHhVJCF",
        "colab_type": "code",
        "colab": {
          "base_uri": "https://localhost:8080/",
          "height": 545
        },
        "outputId": "fc6bfd40-43e8-4b6a-e403-53e832a73f14"
      },
      "source": [
        "train_loss = model.history.history[ 'loss' ]\n",
        "valid_loss = model.history.history[ 'val_loss' ]\n",
        "train_acc = model.history.history[ 'acc' ]\n",
        "valid_acc = model.history.history[ 'val_acc' ]\n",
        "\n",
        "plt.plot( range( len( train_loss ) ), train_loss, label = 'Train Loss' )\n",
        "plt.plot( range( len( valid_loss ) ), valid_loss, label = 'Valid Loss' )\n",
        "plt.legend( )\n",
        "plt.title( '1st Loss' )\n",
        "plt.show( )\n",
        "\n",
        "plt.plot( range( len( train_acc ) ), train_acc, label = 'Train Accuracy' )\n",
        "plt.plot( range( len( valid_acc ) ), valid_acc, label = 'Valid Accuracy' )\n",
        "plt.legend( )\n",
        "plt.title( '1st Accuracy' )\n",
        "plt.show( )"
      ],
      "execution_count": 9,
      "outputs": [
        {
          "output_type": "display_data",
          "data": {
            "image/png": "[encoded data removed]",
            "text/plain": [
              "<Figure size 432x288 with 1 Axes>"
            ]
          },
          "metadata": {
            "tags": []
          }
        },
        {
          "output_type": "display_data",
          "data": {
            "image/png": "[encoded data removed]",
            "text/plain": [
              "<Figure size 432x288 with 1 Axes>"
            ]
          },
          "metadata": {
            "tags": []
          }
        }
      ]
    },
    {
      "cell_type": "markdown",
      "metadata": {
        "id": "xiJNDQbEiK8M",
        "colab_type": "text"
      },
      "source": [
        "##  第二次訓練（調整參數） \n",
        "    * 降低學習率  \n",
        "    * 資料增強\n",
        "    "
      ]
    },
    {
      "cell_type": "code",
      "metadata": {
        "id": "CoPPTW67lzdq",
        "colab_type": "code",
        "colab": {}
      },
      "source": [
        "( x_train, y_train ), ( x_test, y_test ) = cifar10.load_data( )\n",
        "\n",
        "num_classes = 10\n",
        "y_train = keras.utils.to_categorical( y_train, num_classes )\n",
        "y_test = keras.utils.to_categorical( y_test, num_classes )"
      ],
      "execution_count": 0,
      "outputs": []
    },
    {
      "cell_type": "code",
      "metadata": {
        "id": "nvV5Sbi4VJCH",
        "colab_type": "code",
        "colab": {}
      },
      "source": [
        "# 若重開時需先load_model\n",
        "#keras.models.load_model('model_1st.h5')"
      ],
      "execution_count": 0,
      "outputs": []
    },
    {
      "cell_type": "code",
      "metadata": {
        "id": "bQrA24J_pVrW",
        "colab_type": "code",
        "colab": {}
      },
      "source": [
        "Learning_Rate = 0.001"
      ],
      "execution_count": 0,
      "outputs": []
    },
    {
      "cell_type": "code",
      "metadata": {
        "id": "-vMUUgr0j_uf",
        "colab_type": "code",
        "colab": {}
      },
      "source": [
        "model.compile( loss = 'categorical_crossentropy',\n",
        "               optimizer = Adam( lr = Learning_Rate ),\n",
        "               metrics = [ 'accuracy' ] )"
      ],
      "execution_count": 0,
      "outputs": []
    },
    {
      "cell_type": "code",
      "metadata": {
        "id": "kESgw0psi457",
        "colab_type": "code",
        "colab": {}
      },
      "source": [
        "# Data Augmentation\n",
        "\n",
        "Data_Aug = ImageDataGenerator( rotation_range = 20,      # 隨機旋轉度數的範圍\n",
        "                               width_shift_range = 0.2,\n",
        "                               height_shift_range = 0.2,\n",
        "                               horizontal_flip = True,   # 隨機水平翻轉\n",
        "                               vertical_flip = False,    # 隨機垂直翻轉\n",
        "                               featurewise_center = True,            # 將資料的均值設為 0\n",
        "                               featurewise_std_normalization = True  # 資料標準化\n",
        "                               )\n",
        "\n",
        "Data_Agu.fit( x_train )"
      ],
      "execution_count": 0,
      "outputs": []
    },
    {
      "cell_type": "code",
      "metadata": {
        "id": "p8usRKt2kd62",
        "colab_type": "code",
        "colab": {
          "base_uri": "https://localhost:8080/",
          "height": 459
        },
        "outputId": "7846eb9e-aed4-443c-83cd-89006e7f5e89"
      },
      "source": [
        "history = model.fit_generator( Data_Aug.flow( x_train, y_train, batch_size = Batch_Size ),\n",
        "                               steps_per_epoch = x_train.shape[0] // Batch_Size,\n",
        "                               epochs = Epochs,\n",
        "                               verbose = 1,\n",
        "                               validation_data = ( x_test, y_test ) \n",
        "                               )"
      ],
      "execution_count": 17,
      "outputs": [
        {
          "output_type": "stream",
          "text": [
            "Epoch 1/10\n"
          ],
          "name": "stdout"
        },
        {
          "output_type": "stream",
          "text": [
            "/usr/local/lib/python3.6/dist-packages/keras_preprocessing/image/image_data_generator.py:716: UserWarning: This ImageDataGenerator specifies `featurewise_center`, but it hasn't been fit on any training data. Fit it first by calling `.fit(numpy_data)`.\n",
            "  warnings.warn('This ImageDataGenerator specifies '\n",
            "/usr/local/lib/python3.6/dist-packages/keras_preprocessing/image/image_data_generator.py:724: UserWarning: This ImageDataGenerator specifies `featurewise_std_normalization`, but it hasn't been fit on any training data. Fit it first by calling `.fit(numpy_data)`.\n",
            "  warnings.warn('This ImageDataGenerator specifies '\n"
          ],
          "name": "stderr"
        },
        {
          "output_type": "stream",
          "text": [
            "390/390 [==============================] - 788s 2s/step - loss: 1.1148 - acc: 0.6686 - val_loss: 1.0266 - val_acc: 0.6975\n",
            "Epoch 2/10\n",
            "390/390 [==============================] - 784s 2s/step - loss: 1.0480 - acc: 0.6902 - val_loss: 1.1560 - val_acc: 0.6662\n",
            "Epoch 3/10\n",
            "390/390 [==============================] - 779s 2s/step - loss: 1.0118 - acc: 0.6996 - val_loss: 1.0137 - val_acc: 0.7041\n",
            "Epoch 4/10\n",
            "390/390 [==============================] - 774s 2s/step - loss: 0.9765 - acc: 0.7091 - val_loss: 1.0356 - val_acc: 0.6966\n",
            "Epoch 5/10\n",
            "390/390 [==============================] - 768s 2s/step - loss: 0.9588 - acc: 0.7129 - val_loss: 1.0753 - val_acc: 0.6897\n",
            "Epoch 6/10\n",
            "390/390 [==============================] - 766s 2s/step - loss: 0.9386 - acc: 0.7202 - val_loss: 0.9742 - val_acc: 0.7115\n",
            "Epoch 7/10\n",
            "390/390 [==============================] - 770s 2s/step - loss: 0.9101 - acc: 0.7278 - val_loss: 1.0785 - val_acc: 0.6871\n",
            "Epoch 8/10\n",
            "390/390 [==============================] - 771s 2s/step - loss: 0.8995 - acc: 0.7313 - val_loss: 1.0040 - val_acc: 0.7130\n",
            "Epoch 9/10\n",
            "390/390 [==============================] - 781s 2s/step - loss: 0.8837 - acc: 0.7347 - val_loss: 0.9028 - val_acc: 0.7381\n",
            "Epoch 10/10\n",
            "390/390 [==============================] - 783s 2s/step - loss: 0.8694 - acc: 0.7418 - val_loss: 1.1582 - val_acc: 0.6754\n"
          ],
          "name": "stdout"
        }
      ]
    },
    {
      "cell_type": "code",
      "metadata": {
        "id": "Td0qyBL1lGlg",
        "colab_type": "code",
        "colab": {}
      },
      "source": [
        "# 儲存model\n",
        "model.save( 'model_2nd.h5' )"
      ],
      "execution_count": 0,
      "outputs": []
    },
    {
      "cell_type": "code",
      "metadata": {
        "id": "KA4qXRLHlY3w",
        "colab_type": "code",
        "colab": {
          "base_uri": "https://localhost:8080/",
          "height": 545
        },
        "outputId": "ae1b7115-f7ea-429e-b39a-9ce911411613"
      },
      "source": [
        "train_loss = model.history.history[ 'loss' ]\n",
        "valid_loss = model.history.history[ 'val_loss' ]\n",
        "train_acc = model.history.history[ 'acc' ]\n",
        "valid_acc = model.history.history[ 'val_acc' ]\n",
        "\n",
        "plt.plot( range( len( train_loss ) ), train_loss, label = 'Train Loss' )\n",
        "plt.plot( range( len( valid_loss ) ), valid_loss, label = 'Valid Loss' )\n",
        "plt.legend( )\n",
        "plt.title( '2nd Loss' )\n",
        "plt.show( )\n",
        "\n",
        "plt.plot( range( len( train_acc ) ), train_acc, label = 'Train Accuracy' )\n",
        "plt.plot( range( len( valid_acc ) ), valid_acc, label = 'Valid Accuracy' )\n",
        "plt.legend( )\n",
        "plt.title( '2nd Accuracy' )\n",
        "plt.show( )"
      ],
      "execution_count": 19,
      "outputs": [
        {
          "output_type": "display_data",
          "data": {
            "image/png": "[encoded data removed]",
            "text/plain": [
              "<Figure size 432x288 with 1 Axes>"
            ]
          },
          "metadata": {
            "tags": []
          }
        },
        {
          "output_type": "display_data",
          "data": {
            "image/png": "[encoded data removed]",
            "text/plain": [
              "<Figure size 432x288 with 1 Axes>"
            ]
          },
          "metadata": {
            "tags": []
          }
        }
      ]
    }
  ]
}