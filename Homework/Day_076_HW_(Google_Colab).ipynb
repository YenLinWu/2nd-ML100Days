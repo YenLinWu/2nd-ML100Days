{
  "nbformat": 4,
  "nbformat_minor": 0,
  "metadata": {
    "colab": {
      "name": "Day_076_Optimizer_HW.ipynb",
      "version": "0.3.2",
      "provenance": [],
      "collapsed_sections": [],
      "toc_visible": true
    },
    "language_info": {
      "codemirror_mode": {
        "name": "ipython",
        "version": 3
      },
      "file_extension": ".py",
      "mimetype": "text/x-python",
      "name": "python",
      "nbconvert_exporter": "python",
      "pygments_lexer": "ipython3",
      "version": "3.7.3"
    },
    "kernelspec": {
      "display_name": "Python 3",
      "language": "python",
      "name": "python3"
    }
  },
  "cells": [
    {
      "cell_type": "markdown",
      "metadata": {
        "id": "H3tPKn-KLeSu",
        "colab_type": "text"
      },
      "source": [
        "\n",
        "# 作業: \n",
        "    \n",
        "    (1)以, Adam, 為例, 調整 batch_size, epoch , 觀察accurancy, loss 的變化\n",
        "    \n",
        "    (2)以同一模型, 分別驗證 SGD, Adam, Rmsprop 的 accurancy"
      ]
    },
    {
      "cell_type": "code",
      "metadata": {
        "id": "dret7-fYLeSx",
        "colab_type": "code",
        "outputId": "febc506d-d4bc-4e79-904e-1fb8f7e1f469",
        "colab": {
          "base_uri": "https://localhost:8080/",
          "height": 34
        }
      },
      "source": [
        "import numpy \n",
        "import keras\n",
        "from keras.datasets import mnist   # Keras 手寫辨識資料集 \n",
        "from keras.preprocessing.image import ImageDataGenerator\n",
        "\n",
        "from keras.models import Sequential, load_model\n",
        "from keras.layers import Dense, Dropout, Activation, Flatten\n",
        "from keras.layers import Conv2D, MaxPooling2D\n",
        "from keras import optimizers\n",
        "from keras.callbacks import EarlyStopping, ModelCheckpoint"
      ],
      "execution_count": 1,
      "outputs": [
        {
          "output_type": "stream",
          "text": [
            "Using TensorFlow backend.\n"
          ],
          "name": "stderr"
        }
      ]
    },
    {
      "cell_type": "markdown",
      "metadata": {
        "id": "IXwImSVT7U1e",
        "colab_type": "text"
      },
      "source": [
        "### 資料分割及標準化 "
      ]
    },
    {
      "cell_type": "code",
      "metadata": {
        "id": "qAsPEnP3LeTD",
        "colab_type": "code",
        "outputId": "0e4154b5-65a0-4411-91fa-80dd6053605f",
        "colab": {
          "base_uri": "https://localhost:8080/",
          "height": 70
        }
      },
      "source": [
        "# 使用 Keras 自帶的 mnist 工具讀取數據（第一次需要聯網）\n",
        "( X_train, y_train ), ( X_test, y_test ) = mnist.load_data( ) \n",
        "print( 'Shape of Train Data = ' + str( X_train.shape ) )\n",
        "\n",
        "# 由於 mist 的輸入數據維度是 ( num, 28, 28 )，這裡需要把後面的維度直接拼起來變成784維   \n",
        "X_train = X_train.reshape( X_train.shape[0], X_train.shape[1] * X_train.shape[2] )/255\n",
        "X_test = X_test.reshape( X_test.shape[0], X_test.shape[1] * X_test.shape[2] )/255  \n",
        "Y_train = ( numpy.arange( 10 ) == y_train[ :, None ] ).astype( int )\n",
        "Y_test = ( numpy.arange( 10 ) == y_test[ :, None ] ).astype( int )"
      ],
      "execution_count": 2,
      "outputs": [
        {
          "output_type": "stream",
          "text": [
            "Downloading data from https://s3.amazonaws.com/img-datasets/mnist.npz\n",
            "11493376/11490434 [==============================] - 1s 0us/step\n",
            "Shape of Train Data = (60000, 28, 28)\n"
          ],
          "name": "stdout"
        }
      ]
    },
    {
      "cell_type": "markdown",
      "metadata": {
        "id": "23gSwTXq7q4r",
        "colab_type": "text"
      },
      "source": [
        "### 建構神經網絡層"
      ]
    },
    {
      "cell_type": "code",
      "metadata": {
        "id": "82AipQdILeS0",
        "colab_type": "code",
        "outputId": "eb66b680-8a57-4eb2-d9d1-f1259b8b8532",
        "colab": {
          "base_uri": "https://localhost:8080/",
          "height": 653
        }
      },
      "source": [
        "# 第一步：選擇模型, 順序模型是多個網絡層的線性堆疊\n",
        "model = Sequential( )\n",
        "\n",
        "# 第二步：構建網絡層\n",
        "model.add( Dense( 512, input_shape = ( 784, ) ) )   # 輸入層，28 x 28 = 784   \n",
        "model.add( Activation( 'relu' ) )                   # 激活函數是 relu   \n",
        "\n",
        "model.add( Dense( 512 ) )        # 隱藏層節點500個   \n",
        "model.add( Activation( 'relu') ) # 激活函數是 relu\n",
        "\n",
        "model.add( Dense( 256 ) )        # 隱藏層節點500個  \n",
        "model.add( Activation( 'relu') ) # 激活函數是 relu\n",
        "\n",
        "model.add( Dense( 256 ) )        # 隱藏層節點500個   \n",
        "model.add( Activation( 'relu') ) # 激活函數是 relu\n",
        "\n",
        "model.add( Dense( 10 ) )             # 輸出結果是10個類別，所以維度是10   \n",
        "model.add( Activation( 'softmax' ) ) # 最後一層用softmax作為激活函數\n",
        "\n",
        "\n",
        "# 模型建立完成後，統計參數總量\n",
        "print( \"Total Parameters：%d\" % model.count_params( ) )\n",
        "\n",
        "# 輸出模型摘要資訊\n",
        "model.summary()"
      ],
      "execution_count": 3,
      "outputs": [
        {
          "output_type": "stream",
          "text": [
            "WARNING: Logging before flag parsing goes to stderr.\n",
            "W0713 02:26:05.229173 139622188849024 deprecation_wrapper.py:119] From /usr/local/lib/python3.6/dist-packages/keras/backend/tensorflow_backend.py:74: The name tf.get_default_graph is deprecated. Please use tf.compat.v1.get_default_graph instead.\n",
            "\n",
            "W0713 02:26:05.268945 139622188849024 deprecation_wrapper.py:119] From /usr/local/lib/python3.6/dist-packages/keras/backend/tensorflow_backend.py:517: The name tf.placeholder is deprecated. Please use tf.compat.v1.placeholder instead.\n",
            "\n",
            "W0713 02:26:05.275560 139622188849024 deprecation_wrapper.py:119] From /usr/local/lib/python3.6/dist-packages/keras/backend/tensorflow_backend.py:4138: The name tf.random_uniform is deprecated. Please use tf.random.uniform instead.\n",
            "\n"
          ],
          "name": "stderr"
        },
        {
          "output_type": "stream",
          "text": [
            "Total Parameters：864266\n",
            "_________________________________________________________________\n",
            "Layer (type)                 Output Shape              Param #   \n",
            "=================================================================\n",
            "dense_1 (Dense)              (None, 512)               401920    \n",
            "_________________________________________________________________\n",
            "activation_1 (Activation)    (None, 512)               0         \n",
            "_________________________________________________________________\n",
            "dense_2 (Dense)              (None, 512)               262656    \n",
            "_________________________________________________________________\n",
            "activation_2 (Activation)    (None, 512)               0         \n",
            "_________________________________________________________________\n",
            "dense_3 (Dense)              (None, 256)               131328    \n",
            "_________________________________________________________________\n",
            "activation_3 (Activation)    (None, 256)               0         \n",
            "_________________________________________________________________\n",
            "dense_4 (Dense)              (None, 256)               65792     \n",
            "_________________________________________________________________\n",
            "activation_4 (Activation)    (None, 256)               0         \n",
            "_________________________________________________________________\n",
            "dense_5 (Dense)              (None, 10)                2570      \n",
            "_________________________________________________________________\n",
            "activation_5 (Activation)    (None, 10)                0         \n",
            "=================================================================\n",
            "Total params: 864,266\n",
            "Trainable params: 864,266\n",
            "Non-trainable params: 0\n",
            "_________________________________________________________________\n"
          ],
          "name": "stdout"
        }
      ]
    },
    {
      "cell_type": "markdown",
      "metadata": {
        "id": "6wkq16WY77UA",
        "colab_type": "text"
      },
      "source": [
        "#### 選擇演算法及損失函數"
      ]
    },
    {
      "cell_type": "code",
      "metadata": {
        "id": "kiIbtRDVLeS3",
        "colab_type": "code",
        "outputId": "87142e35-1a21-4aca-c459-1edf8ef13837",
        "colab": {
          "base_uri": "https://localhost:8080/",
          "height": 107
        }
      },
      "source": [
        "# Adam\n",
        "Adam = optimizers.Adam( lr = 0.001, \n",
        "                        epsilon = None, \n",
        "                        decay = 0\n",
        "                        )\n",
        "\n",
        "model.compile( optimizer = Adam, \n",
        "               loss = 'categorical_crossentropy', \n",
        "               metrics = ['accuracy'] \n",
        "               )"
      ],
      "execution_count": 4,
      "outputs": [
        {
          "output_type": "stream",
          "text": [
            "W0713 02:26:05.386663 139622188849024 deprecation_wrapper.py:119] From /usr/local/lib/python3.6/dist-packages/keras/optimizers.py:790: The name tf.train.Optimizer is deprecated. Please use tf.compat.v1.train.Optimizer instead.\n",
            "\n",
            "W0713 02:26:05.401535 139622188849024 deprecation_wrapper.py:119] From /usr/local/lib/python3.6/dist-packages/keras/backend/tensorflow_backend.py:3295: The name tf.log is deprecated. Please use tf.math.log instead.\n",
            "\n"
          ],
          "name": "stderr"
        }
      ]
    },
    {
      "cell_type": "markdown",
      "metadata": {
        "id": "tTps4nxR8QeU",
        "colab_type": "text"
      },
      "source": [
        "#### 宣告變數 ---> 訓練模型 ---> 評量模型"
      ]
    },
    {
      "cell_type": "markdown",
      "metadata": {
        "id": "RHvaE1j58YBA",
        "colab_type": "text"
      },
      "source": [
        "##### batch_size = 1024 and epochs = 20"
      ]
    },
    {
      "cell_type": "code",
      "metadata": {
        "id": "tXLB9ZAF8sXi",
        "colab_type": "code",
        "colab": {}
      },
      "source": [
        "'''\n",
        "   宣告並設定\n",
        "   batch_size：對總的樣本數進行分組，每組包含的樣本數量\n",
        "   epochs ：訓練次數   \n",
        "''' \n",
        "\n",
        "batch_size_1 = 1024  # 盡量設定 2 的冪次方，以有利 GPU 加速\n",
        "epochs_1 = 20"
      ],
      "execution_count": 0,
      "outputs": []
    },
    {
      "cell_type": "code",
      "metadata": {
        "id": "iUEN_dy5LeTK",
        "colab_type": "code",
        "outputId": "810e2046-0db5-40d1-9cce-a719c972a108",
        "colab": {
          "base_uri": "https://localhost:8080/",
          "height": 846
        }
      },
      "source": [
        "# 訓練及修正 model 參數\n",
        "# Blas GEMM launch failed , 避免動態分配 GPU / CPU, 出現問題\n",
        "import tensorflow as tf\n",
        "gpu_options = tf.GPUOptions( per_process_gpu_memory_fraction = 0.333 )\n",
        "sess = tf.Session( config = tf.ConfigProto( gpu_options = gpu_options ) )\n",
        "\n",
        "\n",
        "history_1 = model.fit( X_train, \n",
        "                       Y_train,\n",
        "                       validation_split = 0.3, \n",
        "                       batch_size = batch_size_1, \n",
        "                       epochs = epochs_1, \n",
        "                       shuffle = True,   # 是否把數據隨機打亂後再進行訓練\n",
        "                       verbose = 2\n",
        "                       )"
      ],
      "execution_count": 6,
      "outputs": [
        {
          "output_type": "stream",
          "text": [
            "W0713 02:26:05.579971 139622188849024 deprecation.py:323] From /usr/local/lib/python3.6/dist-packages/tensorflow/python/ops/math_grad.py:1250: add_dispatch_support.<locals>.wrapper (from tensorflow.python.ops.array_ops) is deprecated and will be removed in a future version.\n",
            "Instructions for updating:\n",
            "Use tf.where in 2.0, which has the same broadcast rule as np.where\n",
            "W0713 02:26:05.648130 139622188849024 deprecation_wrapper.py:119] From /usr/local/lib/python3.6/dist-packages/keras/backend/tensorflow_backend.py:986: The name tf.assign_add is deprecated. Please use tf.compat.v1.assign_add instead.\n",
            "\n"
          ],
          "name": "stderr"
        },
        {
          "output_type": "stream",
          "text": [
            "Train on 42000 samples, validate on 18000 samples\n",
            "Epoch 1/20\n",
            " - 5s - loss: 0.6174 - acc: 0.8299 - val_loss: 0.2383 - val_acc: 0.9300\n",
            "Epoch 2/20\n",
            " - 4s - loss: 0.1855 - acc: 0.9450 - val_loss: 0.1549 - val_acc: 0.9547\n",
            "Epoch 3/20\n",
            " - 4s - loss: 0.1209 - acc: 0.9641 - val_loss: 0.1445 - val_acc: 0.9567\n",
            "Epoch 4/20\n",
            " - 4s - loss: 0.0924 - acc: 0.9724 - val_loss: 0.1178 - val_acc: 0.9646\n",
            "Epoch 5/20\n",
            " - 4s - loss: 0.0599 - acc: 0.9822 - val_loss: 0.1036 - val_acc: 0.9697\n",
            "Epoch 6/20\n",
            " - 4s - loss: 0.0427 - acc: 0.9876 - val_loss: 0.1075 - val_acc: 0.9682\n",
            "Epoch 7/20\n",
            " - 4s - loss: 0.0306 - acc: 0.9914 - val_loss: 0.0970 - val_acc: 0.9728\n",
            "Epoch 8/20\n",
            " - 4s - loss: 0.0201 - acc: 0.9948 - val_loss: 0.3058 - val_acc: 0.9216\n",
            "Epoch 9/20\n",
            " - 4s - loss: 0.0577 - acc: 0.9816 - val_loss: 0.0941 - val_acc: 0.9732\n",
            "Epoch 10/20\n",
            " - 4s - loss: 0.0233 - acc: 0.9932 - val_loss: 0.1017 - val_acc: 0.9738\n",
            "Epoch 11/20\n",
            " - 4s - loss: 0.0115 - acc: 0.9969 - val_loss: 0.1040 - val_acc: 0.9742\n",
            "Epoch 12/20\n",
            " - 4s - loss: 0.0062 - acc: 0.9986 - val_loss: 0.1010 - val_acc: 0.9768\n",
            "Epoch 13/20\n",
            " - 4s - loss: 0.0057 - acc: 0.9985 - val_loss: 0.1176 - val_acc: 0.9738\n",
            "Epoch 14/20\n",
            " - 4s - loss: 0.0129 - acc: 0.9959 - val_loss: 0.1140 - val_acc: 0.9732\n",
            "Epoch 15/20\n",
            " - 4s - loss: 0.0172 - acc: 0.9948 - val_loss: 0.1112 - val_acc: 0.9734\n",
            "Epoch 16/20\n",
            " - 4s - loss: 0.0066 - acc: 0.9983 - val_loss: 0.1119 - val_acc: 0.9759\n",
            "Epoch 17/20\n",
            " - 4s - loss: 0.0021 - acc: 0.9996 - val_loss: 0.1079 - val_acc: 0.9773\n",
            "Epoch 18/20\n",
            " - 4s - loss: 9.3494e-04 - acc: 1.0000 - val_loss: 0.1114 - val_acc: 0.9769\n",
            "Epoch 19/20\n",
            " - 4s - loss: 4.5514e-04 - acc: 1.0000 - val_loss: 0.1134 - val_acc: 0.9773\n",
            "Epoch 20/20\n",
            " - 4s - loss: 3.0927e-04 - acc: 1.0000 - val_loss: 0.1149 - val_acc: 0.9777\n"
          ],
          "name": "stdout"
        }
      ]
    },
    {
      "cell_type": "code",
      "metadata": {
        "id": "xBerCEQh-ec7",
        "colab_type": "code",
        "colab": {
          "base_uri": "https://localhost:8080/",
          "height": 105
        },
        "outputId": "6fd04c1b-1261-42ec-9a59-164dad737c6f"
      },
      "source": [
        "print ( \" test set \" )\n",
        "scores_1 = model.evaluate( X_test, Y_test, batch_size = 200, verbose = 0 )\n",
        "print ( \"\" )\n",
        "print ( \" The test loss is \", scores_1 )\n",
        "\n",
        "result_1 = model.predict( X_test, batch_size = 200, verbose = 0 )\n",
        "result_max_1 = numpy.argmax( result_1, axis = 1 )\n",
        "test_max_1 = numpy.argmax( Y_test, axis = 1 )\n",
        "\n",
        "result_bool_1 = numpy.equal( result_max_1, test_max_1 )\n",
        "true_num_1 = numpy.sum( result_bool_1 )\n",
        "print ( \"\" )\n",
        "print ( 'Accuracy of 1024 Batch Size and 20 Epochs = ' + str( true_num_1 / len( result_bool_1 ) ) ) "
      ],
      "execution_count": 7,
      "outputs": [
        {
          "output_type": "stream",
          "text": [
            " test set \n",
            "\n",
            " The test loss is  [0.09196837717116069, 0.9816000068187714]\n",
            "\n",
            "Accuracy of 1024 Batch Size and 20 Epochs = 0.9816\n"
          ],
          "name": "stdout"
        }
      ]
    },
    {
      "cell_type": "markdown",
      "metadata": {
        "id": "j0ja32te9d7F",
        "colab_type": "text"
      },
      "source": [
        "##### batch_size = 128 and epochs = 10"
      ]
    },
    {
      "cell_type": "code",
      "metadata": {
        "id": "JJvxDh-K9l2Z",
        "colab_type": "code",
        "colab": {}
      },
      "source": [
        "'''\n",
        "   宣告並設定\n",
        "   batch_size：對總的樣本數進行分組，每組包含的樣本數量\n",
        "   epochs ：訓練次數   \n",
        "''' \n",
        "\n",
        "batch_size_2 = 128  # 盡量設定 2 的冪次方，以有利 GPU 加速\n",
        "epochs_2 = 10"
      ],
      "execution_count": 0,
      "outputs": []
    },
    {
      "cell_type": "code",
      "metadata": {
        "id": "SV-O6l5W9tNz",
        "colab_type": "code",
        "colab": {
          "base_uri": "https://localhost:8080/",
          "height": 386
        },
        "outputId": "68efece8-6e83-4c2c-f27c-c1676ec0c643"
      },
      "source": [
        "# 訓練及修正 model 參數\n",
        "# Blas GEMM launch failed , 避免動態分配 GPU / CPU, 出現問題\n",
        "import tensorflow as tf\n",
        "gpu_options = tf.GPUOptions( per_process_gpu_memory_fraction = 0.333 )\n",
        "sess = tf.Session( config = tf.ConfigProto( gpu_options = gpu_options ) )\n",
        "\n",
        "\n",
        "history_2 = model.fit( X_train, \n",
        "                       Y_train,\n",
        "                       validation_split = 0.3, \n",
        "                       batch_size = batch_size_2, \n",
        "                       epochs = epochs_2, \n",
        "                       shuffle = True,   # 是否把數據隨機打亂後再進行訓練\n",
        "                       verbose = 2\n",
        "                       )"
      ],
      "execution_count": 9,
      "outputs": [
        {
          "output_type": "stream",
          "text": [
            "Train on 42000 samples, validate on 18000 samples\n",
            "Epoch 1/10\n",
            " - 8s - loss: 0.1000 - acc: 0.9699 - val_loss: 0.1064 - val_acc: 0.9693\n",
            "Epoch 2/10\n",
            " - 8s - loss: 0.0509 - acc: 0.9839 - val_loss: 0.1077 - val_acc: 0.9703\n",
            "Epoch 3/10\n",
            " - 8s - loss: 0.0348 - acc: 0.9886 - val_loss: 0.1106 - val_acc: 0.9718\n",
            "Epoch 4/10\n",
            " - 8s - loss: 0.0296 - acc: 0.9904 - val_loss: 0.1291 - val_acc: 0.9704\n",
            "Epoch 5/10\n",
            " - 7s - loss: 0.0216 - acc: 0.9932 - val_loss: 0.1140 - val_acc: 0.9753\n",
            "Epoch 6/10\n",
            " - 7s - loss: 0.0231 - acc: 0.9931 - val_loss: 0.1176 - val_acc: 0.9730\n",
            "Epoch 7/10\n",
            " - 8s - loss: 0.0185 - acc: 0.9941 - val_loss: 0.1298 - val_acc: 0.9713\n",
            "Epoch 8/10\n",
            " - 8s - loss: 0.0181 - acc: 0.9947 - val_loss: 0.1049 - val_acc: 0.9755\n",
            "Epoch 9/10\n",
            " - 8s - loss: 0.0113 - acc: 0.9968 - val_loss: 0.1211 - val_acc: 0.9745\n",
            "Epoch 10/10\n",
            " - 7s - loss: 0.0138 - acc: 0.9957 - val_loss: 0.1257 - val_acc: 0.9737\n"
          ],
          "name": "stdout"
        }
      ]
    },
    {
      "cell_type": "code",
      "metadata": {
        "id": "zvr5mxEE-ejb",
        "colab_type": "code",
        "colab": {
          "base_uri": "https://localhost:8080/",
          "height": 105
        },
        "outputId": "d8c3e204-df1f-4909-a8fc-5dad37ab766f"
      },
      "source": [
        "print ( \" test set \" )\n",
        "scores_2 = model.evaluate( X_test, Y_test, batch_size = 200, verbose = 0 )\n",
        "print ( \"\" )\n",
        "print ( \" The test loss is \", scores_2 )\n",
        "\n",
        "result_2 = model.predict( X_test, batch_size = 200, verbose = 0 )\n",
        "result_max_2 = numpy.argmax( result_2, axis = 1 )\n",
        "test_max_2 = numpy.argmax( Y_test, axis = 1 )\n",
        "\n",
        "result_bool_2 = numpy.equal( result_max_2, test_max_2 )\n",
        "true_num_2 = numpy.sum( result_bool_2 )\n",
        "print ( \"\" )\n",
        "print ( 'Accuracy of 128 Batch Size and 10 Epochs = ' + str( true_num_2 / len( result_bool_2 ) ) ) "
      ],
      "execution_count": 10,
      "outputs": [
        {
          "output_type": "stream",
          "text": [
            " test set \n",
            "\n",
            " The test loss is  [0.10516954673414147, 0.9775000047683716]\n",
            "\n",
            "Accuracy of 128 Batch Size and 10 Epochs = 0.9775\n"
          ],
          "name": "stdout"
        }
      ]
    },
    {
      "cell_type": "markdown",
      "metadata": {
        "id": "ztoX1eWp-Za2",
        "colab_type": "text"
      },
      "source": [
        "####  Loss Function and Accuracy "
      ]
    },
    {
      "cell_type": "code",
      "metadata": {
        "id": "r2FKUY72LeTU",
        "colab_type": "code",
        "outputId": "35d39018-b3f6-4d1f-d18e-1f583827b13c",
        "colab": {
          "base_uri": "https://localhost:8080/",
          "height": 641
        }
      },
      "source": [
        "import matplotlib.pyplot as plt\n",
        "\n",
        "%matplotlib inline\n",
        "\n",
        "# history = model.fit(x, y, validation_split=0.25, epochs=50, batch_size=16, verbose=1)\n",
        "\n",
        "# Plot training & validation accuracy values\n",
        "\n",
        "\n",
        "fig, axs = plt.subplots( 2, 2, figsize = ( 12, 10 ) )\n",
        "\n",
        "\n",
        "# Plot training & validation accuracy values\n",
        "plt.subplot( 2, 2, 1 )\n",
        "plt.plot( history_1.history['acc'])\n",
        "plt.plot( history_1.history['val_acc'])\n",
        "plt.title( 'Model accuracy' )\n",
        "plt.ylabel( 'Accuracy' )\n",
        "plt.xlabel( 'Epoch' )\n",
        "plt.legend( [ 'Train', 'Test' ], loc = 'upper left' )\n",
        "\n",
        "\n",
        "plt.subplot( 2, 2, 2 )\n",
        "plt.plot( history_2.history['acc'])\n",
        "plt.plot( history_2.history['val_acc'])\n",
        "plt.title( 'Model accuracy' )\n",
        "plt.ylabel( 'Accuracy' )\n",
        "plt.xlabel( 'Epoch' )\n",
        "plt.legend( [ 'Train', 'Test' ], loc = 'upper left' )\n",
        "\n",
        "\n",
        "# Plot training & validation loss values\n",
        "\n",
        "plt.subplot( 2, 2, 3 )\n",
        "plt.plot( history_1.history[ 'loss' ] )\n",
        "plt.plot( history_1.history[ 'val_loss' ] )\n",
        "plt.title( 'Model loss' )\n",
        "plt.ylabel( 'Loss' )\n",
        "plt.xlabel( 'Epoch' )\n",
        "plt.legend( [ 'Train', 'Test' ], loc='upper left')\n",
        "\n",
        "\n",
        "plt.subplot( 2, 2, 4 )\n",
        "plt.plot( history_2.history[ 'loss' ] )\n",
        "plt.plot( history_2.history[ 'val_loss' ] )\n",
        "plt.title( 'Model loss' )\n",
        "plt.ylabel( 'Loss' )\n",
        "plt.xlabel( 'Epoch' )\n",
        "plt.legend( [ 'Train', 'Test' ], loc='upper left')\n",
        "\n",
        "\n",
        "plt.show( )"
      ],
      "execution_count": 11,
      "outputs": [
        {
          "output_type": "display_data",
          "data": {
            "image/png": "[encoded data removed]",
            "text/plain": [
              "<Figure size 864x720 with 4 Axes>"
            ]
          },
          "metadata": {
            "tags": []
          }
        }
      ]
    },
    {
      "cell_type": "markdown",
      "metadata": {
        "id": "IEzIt6boFpLS",
        "colab_type": "text"
      },
      "source": [
        "### SGD"
      ]
    },
    {
      "cell_type": "code",
      "metadata": {
        "id": "EQwSGw1SFrtO",
        "colab_type": "code",
        "colab": {
          "base_uri": "https://localhost:8080/",
          "height": 474
        },
        "outputId": "16956720-7105-4ea5-894a-342e071fe040"
      },
      "source": [
        "'''\n",
        "SGD(隨機梯度下降) - Arguments\n",
        "lr: float >= 0. Learning rate.\n",
        "momentum: float >= 0. Parameter that accelerates SGD in the relevant direction and dampens oscillations.\n",
        "decay: float >= 0. Learning rate decay over each update.\n",
        "nesterov: boolean. Whether to apply Nesterov momentum.\n",
        "'''\n",
        "\n",
        "SGD = optimizers.SGD( lr = 0.001 )\n",
        "\n",
        "model.compile( optimizer = SGD, \n",
        "               loss = 'categorical_crossentropy', \n",
        "               metrics = ['accuracy'] \n",
        "               )\n",
        "\n",
        "history_3 = model.fit( X_train, \n",
        "                       Y_train,\n",
        "                       validation_split = 0.3, \n",
        "                       batch_size = 128, \n",
        "                       epochs = 10, \n",
        "                       shuffle = True,   # 是否把數據隨機打亂後再進行訓練\n",
        "                       verbose = 2\n",
        "                       )\n",
        "\n",
        "print ( \" test set \" )\n",
        "scores_3 = model.evaluate( X_test, Y_test, batch_size = 200, verbose = 0 )\n",
        "print ( \"\" )\n",
        "print ( \" The test loss is \", scores_3 )\n",
        "\n",
        "result_3 = model.predict( X_test, batch_size = 200, verbose = 0 )\n",
        "result_max_3 = numpy.argmax( result_3, axis = 1 )\n",
        "test_max_3 = numpy.argmax( Y_test, axis = 1 )\n",
        "\n",
        "result_bool_3 = numpy.equal( result_max_3, test_max_3 )\n",
        "true_num_3 = numpy.sum( result_bool_3 )\n",
        "print ( \"\" )\n",
        "print ( 'Accuracy of SGD with 128 Batch Size and 10 Epochs = ' + str( true_num_3 / len( result_bool_3 ) ) ) "
      ],
      "execution_count": 12,
      "outputs": [
        {
          "output_type": "stream",
          "text": [
            "Train on 42000 samples, validate on 18000 samples\n",
            "Epoch 1/10\n",
            " - 6s - loss: 0.0105 - acc: 0.9969 - val_loss: 0.1244 - val_acc: 0.9743\n",
            "Epoch 2/10\n",
            " - 6s - loss: 0.0097 - acc: 0.9971 - val_loss: 0.1235 - val_acc: 0.9744\n",
            "Epoch 3/10\n",
            " - 6s - loss: 0.0090 - acc: 0.9972 - val_loss: 0.1227 - val_acc: 0.9745\n",
            "Epoch 4/10\n",
            " - 6s - loss: 0.0085 - acc: 0.9974 - val_loss: 0.1220 - val_acc: 0.9745\n",
            "Epoch 5/10\n",
            " - 6s - loss: 0.0080 - acc: 0.9975 - val_loss: 0.1214 - val_acc: 0.9747\n",
            "Epoch 6/10\n",
            " - 6s - loss: 0.0076 - acc: 0.9976 - val_loss: 0.1209 - val_acc: 0.9748\n",
            "Epoch 7/10\n",
            " - 6s - loss: 0.0072 - acc: 0.9977 - val_loss: 0.1204 - val_acc: 0.9747\n",
            "Epoch 8/10\n",
            " - 6s - loss: 0.0069 - acc: 0.9978 - val_loss: 0.1200 - val_acc: 0.9748\n",
            "Epoch 9/10\n",
            " - 6s - loss: 0.0066 - acc: 0.9979 - val_loss: 0.1196 - val_acc: 0.9749\n",
            "Epoch 10/10\n",
            " - 6s - loss: 0.0063 - acc: 0.9979 - val_loss: 0.1192 - val_acc: 0.9750\n",
            " test set \n",
            "\n",
            " The test loss is  [0.09660670360857694, 0.979900004863739]\n",
            "\n",
            "Accuracy of SGD with 128 Batch Size and 10 Epochs = 0.9799\n"
          ],
          "name": "stdout"
        }
      ]
    },
    {
      "cell_type": "markdown",
      "metadata": {
        "id": "9zYAmhuUHFZJ",
        "colab_type": "text"
      },
      "source": [
        "### RMSprop"
      ]
    },
    {
      "cell_type": "code",
      "metadata": {
        "id": "gSzhwdu8HFuZ",
        "colab_type": "code",
        "colab": {
          "base_uri": "https://localhost:8080/",
          "height": 474
        },
        "outputId": "4f0759f9-2eb6-497b-944c-3c8e2db1e425"
      },
      "source": [
        "'''\n",
        "RMSprop- Arguments\n",
        "lr: float >= 0. Learning rate.\n",
        "rho: float >= 0.\n",
        "epsilon: float >= 0. Fuzz factor. If None, defaults to K.epsilon().\n",
        "decay: float >= 0. Learning rate decay over each update.\n",
        "'''\n",
        "\n",
        "RMSprop = optimizers.RMSprop( lr = 0.001 )\n",
        "\n",
        "model.compile( optimizer = RMSprop, \n",
        "               loss = 'categorical_crossentropy', \n",
        "               metrics = ['accuracy'] \n",
        "               )\n",
        "\n",
        "history_4 = model.fit( X_train, \n",
        "                       Y_train,\n",
        "                       validation_split = 0.3, \n",
        "                       batch_size = 128, \n",
        "                       epochs = 10, \n",
        "                       shuffle = True,   # 是否把數據隨機打亂後再進行訓練\n",
        "                       verbose = 2\n",
        "                       )\n",
        "\n",
        "print ( \" test set \" )\n",
        "scores_4 = model.evaluate( X_test, Y_test, batch_size = 200, verbose = 0 )\n",
        "print ( \"\" )\n",
        "print ( \" The test loss is \", scores_4 )\n",
        "\n",
        "result_4 = model.predict( X_test, batch_size = 200, verbose = 0 )\n",
        "result_max_4 = numpy.argmax( result_4, axis = 1 )\n",
        "test_max_4 = numpy.argmax( Y_test, axis = 1 )\n",
        "\n",
        "result_bool_4 = numpy.equal( result_max_4, test_max_4 )\n",
        "true_num_4 = numpy.sum( result_bool_4 )\n",
        "print ( \"\" )\n",
        "print ( 'Accuracy of RMSprop with 128 Batch Size and 10 Epochs = ' + str( true_num_4 / len( result_bool_4 ) ) ) \n"
      ],
      "execution_count": 13,
      "outputs": [
        {
          "output_type": "stream",
          "text": [
            "Train on 42000 samples, validate on 18000 samples\n",
            "Epoch 1/10\n",
            " - 8s - loss: 0.0099 - acc: 0.9972 - val_loss: 0.1877 - val_acc: 0.9753\n",
            "Epoch 2/10\n",
            " - 7s - loss: 0.0089 - acc: 0.9981 - val_loss: 0.1807 - val_acc: 0.9767\n",
            "Epoch 3/10\n",
            " - 7s - loss: 0.0072 - acc: 0.9982 - val_loss: 0.1998 - val_acc: 0.9771\n",
            "Epoch 4/10\n",
            " - 7s - loss: 0.0069 - acc: 0.9983 - val_loss: 0.1901 - val_acc: 0.9767\n",
            "Epoch 5/10\n",
            " - 7s - loss: 0.0057 - acc: 0.9988 - val_loss: 0.2041 - val_acc: 0.9789\n",
            "Epoch 6/10\n",
            " - 7s - loss: 0.0072 - acc: 0.9986 - val_loss: 0.2162 - val_acc: 0.9779\n",
            "Epoch 7/10\n",
            " - 7s - loss: 0.0061 - acc: 0.9988 - val_loss: 0.2068 - val_acc: 0.9776\n",
            "Epoch 8/10\n",
            " - 7s - loss: 0.0075 - acc: 0.9986 - val_loss: 0.2373 - val_acc: 0.9749\n",
            "Epoch 9/10\n",
            " - 7s - loss: 0.0063 - acc: 0.9987 - val_loss: 0.2141 - val_acc: 0.9776\n",
            "Epoch 10/10\n",
            " - 7s - loss: 0.0072 - acc: 0.9988 - val_loss: 0.2329 - val_acc: 0.9762\n",
            " test set \n",
            "\n",
            " The test loss is  [0.18322305245929157, 0.9817000079154968]\n",
            "\n",
            "Accuracy of RMSprop with 128 Batch Size and 10 Epochs = 0.9817\n"
          ],
          "name": "stdout"
        }
      ]
    }
  ]
}