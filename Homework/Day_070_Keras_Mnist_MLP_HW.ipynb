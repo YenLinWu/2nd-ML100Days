{
  "nbformat": 4,
  "nbformat_minor": 0,
  "metadata": {
    "colab": {
      "name": "Day_070_Keras_Mnist_MLP_HW.ipynb",
      "version": "0.3.2",
      "provenance": [],
      "collapsed_sections": []
    },
    "language_info": {
      "codemirror_mode": {
        "name": "ipython",
        "version": 3
      },
      "file_extension": ".py",
      "mimetype": "text/x-python",
      "name": "python",
      "nbconvert_exporter": "python",
      "pygments_lexer": "ipython3",
      "version": "3.7.3"
    },
    "kernelspec": {
      "display_name": "Python 3",
      "language": "python",
      "name": "python3"
    },
    "accelerator": "GPU"
  },
  "cells": [
    {
      "cell_type": "markdown",
      "metadata": {
        "id": "Oizk0r-9s41Q",
        "colab_type": "text"
      },
      "source": [
        "# 作業目標:¶\n",
        "利用手寫辨識資料說明MLP 中, 神經網路層的多寡跟預測結果的差異"
      ]
    },
    {
      "cell_type": "markdown",
      "metadata": {
        "id": "_6G-KSx1s41S",
        "colab_type": "text"
      },
      "source": [
        "# 作業重點:\n",
        "[練習]請嘗試新增一層或兩層看看最後預測結果是否有差異\n",
        "model.add(Dense(units=256, input_dim=784, kernel_initializer='normal', activation='relu'))\n"
      ]
    },
    {
      "cell_type": "markdown",
      "metadata": {
        "colab_type": "text",
        "id": "zfI5zCjRPlnc"
      },
      "source": [
        "# 資料預處理"
      ]
    },
    {
      "cell_type": "code",
      "metadata": {
        "colab_type": "code",
        "id": "GyIQ7tpGPlnf",
        "outputId": "529b2aa8-db0a-41c3-f6f8-c675eeedf055",
        "colab": {
          "base_uri": "https://localhost:8080/",
          "height": 34
        }
      },
      "source": [
        "import numpy as np\n",
        "import pandas as pd  \n",
        "\n",
        "from keras.utils import np_utils\n",
        "\n",
        "import matplotlib.pyplot as plt\n",
        "#from keras.utils import plot_model\n",
        "#from IPython.display import Image\n",
        "    \n",
        "np.random.seed(10)"
      ],
      "execution_count": 1,
      "outputs": [
        {
          "output_type": "stream",
          "text": [
            "Using TensorFlow backend.\n"
          ],
          "name": "stderr"
        }
      ]
    },
    {
      "cell_type": "code",
      "metadata": {
        "colab_type": "code",
        "id": "OLzoKlJRPlno",
        "outputId": "9b89261e-1908-4b1b-94fc-fa2862434a28",
        "colab": {
          "base_uri": "https://localhost:8080/",
          "height": 52
        }
      },
      "source": [
        "#載入手寫辨識的資料集\n",
        "from keras.datasets import mnist\n",
        "\n",
        "( x_train_image, y_train_label ), ( x_test_image, y_test_label ) = mnist.load_data( )"
      ],
      "execution_count": 2,
      "outputs": [
        {
          "output_type": "stream",
          "text": [
            "Downloading data from https://s3.amazonaws.com/img-datasets/mnist.npz\n",
            "11493376/11490434 [==============================] - 2s 0us/step\n"
          ],
          "name": "stdout"
        }
      ]
    },
    {
      "cell_type": "code",
      "metadata": {
        "id": "nFAVz4vKs41c",
        "colab_type": "code",
        "colab": {
          "base_uri": "https://localhost:8080/",
          "height": 87
        },
        "outputId": "98c9b413-406a-4ade-ae63-ed859a7e6a88"
      },
      "source": [
        "# 訓練集及測試集資料的維度\n",
        "\n",
        "print( 'Shape of Train : ',  x_train_image.shape )\n",
        "print( 'Shape of Train Label : ',  y_train_label.shape )  \n",
        "print( 'Shape of Test : ',  x_test_image.shape )  \n",
        "print( 'Shape of Test Label : ',  y_test_label.shape )"
      ],
      "execution_count": 3,
      "outputs": [
        {
          "output_type": "stream",
          "text": [
            "Shape of Train :  (60000, 28, 28)\n",
            "Shape of Train Label :  (60000,)\n",
            "Shape of Test :  (10000, 28, 28)\n",
            "Shape of Test Label :  (10000,)\n"
          ],
          "name": "stdout"
        }
      ]
    },
    {
      "cell_type": "code",
      "metadata": {
        "colab_type": "code",
        "id": "QEuQwa4nPlnu",
        "colab": {
          "base_uri": "https://localhost:8080/",
          "height": 52
        },
        "outputId": "284ab848-816f-471f-ebf7-ea30f3ce16b7"
      },
      "source": [
        "#指定測試集與訓練資料集\n",
        "x_Train = x_train_image.reshape( 60000, 784 ).astype( 'float32' )  # 784 = 28 * 28\n",
        "x_Test =x_test_image.reshape( 10000, 784 ).astype( 'float32' )\n",
        "\n",
        "print( 'Shape of Train : ',  x_Train.shape )\n",
        "print( 'Shape of Train : ',  x_Test.shape )"
      ],
      "execution_count": 4,
      "outputs": [
        {
          "output_type": "stream",
          "text": [
            "Shape of Train :  (60000, 784)\n",
            "Shape of Train :  (10000, 784)\n"
          ],
          "name": "stdout"
        }
      ]
    },
    {
      "cell_type": "code",
      "metadata": {
        "colab_type": "code",
        "id": "YisRq-SxPln0",
        "colab": {}
      },
      "source": [
        "# normalize inputs from 0-255 to 0-1\n",
        "x_Train_normalize = x_Train / 255\n",
        "x_Test_normalize = x_Test / 255"
      ],
      "execution_count": 0,
      "outputs": []
    },
    {
      "cell_type": "code",
      "metadata": {
        "colab_type": "code",
        "id": "AHtfmzpfPln4",
        "colab": {}
      },
      "source": [
        "# OneHot Encoding : 把LABEL 轉成 NUMERICAL Categorical \n",
        "y_Train_OneHot = np_utils.to_categorical( y_train_label ) \n",
        "y_Test_OneHot = np_utils.to_categorical( y_test_label )"
      ],
      "execution_count": 0,
      "outputs": []
    },
    {
      "cell_type": "markdown",
      "metadata": {
        "colab_type": "text",
        "id": "0s8PjvqJPln7"
      },
      "source": [
        "# 建立模型"
      ]
    },
    {
      "cell_type": "code",
      "metadata": {
        "colab_type": "code",
        "id": "N10v1eX2Pln8",
        "colab": {}
      },
      "source": [
        "from keras.models import Sequential\n",
        "from keras.layers import Dense"
      ],
      "execution_count": 0,
      "outputs": []
    },
    {
      "cell_type": "code",
      "metadata": {
        "colab_type": "code",
        "id": "jmaxrsXwPln-",
        "colab": {
          "base_uri": "https://localhost:8080/",
          "height": 160
        },
        "outputId": "31bf5622-1820-493c-ce6b-0727636916a2"
      },
      "source": [
        "#建立模型\n",
        "model = Sequential( )\n",
        "\n",
        "# 輸入層\n",
        "model.add( Dense( units = 256,                        # 神經元數量\n",
        "                         #input_dim = 784,  \n",
        "                           input_shape = ( 784, ), \n",
        "                           kernel_initializer = 'normal',   # 初始化權重的方法\n",
        "                           activation = 'relu', \n",
        "                           name = 'Input_layer'\n",
        "                           ) )\n",
        "\n",
        "# 隱藏層\n",
        "model.add( Dense( 128, kernel_initializer = 'normal', activation = 'relu', name = 'Hidden_1' ) )    # 建立有 128 個神經元的隱藏層\n",
        "model.add( Dense( 64, kernel_initializer = 'normal', activation = 'tanh', name = 'Hidden_2' ) )     # 建立有 64 個神經元的隱藏層\n",
        "\n",
        "# 輸出層\n",
        "model.add( Dense( units = 10,                           # 神經元數量\n",
        "                           kernel_initializer = 'normal',    # 初始化權重的方法\n",
        "                           activation = 'softmax', \n",
        "                           name = 'Output_Layer'\n",
        "                           ) )\n"
      ],
      "execution_count": 8,
      "outputs": [
        {
          "output_type": "stream",
          "text": [
            "WARNING: Logging before flag parsing goes to stderr.\n",
            "W0707 09:29:48.067828 139954764208000 deprecation_wrapper.py:119] From /usr/local/lib/python3.6/dist-packages/keras/backend/tensorflow_backend.py:74: The name tf.get_default_graph is deprecated. Please use tf.compat.v1.get_default_graph instead.\n",
            "\n",
            "W0707 09:29:48.105696 139954764208000 deprecation_wrapper.py:119] From /usr/local/lib/python3.6/dist-packages/keras/backend/tensorflow_backend.py:517: The name tf.placeholder is deprecated. Please use tf.compat.v1.placeholder instead.\n",
            "\n",
            "W0707 09:29:48.117280 139954764208000 deprecation_wrapper.py:119] From /usr/local/lib/python3.6/dist-packages/keras/backend/tensorflow_backend.py:4115: The name tf.random_normal is deprecated. Please use tf.random.normal instead.\n",
            "\n"
          ],
          "name": "stderr"
        }
      ]
    },
    {
      "cell_type": "code",
      "metadata": {
        "id": "WC22wx2Es41v",
        "colab_type": "code",
        "colab": {
          "base_uri": "https://localhost:8080/",
          "height": 298
        },
        "outputId": "43a479be-21a8-4b51-a0e0-3ec4df543351"
      },
      "source": [
        "print( model.summary( ) )"
      ],
      "execution_count": 9,
      "outputs": [
        {
          "output_type": "stream",
          "text": [
            "_________________________________________________________________\n",
            "Layer (type)                 Output Shape              Param #   \n",
            "=================================================================\n",
            "Input_layer (Dense)          (None, 256)               200960    \n",
            "_________________________________________________________________\n",
            "Hidden_1 (Dense)             (None, 128)               32896     \n",
            "_________________________________________________________________\n",
            "Hidden_2 (Dense)             (None, 64)                8256      \n",
            "_________________________________________________________________\n",
            "Output_Layer (Dense)         (None, 10)                650       \n",
            "=================================================================\n",
            "Total params: 242,762\n",
            "Trainable params: 242,762\n",
            "Non-trainable params: 0\n",
            "_________________________________________________________________\n",
            "None\n"
          ],
          "name": "stdout"
        }
      ]
    },
    {
      "cell_type": "code",
      "metadata": {
        "id": "xjV6Zhxvs41z",
        "colab_type": "code",
        "colab": {}
      },
      "source": [
        "# 模型網絡的流程圖  \n",
        "\n",
        "#plot_model( model, to_file = 'Model.png' )\n",
        "#Image( 'Model.png' )"
      ],
      "execution_count": 0,
      "outputs": []
    },
    {
      "cell_type": "markdown",
      "metadata": {
        "colab_type": "text",
        "id": "jdoAZgv1PloK"
      },
      "source": [
        "# 訓練模型"
      ]
    },
    {
      "cell_type": "code",
      "metadata": {
        "colab_type": "code",
        "id": "5d5wrEL3PloK",
        "colab": {
          "base_uri": "https://localhost:8080/",
          "height": 107
        },
        "outputId": "77fd946a-dcf4-44c6-8564-a1d7b3b64b0b"
      },
      "source": [
        "model.compile( loss = 'categorical_crossentropy',  # 損失函數(Loss Function)\n",
        "               optimizer = 'adam',                 # 最佳化的演算法\n",
        "               metrics = [ 'accuracy' ]            # 模型成效的評量指標\n",
        "               )"
      ],
      "execution_count": 10,
      "outputs": [
        {
          "output_type": "stream",
          "text": [
            "W0707 09:30:19.011317 139954764208000 deprecation_wrapper.py:119] From /usr/local/lib/python3.6/dist-packages/keras/optimizers.py:790: The name tf.train.Optimizer is deprecated. Please use tf.compat.v1.train.Optimizer instead.\n",
            "\n",
            "W0707 09:30:19.045035 139954764208000 deprecation_wrapper.py:119] From /usr/local/lib/python3.6/dist-packages/keras/backend/tensorflow_backend.py:3295: The name tf.log is deprecated. Please use tf.math.log instead.\n",
            "\n"
          ],
          "name": "stderr"
        }
      ]
    },
    {
      "cell_type": "code",
      "metadata": {
        "colab_type": "code",
        "id": "VlpjoqQ9PloM",
        "outputId": "91e4a2b7-1dd8-4734-a08e-0ec04cf95690",
        "colab": {
          "base_uri": "https://localhost:8080/",
          "height": 494
        }
      },
      "source": [
        "train_history = model.fit( x = x_Train_normalize,\n",
        "                           y = y_Train_OneHot, \n",
        "                           validation_split = 0.2,   # 驗證集佔訓練集的比例\n",
        "                           epochs = 10,              # 模擬次數\n",
        "                           batch_size = 20,          # 每批次的資料筆數\n",
        "                           verbose = 1               # 顯示模型訓練進度 \n",
        "                           )"
      ],
      "execution_count": 11,
      "outputs": [
        {
          "output_type": "stream",
          "text": [
            "W0707 09:30:43.176074 139954764208000 deprecation.py:323] From /usr/local/lib/python3.6/dist-packages/tensorflow/python/ops/math_grad.py:1250: add_dispatch_support.<locals>.wrapper (from tensorflow.python.ops.array_ops) is deprecated and will be removed in a future version.\n",
            "Instructions for updating:\n",
            "Use tf.where in 2.0, which has the same broadcast rule as np.where\n",
            "W0707 09:30:43.229553 139954764208000 deprecation_wrapper.py:119] From /usr/local/lib/python3.6/dist-packages/keras/backend/tensorflow_backend.py:986: The name tf.assign_add is deprecated. Please use tf.compat.v1.assign_add instead.\n",
            "\n"
          ],
          "name": "stderr"
        },
        {
          "output_type": "stream",
          "text": [
            "Train on 48000 samples, validate on 12000 samples\n",
            "Epoch 1/10\n",
            "48000/48000 [==============================] - 13s 262us/step - loss: 0.2474 - acc: 0.9284 - val_loss: 0.1089 - val_acc: 0.9672\n",
            "Epoch 2/10\n",
            "48000/48000 [==============================] - 9s 183us/step - loss: 0.0974 - acc: 0.9705 - val_loss: 0.1085 - val_acc: 0.9702\n",
            "Epoch 3/10\n",
            "48000/48000 [==============================] - 9s 180us/step - loss: 0.0705 - acc: 0.9784 - val_loss: 0.0855 - val_acc: 0.9740\n",
            "Epoch 4/10\n",
            "48000/48000 [==============================] - 9s 182us/step - loss: 0.0527 - acc: 0.9837 - val_loss: 0.1054 - val_acc: 0.9711\n",
            "Epoch 5/10\n",
            "48000/48000 [==============================] - 9s 181us/step - loss: 0.0405 - acc: 0.9873 - val_loss: 0.0979 - val_acc: 0.9737\n",
            "Epoch 6/10\n",
            "48000/48000 [==============================] - 9s 180us/step - loss: 0.0360 - acc: 0.9885 - val_loss: 0.0914 - val_acc: 0.9767\n",
            "Epoch 7/10\n",
            "48000/48000 [==============================] - 9s 181us/step - loss: 0.0301 - acc: 0.9905 - val_loss: 0.1013 - val_acc: 0.9722\n",
            "Epoch 8/10\n",
            "48000/48000 [==============================] - 9s 179us/step - loss: 0.0256 - acc: 0.9922 - val_loss: 0.0948 - val_acc: 0.9767\n",
            "Epoch 9/10\n",
            "48000/48000 [==============================] - 9s 180us/step - loss: 0.0230 - acc: 0.9928 - val_loss: 0.0955 - val_acc: 0.9760\n",
            "Epoch 10/10\n",
            "48000/48000 [==============================] - 9s 180us/step - loss: 0.0208 - acc: 0.9934 - val_loss: 0.1139 - val_acc: 0.9740\n"
          ],
          "name": "stdout"
        }
      ]
    },
    {
      "cell_type": "markdown",
      "metadata": {
        "colab_type": "text",
        "id": "pV1Ftdb0PloP"
      },
      "source": [
        "# 以圖形顯示訓練過程"
      ]
    },
    {
      "cell_type": "code",
      "metadata": {
        "colab_type": "code",
        "id": "EEmuoa1dPloQ",
        "colab": {}
      },
      "source": [
        "def show_train_history( train_history ) : \n",
        "        fig = plt.gcf( )\n",
        "        fig.set_size_inches( 12, 5 )\n",
        "        \n",
        "        plt.subplot( 121 )\n",
        "        plt.plot( train_history.history[ 'acc' ] )\n",
        "        plt.plot( train_history.history[ 'val_acc' ] )\n",
        "        plt.title( 'Train History' )\n",
        "        plt.xlabel( 'Epoch' )\n",
        "        plt.ylabel( 'Accuracy' )\n",
        "        plt.legend( [ 'train', 'validation' ], loc = 'upper left' )\n",
        "        \n",
        "        plt.subplot( 122 )\n",
        "        plt.plot( train_history.history[ 'loss' ] )\n",
        "        plt.plot( train_history.history[ 'val_loss' ] )\n",
        "        plt.title( 'Train History' )\n",
        "        plt.xlabel( 'Epoch' )\n",
        "        plt.ylabel( 'Loss' )\n",
        "        plt.legend( [ 'train', 'validation' ], loc = 'upper left' )\n",
        "        \n",
        "        plt.show( )"
      ],
      "execution_count": 0,
      "outputs": []
    },
    {
      "cell_type": "code",
      "metadata": {
        "colab_type": "code",
        "id": "fvE2WsejPloT",
        "outputId": "edf3dd66-2761-4a1a-d175-1c725588c8ed",
        "colab": {
          "base_uri": "https://localhost:8080/",
          "height": 350
        }
      },
      "source": [
        "show_train_history( train_history )"
      ],
      "execution_count": 14,
      "outputs": [
        {
          "output_type": "display_data",
          "data": {
            "image/png": "[encoded data removed]",
            "text/plain": [
              "<Figure size 864x360 with 2 Axes>"
            ]
          },
          "metadata": {
            "tags": []
          }
        }
      ]
    },
    {
      "cell_type": "markdown",
      "metadata": {
        "colab_type": "text",
        "id": "h1z2y0g-PloZ"
      },
      "source": [
        "# 評估模型準確率"
      ]
    },
    {
      "cell_type": "code",
      "metadata": {
        "colab_type": "code",
        "id": "vMawurJqPloZ",
        "outputId": "471360d1-ebfc-42d9-c69c-99ec6026998f",
        "colab": {
          "base_uri": "https://localhost:8080/",
          "height": 52
        }
      },
      "source": [
        "scores = model.evaluate( x_Test_normalize, y_Test_OneHot )\n",
        "\n",
        "print( 'accuracy = ', scores[1] )"
      ],
      "execution_count": 15,
      "outputs": [
        {
          "output_type": "stream",
          "text": [
            "10000/10000 [==============================] - 0s 38us/step\n",
            "accuracy =  0.9716\n"
          ],
          "name": "stdout"
        }
      ]
    },
    {
      "cell_type": "markdown",
      "metadata": {
        "id": "-MI9139hs42O",
        "colab_type": "text"
      },
      "source": [
        "# 測試集進行預測"
      ]
    },
    {
      "cell_type": "code",
      "metadata": {
        "id": "wRNXB2e7s42P",
        "colab_type": "code",
        "colab": {}
      },
      "source": [
        "prediction = model.predict_classes( x_Test_normalize ) "
      ],
      "execution_count": 0,
      "outputs": []
    },
    {
      "cell_type": "code",
      "metadata": {
        "id": "na6AoFD9s42T",
        "colab_type": "code",
        "colab": {
          "base_uri": "https://localhost:8080/",
          "height": 373
        },
        "outputId": "7c18c03b-bfe5-45d0-b747-d0479961a228"
      },
      "source": [
        "# 混淆矩陣\n",
        "\n",
        "pd.crosstab( y_test_label, prediction, rownames = [ 'label' ], colnames = [ 'predict' ] )"
      ],
      "execution_count": 17,
      "outputs": [
        {
          "output_type": "execute_result",
          "data": {
            "text/html": [
              "<div>\n",
              "<style scoped>\n",
              "    .dataframe tbody tr th:only-of-type {\n",
              "        vertical-align: middle;\n",
              "    }\n",
              "\n",
              "    .dataframe tbody tr th {\n",
              "        vertical-align: top;\n",
              "    }\n",
              "\n",
              "    .dataframe thead th {\n",
              "        text-align: right;\n",
              "    }\n",
              "</style>\n",
              "<table border=\"1\" class=\"dataframe\">\n",
              "  <thead>\n",
              "    <tr style=\"text-align: right;\">\n",
              "      <th>predict</th>\n",
              "      <th>0</th>\n",
              "      <th>1</th>\n",
              "      <th>2</th>\n",
              "      <th>3</th>\n",
              "      <th>4</th>\n",
              "      <th>5</th>\n",
              "      <th>6</th>\n",
              "      <th>7</th>\n",
              "      <th>8</th>\n",
              "      <th>9</th>\n",
              "    </tr>\n",
              "    <tr>\n",
              "      <th>label</th>\n",
              "      <th></th>\n",
              "      <th></th>\n",
              "      <th></th>\n",
              "      <th></th>\n",
              "      <th></th>\n",
              "      <th></th>\n",
              "      <th></th>\n",
              "      <th></th>\n",
              "      <th></th>\n",
              "      <th></th>\n",
              "    </tr>\n",
              "  </thead>\n",
              "  <tbody>\n",
              "    <tr>\n",
              "      <th>0</th>\n",
              "      <td>972</td>\n",
              "      <td>0</td>\n",
              "      <td>0</td>\n",
              "      <td>0</td>\n",
              "      <td>0</td>\n",
              "      <td>0</td>\n",
              "      <td>4</td>\n",
              "      <td>0</td>\n",
              "      <td>3</td>\n",
              "      <td>1</td>\n",
              "    </tr>\n",
              "    <tr>\n",
              "      <th>1</th>\n",
              "      <td>0</td>\n",
              "      <td>1094</td>\n",
              "      <td>0</td>\n",
              "      <td>3</td>\n",
              "      <td>0</td>\n",
              "      <td>3</td>\n",
              "      <td>3</td>\n",
              "      <td>0</td>\n",
              "      <td>32</td>\n",
              "      <td>0</td>\n",
              "    </tr>\n",
              "    <tr>\n",
              "      <th>2</th>\n",
              "      <td>5</td>\n",
              "      <td>5</td>\n",
              "      <td>976</td>\n",
              "      <td>25</td>\n",
              "      <td>1</td>\n",
              "      <td>0</td>\n",
              "      <td>2</td>\n",
              "      <td>2</td>\n",
              "      <td>16</td>\n",
              "      <td>0</td>\n",
              "    </tr>\n",
              "    <tr>\n",
              "      <th>3</th>\n",
              "      <td>0</td>\n",
              "      <td>0</td>\n",
              "      <td>0</td>\n",
              "      <td>992</td>\n",
              "      <td>0</td>\n",
              "      <td>4</td>\n",
              "      <td>0</td>\n",
              "      <td>2</td>\n",
              "      <td>5</td>\n",
              "      <td>7</td>\n",
              "    </tr>\n",
              "    <tr>\n",
              "      <th>4</th>\n",
              "      <td>3</td>\n",
              "      <td>0</td>\n",
              "      <td>2</td>\n",
              "      <td>0</td>\n",
              "      <td>958</td>\n",
              "      <td>1</td>\n",
              "      <td>6</td>\n",
              "      <td>3</td>\n",
              "      <td>4</td>\n",
              "      <td>5</td>\n",
              "    </tr>\n",
              "    <tr>\n",
              "      <th>5</th>\n",
              "      <td>7</td>\n",
              "      <td>0</td>\n",
              "      <td>0</td>\n",
              "      <td>8</td>\n",
              "      <td>1</td>\n",
              "      <td>867</td>\n",
              "      <td>2</td>\n",
              "      <td>0</td>\n",
              "      <td>6</td>\n",
              "      <td>1</td>\n",
              "    </tr>\n",
              "    <tr>\n",
              "      <th>6</th>\n",
              "      <td>1</td>\n",
              "      <td>1</td>\n",
              "      <td>1</td>\n",
              "      <td>1</td>\n",
              "      <td>1</td>\n",
              "      <td>8</td>\n",
              "      <td>942</td>\n",
              "      <td>0</td>\n",
              "      <td>3</td>\n",
              "      <td>0</td>\n",
              "    </tr>\n",
              "    <tr>\n",
              "      <th>7</th>\n",
              "      <td>3</td>\n",
              "      <td>0</td>\n",
              "      <td>10</td>\n",
              "      <td>7</td>\n",
              "      <td>1</td>\n",
              "      <td>0</td>\n",
              "      <td>0</td>\n",
              "      <td>992</td>\n",
              "      <td>6</td>\n",
              "      <td>9</td>\n",
              "    </tr>\n",
              "    <tr>\n",
              "      <th>8</th>\n",
              "      <td>1</td>\n",
              "      <td>0</td>\n",
              "      <td>1</td>\n",
              "      <td>3</td>\n",
              "      <td>1</td>\n",
              "      <td>3</td>\n",
              "      <td>0</td>\n",
              "      <td>1</td>\n",
              "      <td>961</td>\n",
              "      <td>3</td>\n",
              "    </tr>\n",
              "    <tr>\n",
              "      <th>9</th>\n",
              "      <td>9</td>\n",
              "      <td>2</td>\n",
              "      <td>0</td>\n",
              "      <td>7</td>\n",
              "      <td>14</td>\n",
              "      <td>4</td>\n",
              "      <td>0</td>\n",
              "      <td>3</td>\n",
              "      <td>8</td>\n",
              "      <td>962</td>\n",
              "    </tr>\n",
              "  </tbody>\n",
              "</table>\n",
              "</div>"
            ],
            "text/plain": [
              "predict    0     1    2    3    4    5    6    7    8    9\n",
              "label                                                     \n",
              "0        972     0    0    0    0    0    4    0    3    1\n",
              "1          0  1094    0    3    0    3    3    0   32    0\n",
              "2          5     5  976   25    1    0    2    2   16    0\n",
              "3          0     0    0  992    0    4    0    2    5    7\n",
              "4          3     0    2    0  958    1    6    3    4    5\n",
              "5          7     0    0    8    1  867    2    0    6    1\n",
              "6          1     1    1    1    1    8  942    0    3    0\n",
              "7          3     0   10    7    1    0    0  992    6    9\n",
              "8          1     0    1    3    1    3    0    1  961    3\n",
              "9          9     2    0    7   14    4    0    3    8  962"
            ]
          },
          "metadata": {
            "tags": []
          },
          "execution_count": 17
        }
      ]
    }
  ]
}