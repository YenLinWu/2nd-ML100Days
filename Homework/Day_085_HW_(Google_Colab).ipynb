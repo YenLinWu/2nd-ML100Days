{
  "nbformat": 4,
  "nbformat_minor": 0,
  "metadata": {
    "kernelspec": {
      "display_name": "Python 3",
      "language": "python",
      "name": "python3"
    },
    "language_info": {
      "codemirror_mode": {
        "name": "ipython",
        "version": 3
      },
      "file_extension": ".py",
      "mimetype": "text/x-python",
      "name": "python",
      "nbconvert_exporter": "python",
      "pygments_lexer": "ipython3",
      "version": "3.6.5"
    },
    "colab": {
      "name": "Day_085_HW.ipynb",
      "version": "0.3.2",
      "provenance": [],
      "collapsed_sections": [],
      "toc_visible": true
    }
  },
  "cells": [
    {
      "cell_type": "markdown",
      "metadata": {
        "id": "AEJ5tSFBY5V0",
        "colab_type": "text"
      },
      "source": [
        "## Work\n",
        "1. 試改變 monitor \"Validation Accuracy\" 並比較結果\n",
        "2. 調整 earlystop 的等待次數至 10, 25 並比較結果"
      ]
    },
    {
      "cell_type": "code",
      "metadata": {
        "id": "muyAguPXY5V4",
        "colab_type": "code",
        "colab": {
          "base_uri": "https://localhost:8080/",
          "height": 34
        },
        "outputId": "016665c7-4e22-40c3-8099-fd41d34361e4"
      },
      "source": [
        "import os\n",
        "import keras\n",
        "import itertools\n",
        "\n",
        "# 神經網絡正規化\n",
        "from keras.regularizers import l1, l2, l1_l2 \n",
        "# 神經網絡隨機拋棄、批次標準化、激活函數\n",
        "from keras.layers import Dropout, BatchNormalization, Activation \n",
        "# Early Stopping\n",
        "from keras.callbacks import EarlyStopping\n",
        "\n",
        "import matplotlib.pyplot as plt\n",
        "%matplotlib inline\n",
        "\n",
        "# Disable GPU\n",
        "# os.environ[\"CUDA_VISIBLE_DEVICES\"] = \"\""
      ],
      "execution_count": 1,
      "outputs": [
        {
          "output_type": "stream",
          "text": [
            "Using TensorFlow backend.\n"
          ],
          "name": "stderr"
        }
      ]
    },
    {
      "cell_type": "code",
      "metadata": {
        "id": "IHDdYBSZY5V7",
        "colab_type": "code",
        "colab": {
          "base_uri": "https://localhost:8080/",
          "height": 52
        },
        "outputId": "8ebf03ea-52aa-4275-dcb8-9a804387d336"
      },
      "source": [
        "train, test = keras.datasets.cifar10.load_data( )"
      ],
      "execution_count": 2,
      "outputs": [
        {
          "output_type": "stream",
          "text": [
            "Downloading data from https://www.cs.toronto.edu/~kriz/cifar-10-python.tar.gz\n",
            "170500096/170498071 [==============================] - 2s 0us/step\n"
          ],
          "name": "stdout"
        }
      ]
    },
    {
      "cell_type": "markdown",
      "metadata": {
        "id": "g26LtPa9cNhV",
        "colab_type": "text"
      },
      "source": [
        "# 資料前處理 - 標準化 及 獨熱編碼(OneHot Encoding)"
      ]
    },
    {
      "cell_type": "code",
      "metadata": {
        "id": "eCbvAYMqY5WA",
        "colab_type": "code",
        "colab": {}
      },
      "source": [
        "def preproc_x( x, flatten = True ) :\n",
        "    x = x / 255.\n",
        "    if flatten:\n",
        "        x = x.reshape( ( len(x), -1 ) )\n",
        "    return x\n",
        "\n",
        "def preproc_y( y, num_classes = 10 ) :\n",
        "    if y.shape[ -1 ] == 1:\n",
        "        y = keras.utils.to_categorical( y, num_classes )\n",
        "    return y"
      ],
      "execution_count": 0,
      "outputs": []
    },
    {
      "cell_type": "code",
      "metadata": {
        "id": "6HT3JxpLY5WD",
        "colab_type": "code",
        "colab": {}
      },
      "source": [
        "x_train, y_train = train\n",
        "x_test, y_test = test\n",
        "\n",
        "# 資料前處理 - X 標準化\n",
        "x_train = preproc_x(x_train)\n",
        "x_test = preproc_x(x_test)\n",
        "\n",
        "# 資料前處理 - Y 轉成 onehot\n",
        "y_train = preproc_y(y_train)\n",
        "y_test = preproc_y(y_test)"
      ],
      "execution_count": 0,
      "outputs": []
    },
    {
      "cell_type": "markdown",
      "metadata": {
        "id": "UWBsz-wscWFo",
        "colab_type": "text"
      },
      "source": [
        "# 建立神經網絡模型"
      ]
    },
    {
      "cell_type": "code",
      "metadata": {
        "id": "lubzuTf7Y5WH",
        "colab_type": "code",
        "colab": {
          "base_uri": "https://localhost:8080/",
          "height": 706
        },
        "outputId": "76da5530-159c-4bff-a9db-9197642f7ef7"
      },
      "source": [
        "def build_mlp( input_shape, output_units = 10, num_neurons = [ 512, 256, 128 ], pre_activate = False ) : \n",
        "    \n",
        "    input_layer = keras.layers.Input( input_shape )\n",
        "    \n",
        "    for i, n_units in enumerate( num_neurons ) : \n",
        "        if i == 0 :\n",
        "            x = keras.layers.Dense( units = n_units, \n",
        "                                    activation = \"relu\", \n",
        "                                    name = \"Hidden_Layer_\" + str( i+1 ) )( input_layer )  \n",
        "            \n",
        "            if pre_activate :\n",
        "                x = BatchNormalization( name = \"BN_Layer_\" + str( i+1 ) )( x )\n",
        "                x = Activation( 'relu' )( x )\n",
        "            else :\n",
        "                x = Activation( 'relu' )( x )\n",
        "                x = BatchNormalization( name = \"BN_Layer_\" + str( i+1 ) )( x )\n",
        "            \n",
        "            \n",
        "            \n",
        "        else :\n",
        "            x = keras.layers.Dense( units = n_units, \n",
        "                                    activation = \"relu\",  \n",
        "                                    name = \"Hidden_Layer_\" + str( i+1 ) )( x )  \n",
        "            \n",
        "            if pre_activate :\n",
        "                # Batch Normalization Layer 在 Activation Function 前加入\n",
        "                x = BatchNormalization( name = \"BN_Layer_\" + str( i+1 ) )( x )\n",
        "                x = Activation( 'relu' )( x )\n",
        "            else :\n",
        "                x = Activation( 'relu' )( x )\n",
        "                x = BatchNormalization( name = \"BN_Layer_\" + str( i+1 ) )( x )\n",
        "                          \n",
        "              \n",
        "    output_layer = keras.layers.Dense( units = output_units, \n",
        "                                       activation = 'softmax', \n",
        "                                       name = 'Output_Layer' )( x )\n",
        "    \n",
        "    model = keras.models.Model( inputs = [ input_layer ], outputs = [ output_layer ] )\n",
        "    return model\n",
        "\n",
        "model = build_mlp( input_shape = x_train.shape[ 1: ] ) \n",
        "model.summary( )  "
      ],
      "execution_count": 5,
      "outputs": [
        {
          "output_type": "stream",
          "text": [
            "WARNING: Logging before flag parsing goes to stderr.\n",
            "W0721 17:21:26.762495 139851831326592 deprecation_wrapper.py:119] From /usr/local/lib/python3.6/dist-packages/keras/backend/tensorflow_backend.py:74: The name tf.get_default_graph is deprecated. Please use tf.compat.v1.get_default_graph instead.\n",
            "\n",
            "W0721 17:21:26.805312 139851831326592 deprecation_wrapper.py:119] From /usr/local/lib/python3.6/dist-packages/keras/backend/tensorflow_backend.py:517: The name tf.placeholder is deprecated. Please use tf.compat.v1.placeholder instead.\n",
            "\n",
            "W0721 17:21:26.813455 139851831326592 deprecation_wrapper.py:119] From /usr/local/lib/python3.6/dist-packages/keras/backend/tensorflow_backend.py:4138: The name tf.random_uniform is deprecated. Please use tf.random.uniform instead.\n",
            "\n",
            "W0721 17:21:26.933853 139851831326592 deprecation_wrapper.py:119] From /usr/local/lib/python3.6/dist-packages/keras/backend/tensorflow_backend.py:133: The name tf.placeholder_with_default is deprecated. Please use tf.compat.v1.placeholder_with_default instead.\n",
            "\n"
          ],
          "name": "stderr"
        },
        {
          "output_type": "stream",
          "text": [
            "_________________________________________________________________\n",
            "Layer (type)                 Output Shape              Param #   \n",
            "=================================================================\n",
            "input_1 (InputLayer)         (None, 3072)              0         \n",
            "_________________________________________________________________\n",
            "Hidden_Layer_1 (Dense)       (None, 512)               1573376   \n",
            "_________________________________________________________________\n",
            "activation_1 (Activation)    (None, 512)               0         \n",
            "_________________________________________________________________\n",
            "BN_Layer_1 (BatchNormalizati (None, 512)               2048      \n",
            "_________________________________________________________________\n",
            "Hidden_Layer_2 (Dense)       (None, 256)               131328    \n",
            "_________________________________________________________________\n",
            "activation_2 (Activation)    (None, 256)               0         \n",
            "_________________________________________________________________\n",
            "BN_Layer_2 (BatchNormalizati (None, 256)               1024      \n",
            "_________________________________________________________________\n",
            "Hidden_Layer_3 (Dense)       (None, 128)               32896     \n",
            "_________________________________________________________________\n",
            "activation_3 (Activation)    (None, 128)               0         \n",
            "_________________________________________________________________\n",
            "BN_Layer_3 (BatchNormalizati (None, 128)               512       \n",
            "_________________________________________________________________\n",
            "Output_Layer (Dense)         (None, 10)                1290      \n",
            "=================================================================\n",
            "Total params: 1,742,474\n",
            "Trainable params: 1,740,682\n",
            "Non-trainable params: 1,792\n",
            "_________________________________________________________________\n"
          ],
          "name": "stdout"
        }
      ]
    },
    {
      "cell_type": "markdown",
      "metadata": {
        "id": "qeBL8uYOcvvr",
        "colab_type": "text"
      },
      "source": [
        "# 設定超參數"
      ]
    },
    {
      "cell_type": "code",
      "metadata": {
        "id": "RV0rVhPFY5WR",
        "colab_type": "code",
        "colab": {}
      },
      "source": [
        "EPOCHS = 50\n",
        "BATCH_SIZE = 1024\n",
        "\n",
        "PRE_ACTIVATE = [ True ]  # Batch Normalization Layer before activation function \n",
        "\n",
        "LEARNING_RATE = 1e-3     # for optimizer\n",
        "MOMENTUM = 0.95          # for optimizer \n",
        "\n",
        "PATIENCE = [ 10, 25 ]    # for early stopping"
      ],
      "execution_count": 0,
      "outputs": []
    },
    {
      "cell_type": "markdown",
      "metadata": {
        "id": "SID1oIg7fMIc",
        "colab_type": "text"
      },
      "source": [
        "# 優化器(Optimizer)"
      ]
    },
    {
      "cell_type": "code",
      "metadata": {
        "id": "FvMFypS3fWvC",
        "colab_type": "code",
        "colab": {}
      },
      "source": [
        "SGD = keras.optimizers.SGD( lr = LEARNING_RATE, \n",
        "                            momentum = MOMENTUM, \n",
        "                            nesterov = True\n",
        "                            )\n",
        "\n",
        "Optimizers = 'SGD'"
      ],
      "execution_count": 0,
      "outputs": []
    },
    {
      "cell_type": "markdown",
      "metadata": {
        "id": "V1QWYkpBfb6Z",
        "colab_type": "text"
      },
      "source": [
        "# 訓練模型"
      ]
    },
    {
      "cell_type": "code",
      "metadata": {
        "id": "23GIGlbmfZE5",
        "colab_type": "code",
        "colab": {
          "base_uri": "https://localhost:8080/",
          "height": 1000
        },
        "outputId": "d87abf87-2ac6-4dd8-97df-78e353283cb8"
      },
      "source": [
        "results = {}\n",
        "\n",
        "\"\"\"\n",
        "建立訓練與實驗迴圈並蒐集資料\n",
        "\"\"\"\n",
        "for PATIENCE in PATIENCE :\n",
        "    keras.backend.clear_session( )    # 清掉舊的 Graph \n",
        "    \n",
        "    print( 'Early Stopping with patience = ' + str( PATIENCE ) )\n",
        "    \n",
        "    # Early Stopping\n",
        "    EARLY_STOP = EarlyStopping( monitor = \"val_loss\", \n",
        "                                patience = PATIENCE,  # 容忍訓練無再改善時的 EPOCHS 次數\n",
        "                                verbose = 1\n",
        "                                )\n",
        "    \n",
        "    model = build_mlp( input_shape = x_train.shape[ 1: ], pre_activate = PRE_ACTIVATE )\n",
        "    model.summary( )\n",
        "    \n",
        "\n",
        "    \n",
        "    # 執行神經網絡\n",
        "    model.compile( loss = 'categorical_crossentropy', \n",
        "                   optimizer = Optimizers, \n",
        "                   metrics=[ 'accuracy' ] \n",
        "                   )\n",
        "\n",
        "    model.fit( x_train, y_train, \n",
        "               epochs = EPOCHS,     \n",
        "               batch_size = BATCH_SIZE, \n",
        "               validation_data = ( x_test, y_test ), \n",
        "               callbacks = [ EARLY_STOP ],\n",
        "               shuffle = True\n",
        "               )\n",
        "    \n",
        "    # Collect results\n",
        "    train_loss = model.history.history[ 'loss' ]\n",
        "    valid_loss = model.history.history[ 'val_loss' ]\n",
        "    train_acc = model.history.history[ 'acc' ]\n",
        "    valid_acc = model.history.history[ 'val_acc' ]\n",
        "    \n",
        "    exp_name_tag = \"Early Stopping with patience  .-%s\" % str( PATIENCE )\n",
        "    results[ exp_name_tag ] = { 'train-loss': train_loss,\n",
        "                                'valid-loss': valid_loss,\n",
        "                                'train-acc': train_acc,\n",
        "                                'valid-acc': valid_acc\n",
        "                                }"
      ],
      "execution_count": 8,
      "outputs": [
        {
          "output_type": "stream",
          "text": [
            "W0721 17:21:27.345442 139851831326592 deprecation_wrapper.py:119] From /usr/local/lib/python3.6/dist-packages/keras/backend/tensorflow_backend.py:95: The name tf.reset_default_graph is deprecated. Please use tf.compat.v1.reset_default_graph instead.\n",
            "\n"
          ],
          "name": "stderr"
        },
        {
          "output_type": "stream",
          "text": [
            "Early Stopping with patience = 10\n"
          ],
          "name": "stdout"
        },
        {
          "output_type": "stream",
          "text": [
            "W0721 17:21:27.664932 139851831326592 deprecation_wrapper.py:119] From /usr/local/lib/python3.6/dist-packages/keras/optimizers.py:790: The name tf.train.Optimizer is deprecated. Please use tf.compat.v1.train.Optimizer instead.\n",
            "\n",
            "W0721 17:21:27.798083 139851831326592 deprecation.py:323] From /usr/local/lib/python3.6/dist-packages/tensorflow/python/ops/math_grad.py:1250: add_dispatch_support.<locals>.wrapper (from tensorflow.python.ops.array_ops) is deprecated and will be removed in a future version.\n",
            "Instructions for updating:\n",
            "Use tf.where in 2.0, which has the same broadcast rule as np.where\n"
          ],
          "name": "stderr"
        },
        {
          "output_type": "stream",
          "text": [
            "_________________________________________________________________\n",
            "Layer (type)                 Output Shape              Param #   \n",
            "=================================================================\n",
            "input_1 (InputLayer)         (None, 3072)              0         \n",
            "_________________________________________________________________\n",
            "Hidden_Layer_1 (Dense)       (None, 512)               1573376   \n",
            "_________________________________________________________________\n",
            "BN_Layer_1 (BatchNormalizati (None, 512)               2048      \n",
            "_________________________________________________________________\n",
            "activation_1 (Activation)    (None, 512)               0         \n",
            "_________________________________________________________________\n",
            "Hidden_Layer_2 (Dense)       (None, 256)               131328    \n",
            "_________________________________________________________________\n",
            "BN_Layer_2 (BatchNormalizati (None, 256)               1024      \n",
            "_________________________________________________________________\n",
            "activation_2 (Activation)    (None, 256)               0         \n",
            "_________________________________________________________________\n",
            "Hidden_Layer_3 (Dense)       (None, 128)               32896     \n",
            "_________________________________________________________________\n",
            "BN_Layer_3 (BatchNormalizati (None, 128)               512       \n",
            "_________________________________________________________________\n",
            "activation_3 (Activation)    (None, 128)               0         \n",
            "_________________________________________________________________\n",
            "Output_Layer (Dense)         (None, 10)                1290      \n",
            "=================================================================\n",
            "Total params: 1,742,474\n",
            "Trainable params: 1,740,682\n",
            "Non-trainable params: 1,792\n",
            "_________________________________________________________________\n",
            "Train on 50000 samples, validate on 10000 samples\n",
            "Epoch 1/50\n",
            "50000/50000 [==============================] - 10s 209us/step - loss: 2.3516 - acc: 0.2015 - val_loss: 2.3549 - val_acc: 0.2454\n",
            "Epoch 2/50\n",
            "50000/50000 [==============================] - 9s 180us/step - loss: 2.0108 - acc: 0.3030 - val_loss: 2.0893 - val_acc: 0.2988\n",
            "Epoch 3/50\n",
            "50000/50000 [==============================] - 9s 181us/step - loss: 1.8808 - acc: 0.3473 - val_loss: 1.9494 - val_acc: 0.3351\n",
            "Epoch 4/50\n",
            "50000/50000 [==============================] - 9s 180us/step - loss: 1.7986 - acc: 0.3819 - val_loss: 1.8837 - val_acc: 0.3605\n",
            "Epoch 5/50\n",
            "50000/50000 [==============================] - 9s 179us/step - loss: 1.7372 - acc: 0.4033 - val_loss: 1.8449 - val_acc: 0.3720\n",
            "Epoch 6/50\n",
            "50000/50000 [==============================] - 9s 180us/step - loss: 1.6879 - acc: 0.4225 - val_loss: 1.7959 - val_acc: 0.3902\n",
            "Epoch 7/50\n",
            "50000/50000 [==============================] - 9s 180us/step - loss: 1.6447 - acc: 0.4403 - val_loss: 1.7746 - val_acc: 0.3957\n",
            "Epoch 8/50\n",
            "50000/50000 [==============================] - 9s 179us/step - loss: 1.6073 - acc: 0.4529 - val_loss: 1.7554 - val_acc: 0.4024\n",
            "Epoch 9/50\n",
            "50000/50000 [==============================] - 9s 180us/step - loss: 1.5740 - acc: 0.4640 - val_loss: 1.7415 - val_acc: 0.4025\n",
            "Epoch 10/50\n",
            "50000/50000 [==============================] - 9s 179us/step - loss: 1.5405 - acc: 0.4780 - val_loss: 1.7279 - val_acc: 0.4124\n",
            "Epoch 11/50\n",
            "50000/50000 [==============================] - 9s 180us/step - loss: 1.5109 - acc: 0.4888 - val_loss: 1.7158 - val_acc: 0.4182\n",
            "Epoch 12/50\n",
            "50000/50000 [==============================] - 9s 181us/step - loss: 1.4836 - acc: 0.4979 - val_loss: 1.6999 - val_acc: 0.4232\n",
            "Epoch 13/50\n",
            "50000/50000 [==============================] - 9s 179us/step - loss: 1.4566 - acc: 0.5065 - val_loss: 1.6975 - val_acc: 0.4247\n",
            "Epoch 14/50\n",
            "50000/50000 [==============================] - 9s 180us/step - loss: 1.4310 - acc: 0.5155 - val_loss: 1.6827 - val_acc: 0.4231\n",
            "Epoch 15/50\n",
            "50000/50000 [==============================] - 9s 180us/step - loss: 1.4067 - acc: 0.5248 - val_loss: 1.6694 - val_acc: 0.4285\n",
            "Epoch 16/50\n",
            "50000/50000 [==============================] - 9s 179us/step - loss: 1.3835 - acc: 0.5335 - val_loss: 1.6585 - val_acc: 0.4307\n",
            "Epoch 17/50\n",
            "50000/50000 [==============================] - 9s 180us/step - loss: 1.3590 - acc: 0.5424 - val_loss: 1.6511 - val_acc: 0.4382\n",
            "Epoch 18/50\n",
            "50000/50000 [==============================] - 9s 179us/step - loss: 1.3385 - acc: 0.5498 - val_loss: 1.6480 - val_acc: 0.4332\n",
            "Epoch 19/50\n",
            "50000/50000 [==============================] - 9s 181us/step - loss: 1.3165 - acc: 0.5555 - val_loss: 1.6479 - val_acc: 0.4363\n",
            "Epoch 20/50\n",
            "50000/50000 [==============================] - 9s 183us/step - loss: 1.2965 - acc: 0.5632 - val_loss: 1.6423 - val_acc: 0.4363\n",
            "Epoch 21/50\n",
            "50000/50000 [==============================] - 9s 182us/step - loss: 1.2755 - acc: 0.5701 - val_loss: 1.6397 - val_acc: 0.4417\n",
            "Epoch 22/50\n",
            "50000/50000 [==============================] - 9s 181us/step - loss: 1.2563 - acc: 0.5772 - val_loss: 1.6338 - val_acc: 0.4410\n",
            "Epoch 23/50\n",
            "50000/50000 [==============================] - 9s 181us/step - loss: 1.2357 - acc: 0.5840 - val_loss: 1.6271 - val_acc: 0.4466\n",
            "Epoch 24/50\n",
            "50000/50000 [==============================] - 9s 181us/step - loss: 1.2167 - acc: 0.5922 - val_loss: 1.6247 - val_acc: 0.4440\n",
            "Epoch 25/50\n",
            "50000/50000 [==============================] - 9s 181us/step - loss: 1.1976 - acc: 0.5979 - val_loss: 1.6190 - val_acc: 0.4455\n",
            "Epoch 26/50\n",
            "50000/50000 [==============================] - 9s 182us/step - loss: 1.1790 - acc: 0.6062 - val_loss: 1.6258 - val_acc: 0.4437\n",
            "Epoch 27/50\n",
            "50000/50000 [==============================] - 9s 182us/step - loss: 1.1611 - acc: 0.6120 - val_loss: 1.6227 - val_acc: 0.4481\n",
            "Epoch 28/50\n",
            "50000/50000 [==============================] - 9s 182us/step - loss: 1.1433 - acc: 0.6178 - val_loss: 1.6152 - val_acc: 0.4524\n",
            "Epoch 29/50\n",
            "50000/50000 [==============================] - 9s 181us/step - loss: 1.1257 - acc: 0.6263 - val_loss: 1.6156 - val_acc: 0.4471\n",
            "Epoch 30/50\n",
            "50000/50000 [==============================] - 9s 181us/step - loss: 1.1081 - acc: 0.6324 - val_loss: 1.6204 - val_acc: 0.4477\n",
            "Epoch 31/50\n",
            "50000/50000 [==============================] - 9s 182us/step - loss: 1.0901 - acc: 0.6385 - val_loss: 1.6282 - val_acc: 0.4495\n",
            "Epoch 32/50\n",
            "50000/50000 [==============================] - 9s 182us/step - loss: 1.0733 - acc: 0.6472 - val_loss: 1.6294 - val_acc: 0.4469\n",
            "Epoch 33/50\n",
            "50000/50000 [==============================] - 9s 180us/step - loss: 1.0571 - acc: 0.6515 - val_loss: 1.6377 - val_acc: 0.4504\n",
            "Epoch 34/50\n",
            "50000/50000 [==============================] - 9s 181us/step - loss: 1.0394 - acc: 0.6584 - val_loss: 1.6313 - val_acc: 0.4490\n",
            "Epoch 35/50\n",
            "50000/50000 [==============================] - 9s 180us/step - loss: 1.0247 - acc: 0.6642 - val_loss: 1.6382 - val_acc: 0.4480\n",
            "Epoch 36/50\n",
            "50000/50000 [==============================] - 9s 181us/step - loss: 1.0078 - acc: 0.6719 - val_loss: 1.6401 - val_acc: 0.4485\n",
            "Epoch 37/50\n",
            "50000/50000 [==============================] - 9s 181us/step - loss: 0.9920 - acc: 0.6771 - val_loss: 1.6357 - val_acc: 0.4489\n",
            "Epoch 38/50\n",
            "50000/50000 [==============================] - 9s 180us/step - loss: 0.9745 - acc: 0.6838 - val_loss: 1.6510 - val_acc: 0.4535\n",
            "Epoch 00038: early stopping\n",
            "Early Stopping with patience = 25\n",
            "_________________________________________________________________\n",
            "Layer (type)                 Output Shape              Param #   \n",
            "=================================================================\n",
            "input_1 (InputLayer)         (None, 3072)              0         \n",
            "_________________________________________________________________\n",
            "Hidden_Layer_1 (Dense)       (None, 512)               1573376   \n",
            "_________________________________________________________________\n",
            "BN_Layer_1 (BatchNormalizati (None, 512)               2048      \n",
            "_________________________________________________________________\n",
            "activation_1 (Activation)    (None, 512)               0         \n",
            "_________________________________________________________________\n",
            "Hidden_Layer_2 (Dense)       (None, 256)               131328    \n",
            "_________________________________________________________________\n",
            "BN_Layer_2 (BatchNormalizati (None, 256)               1024      \n",
            "_________________________________________________________________\n",
            "activation_2 (Activation)    (None, 256)               0         \n",
            "_________________________________________________________________\n",
            "Hidden_Layer_3 (Dense)       (None, 128)               32896     \n",
            "_________________________________________________________________\n",
            "BN_Layer_3 (BatchNormalizati (None, 128)               512       \n",
            "_________________________________________________________________\n",
            "activation_3 (Activation)    (None, 128)               0         \n",
            "_________________________________________________________________\n",
            "Output_Layer (Dense)         (None, 10)                1290      \n",
            "=================================================================\n",
            "Total params: 1,742,474\n",
            "Trainable params: 1,740,682\n",
            "Non-trainable params: 1,792\n",
            "_________________________________________________________________\n",
            "Train on 50000 samples, validate on 10000 samples\n",
            "Epoch 1/50\n",
            "50000/50000 [==============================] - 10s 196us/step - loss: 2.3558 - acc: 0.2085 - val_loss: 2.2681 - val_acc: 0.2555\n",
            "Epoch 2/50\n",
            "50000/50000 [==============================] - 9s 183us/step - loss: 2.0070 - acc: 0.3072 - val_loss: 2.0484 - val_acc: 0.3026\n",
            "Epoch 3/50\n",
            "50000/50000 [==============================] - 9s 182us/step - loss: 1.8751 - acc: 0.3538 - val_loss: 1.9265 - val_acc: 0.3356\n",
            "Epoch 4/50\n",
            "50000/50000 [==============================] - 9s 183us/step - loss: 1.7951 - acc: 0.3846 - val_loss: 1.8613 - val_acc: 0.3565\n",
            "Epoch 5/50\n",
            "50000/50000 [==============================] - 9s 183us/step - loss: 1.7346 - acc: 0.4070 - val_loss: 1.8234 - val_acc: 0.3715\n",
            "Epoch 6/50\n",
            "50000/50000 [==============================] - 9s 184us/step - loss: 1.6851 - acc: 0.4266 - val_loss: 1.7961 - val_acc: 0.3851\n",
            "Epoch 7/50\n",
            "50000/50000 [==============================] - 9s 184us/step - loss: 1.6440 - acc: 0.4403 - val_loss: 1.7712 - val_acc: 0.3889\n",
            "Epoch 8/50\n",
            "50000/50000 [==============================] - 9s 183us/step - loss: 1.6071 - acc: 0.4540 - val_loss: 1.7454 - val_acc: 0.3994\n",
            "Epoch 9/50\n",
            "50000/50000 [==============================] - 9s 182us/step - loss: 1.5723 - acc: 0.4652 - val_loss: 1.7297 - val_acc: 0.4040\n",
            "Epoch 10/50\n",
            "50000/50000 [==============================] - 9s 182us/step - loss: 1.5422 - acc: 0.4759 - val_loss: 1.7177 - val_acc: 0.4127\n",
            "Epoch 11/50\n",
            "50000/50000 [==============================] - 9s 183us/step - loss: 1.5127 - acc: 0.4871 - val_loss: 1.7118 - val_acc: 0.4124\n",
            "Epoch 12/50\n",
            "50000/50000 [==============================] - 9s 182us/step - loss: 1.4851 - acc: 0.4971 - val_loss: 1.6946 - val_acc: 0.4148\n",
            "Epoch 13/50\n",
            "50000/50000 [==============================] - 9s 180us/step - loss: 1.4583 - acc: 0.5059 - val_loss: 1.6837 - val_acc: 0.4218\n",
            "Epoch 14/50\n",
            "50000/50000 [==============================] - 9s 181us/step - loss: 1.4348 - acc: 0.5145 - val_loss: 1.6716 - val_acc: 0.4159\n",
            "Epoch 15/50\n",
            "50000/50000 [==============================] - 9s 180us/step - loss: 1.4102 - acc: 0.5239 - val_loss: 1.6687 - val_acc: 0.4266\n",
            "Epoch 16/50\n",
            "50000/50000 [==============================] - 9s 183us/step - loss: 1.3881 - acc: 0.5318 - val_loss: 1.6552 - val_acc: 0.4306\n",
            "Epoch 17/50\n",
            "50000/50000 [==============================] - 9s 180us/step - loss: 1.3659 - acc: 0.5414 - val_loss: 1.6519 - val_acc: 0.4296\n",
            "Epoch 18/50\n",
            "50000/50000 [==============================] - 9s 180us/step - loss: 1.3438 - acc: 0.5481 - val_loss: 1.6362 - val_acc: 0.4374\n",
            "Epoch 19/50\n",
            "50000/50000 [==============================] - 9s 181us/step - loss: 1.3228 - acc: 0.5562 - val_loss: 1.6388 - val_acc: 0.4343\n",
            "Epoch 20/50\n",
            "50000/50000 [==============================] - 9s 180us/step - loss: 1.3020 - acc: 0.5644 - val_loss: 1.6296 - val_acc: 0.4403\n",
            "Epoch 21/50\n",
            "50000/50000 [==============================] - 9s 180us/step - loss: 1.2819 - acc: 0.5681 - val_loss: 1.6312 - val_acc: 0.4404\n",
            "Epoch 22/50\n",
            "50000/50000 [==============================] - 9s 180us/step - loss: 1.2616 - acc: 0.5775 - val_loss: 1.6224 - val_acc: 0.4413\n",
            "Epoch 23/50\n",
            "50000/50000 [==============================] - 9s 180us/step - loss: 1.2424 - acc: 0.5836 - val_loss: 1.6196 - val_acc: 0.4478\n",
            "Epoch 24/50\n",
            "50000/50000 [==============================] - 9s 180us/step - loss: 1.2238 - acc: 0.5903 - val_loss: 1.6215 - val_acc: 0.4435\n",
            "Epoch 25/50\n",
            "50000/50000 [==============================] - 9s 179us/step - loss: 1.2057 - acc: 0.5975 - val_loss: 1.6256 - val_acc: 0.4440\n",
            "Epoch 26/50\n",
            "50000/50000 [==============================] - 9s 180us/step - loss: 1.1864 - acc: 0.6037 - val_loss: 1.6069 - val_acc: 0.4486\n",
            "Epoch 27/50\n",
            "50000/50000 [==============================] - 9s 180us/step - loss: 1.1678 - acc: 0.6121 - val_loss: 1.6127 - val_acc: 0.4460\n",
            "Epoch 28/50\n",
            "50000/50000 [==============================] - 9s 181us/step - loss: 1.1504 - acc: 0.6194 - val_loss: 1.6222 - val_acc: 0.4460\n",
            "Epoch 29/50\n",
            "50000/50000 [==============================] - 9s 183us/step - loss: 1.1332 - acc: 0.6232 - val_loss: 1.6087 - val_acc: 0.4497\n",
            "Epoch 30/50\n",
            "50000/50000 [==============================] - 9s 182us/step - loss: 1.1151 - acc: 0.6297 - val_loss: 1.6169 - val_acc: 0.4490\n",
            "Epoch 31/50\n",
            "50000/50000 [==============================] - 9s 183us/step - loss: 1.0981 - acc: 0.6362 - val_loss: 1.6092 - val_acc: 0.4509\n",
            "Epoch 32/50\n",
            "50000/50000 [==============================] - 9s 182us/step - loss: 1.0819 - acc: 0.6419 - val_loss: 1.6133 - val_acc: 0.4517\n",
            "Epoch 33/50\n",
            "50000/50000 [==============================] - 9s 183us/step - loss: 1.0637 - acc: 0.6486 - val_loss: 1.6198 - val_acc: 0.4500\n",
            "Epoch 34/50\n",
            "50000/50000 [==============================] - 9s 185us/step - loss: 1.0470 - acc: 0.6545 - val_loss: 1.6113 - val_acc: 0.4557\n",
            "Epoch 35/50\n",
            "50000/50000 [==============================] - 9s 182us/step - loss: 1.0304 - acc: 0.6607 - val_loss: 1.6157 - val_acc: 0.4551\n",
            "Epoch 36/50\n",
            "50000/50000 [==============================] - 9s 182us/step - loss: 1.0143 - acc: 0.6664 - val_loss: 1.6124 - val_acc: 0.4552\n",
            "Epoch 37/50\n",
            "50000/50000 [==============================] - 9s 182us/step - loss: 0.9982 - acc: 0.6720 - val_loss: 1.6178 - val_acc: 0.4534\n",
            "Epoch 38/50\n",
            "50000/50000 [==============================] - 9s 182us/step - loss: 0.9822 - acc: 0.6794 - val_loss: 1.6342 - val_acc: 0.4540\n",
            "Epoch 39/50\n",
            "50000/50000 [==============================] - 9s 183us/step - loss: 0.9654 - acc: 0.6847 - val_loss: 1.6212 - val_acc: 0.4550\n",
            "Epoch 40/50\n",
            "50000/50000 [==============================] - 9s 183us/step - loss: 0.9490 - acc: 0.6920 - val_loss: 1.6318 - val_acc: 0.4564\n",
            "Epoch 41/50\n",
            "50000/50000 [==============================] - 9s 183us/step - loss: 0.9340 - acc: 0.6965 - val_loss: 1.6347 - val_acc: 0.4546\n",
            "Epoch 42/50\n",
            "50000/50000 [==============================] - 9s 182us/step - loss: 0.9186 - acc: 0.7040 - val_loss: 1.6421 - val_acc: 0.4559\n",
            "Epoch 43/50\n",
            "50000/50000 [==============================] - 9s 183us/step - loss: 0.9032 - acc: 0.7104 - val_loss: 1.6396 - val_acc: 0.4584\n",
            "Epoch 44/50\n",
            "50000/50000 [==============================] - 9s 183us/step - loss: 0.8878 - acc: 0.7153 - val_loss: 1.6472 - val_acc: 0.4569\n",
            "Epoch 45/50\n",
            "50000/50000 [==============================] - 9s 183us/step - loss: 0.8731 - acc: 0.7227 - val_loss: 1.6537 - val_acc: 0.4559\n",
            "Epoch 46/50\n",
            "50000/50000 [==============================] - 9s 182us/step - loss: 0.8577 - acc: 0.7287 - val_loss: 1.6864 - val_acc: 0.4496\n",
            "Epoch 47/50\n",
            "50000/50000 [==============================] - 9s 184us/step - loss: 0.8420 - acc: 0.7340 - val_loss: 1.6531 - val_acc: 0.4641\n",
            "Epoch 48/50\n",
            "50000/50000 [==============================] - 9s 182us/step - loss: 0.8288 - acc: 0.7370 - val_loss: 1.6607 - val_acc: 0.4545\n",
            "Epoch 49/50\n",
            "50000/50000 [==============================] - 9s 183us/step - loss: 0.8121 - acc: 0.7465 - val_loss: 1.6800 - val_acc: 0.4565\n",
            "Epoch 50/50\n",
            "50000/50000 [==============================] - 9s 185us/step - loss: 0.7980 - acc: 0.7517 - val_loss: 1.6901 - val_acc: 0.4577\n"
          ],
          "name": "stdout"
        }
      ]
    },
    {
      "cell_type": "markdown",
      "metadata": {
        "id": "7vso7Bchhc6N",
        "colab_type": "text"
      },
      "source": [
        "# 損失函數及準確率"
      ]
    },
    {
      "cell_type": "code",
      "metadata": {
        "id": "BZzlEyMWY5WZ",
        "colab_type": "code",
        "colab": {
          "base_uri": "https://localhost:8080/",
          "height": 762
        },
        "outputId": "aeae6325-5dbc-4ec0-d3f1-99fbce35f401"
      },
      "source": [
        "color_bar = [ 'r', 'b' ]\n",
        "\n",
        "plt.figure( figsize = ( 8, 6 ) )\n",
        "for i, cond in enumerate( results.keys( ) ) :\n",
        "    plt.plot( range( len(results[ cond ][ 'train-loss' ] ) ), results[ cond ][ 'train-loss' ], '-', label = 'Train Loss: ' + cond, color = color_bar[i] )\n",
        "    plt.plot( range( len(results[ cond ][ 'valid-loss' ] ) ), results[ cond ][ 'valid-loss' ], '--', label = 'Valid Loss: ' + cond, color = color_bar[i] )\n",
        "plt.title( 'Loss' )\n",
        "plt.legend( )\n",
        "plt.show( )\n",
        "\n",
        "plt.figure( figsize = ( 8, 6 ) )\n",
        "for i, cond in enumerate( results.keys( ) ) :\n",
        "    plt.plot(range( len( results[ cond ][ 'train-acc' ] ) ), results[ cond ][ 'train-acc' ], '-', label = 'Train acc: ' + cond, color = color_bar[i] )\n",
        "    plt.plot(range( len( results[ cond ][ 'valid-acc' ] ) ), results[ cond ][ 'valid-acc' ], '--', label = 'Valid acc: ' + cond, color = color_bar[i] )\n",
        "plt.title( 'Accuracy' )\n",
        "plt.legend( )\n",
        "plt.show( )"
      ],
      "execution_count": 9,
      "outputs": [
        {
          "output_type": "display_data",
          "data": {
            "image/png": "[encoded data removed]",
            "text/plain": [
              "<Figure size 576x432 with 1 Axes>"
            ]
          },
          "metadata": {
            "tags": []
          }
        },
        {
          "output_type": "display_data",
          "data": {
            "image/png": "[encoded data removed]",
            "text/plain": [
              "<Figure size 576x432 with 1 Axes>"
            ]
          },
          "metadata": {
            "tags": []
          }
        }
      ]
    }
  ]
}