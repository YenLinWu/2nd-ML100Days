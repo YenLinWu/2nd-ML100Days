{
 "cells": [
  {
   "cell_type": "markdown",
   "metadata": {},
   "source": [
    "## 作業一  \n",
    "#### 請上 Kaggle, 在 Competitions 或 Dataset 中找一組競賽或資料並寫下：\n",
    "#### 1. 你選的這組資料為何重要  \n",
    "Porto Seguro’s Safe Driver Prediction   \n",
    "網址：https://www.kaggle.com/c/porto-seguro-safe-driver-prediction/overview  \n",
    "\n",
    "現行汽車保險費率的釐訂，絕大多採用保險公司本身內部資料或外部相似承保風險的損失資料，計算過往的經驗損失率(=賠款/保費)，評估整體的費率水準，無法針對駕駛人個人去評估應收取的保費。  \n",
    "此預測結果，可用來衡量保險公司未來可能承受的損失風險外，也可運用於未來車險 UBI 保單的費率釐訂技術中。  \n",
    "\n",
    "#### 2. 資料從何而來 (tips: 譬如提供者是誰、以什麼方式蒐集)  \n",
    "保險公司承保及理賠資料( 提供者：Porto Seguro )\n",
    " \n",
    "#### 3. 蒐集而來的資料型態為何  \n",
    "結構化資料\n",
    "\n",
    "#### 4. 這組資料想解決的問題如何評估  \n",
    "預測未來車險保單發生賠案的可能性。\n"
   ]
  },
  {
   "cell_type": "markdown",
   "metadata": {},
   "source": [
    "##  作業二\n",
    "\n",
    "#### 想像你經營一個自由載客車隊，你希望能透過數據分析以提升業績，請你思考並描述你如何規劃整體的分析/解決方案：\n",
    "#### 1. 核心問題為何   \n",
    "業務來源是否來自於既有顧客的推薦？\n",
    "\n",
    "#### 2. 資料從何而來  \n",
    "藉由乘客填寫問卷。\n",
    "\n",
    "#### 3. 蒐集而來的資料型態為何  \n",
    "乘客問卷項目  \n",
    "(1) 是否第一次搭乘 (類別資料： Yes  No )  \n",
    "若為老顧客，直接跳至第六項：  \n",
    "(2) 如何得知本車隊 (類別資料： 1 親友介紹  2 Facebook  3 IG  4 廣告 )  \n",
    "(3) 性別 (類別資料： 1 男性  2 女性 )  \n",
    "(4) 年齡 (類別資料： 1 20-29歲  2 30-39歲  4 40-49歲 5 50-59歲  6 60-64歲  7 65歲以上 )  \n",
    "(5) 職業 (類別資料： 1 學生  2 老師/教授  3 上班族  4 家管  5 其他  )  \n",
    "(6) 本次搭乘用途  (類別資料： 1 公務  2 旅遊  3 轉乘 )  \n",
    "(7) 本次搭乘的時段 （類別資料： 1 上午 06 - 12 點  2 下午 12 - 17 點  3 晚間 17 - 24 點  4 凌晨 0 - 5 點 )  \n",
    "(8) 等待時間(分鐘)  (數值資料 )  \n",
    "(9) 選擇搭乘原因 (類別資料： 1 方便  2 安全  3 服務完善  4 價格合理  5 其他 )  \n",
    "(10) 下次是否願意再次選擇本車隊 (類別資料： 1 非常願意  2 願意  3 不願意  4 非常不願意  )  \n",
    "(11) 是否願意推薦本車隊給親友知道  (類別資料： 1 非常願意  2 願意  3 考慮  4 不願意  5 非常不願意  )  \n",
    "\n",
    "#### 4. 你要回答的問題，其如何評估  \n",
    "業績的提升，是否可透過既有的客源推薦而達成？  \n",
    "透過現有的顧客型態，分析其搭乘目的及對本車隊的評價，推測其推薦其他親友的意願。"
   ]
  },
  {
   "cell_type": "markdown",
   "metadata": {},
   "source": [
    "## 作業三\n",
    "\n",
    "## 練習時間\n",
    "#### 請寫一個函式用來計算 Mean Square Error\n",
    "$ MSE = \\displaystyle{ \\frac{1}{n}\\sum_{i=1}^{n}{(Y_i - \\hat{Y}_i)^2} } $\n",
    "\n",
    "### Hint: [如何取平方](https://googoodesign.gitbooks.io/-ezpython/unit-1.html)"
   ]
  },
  {
   "cell_type": "code",
   "execution_count": 1,
   "metadata": {},
   "outputs": [],
   "source": [
    "import numpy as np\n",
    "import matplotlib.pyplot as plt"
   ]
  },
  {
   "cell_type": "markdown",
   "metadata": {},
   "source": [
    "### 定義 Mean Squared Error"
   ]
  },
  {
   "cell_type": "code",
   "execution_count": 2,
   "metadata": {},
   "outputs": [],
   "source": [
    "def mean_squared_error( y, y_hat ):\n",
    "    MSE = np.sum(  ( y - y_hat )**2 ) / len(y)\n",
    "    return MSE"
   ]
  },
  {
   "cell_type": "markdown",
   "metadata": {},
   "source": [
    "### 定義 Mean Absolute Error"
   ]
  },
  {
   "cell_type": "code",
   "execution_count": 3,
   "metadata": {},
   "outputs": [],
   "source": [
    "def mean_absolute_error( y, y_hat ):\n",
    "    MAE = np.sum(  np.abs( y - y_hat ) ) / len(y)\n",
    "    return MAE"
   ]
  },
  {
   "cell_type": "code",
   "execution_count": 4,
   "metadata": {},
   "outputs": [
    {
     "data": {
      "image/png": "[encoded data removed]",
      "text/plain": [
       "<Figure size 432x288 with 1 Axes>"
      ]
     },
     "metadata": {
      "needs_background": "light"
     },
     "output_type": "display_data"
    }
   ],
   "source": [
    "w = 3\n",
    "b = 0.5\n",
    "\n",
    "x_lin = np.linspace(0, 100, 101)\n",
    "\n",
    "y = (x_lin + np.random.randn(101) * 5) * w + b\n",
    "\n",
    "plt.plot(x_lin, y, 'b.', label = 'data points')\n",
    "plt.title(\"Assume we have data points\")\n",
    "plt.legend(loc = 2)\n",
    "plt.show()"
   ]
  },
  {
   "cell_type": "code",
   "execution_count": 5,
   "metadata": {},
   "outputs": [
    {
     "data": {
      "image/png": "[encoded data removed]",
      "text/plain": [
       "<Figure size 432x288 with 1 Axes>"
      ]
     },
     "metadata": {
      "needs_background": "light"
     },
     "output_type": "display_data"
    }
   ],
   "source": [
    "y_hat = x_lin * w + b\n",
    "plt.plot(x_lin, y, 'b.', label = 'data')\n",
    "plt.plot(x_lin, y_hat, 'r-', label = 'prediction')\n",
    "plt.title(\"Assume we have data points (And the prediction)\")\n",
    "plt.legend(loc = 2)\n",
    "plt.show()"
   ]
  },
  {
   "cell_type": "code",
   "execution_count": 6,
   "metadata": {},
   "outputs": [
    {
     "name": "stdout",
     "output_type": "stream",
     "text": [
      "The Mean squared error is 263.129\n",
      "The Mean absolute error is 12.799\n"
     ]
    }
   ],
   "source": [
    "# 執行 Function, 確認有沒有正常執行\n",
    "MSE = mean_squared_error(y, y_hat)\n",
    "MAE = mean_absolute_error(y, y_hat)\n",
    "print(\"The Mean squared error is %.3f\" % (MSE))\n",
    "print(\"The Mean absolute error is %.3f\" % (MAE))"
   ]
  }
 ],
 "metadata": {
  "anaconda-cloud": {},
  "kernelspec": {
   "display_name": "Python 3",
   "language": "python",
   "name": "python3"
  },
  "language_info": {
   "codemirror_mode": {
    "name": "ipython",
    "version": 3
   },
   "file_extension": ".py",
   "mimetype": "text/x-python",
   "name": "python",
   "nbconvert_exporter": "python",
   "pygments_lexer": "ipython3",
   "version": "3.6.8"
  }
 },
 "nbformat": 4,
 "nbformat_minor": 1
}
