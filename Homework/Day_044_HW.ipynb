{
 "cells": [
  {
   "cell_type": "markdown",
   "metadata": {},
   "source": [
    "## [作業重點]\n",
    "確保你了解隨機森林模型中每個超參數的意義，並觀察調整超參數對結果的影響"
   ]
  },
  {
   "cell_type": "markdown",
   "metadata": {},
   "source": [
    "## 作業\n",
    "\n",
    "1. 試著調整 RandomForestClassifier(...) 中的參數，並觀察是否會改變結果？\n",
    "2. 改用其他資料集 (boston, wine)，並與回歸模型與決策樹的結果進行比較"
   ]
  },
  {
   "cell_type": "markdown",
   "metadata": {},
   "source": [
    "1."
   ]
  },
  {
   "cell_type": "code",
   "execution_count": 1,
   "metadata": {},
   "outputs": [],
   "source": [
    "from sklearn import datasets, metrics\n",
    "from sklearn.model_selection import train_test_split\n",
    "\n",
    "# 決策樹：\n",
    "# 分類問題：DecisionTreeClassifier；迴歸問題：DecisionTreeRegressor\n",
    "from sklearn.tree import DecisionTreeClassifier, DecisionTreeRegressor\n",
    "\n",
    "#隨機森林\n",
    "# 分類問題：RandomForestClassifier；迴歸問題：RandomForestRegressor\n",
    "from sklearn.ensemble import RandomForestClassifier, RandomForestRegressor\n",
    "\n",
    "from sklearn.linear_model import LinearRegression, LogisticRegression\n",
    "from sklearn.metrics import mean_squared_error, r2_score, accuracy_score"
   ]
  },
  {
   "cell_type": "code",
   "execution_count": 2,
   "metadata": {},
   "outputs": [],
   "source": [
    "# 讀取鳶尾花資料集\n",
    "iris = datasets.load_iris( ) \n",
    "\n",
    "# 切分訓練集/測試集\n",
    "x_train, x_test, y_train, y_test = train_test_split( iris.data, iris.target, test_size = 0.25, random_state = 4 )"
   ]
  },
  {
   "cell_type": "code",
   "execution_count": 3,
   "metadata": {},
   "outputs": [
    {
     "name": "stdout",
     "output_type": "stream",
     "text": [
      "10 trees : \n",
      "\n",
      "Acuuracy of 10 trees :  0.9736842105263158 \n",
      "\n",
      "預測值 ：[2 0 2 2 2 1 1 0 0 1 0 0 0 1 2 0 1 0 0 2 0 2 1 0 0 0 0 0 0 2 1 0 2 0 1 2 2\n",
      " 1]\n",
      "實際值 ：[2 0 2 2 2 1 1 0 0 2 0 0 0 1 2 0 1 0 0 2 0 2 1 0 0 0 0 0 0 2 1 0 2 0 1 2 2\n",
      " 1]\n",
      "\n",
      "20 trees : \n",
      "\n",
      "Acuuracy of 20 trees :  0.9736842105263158 \n",
      "\n",
      "預測值 ：[2 0 2 2 2 1 2 0 0 2 0 0 0 1 2 0 1 0 0 2 0 2 1 0 0 0 0 0 0 2 1 0 2 0 1 2 2\n",
      " 1]\n",
      "實際值 ：[2 0 2 2 2 1 1 0 0 2 0 0 0 1 2 0 1 0 0 2 0 2 1 0 0 0 0 0 0 2 1 0 2 0 1 2 2\n",
      " 1]\n",
      "\n",
      "40 trees : \n",
      "\n",
      "Acuuracy of 10 trees :  0.9736842105263158 \n",
      "\n",
      "預測值 ：[2 0 2 2 2 1 2 0 0 2 0 0 0 1 2 0 1 0 0 2 0 2 1 0 0 0 0 0 0 2 1 0 2 0 1 2 2\n",
      " 1]\n",
      "實際值 ：[2 0 2 2 2 1 1 0 0 2 0 0 0 1 2 0 1 0 0 2 0 2 1 0 0 0 0 0 0 2 1 0 2 0 1 2 2\n",
      " 1]\n",
      "\n"
     ]
    }
   ],
   "source": [
    "# 建立隨機森林模型 (使用 10、20、40 顆樹，每棵樹的最大深度為 4)\n",
    "clf_10 = RandomForestClassifier( n_estimators = 10, max_depth = 4 )\n",
    "clf_20 = RandomForestClassifier( n_estimators = 20, max_depth = 4 )\n",
    "clf_40 = RandomForestClassifier( n_estimators = 40, max_depth = 4 )\n",
    "\n",
    "# 訓練模型\n",
    "clf_10.fit( x_train, y_train )\n",
    "clf_20.fit( x_train, y_train )\n",
    "clf_40.fit( x_train, y_train )\n",
    "\n",
    "# 預測測試集\n",
    "y_pred_10 = clf_10.predict( x_test )\n",
    "y_pred_20 = clf_20.predict( x_test )\n",
    "y_pred_40 = clf_40.predict( x_test )\n",
    "\n",
    "# 評估模型\n",
    "print( '10 trees : ' '\\n' )\n",
    "acc_10 = metrics.accuracy_score( y_test, y_pred_10 )\n",
    "print( \"Acuuracy of 10 trees : \", acc_10, '\\n' )\n",
    "\n",
    "print( '預測值 ：' + str( y_pred_10 ) )\n",
    "print( '實際值 ：' + str( y_test ) + '\\n' )\n",
    "\n",
    "\n",
    "print( '20 trees : ' '\\n' )\n",
    "acc_20 = metrics.accuracy_score( y_test, y_pred_20 )\n",
    "print( \"Acuuracy of 20 trees : \", acc_20, '\\n' )\n",
    "\n",
    "print( '預測值 ：' + str( y_pred_20 ) )\n",
    "print( '實際值 ：' + str( y_test ) + '\\n' )\n",
    "\n",
    "\n",
    "print( '40 trees : ' '\\n' )\n",
    "acc_40 = metrics.accuracy_score( y_test, y_pred_40 )\n",
    "print( \"Acuuracy of 10 trees : \", acc_40, '\\n' )\n",
    "\n",
    "print( '預測值 ：' + str( y_pred_40 ) )\n",
    "print( '實際值 ：' + str( y_test ) + '\\n' )"
   ]
  },
  {
   "cell_type": "markdown",
   "metadata": {},
   "source": [
    "2."
   ]
  },
  {
   "cell_type": "code",
   "execution_count": 4,
   "metadata": {},
   "outputs": [],
   "source": [
    "wine = datasets.load_wine( )\n",
    "\n",
    "# 切分訓練集/測試集\n",
    "x_train, x_test, y_train, y_test = train_test_split( wine.data , wine.target, test_size = 0.1, random_state = 4 )"
   ]
  },
  {
   "cell_type": "markdown",
   "metadata": {},
   "source": [
    "### 邏輯斯迴歸模型"
   ]
  },
  {
   "cell_type": "code",
   "execution_count": 5,
   "metadata": {},
   "outputs": [
    {
     "name": "stderr",
     "output_type": "stream",
     "text": [
      "/anaconda3/lib/python3.6/site-packages/sklearn/linear_model/logistic.py:433: FutureWarning: Default solver will be changed to 'lbfgs' in 0.22. Specify a solver to silence this warning.\n",
      "  FutureWarning)\n",
      "/anaconda3/lib/python3.6/site-packages/sklearn/linear_model/logistic.py:460: FutureWarning: Default multi_class will be changed to 'auto' in 0.22. Specify the multi_class option to silence this warning.\n",
      "  \"this warning.\", FutureWarning)\n"
     ]
    },
    {
     "name": "stdout",
     "output_type": "stream",
     "text": [
      "Accuracy :  0.9444444444444444\n"
     ]
    }
   ],
   "source": [
    "# 建立邏輯斯迴歸模型\n",
    "Logistic_Reg = LogisticRegression( )\n",
    "\n",
    "# 訓練資料餵入模型訓練\n",
    "Logistic_Reg.fit( x_train, y_train )\n",
    "\n",
    "# 測試集資料丟進模型預測\n",
    "y_pred = Logistic_Reg.predict( x_test )\n",
    "\n",
    "# 評估模型準確性\n",
    "acc = accuracy_score( y_test, y_pred )\n",
    "print( \"Accuracy : \", acc )"
   ]
  },
  {
   "cell_type": "markdown",
   "metadata": {},
   "source": [
    "### 隨機森林模型\n",
    "- https://scikit-learn.org/stable/modules/generated/sklearn.ensemble.RandomForestClassifier.html\n",
    "- https://scikit-learn.org/stable/modules/generated/sklearn.ensemble.RandomForestRegressor.html"
   ]
  },
  {
   "cell_type": "code",
   "execution_count": 6,
   "metadata": {},
   "outputs": [
    {
     "name": "stdout",
     "output_type": "stream",
     "text": [
      "7 trees : \n",
      "\n",
      "Acuuracy of 10 trees :  0.9444444444444444 \n",
      "\n",
      "預測值 ：[2 2 0 0 0 2 0 1 0 1 1 0 2 2 0 1 0 1]\n",
      "實際值 ：[2 2 0 0 1 2 0 1 0 1 1 0 2 2 0 1 0 1]\n",
      "\n"
     ]
    }
   ],
   "source": [
    "# 建立隨機森林模型 (使用 7 顆樹，每棵樹的最大深度為 4)\n",
    "clf_7 = RandomForestClassifier( n_estimators = 7, max_depth = 5 )\n",
    "\n",
    "# 訓練模型\n",
    "clf_7.fit( x_train, y_train )\n",
    "\n",
    "# 預測測試集\n",
    "y_pred_7 = clf_7.predict( x_test )\n",
    "\n",
    "# 評估模型\n",
    "print( '7 trees : ' '\\n' )\n",
    "acc_7 = metrics.accuracy_score( y_test, y_pred_7 )\n",
    "print( \"Acuuracy of 10 trees : \", acc_7, '\\n' )\n",
    "\n",
    "print( '預測值 ：' + str( y_pred_7 ) )\n",
    "print( '實際值 ：' + str( y_test ) + '\\n' )"
   ]
  }
 ],
 "metadata": {
  "kernelspec": {
   "display_name": "Python 3",
   "language": "python",
   "name": "python3"
  },
  "language_info": {
   "codemirror_mode": {
    "name": "ipython",
    "version": 3
   },
   "file_extension": ".py",
   "mimetype": "text/x-python",
   "name": "python",
   "nbconvert_exporter": "python",
   "pygments_lexer": "ipython3",
   "version": "3.6.8"
  }
 },
 "nbformat": 4,
 "nbformat_minor": 2
}
