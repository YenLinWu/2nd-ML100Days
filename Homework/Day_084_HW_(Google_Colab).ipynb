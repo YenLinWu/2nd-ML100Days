{
  "nbformat": 4,
  "nbformat_minor": 0,
  "metadata": {
    "kernelspec": {
      "display_name": "Python 3",
      "language": "python",
      "name": "python3"
    },
    "language_info": {
      "codemirror_mode": {
        "name": "ipython",
        "version": 3
      },
      "file_extension": ".py",
      "mimetype": "text/x-python",
      "name": "python",
      "nbconvert_exporter": "python",
      "pygments_lexer": "ipython3",
      "version": "3.6.5"
    },
    "colab": {
      "name": "Day_084_HW.ipynb",
      "version": "0.3.2",
      "provenance": [],
      "collapsed_sections": [],
      "toc_visible": true
    }
  },
  "cells": [
    {
      "cell_type": "markdown",
      "metadata": {
        "id": "AsWQysdSvNAB",
        "colab_type": "text"
      },
      "source": [
        "## Work\n",
        "### 請結合前面的知識與程式碼，比較不同的 regularization 的組合對訓練的結果與影響：如 dropout, regularizers, batch-normalization 等"
      ]
    },
    {
      "cell_type": "code",
      "metadata": {
        "id": "b6k5UxEOvNAD",
        "colab_type": "code",
        "colab": {}
      },
      "source": [
        "import os\n",
        "import keras\n",
        "import itertools\n",
        "\n",
        "# 神經網絡正規化\n",
        "from keras.regularizers import l1, l2, l1_l2 \n",
        "# 神經網絡隨機拋棄、批次標準化、激活函數\n",
        "from keras.layers import Dropout, BatchNormalization, Activation \n",
        "\n",
        "\n",
        "import matplotlib.pyplot as plt\n",
        "%matplotlib inline\n",
        "\n",
        "\n",
        "# Disable GPU\n",
        "# os.environ[\"CUDA_VISIBLE_DEVICES\"] = \"\""
      ],
      "execution_count": 0,
      "outputs": []
    },
    {
      "cell_type": "code",
      "metadata": {
        "id": "-ivmvGuavNAG",
        "colab_type": "code",
        "colab": {
          "base_uri": "https://localhost:8080/",
          "height": 52
        },
        "outputId": "1ed399b9-24fb-4ee0-fbfc-f6e4acc88dcc"
      },
      "source": [
        "train, test = keras.datasets.cifar10.load_data( )"
      ],
      "execution_count": 2,
      "outputs": [
        {
          "output_type": "stream",
          "text": [
            "Downloading data from https://www.cs.toronto.edu/~kriz/cifar-10-python.tar.gz\n",
            "170500096/170498071 [==============================] - 4s 0us/step\n"
          ],
          "name": "stdout"
        }
      ]
    },
    {
      "cell_type": "markdown",
      "metadata": {
        "id": "njCzH_1zv4Wg",
        "colab_type": "text"
      },
      "source": [
        "# 資料前處理 - 標準化 及 獨熱編碼(OneHot Encoding)"
      ]
    },
    {
      "cell_type": "code",
      "metadata": {
        "id": "tsic1Fp7vNAK",
        "colab_type": "code",
        "colab": {}
      },
      "source": [
        "def preproc_x( x, flatten = True ) :\n",
        "    x = x / 255.\n",
        "    if flatten:\n",
        "        x = x.reshape( ( len(x), -1 ) )\n",
        "    return x\n",
        "\n",
        "def preproc_y( y, num_classes = 10 ) :\n",
        "    if y.shape[ -1 ] == 1:\n",
        "        y = keras.utils.to_categorical( y, num_classes )\n",
        "    return y    "
      ],
      "execution_count": 0,
      "outputs": []
    },
    {
      "cell_type": "code",
      "metadata": {
        "id": "NlcUArtOvNAO",
        "colab_type": "code",
        "colab": {}
      },
      "source": [
        "x_train, y_train = train\n",
        "x_test, y_test = test\n",
        "\n",
        "# 資料前處理 - X 標準化\n",
        "x_train = preproc_x(x_train)\n",
        "x_test = preproc_x(x_test)\n",
        "\n",
        "# 資料前處理 - Y 轉成 onehot\n",
        "y_train = preproc_y(y_train)\n",
        "y_test = preproc_y(y_test)"
      ],
      "execution_count": 0,
      "outputs": []
    },
    {
      "cell_type": "markdown",
      "metadata": {
        "id": "q0NDJL6fwCkW",
        "colab_type": "text"
      },
      "source": [
        "# 1 建立神經網絡模型\n",
        "  *  L1- Regularization\n",
        "  * Optimizers: SGD \n",
        "  * Learning Rate = 0.001 \n",
        "  * Dropout Rate = 0.25, 0.3"
      ]
    },
    {
      "cell_type": "code",
      "metadata": {
        "id": "Paj4608MvNAQ",
        "colab_type": "code",
        "colab": {
          "base_uri": "https://localhost:8080/",
          "height": 565
        },
        "outputId": "74057cbb-4600-4cad-88ce-967e242b9a94"
      },
      "source": [
        "def build_mlp( input_shape, output_units = 10, num_neurons = [ 512, 256, 128 ], l1_parameter = 0, dropout_ratio = 0 ) : \n",
        "    \n",
        "    input_layer = keras.layers.Input( input_shape )\n",
        "    \n",
        "    for i, n_units in enumerate( num_neurons ) : \n",
        "        if i == 0 :\n",
        "            x = keras.layers.Dense( units = n_units, \n",
        "                                    activation = \"relu\",   # 激活函數\n",
        "                                    kernel_regularizer = l1( l1_parameter ),\n",
        "                                    name = \"Hidden_Layer_\" + str( i+1 ) )( input_layer )  \n",
        "            \n",
        "            # Dropout Layer\n",
        "            x = Dropout( rate = dropout_ratio, \n",
        "                         name = \"Dropout_Layer_\" + str( i+1 ) )( x ) \n",
        "              \n",
        "        else:\n",
        "            x = keras.layers.Dense( units = n_units, \n",
        "                                    activation = \"relu\", \n",
        "                                    kernel_regularizer = l1( l1_parameter ), \n",
        "                                    name = \"Hidden_Layer_\" + str( i+1 ) )( x )  \n",
        "            \n",
        "            # Dropout Layer\n",
        "            x = Dropout( rate = dropout_ratio,\n",
        "                         name = \"Dropout_Layer_\" + str( i+1 ) )( x )  \n",
        "              \n",
        "              \n",
        "    output_layer = keras.layers.Dense( units = output_units, \n",
        "                                       activation = 'softmax', \n",
        "                                       name = 'Output_Layer' )( x )\n",
        "    \n",
        "    model = keras.models.Model( inputs = [ input_layer ], outputs = [ output_layer ] )\n",
        "    return model\n",
        "\n",
        "model = build_mlp( input_shape = x_train.shape[ 1: ] ) \n",
        "model.summary( )"
      ],
      "execution_count": 5,
      "outputs": [
        {
          "output_type": "stream",
          "text": [
            "WARNING: Logging before flag parsing goes to stderr.\n",
            "W0721 06:34:06.011171 140346161702784 deprecation_wrapper.py:119] From /usr/local/lib/python3.6/dist-packages/keras/backend/tensorflow_backend.py:74: The name tf.get_default_graph is deprecated. Please use tf.compat.v1.get_default_graph instead.\n",
            "\n",
            "W0721 06:34:06.048293 140346161702784 deprecation_wrapper.py:119] From /usr/local/lib/python3.6/dist-packages/keras/backend/tensorflow_backend.py:517: The name tf.placeholder is deprecated. Please use tf.compat.v1.placeholder instead.\n",
            "\n",
            "W0721 06:34:06.055657 140346161702784 deprecation_wrapper.py:119] From /usr/local/lib/python3.6/dist-packages/keras/backend/tensorflow_backend.py:4138: The name tf.random_uniform is deprecated. Please use tf.random.uniform instead.\n",
            "\n"
          ],
          "name": "stderr"
        },
        {
          "output_type": "stream",
          "text": [
            "_________________________________________________________________\n",
            "Layer (type)                 Output Shape              Param #   \n",
            "=================================================================\n",
            "input_1 (InputLayer)         (None, 3072)              0         \n",
            "_________________________________________________________________\n",
            "Hidden_Layer_1 (Dense)       (None, 512)               1573376   \n",
            "_________________________________________________________________\n",
            "Dropout_Layer_1 (Dropout)    (None, 512)               0         \n",
            "_________________________________________________________________\n",
            "Hidden_Layer_2 (Dense)       (None, 256)               131328    \n",
            "_________________________________________________________________\n",
            "Dropout_Layer_2 (Dropout)    (None, 256)               0         \n",
            "_________________________________________________________________\n",
            "Hidden_Layer_3 (Dense)       (None, 128)               32896     \n",
            "_________________________________________________________________\n",
            "Dropout_Layer_3 (Dropout)    (None, 128)               0         \n",
            "_________________________________________________________________\n",
            "Output_Layer (Dense)         (None, 10)                1290      \n",
            "=================================================================\n",
            "Total params: 1,738,890\n",
            "Trainable params: 1,738,890\n",
            "Non-trainable params: 0\n",
            "_________________________________________________________________\n"
          ],
          "name": "stdout"
        }
      ]
    },
    {
      "cell_type": "markdown",
      "metadata": {
        "id": "wLkqN7Fc0hX0",
        "colab_type": "text"
      },
      "source": [
        "## 1.1 設定超參數"
      ]
    },
    {
      "cell_type": "code",
      "metadata": {
        "id": "Q041bbsZvNAT",
        "colab_type": "code",
        "colab": {}
      },
      "source": [
        "EPOCHS = 50\n",
        "BATCH_SIZE = 512\n",
        "\n",
        "L1_PARAMETER = 1e-6            # for activation function with regularization\n",
        "Dropout_Ratio = [ 0.25, 0.3 ]  # Dropuot Layer\n",
        "\n",
        "LEARNING_RATE = 1e-3  # for optimizer\n",
        "MOMENTUM = 0.95       # for optimizer"
      ],
      "execution_count": 0,
      "outputs": []
    },
    {
      "cell_type": "markdown",
      "metadata": {
        "id": "Nao_rAeU00y6",
        "colab_type": "text"
      },
      "source": [
        "## 1.2 優化器(Optimizer)"
      ]
    },
    {
      "cell_type": "code",
      "metadata": {
        "id": "2FrjFLTP02qK",
        "colab_type": "code",
        "colab": {}
      },
      "source": [
        "SGD = keras.optimizers.SGD( lr = LEARNING_RATE, \n",
        "                            momentum = MOMENTUM, \n",
        "                            nesterov = True\n",
        "                            )\n",
        "\n",
        "Optimizers = 'SGD'"
      ],
      "execution_count": 0,
      "outputs": []
    },
    {
      "cell_type": "markdown",
      "metadata": {
        "id": "KJls3SKQ08z0",
        "colab_type": "text"
      },
      "source": [
        "## 1.3 訓練模型"
      ]
    },
    {
      "cell_type": "code",
      "metadata": {
        "id": "JBnG331006Iv",
        "colab_type": "code",
        "colab": {
          "base_uri": "https://localhost:8080/",
          "height": 1000
        },
        "outputId": "4727d28c-9ed0-435e-bacf-62eb252bfef2"
      },
      "source": [
        "results = {}\n",
        "\n",
        "\"\"\"\n",
        "建立訓練與實驗迴圈並蒐集資料\n",
        "\"\"\"\n",
        "for dropout_ratio in Dropout_Ratio :\n",
        "    keras.backend.clear_session( )    # 清掉舊的 Graph \n",
        "    \n",
        "    print( 'Dropout Ratio = ' + str( dropout_ratio ) )\n",
        "    model = build_mlp( input_shape = x_train.shape[ 1: ],\n",
        "                       l1_parameter = L1_PARAMETER, \n",
        "                       dropout_ratio = dropout_ratio\n",
        "                       )\n",
        "    model.summary( )\n",
        "    \n",
        "    \n",
        "    # 執行神經網絡\n",
        "    model.compile( loss = 'categorical_crossentropy', \n",
        "                   optimizer = Optimizers, \n",
        "                   metrics=[ 'accuracy' ] \n",
        "                   )\n",
        "\n",
        "    model.fit( x_train, y_train, \n",
        "               epochs = EPOCHS,     \n",
        "               batch_size = BATCH_SIZE, \n",
        "               validation_data = ( x_test, y_test ), \n",
        "               shuffle = True\n",
        "               )\n",
        "    \n",
        "    # Collect results\n",
        "    train_loss = model.history.history[ 'loss' ]\n",
        "    valid_loss = model.history.history[ 'val_loss' ]\n",
        "    train_acc = model.history.history[ 'acc' ]\n",
        "    valid_acc = model.history.history[ 'val_acc' ]\n",
        "    \n",
        "    exp_name_tag = \"dropout.-%s\" % str( dropout_ratio )\n",
        "    results[ exp_name_tag ] = { 'train-loss': train_loss,\n",
        "                                'valid-loss': valid_loss,\n",
        "                                'train-acc': train_acc,\n",
        "                                'valid-acc': valid_acc\n",
        "                                }"
      ],
      "execution_count": 8,
      "outputs": [
        {
          "output_type": "stream",
          "text": [
            "W0721 06:34:06.181409 140346161702784 deprecation_wrapper.py:119] From /usr/local/lib/python3.6/dist-packages/keras/backend/tensorflow_backend.py:95: The name tf.reset_default_graph is deprecated. Please use tf.compat.v1.reset_default_graph instead.\n",
            "\n",
            "W0721 06:34:06.186175 140346161702784 deprecation_wrapper.py:119] From /usr/local/lib/python3.6/dist-packages/keras/backend/tensorflow_backend.py:98: The name tf.placeholder_with_default is deprecated. Please use tf.compat.v1.placeholder_with_default instead.\n",
            "\n",
            "W0721 06:34:06.220477 140346161702784 deprecation.py:506] From /usr/local/lib/python3.6/dist-packages/keras/backend/tensorflow_backend.py:3445: calling dropout (from tensorflow.python.ops.nn_ops) with keep_prob is deprecated and will be removed in a future version.\n",
            "Instructions for updating:\n",
            "Please use `rate` instead of `keep_prob`. Rate should be set to `rate = 1 - keep_prob`.\n"
          ],
          "name": "stderr"
        },
        {
          "output_type": "stream",
          "text": [
            "Dropout Ratio = 0.25\n",
            "_________________________________________________________________\n"
          ],
          "name": "stdout"
        },
        {
          "output_type": "stream",
          "text": [
            "W0721 06:34:06.322044 140346161702784 deprecation_wrapper.py:119] From /usr/local/lib/python3.6/dist-packages/keras/optimizers.py:790: The name tf.train.Optimizer is deprecated. Please use tf.compat.v1.train.Optimizer instead.\n",
            "\n"
          ],
          "name": "stderr"
        },
        {
          "output_type": "stream",
          "text": [
            "Layer (type)                 Output Shape              Param #   \n",
            "=================================================================\n",
            "input_1 (InputLayer)         (None, 3072)              0         \n",
            "_________________________________________________________________\n",
            "Hidden_Layer_1 (Dense)       (None, 512)               1573376   \n",
            "_________________________________________________________________\n",
            "Dropout_Layer_1 (Dropout)    (None, 512)               0         \n",
            "_________________________________________________________________\n",
            "Hidden_Layer_2 (Dense)       (None, 256)               131328    \n",
            "_________________________________________________________________\n",
            "Dropout_Layer_2 (Dropout)    (None, 256)               0         \n",
            "_________________________________________________________________\n",
            "Hidden_Layer_3 (Dense)       (None, 128)               32896     \n",
            "_________________________________________________________________\n",
            "Dropout_Layer_3 (Dropout)    (None, 128)               0         \n",
            "_________________________________________________________________\n",
            "Output_Layer (Dense)         (None, 10)                1290      \n",
            "=================================================================\n",
            "Total params: 1,738,890\n",
            "Trainable params: 1,738,890\n",
            "Non-trainable params: 0\n",
            "_________________________________________________________________\n"
          ],
          "name": "stdout"
        },
        {
          "output_type": "stream",
          "text": [
            "W0721 06:34:06.630916 140346161702784 deprecation.py:323] From /usr/local/lib/python3.6/dist-packages/tensorflow/python/ops/math_grad.py:1250: add_dispatch_support.<locals>.wrapper (from tensorflow.python.ops.array_ops) is deprecated and will be removed in a future version.\n",
            "Instructions for updating:\n",
            "Use tf.where in 2.0, which has the same broadcast rule as np.where\n"
          ],
          "name": "stderr"
        },
        {
          "output_type": "stream",
          "text": [
            "Train on 50000 samples, validate on 10000 samples\n",
            "Epoch 1/50\n",
            "50000/50000 [==============================] - 11s 226us/step - loss: 2.3172 - acc: 0.1452 - val_loss: 2.1972 - val_acc: 0.2283\n",
            "Epoch 2/50\n",
            "50000/50000 [==============================] - 10s 205us/step - loss: 2.2070 - acc: 0.2003 - val_loss: 2.1006 - val_acc: 0.2815\n",
            "Epoch 3/50\n",
            "50000/50000 [==============================] - 10s 206us/step - loss: 2.1389 - acc: 0.2299 - val_loss: 2.0409 - val_acc: 0.3025\n",
            "Epoch 4/50\n",
            "50000/50000 [==============================] - 10s 205us/step - loss: 2.0899 - acc: 0.2485 - val_loss: 1.9901 - val_acc: 0.3213\n",
            "Epoch 5/50\n",
            "50000/50000 [==============================] - 10s 206us/step - loss: 2.0485 - acc: 0.2700 - val_loss: 1.9560 - val_acc: 0.3262\n",
            "Epoch 6/50\n",
            "50000/50000 [==============================] - 11s 210us/step - loss: 2.0186 - acc: 0.2826 - val_loss: 1.9258 - val_acc: 0.3365\n",
            "Epoch 7/50\n",
            "50000/50000 [==============================] - 10s 207us/step - loss: 1.9949 - acc: 0.2938 - val_loss: 1.9005 - val_acc: 0.3459\n",
            "Epoch 8/50\n",
            "50000/50000 [==============================] - 10s 207us/step - loss: 1.9683 - acc: 0.3031 - val_loss: 1.8833 - val_acc: 0.3411\n",
            "Epoch 9/50\n",
            "50000/50000 [==============================] - 10s 208us/step - loss: 1.9489 - acc: 0.3118 - val_loss: 1.8590 - val_acc: 0.3548\n",
            "Epoch 10/50\n",
            "50000/50000 [==============================] - 10s 207us/step - loss: 1.9307 - acc: 0.3186 - val_loss: 1.8409 - val_acc: 0.3651\n",
            "Epoch 11/50\n",
            "50000/50000 [==============================] - 10s 207us/step - loss: 1.9137 - acc: 0.3265 - val_loss: 1.8262 - val_acc: 0.3677\n",
            "Epoch 12/50\n",
            "50000/50000 [==============================] - 10s 208us/step - loss: 1.8983 - acc: 0.3348 - val_loss: 1.8118 - val_acc: 0.3760\n",
            "Epoch 13/50\n",
            "50000/50000 [==============================] - 10s 208us/step - loss: 1.8839 - acc: 0.3368 - val_loss: 1.7997 - val_acc: 0.3789\n",
            "Epoch 14/50\n",
            "50000/50000 [==============================] - 10s 207us/step - loss: 1.8723 - acc: 0.3428 - val_loss: 1.7836 - val_acc: 0.3870\n",
            "Epoch 15/50\n",
            "50000/50000 [==============================] - 10s 206us/step - loss: 1.8620 - acc: 0.3500 - val_loss: 1.7725 - val_acc: 0.3872\n",
            "Epoch 16/50\n",
            "50000/50000 [==============================] - 10s 208us/step - loss: 1.8458 - acc: 0.3522 - val_loss: 1.7572 - val_acc: 0.3954\n",
            "Epoch 17/50\n",
            "50000/50000 [==============================] - 10s 207us/step - loss: 1.8394 - acc: 0.3569 - val_loss: 1.7473 - val_acc: 0.3988\n",
            "Epoch 18/50\n",
            "50000/50000 [==============================] - 10s 209us/step - loss: 1.8290 - acc: 0.3601 - val_loss: 1.7364 - val_acc: 0.3992\n",
            "Epoch 19/50\n",
            "50000/50000 [==============================] - 10s 208us/step - loss: 1.8196 - acc: 0.3641 - val_loss: 1.7266 - val_acc: 0.4046\n",
            "Epoch 20/50\n",
            "50000/50000 [==============================] - 10s 208us/step - loss: 1.8104 - acc: 0.3669 - val_loss: 1.7168 - val_acc: 0.4071\n",
            "Epoch 21/50\n",
            "50000/50000 [==============================] - 10s 210us/step - loss: 1.7979 - acc: 0.3730 - val_loss: 1.7078 - val_acc: 0.4133\n",
            "Epoch 22/50\n",
            "50000/50000 [==============================] - 10s 209us/step - loss: 1.7913 - acc: 0.3762 - val_loss: 1.7067 - val_acc: 0.4123\n",
            "Epoch 23/50\n",
            "50000/50000 [==============================] - 10s 209us/step - loss: 1.7847 - acc: 0.3766 - val_loss: 1.6988 - val_acc: 0.4093\n",
            "Epoch 24/50\n",
            "50000/50000 [==============================] - 10s 208us/step - loss: 1.7751 - acc: 0.3821 - val_loss: 1.6818 - val_acc: 0.4232\n",
            "Epoch 25/50\n",
            "50000/50000 [==============================] - 10s 208us/step - loss: 1.7666 - acc: 0.3860 - val_loss: 1.6814 - val_acc: 0.4180\n",
            "Epoch 26/50\n",
            "50000/50000 [==============================] - 10s 209us/step - loss: 1.7603 - acc: 0.3892 - val_loss: 1.6672 - val_acc: 0.4266\n",
            "Epoch 27/50\n",
            "50000/50000 [==============================] - 10s 207us/step - loss: 1.7554 - acc: 0.3891 - val_loss: 1.6653 - val_acc: 0.4262\n",
            "Epoch 28/50\n",
            "50000/50000 [==============================] - 10s 207us/step - loss: 1.7444 - acc: 0.3940 - val_loss: 1.6578 - val_acc: 0.4295\n",
            "Epoch 29/50\n",
            "50000/50000 [==============================] - 10s 207us/step - loss: 1.7380 - acc: 0.3923 - val_loss: 1.6499 - val_acc: 0.4319\n",
            "Epoch 30/50\n",
            "50000/50000 [==============================] - 10s 207us/step - loss: 1.7338 - acc: 0.3962 - val_loss: 1.6453 - val_acc: 0.4344\n",
            "Epoch 31/50\n",
            "50000/50000 [==============================] - 10s 208us/step - loss: 1.7253 - acc: 0.4011 - val_loss: 1.6420 - val_acc: 0.4323\n",
            "Epoch 32/50\n",
            "50000/50000 [==============================] - 10s 209us/step - loss: 1.7187 - acc: 0.4053 - val_loss: 1.6338 - val_acc: 0.4349\n",
            "Epoch 33/50\n",
            "50000/50000 [==============================] - 10s 207us/step - loss: 1.7115 - acc: 0.4065 - val_loss: 1.6296 - val_acc: 0.4405\n",
            "Epoch 34/50\n",
            "50000/50000 [==============================] - 10s 207us/step - loss: 1.7091 - acc: 0.4059 - val_loss: 1.6472 - val_acc: 0.4318\n",
            "Epoch 35/50\n",
            "50000/50000 [==============================] - 10s 208us/step - loss: 1.6999 - acc: 0.4088 - val_loss: 1.6305 - val_acc: 0.4380\n",
            "Epoch 36/50\n",
            "50000/50000 [==============================] - 10s 210us/step - loss: 1.7005 - acc: 0.4108 - val_loss: 1.6134 - val_acc: 0.4438\n",
            "Epoch 37/50\n",
            "50000/50000 [==============================] - 10s 209us/step - loss: 1.6927 - acc: 0.4120 - val_loss: 1.6072 - val_acc: 0.4440\n",
            "Epoch 38/50\n",
            "50000/50000 [==============================] - 10s 208us/step - loss: 1.6849 - acc: 0.4121 - val_loss: 1.6052 - val_acc: 0.4397\n",
            "Epoch 39/50\n",
            "50000/50000 [==============================] - 10s 208us/step - loss: 1.6798 - acc: 0.4178 - val_loss: 1.5964 - val_acc: 0.4484\n",
            "Epoch 40/50\n",
            "50000/50000 [==============================] - 10s 208us/step - loss: 1.6723 - acc: 0.4206 - val_loss: 1.5987 - val_acc: 0.4486\n",
            "Epoch 41/50\n",
            "50000/50000 [==============================] - 10s 207us/step - loss: 1.6713 - acc: 0.4231 - val_loss: 1.5946 - val_acc: 0.4503\n",
            "Epoch 42/50\n",
            "50000/50000 [==============================] - 10s 207us/step - loss: 1.6636 - acc: 0.4225 - val_loss: 1.5801 - val_acc: 0.4535\n",
            "Epoch 43/50\n",
            "50000/50000 [==============================] - 10s 207us/step - loss: 1.6584 - acc: 0.4234 - val_loss: 1.5764 - val_acc: 0.4528\n",
            "Epoch 44/50\n",
            "50000/50000 [==============================] - 10s 208us/step - loss: 1.6526 - acc: 0.4260 - val_loss: 1.5762 - val_acc: 0.4545\n",
            "Epoch 45/50\n",
            "50000/50000 [==============================] - 10s 208us/step - loss: 1.6484 - acc: 0.4269 - val_loss: 1.5679 - val_acc: 0.4565\n",
            "Epoch 46/50\n",
            "50000/50000 [==============================] - 10s 208us/step - loss: 1.6451 - acc: 0.4330 - val_loss: 1.5603 - val_acc: 0.4647\n",
            "Epoch 47/50\n",
            "50000/50000 [==============================] - 10s 208us/step - loss: 1.6378 - acc: 0.4330 - val_loss: 1.5591 - val_acc: 0.4615\n",
            "Epoch 48/50\n",
            "50000/50000 [==============================] - 10s 208us/step - loss: 1.6334 - acc: 0.4345 - val_loss: 1.5571 - val_acc: 0.4602\n",
            "Epoch 49/50\n",
            "50000/50000 [==============================] - 10s 207us/step - loss: 1.6296 - acc: 0.4344 - val_loss: 1.5475 - val_acc: 0.4648\n",
            "Epoch 50/50\n",
            "50000/50000 [==============================] - 10s 206us/step - loss: 1.6247 - acc: 0.4389 - val_loss: 1.5466 - val_acc: 0.4659\n",
            "Dropout Ratio = 0.3\n",
            "_________________________________________________________________\n",
            "Layer (type)                 Output Shape              Param #   \n",
            "=================================================================\n",
            "input_1 (InputLayer)         (None, 3072)              0         \n",
            "_________________________________________________________________\n",
            "Hidden_Layer_1 (Dense)       (None, 512)               1573376   \n",
            "_________________________________________________________________\n",
            "Dropout_Layer_1 (Dropout)    (None, 512)               0         \n",
            "_________________________________________________________________\n",
            "Hidden_Layer_2 (Dense)       (None, 256)               131328    \n",
            "_________________________________________________________________\n",
            "Dropout_Layer_2 (Dropout)    (None, 256)               0         \n",
            "_________________________________________________________________\n",
            "Hidden_Layer_3 (Dense)       (None, 128)               32896     \n",
            "_________________________________________________________________\n",
            "Dropout_Layer_3 (Dropout)    (None, 128)               0         \n",
            "_________________________________________________________________\n",
            "Output_Layer (Dense)         (None, 10)                1290      \n",
            "=================================================================\n",
            "Total params: 1,738,890\n",
            "Trainable params: 1,738,890\n",
            "Non-trainable params: 0\n",
            "_________________________________________________________________\n",
            "Train on 50000 samples, validate on 10000 samples\n",
            "Epoch 1/50\n",
            "50000/50000 [==============================] - 11s 223us/step - loss: 2.3407 - acc: 0.1346 - val_loss: 2.2190 - val_acc: 0.2308\n",
            "Epoch 2/50\n",
            "50000/50000 [==============================] - 10s 207us/step - loss: 2.2282 - acc: 0.1887 - val_loss: 2.1239 - val_acc: 0.2722\n",
            "Epoch 3/50\n",
            "50000/50000 [==============================] - 10s 207us/step - loss: 2.1628 - acc: 0.2132 - val_loss: 2.0625 - val_acc: 0.2907\n",
            "Epoch 4/50\n",
            "50000/50000 [==============================] - 10s 208us/step - loss: 2.1138 - acc: 0.2311 - val_loss: 2.0154 - val_acc: 0.3099\n",
            "Epoch 5/50\n",
            "50000/50000 [==============================] - 10s 208us/step - loss: 2.0788 - acc: 0.2490 - val_loss: 1.9835 - val_acc: 0.3240\n",
            "Epoch 6/50\n",
            "50000/50000 [==============================] - 10s 206us/step - loss: 2.0474 - acc: 0.2642 - val_loss: 1.9500 - val_acc: 0.3325\n",
            "Epoch 7/50\n",
            "50000/50000 [==============================] - 10s 207us/step - loss: 2.0221 - acc: 0.2762 - val_loss: 1.9307 - val_acc: 0.3365\n",
            "Epoch 8/50\n",
            "50000/50000 [==============================] - 10s 207us/step - loss: 2.0029 - acc: 0.2831 - val_loss: 1.9050 - val_acc: 0.3426\n",
            "Epoch 9/50\n",
            "50000/50000 [==============================] - 10s 204us/step - loss: 1.9822 - acc: 0.2942 - val_loss: 1.8906 - val_acc: 0.3519\n",
            "Epoch 10/50\n",
            "50000/50000 [==============================] - 10s 205us/step - loss: 1.9644 - acc: 0.2977 - val_loss: 1.8735 - val_acc: 0.3555\n",
            "Epoch 11/50\n",
            "50000/50000 [==============================] - 10s 206us/step - loss: 1.9476 - acc: 0.3099 - val_loss: 1.8553 - val_acc: 0.3544\n",
            "Epoch 12/50\n",
            "50000/50000 [==============================] - 10s 207us/step - loss: 1.9317 - acc: 0.3162 - val_loss: 1.8371 - val_acc: 0.3725\n",
            "Epoch 13/50\n",
            "50000/50000 [==============================] - 10s 207us/step - loss: 1.9237 - acc: 0.3209 - val_loss: 1.8236 - val_acc: 0.3738\n",
            "Epoch 14/50\n",
            "50000/50000 [==============================] - 10s 208us/step - loss: 1.9054 - acc: 0.3250 - val_loss: 1.8158 - val_acc: 0.3782\n",
            "Epoch 15/50\n",
            "50000/50000 [==============================] - 10s 207us/step - loss: 1.8942 - acc: 0.3302 - val_loss: 1.7953 - val_acc: 0.3791\n",
            "Epoch 16/50\n",
            "50000/50000 [==============================] - 10s 209us/step - loss: 1.8826 - acc: 0.3376 - val_loss: 1.7847 - val_acc: 0.3851\n",
            "Epoch 17/50\n",
            "50000/50000 [==============================] - 10s 207us/step - loss: 1.8721 - acc: 0.3426 - val_loss: 1.7748 - val_acc: 0.3883\n",
            "Epoch 18/50\n",
            "50000/50000 [==============================] - 10s 207us/step - loss: 1.8638 - acc: 0.3443 - val_loss: 1.7657 - val_acc: 0.3940\n",
            "Epoch 19/50\n",
            "50000/50000 [==============================] - 10s 208us/step - loss: 1.8568 - acc: 0.3477 - val_loss: 1.7526 - val_acc: 0.3978\n",
            "Epoch 20/50\n",
            "50000/50000 [==============================] - 10s 207us/step - loss: 1.8463 - acc: 0.3505 - val_loss: 1.7443 - val_acc: 0.4006\n",
            "Epoch 21/50\n",
            "50000/50000 [==============================] - 10s 206us/step - loss: 1.8361 - acc: 0.3534 - val_loss: 1.7365 - val_acc: 0.4023\n",
            "Epoch 22/50\n",
            "50000/50000 [==============================] - 10s 207us/step - loss: 1.8273 - acc: 0.3588 - val_loss: 1.7305 - val_acc: 0.4128\n",
            "Epoch 23/50\n",
            "50000/50000 [==============================] - 10s 206us/step - loss: 1.8215 - acc: 0.3651 - val_loss: 1.7205 - val_acc: 0.4128\n",
            "Epoch 24/50\n",
            "50000/50000 [==============================] - 10s 208us/step - loss: 1.8087 - acc: 0.3640 - val_loss: 1.7108 - val_acc: 0.4112\n",
            "Epoch 25/50\n",
            "50000/50000 [==============================] - 10s 208us/step - loss: 1.8045 - acc: 0.3684 - val_loss: 1.7007 - val_acc: 0.4171\n",
            "Epoch 26/50\n",
            "50000/50000 [==============================] - 10s 207us/step - loss: 1.7968 - acc: 0.3707 - val_loss: 1.6932 - val_acc: 0.4210\n",
            "Epoch 27/50\n",
            "50000/50000 [==============================] - 10s 207us/step - loss: 1.7862 - acc: 0.3770 - val_loss: 1.6838 - val_acc: 0.4230\n",
            "Epoch 28/50\n",
            "50000/50000 [==============================] - 10s 207us/step - loss: 1.7800 - acc: 0.3783 - val_loss: 1.6815 - val_acc: 0.4245\n",
            "Epoch 29/50\n",
            "50000/50000 [==============================] - 10s 207us/step - loss: 1.7784 - acc: 0.3792 - val_loss: 1.6738 - val_acc: 0.4260\n",
            "Epoch 30/50\n",
            "50000/50000 [==============================] - 10s 208us/step - loss: 1.7662 - acc: 0.3849 - val_loss: 1.6681 - val_acc: 0.4309\n",
            "Epoch 31/50\n",
            "50000/50000 [==============================] - 10s 208us/step - loss: 1.7601 - acc: 0.3865 - val_loss: 1.6605 - val_acc: 0.4283\n",
            "Epoch 32/50\n",
            "50000/50000 [==============================] - 10s 208us/step - loss: 1.7570 - acc: 0.3879 - val_loss: 1.6616 - val_acc: 0.4318\n",
            "Epoch 33/50\n",
            "50000/50000 [==============================] - 10s 207us/step - loss: 1.7515 - acc: 0.3862 - val_loss: 1.6509 - val_acc: 0.4327\n",
            "Epoch 34/50\n",
            "50000/50000 [==============================] - 10s 207us/step - loss: 1.7480 - acc: 0.3902 - val_loss: 1.6449 - val_acc: 0.4359\n",
            "Epoch 35/50\n",
            "50000/50000 [==============================] - 10s 207us/step - loss: 1.7357 - acc: 0.3926 - val_loss: 1.6365 - val_acc: 0.4379\n",
            "Epoch 36/50\n",
            "50000/50000 [==============================] - 10s 207us/step - loss: 1.7351 - acc: 0.3954 - val_loss: 1.6357 - val_acc: 0.4386\n",
            "Epoch 37/50\n",
            "50000/50000 [==============================] - 10s 207us/step - loss: 1.7289 - acc: 0.3958 - val_loss: 1.6322 - val_acc: 0.4393\n",
            "Epoch 38/50\n",
            "50000/50000 [==============================] - 10s 206us/step - loss: 1.7232 - acc: 0.3996 - val_loss: 1.6291 - val_acc: 0.4405\n",
            "Epoch 39/50\n",
            "50000/50000 [==============================] - 10s 207us/step - loss: 1.7197 - acc: 0.4015 - val_loss: 1.6198 - val_acc: 0.4435\n",
            "Epoch 40/50\n",
            "50000/50000 [==============================] - 10s 207us/step - loss: 1.7156 - acc: 0.4028 - val_loss: 1.6113 - val_acc: 0.4424\n",
            "Epoch 41/50\n",
            "50000/50000 [==============================] - 10s 206us/step - loss: 1.7092 - acc: 0.4074 - val_loss: 1.6060 - val_acc: 0.4457\n",
            "Epoch 42/50\n",
            "50000/50000 [==============================] - 10s 207us/step - loss: 1.7018 - acc: 0.4067 - val_loss: 1.6248 - val_acc: 0.4432\n",
            "Epoch 43/50\n",
            "50000/50000 [==============================] - 10s 206us/step - loss: 1.6981 - acc: 0.4090 - val_loss: 1.5961 - val_acc: 0.4472\n",
            "Epoch 44/50\n",
            "50000/50000 [==============================] - 10s 208us/step - loss: 1.6926 - acc: 0.4107 - val_loss: 1.6031 - val_acc: 0.4500\n",
            "Epoch 45/50\n",
            "50000/50000 [==============================] - 10s 208us/step - loss: 1.6875 - acc: 0.4143 - val_loss: 1.5881 - val_acc: 0.4542\n",
            "Epoch 46/50\n",
            "50000/50000 [==============================] - 10s 210us/step - loss: 1.6822 - acc: 0.4158 - val_loss: 1.5869 - val_acc: 0.4522\n",
            "Epoch 47/50\n",
            "50000/50000 [==============================] - 10s 208us/step - loss: 1.6796 - acc: 0.4179 - val_loss: 1.5803 - val_acc: 0.4576\n",
            "Epoch 48/50\n",
            "50000/50000 [==============================] - 10s 209us/step - loss: 1.6697 - acc: 0.4187 - val_loss: 1.5810 - val_acc: 0.4559\n",
            "Epoch 49/50\n",
            "50000/50000 [==============================] - 10s 207us/step - loss: 1.6708 - acc: 0.4189 - val_loss: 1.5766 - val_acc: 0.4587\n",
            "Epoch 50/50\n",
            "50000/50000 [==============================] - 10s 206us/step - loss: 1.6648 - acc: 0.4212 - val_loss: 1.5702 - val_acc: 0.4582\n"
          ],
          "name": "stdout"
        }
      ]
    },
    {
      "cell_type": "markdown",
      "metadata": {
        "id": "p-gZ9oMYjqt8",
        "colab_type": "text"
      },
      "source": [
        "## 1.4 損失函數及準確率"
      ]
    },
    {
      "cell_type": "code",
      "metadata": {
        "id": "MIAnw6F3vNAZ",
        "colab_type": "code",
        "colab": {
          "base_uri": "https://localhost:8080/",
          "height": 762
        },
        "outputId": "6cb3ecf1-5652-4165-eb7f-9ccb0ed847a1"
      },
      "source": [
        "color_bar = [ 'r', 'b' ]\n",
        "\n",
        "plt.figure( figsize = ( 8, 6 ) )\n",
        "for i, cond in enumerate( results.keys( ) ) :\n",
        "    plt.plot( range( len(results[ cond ][ 'train-loss' ] ) ), results[ cond ][ 'train-loss' ], '-', label = 'Train Loss: ' + cond, color = color_bar[i] )\n",
        "    plt.plot( range( len(results[ cond ][ 'valid-loss' ] ) ), results[ cond ][ 'valid-loss' ], '--', label = 'Valid Loss: ' + cond, color = color_bar[i] )\n",
        "plt.title( 'Loss' )\n",
        "plt.legend( )\n",
        "plt.show( )\n",
        "\n",
        "plt.figure( figsize = ( 8, 6 ) )\n",
        "for i, cond in enumerate( results.keys( ) ) :\n",
        "    plt.plot(range( len( results[ cond ][ 'train-acc' ] ) ), results[ cond ][ 'train-acc' ], '-', label = 'Train acc: ' + cond, color = color_bar[i] )\n",
        "    plt.plot(range( len( results[ cond ][ 'valid-acc' ] ) ), results[ cond ][ 'valid-acc' ], '--', label = 'Valid acc: ' + cond, color = color_bar[i] )\n",
        "plt.title( 'Accuracy' )\n",
        "plt.legend( )\n",
        "plt.show( )"
      ],
      "execution_count": 9,
      "outputs": [
        {
          "output_type": "display_data",
          "data": {
            "image/png": "[encoded data removed]",
            "text/plain": [
              "<Figure size 576x432 with 1 Axes>"
            ]
          },
          "metadata": {
            "tags": []
          }
        },
        {
          "output_type": "display_data",
          "data": {
            "image/png": "[encoded data removed]",
            "text/plain": [
              "<Figure size 576x432 with 1 Axes>"
            ]
          },
          "metadata": {
            "tags": []
          }
        }
      ]
    },
    {
      "cell_type": "markdown",
      "metadata": {
        "id": "PCN-5LyskSJB",
        "colab_type": "text"
      },
      "source": [
        "# 2 建立神經網絡模型\n",
        "  * Batch Normalization  \n",
        "  * Optimizers: SGD  \n",
        "  * Learning Rate = 0.001"
      ]
    },
    {
      "cell_type": "code",
      "metadata": {
        "id": "5JDIP-LOkxRn",
        "colab_type": "code",
        "colab": {
          "base_uri": "https://localhost:8080/",
          "height": 527
        },
        "outputId": "be629132-acd6-462e-b78b-7f8df14d837a"
      },
      "source": [
        "def build_mlp( input_shape, output_units = 10, num_neurons = [ 512, 256, 128 ], pre_activate = False ) : \n",
        "    \n",
        "    input_layer = keras.layers.Input( input_shape )\n",
        "    \n",
        "    for i, n_units in enumerate( num_neurons ) : \n",
        "        if i == 0 :\n",
        "            x = keras.layers.Dense( units = n_units, \n",
        "                                    activation = \"relu\", \n",
        "                                    name = \"Hidden_Layer_\" + str( i+1 ) )( input_layer )  \n",
        "            \n",
        "            if pre_activate :\n",
        "                x = BatchNormalization( name = \"BN_Layer_\" + str( i+1 ) )( x )\n",
        "                x = Activation( 'relu' )( x )\n",
        "            else :\n",
        "                x = Activation( 'relu' )( x )\n",
        "                x = BatchNormalization( name = \"BN_Layer_\" + str( i+1 ) )( x )\n",
        "            \n",
        "            \n",
        "            \n",
        "        else :\n",
        "            x = keras.layers.Dense( units = n_units, \n",
        "                                    activation = \"relu\",  \n",
        "                                    name = \"Hidden_Layer_\" + str( i+1 ) )( x )  \n",
        "            \n",
        "            if pre_activate :\n",
        "                # Batch Normalization Layer 在 Activation Function 前加入\n",
        "                x = BatchNormalization( name = \"BN_Layer_\" + str( i+1 ) )( x )\n",
        "                x = Activation( 'relu' )( x )\n",
        "            else :\n",
        "                x = Activation( 'relu' )( x )\n",
        "                x = BatchNormalization( name = \"BN_Layer_\" + str( i+1 ) )( x )\n",
        "                          \n",
        "              \n",
        "    output_layer = keras.layers.Dense( units = output_units, \n",
        "                                       activation = 'softmax', \n",
        "                                       name = 'Output_Layer' )( x )\n",
        "    \n",
        "    model = keras.models.Model( inputs = [ input_layer ], outputs = [ output_layer ] )\n",
        "    return model\n",
        "\n",
        "model = build_mlp( input_shape = x_train.shape[ 1: ] ) \n",
        "model.summary( )  "
      ],
      "execution_count": 12,
      "outputs": [
        {
          "output_type": "stream",
          "text": [
            "_________________________________________________________________\n",
            "Layer (type)                 Output Shape              Param #   \n",
            "=================================================================\n",
            "input_3 (InputLayer)         (None, 3072)              0         \n",
            "_________________________________________________________________\n",
            "Hidden_Layer_1 (Dense)       (None, 512)               1573376   \n",
            "_________________________________________________________________\n",
            "activation_1 (Activation)    (None, 512)               0         \n",
            "_________________________________________________________________\n",
            "BN_Layer_1 (BatchNormalizati (None, 512)               2048      \n",
            "_________________________________________________________________\n",
            "Hidden_Layer_2 (Dense)       (None, 256)               131328    \n",
            "_________________________________________________________________\n",
            "activation_2 (Activation)    (None, 256)               0         \n",
            "_________________________________________________________________\n",
            "BN_Layer_2 (BatchNormalizati (None, 256)               1024      \n",
            "_________________________________________________________________\n",
            "Hidden_Layer_3 (Dense)       (None, 128)               32896     \n",
            "_________________________________________________________________\n",
            "activation_3 (Activation)    (None, 128)               0         \n",
            "_________________________________________________________________\n",
            "BN_Layer_3 (BatchNormalizati (None, 128)               512       \n",
            "_________________________________________________________________\n",
            "Output_Layer (Dense)         (None, 10)                1290      \n",
            "=================================================================\n",
            "Total params: 1,742,474\n",
            "Trainable params: 1,740,682\n",
            "Non-trainable params: 1,792\n",
            "_________________________________________________________________\n"
          ],
          "name": "stdout"
        }
      ]
    },
    {
      "cell_type": "markdown",
      "metadata": {
        "id": "qiteJtWblDgK",
        "colab_type": "text"
      },
      "source": [
        "## 2.1 設定超參數"
      ]
    },
    {
      "cell_type": "code",
      "metadata": {
        "id": "P6Qf2S-Vk-lK",
        "colab_type": "code",
        "colab": {}
      },
      "source": [
        "EPOCHS = 50\n",
        "BATCH_SIZE = 512\n",
        "\n",
        "PRE_ACTIVATE = [ True, False ]  # Batch Normalization Layer before activation function \n",
        "\n",
        "LEARNING_RATE = 1e-3     # for optimizer\n",
        "MOMENTUM = 0.95          # for optimizer "
      ],
      "execution_count": 0,
      "outputs": []
    },
    {
      "cell_type": "markdown",
      "metadata": {
        "id": "lafiF00_lKiu",
        "colab_type": "text"
      },
      "source": [
        "## 2.2 優化器(Optimizer)"
      ]
    },
    {
      "cell_type": "code",
      "metadata": {
        "id": "sj2Oirq_lOyN",
        "colab_type": "code",
        "colab": {}
      },
      "source": [
        "SGD = keras.optimizers.SGD( lr = LEARNING_RATE, \n",
        "                            momentum = MOMENTUM, \n",
        "                            nesterov = True\n",
        "                            )\n",
        "\n",
        "Optimizers = 'SGD'"
      ],
      "execution_count": 0,
      "outputs": []
    },
    {
      "cell_type": "markdown",
      "metadata": {
        "id": "MyLp9qljlSRQ",
        "colab_type": "text"
      },
      "source": [
        "## 2.3 訓練模型"
      ]
    },
    {
      "cell_type": "code",
      "metadata": {
        "id": "PiZhlW2tk-w_",
        "colab_type": "code",
        "colab": {
          "base_uri": "https://localhost:8080/",
          "height": 1000
        },
        "outputId": "4f95018d-8a0a-458d-86d4-9c87f73b747d"
      },
      "source": [
        "results = {}\n",
        "\n",
        "\"\"\"\n",
        "建立訓練與實驗迴圈並蒐集資料\n",
        "\"\"\"\n",
        "for PRE_ACTIVATE in PRE_ACTIVATE :\n",
        "    keras.backend.clear_session( )    # 清掉舊的 Graph \n",
        "    \n",
        "    print( 'BN Layer before activative function = ' + str( PRE_ACTIVATE ) )\n",
        "    model = build_mlp( input_shape = x_train.shape[ 1: ], pre_activate = PRE_ACTIVATE )\n",
        "    model.summary( )\n",
        "    \n",
        "    \n",
        "    # 執行神經網絡\n",
        "    model.compile( loss = 'categorical_crossentropy', \n",
        "                   optimizer = Optimizers, \n",
        "                   metrics=[ 'accuracy' ] \n",
        "                   )\n",
        "\n",
        "    model.fit( x_train, y_train, \n",
        "               epochs = EPOCHS,     \n",
        "               batch_size = BATCH_SIZE, \n",
        "               validation_data = ( x_test, y_test ), \n",
        "               shuffle = True\n",
        "               )\n",
        "    \n",
        "    # Collect results\n",
        "    train_loss = model.history.history[ 'loss' ]\n",
        "    valid_loss = model.history.history[ 'val_loss' ]\n",
        "    train_acc = model.history.history[ 'acc' ]\n",
        "    valid_acc = model.history.history[ 'val_acc' ]\n",
        "    \n",
        "    exp_name_tag = \"BN Layer before activation function .-%s\" % str( PRE_ACTIVATE )\n",
        "    results[ exp_name_tag ] = { 'train-loss': train_loss,\n",
        "                                'valid-loss': valid_loss,\n",
        "                                'train-acc': train_acc,\n",
        "                                'valid-acc': valid_acc\n",
        "                                }"
      ],
      "execution_count": 15,
      "outputs": [
        {
          "output_type": "stream",
          "text": [
            "BN Layer before activative function = True\n",
            "_________________________________________________________________\n",
            "Layer (type)                 Output Shape              Param #   \n",
            "=================================================================\n",
            "input_1 (InputLayer)         (None, 3072)              0         \n",
            "_________________________________________________________________\n",
            "Hidden_Layer_1 (Dense)       (None, 512)               1573376   \n",
            "_________________________________________________________________\n",
            "BN_Layer_1 (BatchNormalizati (None, 512)               2048      \n",
            "_________________________________________________________________\n",
            "activation_1 (Activation)    (None, 512)               0         \n",
            "_________________________________________________________________\n",
            "Hidden_Layer_2 (Dense)       (None, 256)               131328    \n",
            "_________________________________________________________________\n",
            "BN_Layer_2 (BatchNormalizati (None, 256)               1024      \n",
            "_________________________________________________________________\n",
            "activation_2 (Activation)    (None, 256)               0         \n",
            "_________________________________________________________________\n",
            "Hidden_Layer_3 (Dense)       (None, 128)               32896     \n",
            "_________________________________________________________________\n",
            "BN_Layer_3 (BatchNormalizati (None, 128)               512       \n",
            "_________________________________________________________________\n",
            "activation_3 (Activation)    (None, 128)               0         \n",
            "_________________________________________________________________\n",
            "Output_Layer (Dense)         (None, 10)                1290      \n",
            "=================================================================\n",
            "Total params: 1,742,474\n",
            "Trainable params: 1,740,682\n",
            "Non-trainable params: 1,792\n",
            "_________________________________________________________________\n",
            "Train on 50000 samples, validate on 10000 samples\n",
            "Epoch 1/50\n",
            "50000/50000 [==============================] - 10s 202us/step - loss: 2.2377 - acc: 0.2382 - val_loss: 2.1737 - val_acc: 0.2933\n",
            "Epoch 2/50\n",
            "50000/50000 [==============================] - 10s 195us/step - loss: 1.8774 - acc: 0.3539 - val_loss: 1.9270 - val_acc: 0.3428\n",
            "Epoch 3/50\n",
            "50000/50000 [==============================] - 10s 195us/step - loss: 1.7491 - acc: 0.4012 - val_loss: 1.8609 - val_acc: 0.3610\n",
            "Epoch 4/50\n",
            "50000/50000 [==============================] - 10s 195us/step - loss: 1.6654 - acc: 0.4311 - val_loss: 1.7773 - val_acc: 0.3918\n",
            "Epoch 5/50\n",
            "50000/50000 [==============================] - 10s 195us/step - loss: 1.5983 - acc: 0.4540 - val_loss: 1.7286 - val_acc: 0.4095\n",
            "Epoch 6/50\n",
            "50000/50000 [==============================] - 10s 196us/step - loss: 1.5452 - acc: 0.4731 - val_loss: 1.7048 - val_acc: 0.4126\n",
            "Epoch 7/50\n",
            "50000/50000 [==============================] - 10s 195us/step - loss: 1.4962 - acc: 0.4912 - val_loss: 1.6856 - val_acc: 0.4182\n",
            "Epoch 8/50\n",
            "50000/50000 [==============================] - 10s 194us/step - loss: 1.4538 - acc: 0.5044 - val_loss: 1.6888 - val_acc: 0.4262\n",
            "Epoch 9/50\n",
            "50000/50000 [==============================] - 10s 196us/step - loss: 1.4128 - acc: 0.5214 - val_loss: 1.6522 - val_acc: 0.4353\n",
            "Epoch 10/50\n",
            "50000/50000 [==============================] - 10s 195us/step - loss: 1.3733 - acc: 0.5329 - val_loss: 1.6383 - val_acc: 0.4369\n",
            "Epoch 11/50\n",
            "50000/50000 [==============================] - 10s 198us/step - loss: 1.3371 - acc: 0.5461 - val_loss: 1.6446 - val_acc: 0.4426\n",
            "Epoch 12/50\n",
            "50000/50000 [==============================] - 10s 195us/step - loss: 1.3036 - acc: 0.5574 - val_loss: 1.6111 - val_acc: 0.4422\n",
            "Epoch 13/50\n",
            "50000/50000 [==============================] - 10s 194us/step - loss: 1.2690 - acc: 0.5693 - val_loss: 1.6251 - val_acc: 0.4415\n",
            "Epoch 14/50\n",
            "50000/50000 [==============================] - 10s 195us/step - loss: 1.2372 - acc: 0.5823 - val_loss: 1.6140 - val_acc: 0.4522\n",
            "Epoch 15/50\n",
            "50000/50000 [==============================] - 10s 195us/step - loss: 1.2058 - acc: 0.5923 - val_loss: 1.6218 - val_acc: 0.4440\n",
            "Epoch 16/50\n",
            "50000/50000 [==============================] - 10s 196us/step - loss: 1.1748 - acc: 0.6039 - val_loss: 1.6142 - val_acc: 0.4534\n",
            "Epoch 17/50\n",
            "50000/50000 [==============================] - 10s 197us/step - loss: 1.1452 - acc: 0.6138 - val_loss: 1.6153 - val_acc: 0.4492\n",
            "Epoch 18/50\n",
            "50000/50000 [==============================] - 10s 198us/step - loss: 1.1168 - acc: 0.6250 - val_loss: 1.6277 - val_acc: 0.4466\n",
            "Epoch 19/50\n",
            "50000/50000 [==============================] - 10s 199us/step - loss: 1.0872 - acc: 0.6370 - val_loss: 1.6052 - val_acc: 0.4601\n",
            "Epoch 20/50\n",
            "50000/50000 [==============================] - 10s 199us/step - loss: 1.0599 - acc: 0.6450 - val_loss: 1.6053 - val_acc: 0.4603\n",
            "Epoch 21/50\n",
            "50000/50000 [==============================] - 10s 200us/step - loss: 1.0336 - acc: 0.6547 - val_loss: 1.6280 - val_acc: 0.4510\n",
            "Epoch 22/50\n",
            "50000/50000 [==============================] - 10s 198us/step - loss: 1.0059 - acc: 0.6654 - val_loss: 1.6241 - val_acc: 0.4526\n",
            "Epoch 23/50\n",
            "50000/50000 [==============================] - 10s 199us/step - loss: 0.9808 - acc: 0.6762 - val_loss: 1.6237 - val_acc: 0.4550\n",
            "Epoch 24/50\n",
            "50000/50000 [==============================] - 10s 201us/step - loss: 0.9538 - acc: 0.6849 - val_loss: 1.6291 - val_acc: 0.4555\n",
            "Epoch 25/50\n",
            "50000/50000 [==============================] - 10s 198us/step - loss: 0.9280 - acc: 0.6968 - val_loss: 1.6536 - val_acc: 0.4523\n",
            "Epoch 26/50\n",
            "50000/50000 [==============================] - 10s 199us/step - loss: 0.9016 - acc: 0.7042 - val_loss: 1.6785 - val_acc: 0.4426\n",
            "Epoch 27/50\n",
            "50000/50000 [==============================] - 10s 198us/step - loss: 0.8776 - acc: 0.7167 - val_loss: 1.6596 - val_acc: 0.4603\n",
            "Epoch 28/50\n",
            "50000/50000 [==============================] - 10s 200us/step - loss: 0.8542 - acc: 0.7236 - val_loss: 1.6712 - val_acc: 0.4609\n",
            "Epoch 29/50\n",
            "50000/50000 [==============================] - 10s 200us/step - loss: 0.8291 - acc: 0.7343 - val_loss: 1.6562 - val_acc: 0.4506\n",
            "Epoch 30/50\n",
            "50000/50000 [==============================] - 10s 199us/step - loss: 0.8045 - acc: 0.7434 - val_loss: 1.6929 - val_acc: 0.4529\n",
            "Epoch 31/50\n",
            "50000/50000 [==============================] - 10s 200us/step - loss: 0.7812 - acc: 0.7534 - val_loss: 1.7048 - val_acc: 0.4514\n",
            "Epoch 32/50\n",
            "50000/50000 [==============================] - 10s 199us/step - loss: 0.7575 - acc: 0.7615 - val_loss: 1.7016 - val_acc: 0.4481\n",
            "Epoch 33/50\n",
            "50000/50000 [==============================] - 10s 200us/step - loss: 0.7384 - acc: 0.7693 - val_loss: 1.7373 - val_acc: 0.4556\n",
            "Epoch 34/50\n",
            "50000/50000 [==============================] - 10s 199us/step - loss: 0.7150 - acc: 0.7787 - val_loss: 1.7538 - val_acc: 0.4485\n",
            "Epoch 35/50\n",
            "50000/50000 [==============================] - 10s 199us/step - loss: 0.6906 - acc: 0.7874 - val_loss: 1.7417 - val_acc: 0.4533\n",
            "Epoch 36/50\n",
            "50000/50000 [==============================] - 10s 199us/step - loss: 0.6703 - acc: 0.7953 - val_loss: 1.8260 - val_acc: 0.4328\n",
            "Epoch 37/50\n",
            "50000/50000 [==============================] - 10s 199us/step - loss: 0.6508 - acc: 0.8029 - val_loss: 1.7697 - val_acc: 0.4516\n",
            "Epoch 38/50\n",
            "50000/50000 [==============================] - 10s 200us/step - loss: 0.6291 - acc: 0.8121 - val_loss: 1.8450 - val_acc: 0.4304\n",
            "Epoch 39/50\n",
            "50000/50000 [==============================] - 10s 199us/step - loss: 0.6081 - acc: 0.8207 - val_loss: 1.8198 - val_acc: 0.4434\n",
            "Epoch 40/50\n",
            "50000/50000 [==============================] - 10s 199us/step - loss: 0.5874 - acc: 0.8254 - val_loss: 1.8661 - val_acc: 0.4405\n",
            "Epoch 41/50\n",
            "50000/50000 [==============================] - 10s 199us/step - loss: 0.5685 - acc: 0.8361 - val_loss: 1.9603 - val_acc: 0.4306\n",
            "Epoch 42/50\n",
            "50000/50000 [==============================] - 10s 200us/step - loss: 0.5505 - acc: 0.8424 - val_loss: 1.9070 - val_acc: 0.4437\n",
            "Epoch 43/50\n",
            "50000/50000 [==============================] - 10s 201us/step - loss: 0.5329 - acc: 0.8484 - val_loss: 1.8685 - val_acc: 0.4392\n",
            "Epoch 44/50\n",
            "50000/50000 [==============================] - 10s 199us/step - loss: 0.5153 - acc: 0.8561 - val_loss: 1.9085 - val_acc: 0.4411\n",
            "Epoch 45/50\n",
            "50000/50000 [==============================] - 10s 201us/step - loss: 0.4949 - acc: 0.8625 - val_loss: 1.9295 - val_acc: 0.4441\n",
            "Epoch 46/50\n",
            "50000/50000 [==============================] - 10s 200us/step - loss: 0.4777 - acc: 0.8693 - val_loss: 1.9060 - val_acc: 0.4418\n",
            "Epoch 47/50\n",
            "50000/50000 [==============================] - 10s 200us/step - loss: 0.4605 - acc: 0.8749 - val_loss: 1.9831 - val_acc: 0.4412\n",
            "Epoch 48/50\n",
            "50000/50000 [==============================] - 10s 199us/step - loss: 0.4474 - acc: 0.8778 - val_loss: 2.0324 - val_acc: 0.4306\n",
            "Epoch 49/50\n",
            "50000/50000 [==============================] - 10s 201us/step - loss: 0.4273 - acc: 0.8882 - val_loss: 1.9731 - val_acc: 0.4361\n",
            "Epoch 50/50\n",
            "50000/50000 [==============================] - 10s 200us/step - loss: 0.4122 - acc: 0.8935 - val_loss: 1.9925 - val_acc: 0.4412\n",
            "BN Layer before activative function = False\n",
            "_________________________________________________________________\n",
            "Layer (type)                 Output Shape              Param #   \n",
            "=================================================================\n",
            "input_1 (InputLayer)         (None, 3072)              0         \n",
            "_________________________________________________________________\n",
            "Hidden_Layer_1 (Dense)       (None, 512)               1573376   \n",
            "_________________________________________________________________\n",
            "activation_1 (Activation)    (None, 512)               0         \n",
            "_________________________________________________________________\n",
            "BN_Layer_1 (BatchNormalizati (None, 512)               2048      \n",
            "_________________________________________________________________\n",
            "Hidden_Layer_2 (Dense)       (None, 256)               131328    \n",
            "_________________________________________________________________\n",
            "activation_2 (Activation)    (None, 256)               0         \n",
            "_________________________________________________________________\n",
            "BN_Layer_2 (BatchNormalizati (None, 256)               1024      \n",
            "_________________________________________________________________\n",
            "Hidden_Layer_3 (Dense)       (None, 128)               32896     \n",
            "_________________________________________________________________\n",
            "activation_3 (Activation)    (None, 128)               0         \n",
            "_________________________________________________________________\n",
            "BN_Layer_3 (BatchNormalizati (None, 128)               512       \n",
            "_________________________________________________________________\n",
            "Output_Layer (Dense)         (None, 10)                1290      \n",
            "=================================================================\n",
            "Total params: 1,742,474\n",
            "Trainable params: 1,740,682\n",
            "Non-trainable params: 1,792\n",
            "_________________________________________________________________\n",
            "Train on 50000 samples, validate on 10000 samples\n",
            "Epoch 1/50\n",
            "50000/50000 [==============================] - 11s 215us/step - loss: 2.0369 - acc: 0.3105 - val_loss: 1.9522 - val_acc: 0.3465\n",
            "Epoch 2/50\n",
            "50000/50000 [==============================] - 10s 201us/step - loss: 1.6970 - acc: 0.4075 - val_loss: 1.8114 - val_acc: 0.3842\n",
            "Epoch 3/50\n",
            "50000/50000 [==============================] - 10s 200us/step - loss: 1.5933 - acc: 0.4415 - val_loss: 1.6782 - val_acc: 0.4155\n",
            "Epoch 4/50\n",
            "50000/50000 [==============================] - 10s 201us/step - loss: 1.5228 - acc: 0.4643 - val_loss: 1.6223 - val_acc: 0.4253\n",
            "Epoch 5/50\n",
            "50000/50000 [==============================] - 10s 200us/step - loss: 1.4713 - acc: 0.4848 - val_loss: 1.5906 - val_acc: 0.4402\n",
            "Epoch 6/50\n",
            "50000/50000 [==============================] - 10s 199us/step - loss: 1.4265 - acc: 0.5010 - val_loss: 1.5942 - val_acc: 0.4422\n",
            "Epoch 7/50\n",
            "50000/50000 [==============================] - 10s 198us/step - loss: 1.3892 - acc: 0.5128 - val_loss: 1.5707 - val_acc: 0.4477\n",
            "Epoch 8/50\n",
            "50000/50000 [==============================] - 10s 199us/step - loss: 1.3560 - acc: 0.5268 - val_loss: 1.5399 - val_acc: 0.4566\n",
            "Epoch 9/50\n",
            "50000/50000 [==============================] - 10s 200us/step - loss: 1.3267 - acc: 0.5360 - val_loss: 1.5555 - val_acc: 0.4455\n",
            "Epoch 10/50\n",
            "50000/50000 [==============================] - 10s 204us/step - loss: 1.2968 - acc: 0.5483 - val_loss: 1.5081 - val_acc: 0.4665\n",
            "Epoch 11/50\n",
            "50000/50000 [==============================] - 10s 200us/step - loss: 1.2691 - acc: 0.5570 - val_loss: 1.5273 - val_acc: 0.4617\n",
            "Epoch 12/50\n",
            "50000/50000 [==============================] - 10s 200us/step - loss: 1.2438 - acc: 0.5674 - val_loss: 1.5135 - val_acc: 0.4652\n",
            "Epoch 13/50\n",
            "50000/50000 [==============================] - 10s 204us/step - loss: 1.2188 - acc: 0.5769 - val_loss: 1.5438 - val_acc: 0.4553\n",
            "Epoch 14/50\n",
            "50000/50000 [==============================] - 10s 200us/step - loss: 1.1948 - acc: 0.5861 - val_loss: 1.4964 - val_acc: 0.4742\n",
            "Epoch 15/50\n",
            "50000/50000 [==============================] - 10s 203us/step - loss: 1.1730 - acc: 0.5935 - val_loss: 1.5026 - val_acc: 0.4720\n",
            "Epoch 16/50\n",
            "50000/50000 [==============================] - 10s 205us/step - loss: 1.1509 - acc: 0.6017 - val_loss: 1.4911 - val_acc: 0.4752\n",
            "Epoch 17/50\n",
            "50000/50000 [==============================] - 10s 203us/step - loss: 1.1286 - acc: 0.6135 - val_loss: 1.5068 - val_acc: 0.4658\n",
            "Epoch 18/50\n",
            "50000/50000 [==============================] - 10s 200us/step - loss: 1.1072 - acc: 0.6215 - val_loss: 1.4793 - val_acc: 0.4814\n",
            "Epoch 19/50\n",
            "50000/50000 [==============================] - 10s 200us/step - loss: 1.0875 - acc: 0.6276 - val_loss: 1.5119 - val_acc: 0.4815\n",
            "Epoch 20/50\n",
            "50000/50000 [==============================] - 10s 199us/step - loss: 1.0670 - acc: 0.6343 - val_loss: 1.5003 - val_acc: 0.4762\n",
            "Epoch 21/50\n",
            "50000/50000 [==============================] - 10s 201us/step - loss: 1.0484 - acc: 0.6417 - val_loss: 1.4915 - val_acc: 0.4778\n",
            "Epoch 22/50\n",
            "50000/50000 [==============================] - 10s 199us/step - loss: 1.0280 - acc: 0.6494 - val_loss: 1.4960 - val_acc: 0.4748\n",
            "Epoch 23/50\n",
            "50000/50000 [==============================] - 10s 203us/step - loss: 1.0074 - acc: 0.6573 - val_loss: 1.5649 - val_acc: 0.4648\n",
            "Epoch 24/50\n",
            "50000/50000 [==============================] - 10s 200us/step - loss: 0.9886 - acc: 0.6656 - val_loss: 1.5321 - val_acc: 0.4729\n",
            "Epoch 25/50\n",
            "50000/50000 [==============================] - 10s 200us/step - loss: 0.9711 - acc: 0.6719 - val_loss: 1.5389 - val_acc: 0.4721\n",
            "Epoch 26/50\n",
            "50000/50000 [==============================] - 10s 199us/step - loss: 0.9514 - acc: 0.6786 - val_loss: 1.5208 - val_acc: 0.4785\n",
            "Epoch 27/50\n",
            "50000/50000 [==============================] - 10s 197us/step - loss: 0.9348 - acc: 0.6845 - val_loss: 1.5865 - val_acc: 0.4650\n",
            "Epoch 28/50\n",
            "50000/50000 [==============================] - 10s 197us/step - loss: 0.9175 - acc: 0.6911 - val_loss: 1.5276 - val_acc: 0.4748\n",
            "Epoch 29/50\n",
            "50000/50000 [==============================] - 10s 197us/step - loss: 0.8992 - acc: 0.6978 - val_loss: 1.5284 - val_acc: 0.4763\n",
            "Epoch 30/50\n",
            "50000/50000 [==============================] - 10s 197us/step - loss: 0.8818 - acc: 0.7042 - val_loss: 1.5860 - val_acc: 0.4625\n",
            "Epoch 31/50\n",
            "50000/50000 [==============================] - 10s 198us/step - loss: 0.8649 - acc: 0.7119 - val_loss: 1.5324 - val_acc: 0.4789\n",
            "Epoch 32/50\n",
            "50000/50000 [==============================] - 10s 200us/step - loss: 0.8468 - acc: 0.7185 - val_loss: 1.6026 - val_acc: 0.4710\n",
            "Epoch 33/50\n",
            "50000/50000 [==============================] - 10s 201us/step - loss: 0.8296 - acc: 0.7236 - val_loss: 1.5917 - val_acc: 0.4720\n",
            "Epoch 34/50\n",
            "50000/50000 [==============================] - 10s 202us/step - loss: 0.8156 - acc: 0.7282 - val_loss: 1.5744 - val_acc: 0.4804\n",
            "Epoch 35/50\n",
            "50000/50000 [==============================] - 10s 202us/step - loss: 0.7965 - acc: 0.7378 - val_loss: 1.6509 - val_acc: 0.4621\n",
            "Epoch 36/50\n",
            "50000/50000 [==============================] - 10s 202us/step - loss: 0.7806 - acc: 0.7440 - val_loss: 1.5842 - val_acc: 0.4787\n",
            "Epoch 37/50\n",
            "50000/50000 [==============================] - 10s 201us/step - loss: 0.7646 - acc: 0.7489 - val_loss: 1.5880 - val_acc: 0.4796\n",
            "Epoch 38/50\n",
            "50000/50000 [==============================] - 10s 200us/step - loss: 0.7514 - acc: 0.7536 - val_loss: 1.6274 - val_acc: 0.4825\n",
            "Epoch 39/50\n",
            "50000/50000 [==============================] - 10s 199us/step - loss: 0.7365 - acc: 0.7591 - val_loss: 1.6270 - val_acc: 0.4729\n",
            "Epoch 40/50\n",
            "50000/50000 [==============================] - 10s 197us/step - loss: 0.7183 - acc: 0.7658 - val_loss: 1.6656 - val_acc: 0.4635\n",
            "Epoch 41/50\n",
            "50000/50000 [==============================] - 10s 197us/step - loss: 0.7042 - acc: 0.7728 - val_loss: 1.7581 - val_acc: 0.4562\n",
            "Epoch 42/50\n",
            "50000/50000 [==============================] - 10s 197us/step - loss: 0.6879 - acc: 0.7793 - val_loss: 1.8149 - val_acc: 0.4366\n",
            "Epoch 43/50\n",
            "50000/50000 [==============================] - 10s 195us/step - loss: 0.6724 - acc: 0.7851 - val_loss: 1.7189 - val_acc: 0.4672\n",
            "Epoch 44/50\n",
            "50000/50000 [==============================] - 10s 196us/step - loss: 0.6595 - acc: 0.7895 - val_loss: 1.6754 - val_acc: 0.4694\n",
            "Epoch 45/50\n",
            "50000/50000 [==============================] - 10s 196us/step - loss: 0.6444 - acc: 0.7953 - val_loss: 1.6743 - val_acc: 0.4820\n",
            "Epoch 46/50\n",
            "50000/50000 [==============================] - 10s 197us/step - loss: 0.6293 - acc: 0.8023 - val_loss: 1.6650 - val_acc: 0.4732\n",
            "Epoch 47/50\n",
            "50000/50000 [==============================] - 10s 197us/step - loss: 0.6144 - acc: 0.8069 - val_loss: 1.7621 - val_acc: 0.4534\n",
            "Epoch 48/50\n",
            "50000/50000 [==============================] - 10s 198us/step - loss: 0.6004 - acc: 0.8110 - val_loss: 1.7675 - val_acc: 0.4584\n",
            "Epoch 49/50\n",
            "50000/50000 [==============================] - 10s 198us/step - loss: 0.5872 - acc: 0.8169 - val_loss: 1.7764 - val_acc: 0.4567\n",
            "Epoch 50/50\n",
            "50000/50000 [==============================] - 10s 199us/step - loss: 0.5693 - acc: 0.8259 - val_loss: 1.7338 - val_acc: 0.4638\n"
          ],
          "name": "stdout"
        }
      ]
    },
    {
      "cell_type": "markdown",
      "metadata": {
        "id": "WEf_aYhrlWuu",
        "colab_type": "text"
      },
      "source": [
        "## 2.4 損失函數及準確率"
      ]
    },
    {
      "cell_type": "code",
      "metadata": {
        "id": "S3a2oBJelaUB",
        "colab_type": "code",
        "colab": {
          "base_uri": "https://localhost:8080/",
          "height": 762
        },
        "outputId": "ef4e6659-370e-4153-897c-707695ee522b"
      },
      "source": [
        "color_bar = [ 'r', 'b' ]\n",
        "\n",
        "plt.figure( figsize = ( 8, 6 ) )\n",
        "for i, cond in enumerate( results.keys( ) ) :\n",
        "    plt.plot( range( len(results[ cond ][ 'train-loss' ] ) ), results[ cond ][ 'train-loss' ], '-', label = 'Train Loss: ' + cond, color = color_bar[i] )\n",
        "    plt.plot( range( len(results[ cond ][ 'valid-loss' ] ) ), results[ cond ][ 'valid-loss' ], '--', label = 'Valid Loss: ' + cond, color = color_bar[i] )\n",
        "plt.title( 'Loss' )\n",
        "plt.legend( )\n",
        "plt.show( )\n",
        "\n",
        "plt.figure( figsize = ( 8, 6 ) )\n",
        "for i, cond in enumerate( results.keys( ) ) :\n",
        "    plt.plot(range( len( results[ cond ][ 'train-acc' ] ) ), results[ cond ][ 'train-acc' ], '-', label = 'Train acc: ' + cond, color = color_bar[i] )\n",
        "    plt.plot(range( len( results[ cond ][ 'valid-acc' ] ) ), results[ cond ][ 'valid-acc' ], '--', label = 'Valid acc: ' + cond, color = color_bar[i] )\n",
        "plt.title( 'Accuracy' )\n",
        "plt.legend( )\n",
        "plt.show( )"
      ],
      "execution_count": 16,
      "outputs": [
        {
          "output_type": "display_data",
          "data": {
            "image/png": "[encoded data removed]",
            "text/plain": [
              "<Figure size 576x432 with 1 Axes>"
            ]
          },
          "metadata": {
            "tags": []
          }
        },
        {
          "output_type": "display_data",
          "data": {
            "image/png": "[encoded data removed]",
            "text/plain": [
              "<Figure size 576x432 with 1 Axes>"
            ]
          },
          "metadata": {
            "tags": []
          }
        }
      ]
    }
  ]
}