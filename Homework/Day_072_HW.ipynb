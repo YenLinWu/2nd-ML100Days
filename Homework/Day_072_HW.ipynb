{
 "cells": [
  {
   "cell_type": "markdown",
   "metadata": {},
   "source": [
    "# 作業目標:\n",
    "    寫出 ReLU & dReLU 一階導數並列印\n"
   ]
  },
  {
   "cell_type": "markdown",
   "metadata": {},
   "source": [
    "# 作業重點\n",
    "\n",
    "# Rectified Linear Unit- Relu "
   ]
  },
  {
   "cell_type": "code",
   "execution_count": 1,
   "metadata": {},
   "outputs": [
    {
     "data": {
      "text/plain": [
       "'\\n作業:\\n    寫出 ReLU & dReLU 一階導數\\n    並列印\\n'"
      ]
     },
     "execution_count": 1,
     "metadata": {},
     "output_type": "execute_result"
    }
   ],
   "source": [
    "import numpy as np\n",
    "from numpy import *\n",
    "import matplotlib.pylab as plt\n",
    "%matplotlib inline\n",
    "\n",
    "'''\n",
    "作業:\n",
    "    寫出 ReLU & dReLU 一階導數\n",
    "    並列印\n",
    "'''"
   ]
  },
  {
   "cell_type": "markdown",
   "metadata": {},
   "source": [
    "# ReLU \n",
    "$ f(x) =\\max\\big( 0, x \\big) $ "
   ]
  },
  {
   "cell_type": "markdown",
   "metadata": {},
   "source": [
    "##### 方法一 : x 可輸入一向量值"
   ]
  },
  {
   "cell_type": "code",
   "execution_count": 2,
   "metadata": {},
   "outputs": [],
   "source": [
    "# ReLU\n",
    "def ReLU( x ) :\n",
    "    value = np.maximum( 0, x )\n",
    "    return( value ) \n",
    "\n",
    "\n",
    "# ReLU 微分\n",
    "def d_ReLU( x ) : \n",
    "    d_value = [ ]\n",
    "    for i in np.arange( len( x ) ) : \n",
    "        if np.maximum( 0, x[i] ) > 0 :\n",
    "            d_value.append( 1 )\n",
    "        else : d_value.append( 0 )\n",
    "    \n",
    "    return( d_value ) "
   ]
  },
  {
   "cell_type": "code",
   "execution_count": 3,
   "metadata": {},
   "outputs": [
    {
     "data": {
      "image/png": "[encoded data removed]",
      "text/plain": [
       "<Figure size 432x288 with 1 Axes>"
      ]
     },
     "metadata": {
      "needs_background": "light"
     },
     "output_type": "display_data"
    }
   ],
   "source": [
    "x = plt.linspace( -10, 10, 100 )  \n",
    "\n",
    "\n",
    "plt.plot( x, ReLU( x ), 'b'  )\n",
    "plt.plot( x, d_ReLU( x ), 'r'  )\n",
    "\n",
    "plt.title( 'ReLU Function' )\n",
    "plt.text( 0.3, 8, r'$ f( x ) = \\max( 0, x ) $', fontsize = 15 )  # 顯現 the ReLU formula\n",
    "plt.text( 6, 1.5, r'$ f^{ \\prime} ( x )  $', fontsize = 15 )       \n",
    "\n",
    "plt.show()"
   ]
  },
  {
   "cell_type": "markdown",
   "metadata": {},
   "source": [
    "##### 方法二 : x 僅可數入單一數值"
   ]
  },
  {
   "cell_type": "code",
   "execution_count": 4,
   "metadata": {},
   "outputs": [],
   "source": [
    "# ReLU\n",
    "def ReLU( x ) :\n",
    "    return abs( x )*( x > 0 ) \n",
    "\n",
    "\n",
    "# ReLU 微分\n",
    "def d_ReLU( x ) : \n",
    "    return( 1 * ( x >= 0 ) ) "
   ]
  },
  {
   "cell_type": "code",
   "execution_count": 5,
   "metadata": {},
   "outputs": [
    {
     "data": {
      "image/png": "[encoded data removed]",
      "text/plain": [
       "<Figure size 432x288 with 1 Axes>"
      ]
     },
     "metadata": {
      "needs_background": "light"
     },
     "output_type": "display_data"
    }
   ],
   "source": [
    "x = plt.linspace( -10, 10, 100 )  \n",
    "\n",
    "\n",
    "plt.plot( x, ReLU( x ), 'b'  )\n",
    "plt.plot( x, d_ReLU( x ), 'r'  )\n",
    "\n",
    "plt.title( 'ReLU Function' )\n",
    "plt.text( 0.3, 8, r'$ f( x ) = \\max( 0, x ) $', fontsize = 15 )  # 顯現 the ReLU formula\n",
    "plt.text( 6, 1.5, r'$ f^{ \\prime} ( x )  $', fontsize = 15 )   \n",
    "\n",
    "plt.show()"
   ]
  }
 ],
 "metadata": {
  "kernelspec": {
   "display_name": "Python 3",
   "language": "python",
   "name": "python3"
  },
  "language_info": {
   "codemirror_mode": {
    "name": "ipython",
    "version": 3
   },
   "file_extension": ".py",
   "mimetype": "text/x-python",
   "name": "python",
   "nbconvert_exporter": "python",
   "pygments_lexer": "ipython3",
   "version": "3.7.3"
  }
 },
 "nbformat": 4,
 "nbformat_minor": 2
}
