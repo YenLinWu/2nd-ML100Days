{
 "cells": [
  {
   "cell_type": "markdown",
   "metadata": {},
   "source": [
    "\n",
    "# 作業目標:\n",
    "    \n",
    "    了解keras 模型架構\n",
    "\n",
    "\n",
    "# 作業重點:\n",
    "    \n",
    "    請修改input shape: (Conv2D(64, (3, 3))的設定, 新增一層 Dense 並觀看 model.summary 的輸出\n"
   ]
  },
  {
   "cell_type": "code",
   "execution_count": 1,
   "metadata": {},
   "outputs": [
    {
     "name": "stderr",
     "output_type": "stream",
     "text": [
      "Using TensorFlow backend.\n"
     ]
    }
   ],
   "source": [
    "# 載入必須使用的 Library\n",
    "import keras\n",
    "from keras.datasets import cifar10\n",
    "\n",
    "# Sequential( ) : 空的模型物件，用於建立一系列模型\n",
    "from keras.models import Sequential, load_model              \n",
    "\n",
    "# Conv2D : 平面的卷積模組\n",
    "from keras.layers import Conv2D                     \n",
    "\n",
    "# MaxPooling2D : 平面池化模組\n",
    "from keras.layers import MaxPooling2D            \n",
    "\n",
    " # Flatten：為了全連接層運算，建立平坦層\n",
    "from keras.layers import Flatten                              \n",
    "\n",
    "# Dense : 建立全連接層(fully-connected layer)；Activation：激活函數；Dropout：隨機拋棄避免過擬合\n",
    "from keras.layers import Dense,  Activation, Dropout  \n"
   ]
  },
  {
   "cell_type": "markdown",
   "metadata": {},
   "source": [
    "### Load Data"
   ]
  },
  {
   "cell_type": "code",
   "execution_count": 2,
   "metadata": {},
   "outputs": [
    {
     "name": "stdout",
     "output_type": "stream",
     "text": [
      "Downloading data from https://www.cs.toronto.edu/~kriz/cifar-10-python.tar.gz\n",
      "170500096/170498071 [==============================] - 142s 1us/step\n",
      "x_train shape :  (50000, 32, 32, 3)\n",
      "50000 train samples\n",
      "10000 test samples\n"
     ]
    }
   ],
   "source": [
    "( x_train, y_train ), ( x_test, y_test ) = cifar10.load_data( )\n",
    "\n",
    "print( 'x_train shape : ', x_train.shape )\n",
    "print( x_train.shape[0], 'train samples' )\n",
    "print( x_test.shape[0], 'test samples' )\n",
    "\n",
    "# Convert class vectors to binary class matrices.\n",
    "num_classes = 10    # 分10類\n",
    "\n",
    "y_train = keras.utils.to_categorical(y_train, num_classes)\n",
    "y_test = keras.utils.to_categorical(y_test, num_classes)"
   ]
  },
  {
   "cell_type": "code",
   "execution_count": 3,
   "metadata": {},
   "outputs": [
    {
     "name": "stdout",
     "output_type": "stream",
     "text": [
      "WARNING:tensorflow:From /anaconda3/envs/tensorflow/lib/python3.7/site-packages/tensorflow/python/framework/op_def_library.py:263: colocate_with (from tensorflow.python.framework.ops) is deprecated and will be removed in a future version.\n",
      "Instructions for updating:\n",
      "Colocations handled automatically by placer.\n",
      "WARNING:tensorflow:From /anaconda3/envs/tensorflow/lib/python3.7/site-packages/keras/backend/tensorflow_backend.py:3445: calling dropout (from tensorflow.python.ops.nn_ops) with keep_prob is deprecated and will be removed in a future version.\n",
      "Instructions for updating:\n",
      "Please use `rate` instead of `keep_prob`. Rate should be set to `rate = 1 - keep_prob`.\n"
     ]
    }
   ],
   "source": [
    "# build our CNN model\n",
    "\n",
    "model = Sequential( )\n",
    "\n",
    "model.add( Conv2D( filters = 64,                                   # filter( 又稱 kernel ) 的個數  \n",
    "                              kernel_size = (3, 3),                       # filter( 又稱 kernel ) 的個尺寸\n",
    "                              padding = 'same',                          # padding : 邊界周圍補 0 且 filter 的步伐(stride) 為 1\n",
    "                              input_shape = x_train.shape[ 1: ] )\n",
    "               )\n",
    "model.add( MaxPooling2D( pool_size = ( 2, 2 ) ) )            # 最大池化層( 池化核心 2 * 2)\n",
    "\n",
    "\n",
    "model.add( Flatten( ) )\n",
    "model.add( Dense( 512 ) )               # 建立有 512 個神經元的隱藏層\n",
    "model.add( Activation( 'relu' ) )\n",
    "model.add( Dropout( 0.5 ) )             # 隨機停止 50% 的神經元運作\n",
    "model.add( Dense( 256 ) )              # 建立有 256 個神經元的隱藏層\n",
    "model.add( Activation( 'tanh' ) )\n",
    "model.add( Dropout( 0.7 ) )             # 隨機停止 70% 的神經元運作\n",
    "model.add( Dense( num_classes ) )\n",
    "model.add( Activation( 'softmax' ) )\n"
   ]
  },
  {
   "cell_type": "code",
   "execution_count": 4,
   "metadata": {},
   "outputs": [
    {
     "name": "stdout",
     "output_type": "stream",
     "text": [
      "_________________________________________________________________\n",
      "Layer (type)                 Output Shape              Param #   \n",
      "=================================================================\n",
      "conv2d_1 (Conv2D)            (None, 32, 32, 64)        1792      \n",
      "_________________________________________________________________\n",
      "max_pooling2d_1 (MaxPooling2 (None, 16, 16, 64)        0         \n",
      "_________________________________________________________________\n",
      "flatten_1 (Flatten)          (None, 16384)             0         \n",
      "_________________________________________________________________\n",
      "dense_1 (Dense)              (None, 512)               8389120   \n",
      "_________________________________________________________________\n",
      "activation_1 (Activation)    (None, 512)               0         \n",
      "_________________________________________________________________\n",
      "dropout_1 (Dropout)          (None, 512)               0         \n",
      "_________________________________________________________________\n",
      "dense_2 (Dense)              (None, 256)               131328    \n",
      "_________________________________________________________________\n",
      "activation_2 (Activation)    (None, 256)               0         \n",
      "_________________________________________________________________\n",
      "dropout_2 (Dropout)          (None, 256)               0         \n",
      "_________________________________________________________________\n",
      "dense_3 (Dense)              (None, 10)                2570      \n",
      "_________________________________________________________________\n",
      "activation_3 (Activation)    (None, 10)                0         \n",
      "=================================================================\n",
      "Total params: 8,524,810\n",
      "Trainable params: 8,524,810\n",
      "Non-trainable params: 0\n",
      "_________________________________________________________________\n",
      "None\n"
     ]
    }
   ],
   "source": [
    "# 模型摘要\n",
    "print( model.summary( ) )   "
   ]
  }
 ],
 "metadata": {
  "kernelspec": {
   "display_name": "Python 3",
   "language": "python",
   "name": "python3"
  },
  "language_info": {
   "codemirror_mode": {
    "name": "ipython",
    "version": 3
   },
   "file_extension": ".py",
   "mimetype": "text/x-python",
   "name": "python",
   "nbconvert_exporter": "python",
   "pygments_lexer": "ipython3",
   "version": "3.7.3"
  }
 },
 "nbformat": 4,
 "nbformat_minor": 2
}
