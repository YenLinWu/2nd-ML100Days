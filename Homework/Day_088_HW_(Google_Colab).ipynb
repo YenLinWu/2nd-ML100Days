{
 "cells": [
  {
   "cell_type": "markdown",
   "metadata": {
    "colab_type": "text",
    "id": "ZjF3CyOWLLBq"
   },
   "source": [
    "## Work\n",
    "1. 請嘗試寫一個 callback 用來記錄各類別在訓練過程中，對驗證集的 True Positive 與 True Negative"
   ]
  },
  {
   "cell_type": "code",
   "execution_count": 1,
   "metadata": {
    "colab": {
     "base_uri": "https://localhost:8080/",
     "height": 34
    },
    "colab_type": "code",
    "id": "nTVzqQA0LLBs",
    "outputId": "f08726b7-5804-42c3-be1d-87f3bc62f52e"
   },
   "outputs": [
    {
     "name": "stderr",
     "output_type": "stream",
     "text": [
      "Using TensorFlow backend.\n"
     ]
    }
   ],
   "source": [
    "import numpy as np\n",
    "import os\n",
    "import h5py\n",
    "import keras\n",
    "import itertools\n",
    "\n",
    "# 神經網絡正規化\n",
    "from keras.regularizers import l1, l2, l1_l2 \n",
    "# 神經網絡隨機拋棄、批次標準化、激活函數\n",
    "from keras.layers import Dense, Dropout, BatchNormalization, Activation \n",
    "# Early Stopping\n",
    "from keras.callbacks import EarlyStopping\n",
    "# 自動存取目前模型的最佳權重\n",
    "from keras.callbacks import ModelCheckpoint\n",
    "# Reduce Learning Rate\n",
    "from keras.callbacks import ReduceLROnPlateau\n",
    "# 訓練模型時，利用 callback 紀錄訓練過程\n",
    "from keras.callbacks import Callback\n",
    "\n",
    "\n",
    "import matplotlib.pyplot as plt\n",
    "import matplotlib.cm as mplcm\n",
    "import matplotlib.colors as colors\n",
    "%matplotlib inline\n",
    "\n",
    "\n",
    "\n",
    "# Disable GPU\n",
    "# os.environ[\"CUDA_VISIBLE_DEVICES\"] = \"\""
   ]
  },
  {
   "cell_type": "code",
   "execution_count": 2,
   "metadata": {
    "colab": {
     "base_uri": "https://localhost:8080/",
     "height": 52
    },
    "colab_type": "code",
    "id": "BZZCaMwbLLBv",
    "outputId": "b9416567-e514-48db-b46c-11c1807978c6"
   },
   "outputs": [
    {
     "name": "stdout",
     "output_type": "stream",
     "text": [
      "Downloading data from https://www.cs.toronto.edu/~kriz/cifar-10-python.tar.gz\n",
      "170500096/170498071 [==============================] - 4s 0us/step\n"
     ]
    }
   ],
   "source": [
    "train, test = keras.datasets.cifar10.load_data( )"
   ]
  },
  {
   "cell_type": "markdown",
   "metadata": {
    "colab_type": "text",
    "id": "6O6VMqaDL2fM"
   },
   "source": [
    "# 資料前處理 - 標準化 及 獨熱編碼(OneHot Encoding)"
   ]
  },
  {
   "cell_type": "code",
   "execution_count": 0,
   "metadata": {
    "colab": {},
    "colab_type": "code",
    "id": "10pzJg5qLLBx"
   },
   "outputs": [],
   "source": [
    "def preproc_x( x, flatten = True ) :\n",
    "    x = x / 255.\n",
    "    if flatten:\n",
    "        x = x.reshape( ( len(x), -1 ) )\n",
    "    return x\n",
    "\n",
    "def preproc_y( y, num_classes = 10 ) :\n",
    "    if y.shape[ -1 ] == 1:\n",
    "        y = keras.utils.to_categorical( y, num_classes )\n",
    "    return y  "
   ]
  },
  {
   "cell_type": "code",
   "execution_count": 0,
   "metadata": {
    "colab": {},
    "colab_type": "code",
    "id": "pRzpxl2KLLB0"
   },
   "outputs": [],
   "source": [
    "x_train, y_train = train\n",
    "x_test, y_test = test\n",
    "\n",
    "# 資料前處理 - X 標準化\n",
    "x_train = preproc_x(x_train)\n",
    "x_test = preproc_x(x_test)\n",
    "\n",
    "# 資料前處理 - Y 轉成 onehot\n",
    "y_train = preproc_y(y_train)\n",
    "y_test = preproc_y(y_test)"
   ]
  },
  {
   "cell_type": "markdown",
   "metadata": {
    "colab_type": "text",
    "id": "RhMzLSekL-Cq"
   },
   "source": [
    "# 建立神經網絡模型"
   ]
  },
  {
   "cell_type": "code",
   "execution_count": 5,
   "metadata": {
    "colab": {
     "base_uri": "https://localhost:8080/",
     "height": 706
    },
    "colab_type": "code",
    "id": "bbP-NTySLLB5",
    "outputId": "74d57104-c620-4032-f5e0-aada4ebaf057"
   },
   "outputs": [
    {
     "name": "stderr",
     "output_type": "stream",
     "text": [
      "WARNING: Logging before flag parsing goes to stderr.\n",
      "W0723 15:27:02.473859 140538090633088 deprecation_wrapper.py:119] From /usr/local/lib/python3.6/dist-packages/keras/backend/tensorflow_backend.py:74: The name tf.get_default_graph is deprecated. Please use tf.compat.v1.get_default_graph instead.\n",
      "\n",
      "W0723 15:27:02.514605 140538090633088 deprecation_wrapper.py:119] From /usr/local/lib/python3.6/dist-packages/keras/backend/tensorflow_backend.py:517: The name tf.placeholder is deprecated. Please use tf.compat.v1.placeholder instead.\n",
      "\n",
      "W0723 15:27:02.522536 140538090633088 deprecation_wrapper.py:119] From /usr/local/lib/python3.6/dist-packages/keras/backend/tensorflow_backend.py:4138: The name tf.random_uniform is deprecated. Please use tf.random.uniform instead.\n",
      "\n",
      "W0723 15:27:02.641864 140538090633088 deprecation_wrapper.py:119] From /usr/local/lib/python3.6/dist-packages/keras/backend/tensorflow_backend.py:133: The name tf.placeholder_with_default is deprecated. Please use tf.compat.v1.placeholder_with_default instead.\n",
      "\n"
     ]
    },
    {
     "name": "stdout",
     "output_type": "stream",
     "text": [
      "_________________________________________________________________\n",
      "Layer (type)                 Output Shape              Param #   \n",
      "=================================================================\n",
      "input_1 (InputLayer)         (None, 3072)              0         \n",
      "_________________________________________________________________\n",
      "Hidden_Layer_1 (Dense)       (None, 512)               1573376   \n",
      "_________________________________________________________________\n",
      "Activation_1 (Activation)    (None, 512)               0         \n",
      "_________________________________________________________________\n",
      "BN_Layer_1 (BatchNormalizati (None, 512)               2048      \n",
      "_________________________________________________________________\n",
      "Hidden_Layer_2 (Dense)       (None, 256)               131328    \n",
      "_________________________________________________________________\n",
      "Activation_2 (Activation)    (None, 256)               0         \n",
      "_________________________________________________________________\n",
      "BN_Layer_2 (BatchNormalizati (None, 256)               1024      \n",
      "_________________________________________________________________\n",
      "Hidden_Layer_3 (Dense)       (None, 128)               32896     \n",
      "_________________________________________________________________\n",
      "Activation_3 (Activation)    (None, 128)               0         \n",
      "_________________________________________________________________\n",
      "BN_Layer_3 (BatchNormalizati (None, 128)               512       \n",
      "_________________________________________________________________\n",
      "Output_Layer (Dense)         (None, 10)                1290      \n",
      "=================================================================\n",
      "Total params: 1,742,474\n",
      "Trainable params: 1,740,682\n",
      "Non-trainable params: 1,792\n",
      "_________________________________________________________________\n"
     ]
    }
   ],
   "source": [
    "def build_mlp( input_shape, output_units = 10, num_neurons = [ 512, 256, 128 ], pre_activate = False ) : \n",
    "    \n",
    "    input_layer = keras.layers.Input( input_shape )\n",
    "    \n",
    "    for i, n_units in enumerate( num_neurons ) : \n",
    "        if i == 0 :\n",
    "            x = keras.layers.Dense( units = n_units, \n",
    "                                             activation = \"relu\", \n",
    "                                             name = \"Hidden_Layer_\" + str( i+1 ) )( input_layer )  \n",
    "            \n",
    "            if pre_activate :\n",
    "                # Batch Normalization Layer before Activation Function \n",
    "                x = BatchNormalization( name = \"BN_Layer_\" + str( i+1 ) )( x )\n",
    "                x = Activation( 'relu', name = 'Activation_' + str( i+1 ) )( x )\n",
    "            else :\n",
    "                x = Activation( 'relu', name = 'Activation_' + str( i+1 ) )( x )\n",
    "                x = BatchNormalization( name = \"BN_Layer_\" + str( i+1 ) )( x )\n",
    "            \n",
    "            \n",
    "            \n",
    "        else :\n",
    "            x = keras.layers.Dense( units = n_units, \n",
    "                                             activation = \"relu\",  \n",
    "                                             name = \"Hidden_Layer_\" + str( i+1 ) )( x )  \n",
    "            \n",
    "            if pre_activate :\n",
    "                # Batch Normalization Layer before Activation Function\n",
    "                x = BatchNormalization( name = \"BN_Layer_\" + str( i+1 ) )( x )\n",
    "                x = Activation( 'relu', name = 'Activation_' + str( i+1 ) )( x )\n",
    "            else :\n",
    "                x = Activation( 'relu', name = 'Activation_' + str( i+1 ) )( x )\n",
    "                x = BatchNormalization( name = \"BN_Layer_\" + str( i+1 ) )( x )\n",
    "                          \n",
    "              \n",
    "    output_layer = keras.layers.Dense( units = output_units, \n",
    "                                                     activation = 'softmax', \n",
    "                                                     name = 'Output_Layer' )( x )\n",
    "    \n",
    "    model = keras.models.Model( inputs = [ input_layer ], outputs = [ output_layer ] )\n",
    "    return model\n",
    "\n",
    "model = build_mlp( input_shape = x_train.shape[ 1: ] ) \n",
    "model.summary( )"
   ]
  },
  {
   "cell_type": "markdown",
   "metadata": {
    "colab_type": "text",
    "id": "T0NrglFMMKOP"
   },
   "source": [
    "# 設定超參數"
   ]
  },
  {
   "cell_type": "code",
   "execution_count": 0,
   "metadata": {
    "colab": {},
    "colab_type": "code",
    "id": "9g7GoGDYLLB8"
   },
   "outputs": [],
   "source": [
    "EPOCHS = 100\n",
    "BATCH_SIZE = 1024\n",
    "\n",
    "PRE_ACTIVATE = True       # Batch Normalization Layer before activation function \n",
    "\n",
    "LEARNING_RATE = [ 1e-3 ]  # for optimizer\n",
    "MOMENTUM = 0.95           # for optimizer \n",
    "\n",
    "# PATIENCE = [ 10, 25 ]     # for early stopping\n",
    "REDUCE_LR_FACTOR = [ 0.25 ] # for reduce learning rate\n",
    "REDUCE_LR_PATIENCE = [ 5 ]  # for reduce learning rate"
   ]
  },
  {
   "cell_type": "markdown",
   "metadata": {
    "colab_type": "text",
    "id": "16pMfjPMMWK4"
   },
   "source": [
    "# 優化器(Optimizer)"
   ]
  },
  {
   "cell_type": "code",
   "execution_count": 0,
   "metadata": {
    "colab": {},
    "colab_type": "code",
    "id": "xCE4gCd5MgLA"
   },
   "outputs": [],
   "source": [
    "SGD = keras.optimizers.SGD( lr = LEARNING_RATE, \n",
    "                                          momentum = MOMENTUM, \n",
    "                                          nesterov = True\n",
    "                                          )\n",
    "\n",
    "Optimizers = [ 'SGD' ]"
   ]
  },
  {
   "cell_type": "markdown",
   "metadata": {
    "colab_type": "text",
    "id": "z7mC_8eQMmGR"
   },
   "source": [
    "# Callbacks 紀錄或介入調整模型訓練過程"
   ]
  },
  {
   "cell_type": "code",
   "execution_count": 0,
   "metadata": {
    "colab": {},
    "colab_type": "code",
    "id": "ISsC8LqqNCLU"
   },
   "outputs": [],
   "source": [
    "# 紀錄 True Positive 與 True Negative 數量\n",
    "class Record_tp_tn( Callback ) :\n",
    "\n",
    "    def on_train_begin( self, epoch, logs = { } ) :   # 在訓練開始前\n",
    "        logs = logs or { }\n",
    "        record_items = [ 'val_auc', 'true_positives', 'true_negatives', 'val_fp', 'val_fn', 'val_tp', 'val_tn' ]\n",
    "        for i in record_items :\n",
    "            if i not in self.params[ 'metrics' ] :\n",
    "                self.params[ 'metrics' ].append( i )\n",
    "                \n",
    "    def on_epoch_end( self, epoch, logs = { }, thres = 0.5 ) :  # 在每個 Epoch 訓練完成後\n",
    "        logs = logs or { }\n",
    "        y_true = self.validation_data[1].argmax( axis = 1 )\n",
    "        y_pred = self.model.predict( self.validation_data[0] )\n",
    "        y_pred = ( y_pred[ :, 1 ] >= thres ) * 1\n",
    "        True_Positives = np.sum( np.logical_and( y_pred == 1, y_true == 1 ) )\n",
    "        True_Negatives = np.sum( np.logical_and( y_pred == 0, y_true == 0 ) )\n",
    "        logs[ 'true_positives' ] = True_Positives\n",
    "        logs[ 'true_negatives' ] = True_Negatives\n",
    "        \n",
    "Record_TPTN = Record_tp_tn( )"
   ]
  },
  {
   "cell_type": "markdown",
   "metadata": {
    "colab_type": "text",
    "id": "tE3JnUGCMmJB"
   },
   "source": [
    "# 訓練模型"
   ]
  },
  {
   "cell_type": "code",
   "execution_count": 9,
   "metadata": {
    "colab": {
     "base_uri": "https://localhost:8080/",
     "height": 1000
    },
    "colab_type": "code",
    "id": "5OSSf2e1LLCB",
    "outputId": "4e9469b5-52d8-43f6-fcd1-c01d53f58c7f",
    "scrolled": true
   },
   "outputs": [
    {
     "name": "stderr",
     "output_type": "stream",
     "text": [
      "W0723 15:27:03.089784 140538090633088 deprecation_wrapper.py:119] From /usr/local/lib/python3.6/dist-packages/keras/backend/tensorflow_backend.py:95: The name tf.reset_default_graph is deprecated. Please use tf.compat.v1.reset_default_graph instead.\n",
      "\n"
     ]
    },
    {
     "name": "stdout",
     "output_type": "stream",
     "text": [
      "learning_rate: 0.00, reduce_factor: 0.25, reduce_patience: 5\n"
     ]
    },
    {
     "name": "stderr",
     "output_type": "stream",
     "text": [
      "W0723 15:27:03.421171 140538090633088 deprecation_wrapper.py:119] From /usr/local/lib/python3.6/dist-packages/keras/optimizers.py:790: The name tf.train.Optimizer is deprecated. Please use tf.compat.v1.train.Optimizer instead.\n",
      "\n",
      "W0723 15:27:03.561226 140538090633088 deprecation.py:323] From /usr/local/lib/python3.6/dist-packages/tensorflow/python/ops/math_grad.py:1250: add_dispatch_support.<locals>.wrapper (from tensorflow.python.ops.array_ops) is deprecated and will be removed in a future version.\n",
      "Instructions for updating:\n",
      "Use tf.where in 2.0, which has the same broadcast rule as np.where\n"
     ]
    },
    {
     "name": "stdout",
     "output_type": "stream",
     "text": [
      "_________________________________________________________________\n",
      "Layer (type)                 Output Shape              Param #   \n",
      "=================================================================\n",
      "input_1 (InputLayer)         (None, 3072)              0         \n",
      "_________________________________________________________________\n",
      "Hidden_Layer_1 (Dense)       (None, 512)               1573376   \n",
      "_________________________________________________________________\n",
      "BN_Layer_1 (BatchNormalizati (None, 512)               2048      \n",
      "_________________________________________________________________\n",
      "Activation_1 (Activation)    (None, 512)               0         \n",
      "_________________________________________________________________\n",
      "Hidden_Layer_2 (Dense)       (None, 256)               131328    \n",
      "_________________________________________________________________\n",
      "BN_Layer_2 (BatchNormalizati (None, 256)               1024      \n",
      "_________________________________________________________________\n",
      "Activation_2 (Activation)    (None, 256)               0         \n",
      "_________________________________________________________________\n",
      "Hidden_Layer_3 (Dense)       (None, 128)               32896     \n",
      "_________________________________________________________________\n",
      "BN_Layer_3 (BatchNormalizati (None, 128)               512       \n",
      "_________________________________________________________________\n",
      "Activation_3 (Activation)    (None, 128)               0         \n",
      "_________________________________________________________________\n",
      "Output_Layer (Dense)         (None, 10)                1290      \n",
      "=================================================================\n",
      "Total params: 1,742,474\n",
      "Trainable params: 1,740,682\n",
      "Non-trainable params: 1,792\n",
      "_________________________________________________________________\n",
      "Train on 50000 samples, validate on 10000 samples\n",
      "Epoch 1/100\n",
      "50000/50000 [==============================] - 10s 206us/step - loss: 2.3502 - acc: 0.2063 - val_loss: 2.3191 - val_acc: 0.2451\n",
      "Epoch 2/100\n",
      "50000/50000 [==============================] - 9s 182us/step - loss: 2.0011 - acc: 0.3038 - val_loss: 2.0945 - val_acc: 0.3022\n",
      "Epoch 3/100\n",
      "50000/50000 [==============================] - 9s 182us/step - loss: 1.8701 - acc: 0.3512 - val_loss: 1.9551 - val_acc: 0.3348\n",
      "Epoch 4/100\n",
      "50000/50000 [==============================] - 9s 182us/step - loss: 1.7871 - acc: 0.3835 - val_loss: 1.8767 - val_acc: 0.3522\n",
      "Epoch 5/100\n",
      "50000/50000 [==============================] - 9s 182us/step - loss: 1.7268 - acc: 0.4067 - val_loss: 1.8402 - val_acc: 0.3591\n",
      "Epoch 6/100\n",
      "50000/50000 [==============================] - 9s 183us/step - loss: 1.6785 - acc: 0.4254 - val_loss: 1.8030 - val_acc: 0.3752\n",
      "Epoch 7/100\n",
      "50000/50000 [==============================] - 9s 184us/step - loss: 1.6371 - acc: 0.4411 - val_loss: 1.7761 - val_acc: 0.3922\n",
      "Epoch 8/100\n",
      "50000/50000 [==============================] - 9s 184us/step - loss: 1.6018 - acc: 0.4553 - val_loss: 1.7458 - val_acc: 0.3993\n",
      "Epoch 9/100\n",
      "50000/50000 [==============================] - 9s 185us/step - loss: 1.5680 - acc: 0.4670 - val_loss: 1.7291 - val_acc: 0.4043\n",
      "Epoch 10/100\n",
      "50000/50000 [==============================] - 9s 182us/step - loss: 1.5375 - acc: 0.4779 - val_loss: 1.7130 - val_acc: 0.4094\n",
      "Epoch 11/100\n",
      "50000/50000 [==============================] - 9s 183us/step - loss: 1.5091 - acc: 0.4887 - val_loss: 1.7034 - val_acc: 0.4124\n",
      "Epoch 12/100\n",
      "50000/50000 [==============================] - 9s 185us/step - loss: 1.4821 - acc: 0.4974 - val_loss: 1.6995 - val_acc: 0.4131\n",
      "Epoch 13/100\n",
      "50000/50000 [==============================] - 9s 185us/step - loss: 1.4556 - acc: 0.5082 - val_loss: 1.6856 - val_acc: 0.4204\n",
      "Epoch 14/100\n",
      "50000/50000 [==============================] - 9s 183us/step - loss: 1.4323 - acc: 0.5159 - val_loss: 1.6707 - val_acc: 0.4203\n",
      "Epoch 15/100\n",
      "50000/50000 [==============================] - 9s 182us/step - loss: 1.4081 - acc: 0.5248 - val_loss: 1.6594 - val_acc: 0.4315\n",
      "Epoch 16/100\n",
      "50000/50000 [==============================] - 9s 186us/step - loss: 1.3849 - acc: 0.5326 - val_loss: 1.6551 - val_acc: 0.4312\n",
      "Epoch 17/100\n",
      "50000/50000 [==============================] - 9s 184us/step - loss: 1.3633 - acc: 0.5396 - val_loss: 1.6430 - val_acc: 0.4301\n",
      "Epoch 18/100\n",
      "50000/50000 [==============================] - 9s 184us/step - loss: 1.3411 - acc: 0.5465 - val_loss: 1.6410 - val_acc: 0.4340\n",
      "Epoch 19/100\n",
      "50000/50000 [==============================] - 9s 184us/step - loss: 1.3201 - acc: 0.5547 - val_loss: 1.6387 - val_acc: 0.4347\n",
      "Epoch 20/100\n",
      "50000/50000 [==============================] - 9s 181us/step - loss: 1.2991 - acc: 0.5622 - val_loss: 1.6286 - val_acc: 0.4405\n",
      "Epoch 21/100\n",
      "50000/50000 [==============================] - 9s 181us/step - loss: 1.2803 - acc: 0.5691 - val_loss: 1.6321 - val_acc: 0.4373\n",
      "Epoch 22/100\n",
      "50000/50000 [==============================] - 9s 181us/step - loss: 1.2600 - acc: 0.5749 - val_loss: 1.6259 - val_acc: 0.4422\n",
      "Epoch 23/100\n",
      "50000/50000 [==============================] - 9s 181us/step - loss: 1.2414 - acc: 0.5839 - val_loss: 1.6259 - val_acc: 0.4356\n",
      "Epoch 24/100\n",
      "50000/50000 [==============================] - 9s 181us/step - loss: 1.2225 - acc: 0.5902 - val_loss: 1.6137 - val_acc: 0.4457\n",
      "Epoch 25/100\n",
      "50000/50000 [==============================] - 9s 182us/step - loss: 1.2025 - acc: 0.5978 - val_loss: 1.6188 - val_acc: 0.4402\n",
      "Epoch 26/100\n",
      "50000/50000 [==============================] - 9s 183us/step - loss: 1.1854 - acc: 0.6031 - val_loss: 1.6199 - val_acc: 0.4450\n",
      "Epoch 27/100\n",
      "50000/50000 [==============================] - 9s 183us/step - loss: 1.1662 - acc: 0.6095 - val_loss: 1.6188 - val_acc: 0.4468\n",
      "Epoch 28/100\n",
      "50000/50000 [==============================] - 9s 182us/step - loss: 1.1469 - acc: 0.6180 - val_loss: 1.6147 - val_acc: 0.4464\n",
      "Epoch 29/100\n",
      "50000/50000 [==============================] - 9s 182us/step - loss: 1.1306 - acc: 0.6229 - val_loss: 1.6181 - val_acc: 0.4483\n",
      "\n",
      "Epoch 00029: ReduceLROnPlateau reducing learning rate to 0.0024999999441206455.\n",
      "Epoch 30/100\n",
      "50000/50000 [==============================] - 9s 183us/step - loss: 1.0957 - acc: 0.6399 - val_loss: 1.6044 - val_acc: 0.4490\n",
      "Epoch 31/100\n",
      "50000/50000 [==============================] - 9s 182us/step - loss: 1.0903 - acc: 0.6414 - val_loss: 1.6058 - val_acc: 0.4517\n",
      "Epoch 32/100\n",
      "50000/50000 [==============================] - 9s 181us/step - loss: 1.0846 - acc: 0.6441 - val_loss: 1.6070 - val_acc: 0.4508\n",
      "Epoch 33/100\n",
      "50000/50000 [==============================] - 9s 184us/step - loss: 1.0803 - acc: 0.6456 - val_loss: 1.6080 - val_acc: 0.4514\n",
      "Epoch 34/100\n",
      "50000/50000 [==============================] - 9s 183us/step - loss: 1.0748 - acc: 0.6469 - val_loss: 1.6064 - val_acc: 0.4506\n",
      "Epoch 35/100\n",
      "50000/50000 [==============================] - 9s 183us/step - loss: 1.0701 - acc: 0.6500 - val_loss: 1.6097 - val_acc: 0.4535\n",
      "\n",
      "Epoch 00035: ReduceLROnPlateau reducing learning rate to 0.0006249999860301614.\n",
      "Epoch 36/100\n",
      "50000/50000 [==============================] - 9s 186us/step - loss: 1.0611 - acc: 0.6533 - val_loss: 1.6084 - val_acc: 0.4539\n",
      "Epoch 37/100\n",
      "50000/50000 [==============================] - 9s 183us/step - loss: 1.0609 - acc: 0.6539 - val_loss: 1.6087 - val_acc: 0.4515\n",
      "Epoch 38/100\n",
      "50000/50000 [==============================] - 9s 183us/step - loss: 1.0598 - acc: 0.6528 - val_loss: 1.6094 - val_acc: 0.4515\n",
      "Epoch 39/100\n",
      "50000/50000 [==============================] - 9s 180us/step - loss: 1.0580 - acc: 0.6543 - val_loss: 1.6106 - val_acc: 0.4526\n",
      "Epoch 40/100\n",
      "50000/50000 [==============================] - 9s 184us/step - loss: 1.0565 - acc: 0.6553 - val_loss: 1.6106 - val_acc: 0.4531\n",
      "\n",
      "Epoch 00040: ReduceLROnPlateau reducing learning rate to 0.00015624999650754035.\n",
      "Epoch 41/100\n",
      "50000/50000 [==============================] - 9s 185us/step - loss: 1.0537 - acc: 0.6564 - val_loss: 1.6107 - val_acc: 0.4516\n",
      "Epoch 42/100\n",
      "50000/50000 [==============================] - 9s 184us/step - loss: 1.0542 - acc: 0.6568 - val_loss: 1.6108 - val_acc: 0.4515\n",
      "Epoch 43/100\n",
      "50000/50000 [==============================] - 9s 183us/step - loss: 1.0532 - acc: 0.6557 - val_loss: 1.6110 - val_acc: 0.4512\n",
      "Epoch 44/100\n",
      "50000/50000 [==============================] - 9s 184us/step - loss: 1.0532 - acc: 0.6577 - val_loss: 1.6110 - val_acc: 0.4510\n",
      "Epoch 45/100\n",
      "50000/50000 [==============================] - 9s 183us/step - loss: 1.0532 - acc: 0.6572 - val_loss: 1.6110 - val_acc: 0.4514\n",
      "\n",
      "Epoch 00045: ReduceLROnPlateau reducing learning rate to 3.9062499126885086e-05.\n",
      "Epoch 46/100\n",
      "50000/50000 [==============================] - 9s 186us/step - loss: 1.0524 - acc: 0.6581 - val_loss: 1.6111 - val_acc: 0.4513\n",
      "Epoch 47/100\n",
      "50000/50000 [==============================] - 9s 184us/step - loss: 1.0522 - acc: 0.6579 - val_loss: 1.6112 - val_acc: 0.4514\n",
      "Epoch 48/100\n",
      "50000/50000 [==============================] - 9s 184us/step - loss: 1.0530 - acc: 0.6556 - val_loss: 1.6112 - val_acc: 0.4511\n",
      "Epoch 49/100\n",
      "50000/50000 [==============================] - 9s 182us/step - loss: 1.0521 - acc: 0.6572 - val_loss: 1.6113 - val_acc: 0.4515\n",
      "Epoch 50/100\n",
      "50000/50000 [==============================] - 9s 183us/step - loss: 1.0516 - acc: 0.6578 - val_loss: 1.6113 - val_acc: 0.4515\n",
      "\n",
      "Epoch 00050: ReduceLROnPlateau reducing learning rate to 9.765624781721272e-06.\n",
      "Epoch 51/100\n",
      "50000/50000 [==============================] - 9s 186us/step - loss: 1.0520 - acc: 0.6575 - val_loss: 1.6112 - val_acc: 0.4515\n",
      "Epoch 52/100\n",
      "50000/50000 [==============================] - 9s 183us/step - loss: 1.0508 - acc: 0.6590 - val_loss: 1.6112 - val_acc: 0.4514\n",
      "Epoch 53/100\n",
      "50000/50000 [==============================] - 9s 184us/step - loss: 1.0516 - acc: 0.6570 - val_loss: 1.6113 - val_acc: 0.4514\n",
      "Epoch 54/100\n",
      "50000/50000 [==============================] - 9s 184us/step - loss: 1.0520 - acc: 0.6576 - val_loss: 1.6114 - val_acc: 0.4515\n",
      "Epoch 55/100\n",
      "50000/50000 [==============================] - 9s 184us/step - loss: 1.0516 - acc: 0.6570 - val_loss: 1.6113 - val_acc: 0.4510\n",
      "\n",
      "Epoch 00055: ReduceLROnPlateau reducing learning rate to 2.441406195430318e-06.\n",
      "Epoch 56/100\n",
      "50000/50000 [==============================] - 9s 185us/step - loss: 1.0517 - acc: 0.6577 - val_loss: 1.6113 - val_acc: 0.4511\n",
      "Epoch 57/100\n",
      "50000/50000 [==============================] - 9s 185us/step - loss: 1.0509 - acc: 0.6588 - val_loss: 1.6114 - val_acc: 0.4512\n",
      "Epoch 58/100\n",
      "50000/50000 [==============================] - 9s 185us/step - loss: 1.0518 - acc: 0.6573 - val_loss: 1.6114 - val_acc: 0.4510\n",
      "Epoch 59/100\n",
      "50000/50000 [==============================] - 9s 185us/step - loss: 1.0515 - acc: 0.6578 - val_loss: 1.6113 - val_acc: 0.4513\n",
      "Epoch 60/100\n",
      "50000/50000 [==============================] - 9s 184us/step - loss: 1.0520 - acc: 0.6567 - val_loss: 1.6113 - val_acc: 0.4516\n",
      "\n",
      "Epoch 00060: ReduceLROnPlateau reducing learning rate to 6.103515488575795e-07.\n",
      "Epoch 61/100\n",
      "50000/50000 [==============================] - 9s 185us/step - loss: 1.0511 - acc: 0.6588 - val_loss: 1.6113 - val_acc: 0.4515\n",
      "Epoch 62/100\n",
      "50000/50000 [==============================] - 9s 184us/step - loss: 1.0512 - acc: 0.6567 - val_loss: 1.6113 - val_acc: 0.4515\n",
      "Epoch 63/100\n",
      "50000/50000 [==============================] - 9s 185us/step - loss: 1.0528 - acc: 0.6561 - val_loss: 1.6113 - val_acc: 0.4514\n",
      "Epoch 64/100\n",
      "50000/50000 [==============================] - 9s 185us/step - loss: 1.0524 - acc: 0.6572 - val_loss: 1.6113 - val_acc: 0.4517\n",
      "Epoch 65/100\n",
      "50000/50000 [==============================] - 9s 185us/step - loss: 1.0522 - acc: 0.6574 - val_loss: 1.6114 - val_acc: 0.4517\n",
      "\n",
      "Epoch 00065: ReduceLROnPlateau reducing learning rate to 1.5258788721439487e-07.\n",
      "Epoch 66/100\n",
      "50000/50000 [==============================] - 9s 183us/step - loss: 1.0516 - acc: 0.6574 - val_loss: 1.6114 - val_acc: 0.4518\n",
      "Epoch 67/100\n",
      "50000/50000 [==============================] - 9s 184us/step - loss: 1.0524 - acc: 0.6568 - val_loss: 1.6114 - val_acc: 0.4515\n",
      "Epoch 68/100\n",
      "50000/50000 [==============================] - 9s 183us/step - loss: 1.0520 - acc: 0.6573 - val_loss: 1.6114 - val_acc: 0.4514\n",
      "Epoch 69/100\n",
      "50000/50000 [==============================] - 9s 183us/step - loss: 1.0513 - acc: 0.6569 - val_loss: 1.6114 - val_acc: 0.4512\n",
      "Epoch 70/100\n",
      "50000/50000 [==============================] - 9s 185us/step - loss: 1.0523 - acc: 0.6558 - val_loss: 1.6114 - val_acc: 0.4516\n",
      "\n",
      "Epoch 00070: ReduceLROnPlateau reducing learning rate to 3.814697180359872e-08.\n",
      "Epoch 71/100\n",
      "50000/50000 [==============================] - 9s 184us/step - loss: 1.0521 - acc: 0.6572 - val_loss: 1.6114 - val_acc: 0.4516\n",
      "Epoch 72/100\n",
      "50000/50000 [==============================] - 9s 184us/step - loss: 1.0521 - acc: 0.6580 - val_loss: 1.6114 - val_acc: 0.4516\n",
      "Epoch 73/100\n",
      "50000/50000 [==============================] - 9s 185us/step - loss: 1.0523 - acc: 0.6575 - val_loss: 1.6114 - val_acc: 0.4518\n",
      "Epoch 74/100\n",
      "50000/50000 [==============================] - 9s 183us/step - loss: 1.0512 - acc: 0.6575 - val_loss: 1.6114 - val_acc: 0.4517\n",
      "Epoch 75/100\n",
      "50000/50000 [==============================] - 9s 184us/step - loss: 1.0520 - acc: 0.6573 - val_loss: 1.6114 - val_acc: 0.4517\n",
      "\n",
      "Epoch 00075: ReduceLROnPlateau reducing learning rate to 9.53674295089968e-09.\n",
      "Epoch 76/100\n",
      "50000/50000 [==============================] - 9s 186us/step - loss: 1.0526 - acc: 0.6574 - val_loss: 1.6113 - val_acc: 0.4518\n",
      "Epoch 77/100\n",
      "50000/50000 [==============================] - 9s 183us/step - loss: 1.0512 - acc: 0.6567 - val_loss: 1.6114 - val_acc: 0.4516\n",
      "Epoch 78/100\n",
      "50000/50000 [==============================] - 9s 184us/step - loss: 1.0513 - acc: 0.6570 - val_loss: 1.6114 - val_acc: 0.4513\n",
      "Epoch 79/100\n",
      "50000/50000 [==============================] - 9s 185us/step - loss: 1.0519 - acc: 0.6569 - val_loss: 1.6113 - val_acc: 0.4516\n",
      "Epoch 80/100\n",
      "50000/50000 [==============================] - 9s 184us/step - loss: 1.0511 - acc: 0.6585 - val_loss: 1.6114 - val_acc: 0.4518\n",
      "\n",
      "Epoch 00080: ReduceLROnPlateau reducing learning rate to 2.38418573772492e-09.\n",
      "Epoch 81/100\n",
      "50000/50000 [==============================] - 9s 184us/step - loss: 1.0519 - acc: 0.6577 - val_loss: 1.6114 - val_acc: 0.4517\n",
      "Epoch 82/100\n",
      "50000/50000 [==============================] - 9s 185us/step - loss: 1.0521 - acc: 0.6578 - val_loss: 1.6113 - val_acc: 0.4516\n",
      "Epoch 83/100\n",
      "50000/50000 [==============================] - 9s 184us/step - loss: 1.0516 - acc: 0.6567 - val_loss: 1.6114 - val_acc: 0.4516\n",
      "Epoch 84/100\n",
      "50000/50000 [==============================] - 9s 184us/step - loss: 1.0526 - acc: 0.6566 - val_loss: 1.6114 - val_acc: 0.4516\n",
      "Epoch 85/100\n",
      "50000/50000 [==============================] - 9s 185us/step - loss: 1.0515 - acc: 0.6571 - val_loss: 1.6114 - val_acc: 0.4517\n",
      "\n",
      "Epoch 00085: ReduceLROnPlateau reducing learning rate to 5.9604643443123e-10.\n",
      "Epoch 86/100\n",
      "50000/50000 [==============================] - 9s 185us/step - loss: 1.0522 - acc: 0.6566 - val_loss: 1.6113 - val_acc: 0.4518\n",
      "Epoch 87/100\n",
      "50000/50000 [==============================] - 9s 186us/step - loss: 1.0513 - acc: 0.6588 - val_loss: 1.6113 - val_acc: 0.4520\n",
      "Epoch 88/100\n",
      "50000/50000 [==============================] - 9s 185us/step - loss: 1.0515 - acc: 0.6585 - val_loss: 1.6113 - val_acc: 0.4521\n",
      "Epoch 89/100\n",
      "50000/50000 [==============================] - 9s 184us/step - loss: 1.0514 - acc: 0.6574 - val_loss: 1.6113 - val_acc: 0.4519\n",
      "Epoch 90/100\n",
      "50000/50000 [==============================] - 9s 184us/step - loss: 1.0516 - acc: 0.6571 - val_loss: 1.6113 - val_acc: 0.4516\n",
      "\n",
      "Epoch 00090: ReduceLROnPlateau reducing learning rate to 1.490116086078075e-10.\n",
      "Epoch 91/100\n",
      "50000/50000 [==============================] - 9s 184us/step - loss: 1.0517 - acc: 0.6577 - val_loss: 1.6113 - val_acc: 0.4514\n",
      "Epoch 92/100\n",
      "50000/50000 [==============================] - 9s 186us/step - loss: 1.0514 - acc: 0.6584 - val_loss: 1.6113 - val_acc: 0.4514\n",
      "Epoch 93/100\n",
      "50000/50000 [==============================] - 9s 186us/step - loss: 1.0522 - acc: 0.6581 - val_loss: 1.6114 - val_acc: 0.4515\n",
      "Epoch 94/100\n",
      "50000/50000 [==============================] - 9s 186us/step - loss: 1.0524 - acc: 0.6570 - val_loss: 1.6114 - val_acc: 0.4514\n",
      "Epoch 95/100\n",
      "50000/50000 [==============================] - 9s 185us/step - loss: 1.0519 - acc: 0.6578 - val_loss: 1.6113 - val_acc: 0.4519\n",
      "\n",
      "Epoch 00095: ReduceLROnPlateau reducing learning rate to 3.725290215195187e-11.\n",
      "Epoch 96/100\n",
      "50000/50000 [==============================] - 9s 186us/step - loss: 1.0523 - acc: 0.6564 - val_loss: 1.6114 - val_acc: 0.4516\n",
      "Epoch 97/100\n",
      "50000/50000 [==============================] - 9s 185us/step - loss: 1.0522 - acc: 0.6571 - val_loss: 1.6114 - val_acc: 0.4513\n",
      "Epoch 98/100\n",
      "50000/50000 [==============================] - 9s 185us/step - loss: 1.0519 - acc: 0.6583 - val_loss: 1.6114 - val_acc: 0.4514\n",
      "Epoch 99/100\n",
      "50000/50000 [==============================] - 9s 184us/step - loss: 1.0516 - acc: 0.6578 - val_loss: 1.6114 - val_acc: 0.4517\n",
      "Epoch 100/100\n",
      "50000/50000 [==============================] - 9s 184us/step - loss: 1.0518 - acc: 0.6566 - val_loss: 1.6114 - val_acc: 0.4514\n",
      "\n",
      "Epoch 00100: ReduceLROnPlateau reducing learning rate to 9.313225537987968e-12.\n"
     ]
    }
   ],
   "source": [
    "results = { }\n",
    "\n",
    "\"\"\"\n",
    "建立訓練與實驗迴圈並蒐集資料\n",
    "\"\"\"\n",
    "for i, ( lr, optim, reduce_factor, reduce_patience ) in enumerate( itertools.product( LEARNING_RATE, Optimizers, REDUCE_LR_FACTOR, REDUCE_LR_PATIENCE ) ) :\n",
    "\n",
    "    keras.backend.clear_session( )    # 清掉舊的 Graph \n",
    "    \n",
    "    print( 'learning_rate: %.2f, reduce_factor: %.2f, reduce_patience: %i' % ( i, reduce_factor, reduce_patience ) )\n",
    "    \n",
    "    # Early Stopping\n",
    "    #EARLY_STOP = EarlyStopping( monitor = \"val_loss\", \n",
    "    #                                            patience = PATIENCE,  # 容忍訓練無再改善時的 EPOCHS 次數\n",
    "    #                                            verbose = 1\n",
    "    #                                             )\n",
    "    \n",
    "    # Model Check Point( 自動存取目前模型的最佳權重 )\n",
    "    #ModelCheckPoint = ModelCheckpoint( filepath = './weights.best.h5' ,\n",
    "    #                                                       monitor = 'val_acc', \n",
    "    #                                                       save_best_only = True\n",
    "    #                                                       )\n",
    "    \n",
    "    model = build_mlp( input_shape = x_train.shape[ 1: ], pre_activate = PRE_ACTIVATE )\n",
    "    model.summary( )\n",
    "    \n",
    "\n",
    "    \n",
    "    # 執行神經網絡\n",
    "    model.compile( loss = 'categorical_crossentropy', \n",
    "                          optimizer = optim, \n",
    "                          metrics = [ 'accuracy' ] \n",
    "                          )\n",
    "    \n",
    "    # Reduce Learning Rate ( when a metric has stopped improving! )\n",
    "    Reduce_LR = ReduceLROnPlateau( factor = reduce_factor, # new_lr = lr * factor\n",
    "                                                      min_lr = 1e-12,             # lower bound on lr\n",
    "                                                      monitor = 'val_loss', \n",
    "                                                      patience = reduce_patience,  # number of epochs with no improvement after which lr will be reduced\n",
    "                                                      verbose = 1\n",
    "                                                      )\n",
    "    \n",
    "    model.fit( x_train, y_train, \n",
    "                  epochs = EPOCHS,     \n",
    "                  validation_data = ( x_test, y_test ), \n",
    "                  #validation_split = 0.2,  # Fraction of the training data to be used as validation data.\n",
    "                  batch_size = BATCH_SIZE, \n",
    "                  #callbacks = [ EARLY_STOP ],\n",
    "                  callbacks = [ Reduce_LR, Record_TPTN ],\n",
    "                  #callbacks = [rec_tptn]\n",
    "                  shuffle = True\n",
    "                  )\n",
    "    \n",
    "    # Collect results\n",
    "    train_loss = model.history.history[ 'loss' ]\n",
    "    valid_loss = model.history.history[ 'val_loss' ]\n",
    "    train_acc = model.history.history[ 'acc' ]\n",
    "    valid_acc = model.history.history[ 'val_acc' ]\n",
    "    \n",
    "    exp_name_tag = 'Learning Rate =' + str( lr ) + ', Optimizer:' + str( optim ) + ', Reduce Factor =' + str( reduce_factor ) + ', Reduce Patience =' + str( reduce_patience )\n",
    "    results[ exp_name_tag ] = { 'Train Loss': train_loss,\n",
    "                                           'Valid Loss': valid_loss,\n",
    "                                           'Train Acc': train_acc,\n",
    "                                           'Valid Acc': valid_acc\n",
    "                                           }    "
   ]
  },
  {
   "cell_type": "code",
   "execution_count": 0,
   "metadata": {
    "colab": {},
    "colab_type": "code",
    "id": "SlsWiqvBRBpt"
   },
   "outputs": [],
   "source": [
    "\"\"\"\n",
    "將 True Positives/True Negatives 從訓練完的模型中取出\n",
    "\"\"\"\n",
    "valid_tp = model.history.history[ 'true_positives' ]  \n",
    "valid_tn = model.history.history[ 'true_negatives' ]"
   ]
  },
  {
   "cell_type": "code",
   "execution_count": 14,
   "metadata": {
    "colab": {
     "base_uri": "https://localhost:8080/",
     "height": 1000
    },
    "colab_type": "code",
    "id": "g7FtOp38LLCE",
    "outputId": "aea61ecb-62b6-40a2-fe7d-d1837689d720"
   },
   "outputs": [
    {
     "data": {
      "image/png": "[encoded data removed]",
      "text/plain": [
       "<Figure size 576x432 with 1 Axes>"
      ]
     },
     "metadata": {
      "tags": []
     },
     "output_type": "display_data"
    },
    {
     "data": {
      "image/png": "[encoded data removed]",
      "text/plain": [
       "<Figure size 576x432 with 1 Axes>"
      ]
     },
     "metadata": {
      "tags": []
     },
     "output_type": "display_data"
    },
    {
     "data": {
      "image/png": "[encoded data removed]",
      "text/plain": [
       "<Figure size 576x432 with 1 Axes>"
      ]
     },
     "metadata": {
      "tags": []
     },
     "output_type": "display_data"
    }
   ],
   "source": [
    "NUM_COLORS = len( results.keys( ) )\n",
    "cm = plt.get_cmap( 'gist_rainbow' )\n",
    "cNorm  = colors.Normalize( vmin = 0, vmax = NUM_COLORS - 1 )\n",
    "scalarMap = mplcm.ScalarMappable( norm = cNorm, cmap = cm )\n",
    "color_bar = [ scalarMap.to_rgba( i ) for i in range( NUM_COLORS ) ]\n",
    "\n",
    "plt.figure( figsize = ( 8, 6 ) )\n",
    "for i, cond in enumerate( results.keys( ) ) :\n",
    "    plt.plot( range( len( results[cond]['Train Loss']) ), results[cond]['Train Loss'], '-', label = 'Train: ' + cond, color = color_bar[i] )\n",
    "    plt.plot( range( len( results[cond]['Valid Loss']) ), results[cond]['Valid Loss'], '--', label = 'Valid: ' + cond, color = color_bar[i] )\n",
    "plt.title( 'Loss Function' )\n",
    "plt.legend( loc = 'center left', bbox_to_anchor = ( 1, 0.5 ) )\n",
    "plt.show( )\n",
    "\n",
    "plt.figure( figsize= ( 8, 6 ) )\n",
    "for i, cond in enumerate( results.keys( ) ) :\n",
    "    plt.plot( range( len( results[cond]['Train Acc']) ), results[cond]['Train Acc'], '-', label = 'Train: ' + cond, color = color_bar[i] )\n",
    "    plt.plot( range( len( results[cond]['Valid Acc']) ), results[cond]['Valid Acc'], '--', label = 'Valid: ' + cond, color = color_bar[i] )\n",
    "plt.title( 'Accuracy' )\n",
    "plt.legend( loc = 'center left', bbox_to_anchor = ( 1, 0.5 ) )\n",
    "plt.show( )\n",
    "\n",
    "plt.figure( figsize = ( 8, 6 ) )\n",
    "plt.plot( range( len( valid_tp ) ), valid_tp, label = 'Valid TP', color = 'navy' )\n",
    "plt.plot( range( len( valid_tn ) ), valid_tn, label = 'Valid TN', color = 'red' )\n",
    "plt.title( 'True Positives and True Negatives' )\n",
    "plt.legend( )\n",
    "plt.show( )"
   ]
  },
  {
   "cell_type": "code",
   "execution_count": 0,
   "metadata": {
    "colab": {},
    "colab_type": "code",
    "id": "xibr0DmKiFeC"
   },
   "outputs": [],
   "source": []
  }
 ],
 "metadata": {
  "colab": {
   "collapsed_sections": [],
   "name": "Day_088_HW.ipynb",
   "provenance": [],
   "toc_visible": true,
   "version": "0.3.2"
  },
  "kernelspec": {
   "display_name": "Python 3",
   "language": "python",
   "name": "python3"
  },
  "language_info": {
   "codemirror_mode": {
    "name": "ipython",
    "version": 3
   },
   "file_extension": ".py",
   "mimetype": "text/x-python",
   "name": "python",
   "nbconvert_exporter": "python",
   "pygments_lexer": "ipython3",
   "version": "3.7.3"
  }
 },
 "nbformat": 4,
 "nbformat_minor": 1
}
