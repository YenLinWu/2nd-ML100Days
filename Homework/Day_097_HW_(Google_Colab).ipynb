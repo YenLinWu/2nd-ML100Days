{
  "nbformat": 4,
  "nbformat_minor": 0,
  "metadata": {
    "kernelspec": {
      "display_name": "Python 3",
      "language": "python",
      "name": "python3"
    },
    "language_info": {
      "codemirror_mode": {
        "name": "ipython",
        "version": 3
      },
      "file_extension": ".py",
      "mimetype": "text/x-python",
      "name": "python",
      "nbconvert_exporter": "python",
      "pygments_lexer": "ipython3",
      "version": "3.7.3"
    },
    "colab": {
      "name": "Day_097_Keras_CNN_vs_DNN.ipynb",
      "version": "0.3.2",
      "provenance": [],
      "collapsed_sections": [],
      "toc_visible": true
    }
  },
  "cells": [
    {
      "cell_type": "code",
      "metadata": {
        "id": "4n7KuJUDw75V",
        "colab_type": "code",
        "outputId": "dd966328-a3bc-457c-91ff-b8dc4c743297",
        "colab": {
          "base_uri": "https://localhost:8080/",
          "height": 34
        }
      },
      "source": [
        "import os\n",
        "import keras\n",
        "from keras.datasets import cifar10\n",
        "\n",
        "from keras.preprocessing.image import ImageDataGenerator\n",
        "\n",
        "\n",
        "from keras.models import Sequential\n",
        "# 卷積層、池化層\n",
        "from keras.layers import Conv2D, MaxPooling2D\n",
        "# 神經網絡正規化\n",
        "from keras.regularizers import l1, l2, l1_l2 \n",
        "# 神經網絡隨機拋棄、批次標準化、激活函數、平坦層\n",
        "from keras.layers import Dense, Dropout, BatchNormalization, Activation, Flatten \n",
        "# 優化器(Optimizer)\n",
        "from keras.optimizers import RMSprop, Adam\n",
        "# Early Stopping\n",
        "from keras.callbacks import EarlyStopping\n",
        "# 自動存取目前模型的最佳權重\n",
        "from keras.callbacks import ModelCheckpoint\n",
        "# Reduce Learning Rate\n",
        "from keras.callbacks import ReduceLROnPlateau\n",
        "# 訓練模型時，利用 callback 紀錄訓練過程\n",
        "from keras.callbacks import Callback\n",
        "# 自訂損失函數\n",
        "import tensorflow as tf\n",
        "import keras.backend as K\n",
        "\n",
        "import matplotlib.pyplot as plt\n",
        "import matplotlib.cm as mplcm\n",
        "import matplotlib.colors as colors\n",
        "%matplotlib inline\n"
      ],
      "execution_count": 1,
      "outputs": [
        {
          "output_type": "stream",
          "text": [
            "Using TensorFlow backend.\n"
          ],
          "name": "stderr"
        }
      ]
    },
    {
      "cell_type": "markdown",
      "metadata": {
        "id": "9mTYBDqy6-wj",
        "colab_type": "text"
      },
      "source": [
        "##讀取資料"
      ]
    },
    {
      "cell_type": "code",
      "metadata": {
        "id": "5ehXyzA0w75f",
        "colab_type": "code",
        "outputId": "8d222ecf-ed3d-40e9-f36e-72cfce01d1f1",
        "colab": {
          "base_uri": "https://localhost:8080/",
          "height": 105
        }
      },
      "source": [
        "# 讀取資料並檢視\n",
        "( x_train, y_train ), ( x_test, y_test ) = cifar10.load_data( )\n",
        "print( 'x_train shape:', x_train.shape )\n",
        "print( x_train.shape[0], 'train samples' )\n",
        "print( x_test.shape[0], 'test samples' )"
      ],
      "execution_count": 2,
      "outputs": [
        {
          "output_type": "stream",
          "text": [
            "Downloading data from https://www.cs.toronto.edu/~kriz/cifar-10-python.tar.gz\n",
            "170500096/170498071 [==============================] - 4s 0us/step\n",
            "x_train shape: (50000, 32, 32, 3)\n",
            "50000 train samples\n",
            "10000 test samples\n"
          ],
          "name": "stdout"
        }
      ]
    },
    {
      "cell_type": "markdown",
      "metadata": {
        "id": "SHsyZdG08E68",
        "colab_type": "text"
      },
      "source": [
        "# 設定超參數"
      ]
    },
    {
      "cell_type": "code",
      "metadata": {
        "id": "MAMAjJA98JmE",
        "colab_type": "code",
        "colab": {}
      },
      "source": [
        "batch_size = 128 # batch 的大小，如果出現 OOM error，請降低這個值\n",
        "num_classes = 10 # 類別的數量，Cifar 10 共有 10 個類別\n",
        "epochs = 10 # 訓練的 epochs 數量\n",
        "\n",
        "'''調整學習率'''\n",
        "lr = 0.0001  # 預設為 0.001"
      ],
      "execution_count": 0,
      "outputs": []
    },
    {
      "cell_type": "markdown",
      "metadata": {
        "id": "csJWbcVRw75i",
        "colab_type": "text"
      },
      "source": [
        "## 首先我們使用一般的 DNN (MLP) 來訓練\n",
        "由於 DNN 只能輸入一維的資料，我們要先將影像進行攤平，若 (50000, 32, 32, 3) 的影像，攤平後會變成 (50000, 32 x 32 x 3) = (50000, 3072)"
      ]
    },
    {
      "cell_type": "markdown",
      "metadata": {
        "id": "PIPO_EjV7FDK",
        "colab_type": "text"
      },
      "source": [
        "### 資料前處理 - 平坦化、標準化 及 獨熱編碼(OneHot Encoding)"
      ]
    },
    {
      "cell_type": "code",
      "metadata": {
        "scrolled": true,
        "id": "d2IdTwl_w75k",
        "colab_type": "code",
        "outputId": "096ee039-690b-4bdf-c1c5-ed2690418171",
        "colab": {
          "base_uri": "https://localhost:8080/",
          "height": 52
        }
      },
      "source": [
        "# 將資料攤平成一維資料\n",
        "x_train = x_train.reshape( 50000, 3072 ) \n",
        "x_test = x_test.reshape( 10000, 3072 )\n",
        "\n",
        "# 將資料變為 float32 並標準化\n",
        "x_train = x_train.astype( 'float32' )\n",
        "x_test = x_test.astype( 'float32' )\n",
        "x_train /= 255\n",
        "x_test /= 255\n",
        "\n",
        "print( x_train.shape[0], 'train samples' )\n",
        "print( x_test.shape[0], 'test samples' )\n",
        "\n",
        "\n",
        "# 對 label 進行 one-hot encoding (y_trian 原本是純數字)\n",
        "y_train = keras.utils.to_categorical( y_train, num_classes )\n",
        "y_test = keras.utils.to_categorical( y_test, num_classes )"
      ],
      "execution_count": 4,
      "outputs": [
        {
          "output_type": "stream",
          "text": [
            "50000 train samples\n",
            "10000 test samples\n"
          ],
          "name": "stdout"
        }
      ]
    },
    {
      "cell_type": "markdown",
      "metadata": {
        "id": "pi16v3xL7kP6",
        "colab_type": "text"
      },
      "source": [
        "### 建立神經網絡模型"
      ]
    },
    {
      "cell_type": "code",
      "metadata": {
        "id": "5kNFYodYw75m",
        "colab_type": "code",
        "outputId": "ca00992c-6f72-4198-be0c-5239d2a7b38c",
        "colab": {
          "base_uri": "https://localhost:8080/",
          "height": 1000
        }
      },
      "source": [
        "model = Sequential()\n",
        "model.add( Dense( 512, activation = 'relu', input_shape = ( 3072, ) ) )\n",
        "model.add( Dropout( 0.2 ) )\n",
        "model.add( Dense( 512, activation = 'relu' ) )\n",
        "model.add( Dropout( 0.2 ) )\n",
        "model.add( Dense( num_classes, activation = 'softmax' ) )\n",
        "\n",
        "model.summary( )\n",
        "\n",
        "model.compile( loss = 'categorical_crossentropy',\n",
        "                      optimizer = RMSprop( lr = lr ),\n",
        "                      metrics = [ 'accuracy' ] )\n",
        "\n",
        "history = model.fit( x_train, y_train,\n",
        "                           batch_size = batch_size,\n",
        "                           epochs = epochs,\n",
        "                           verbose = 1,\n",
        "                           validation_data = ( x_test, y_test ) \n",
        "                           )\n",
        "\n",
        "score = model.evaluate( x_test, y_test, verbose = 0 )\n",
        "\n",
        "print( 'Test loss:', score[0] )\n",
        "print( 'Test accuracy:', score[1] )"
      ],
      "execution_count": 5,
      "outputs": [
        {
          "output_type": "stream",
          "text": [
            "WARNING: Logging before flag parsing goes to stderr.\n",
            "W0805 08:13:38.530593 140574694369152 deprecation_wrapper.py:119] From /usr/local/lib/python3.6/dist-packages/keras/backend/tensorflow_backend.py:74: The name tf.get_default_graph is deprecated. Please use tf.compat.v1.get_default_graph instead.\n",
            "\n",
            "W0805 08:13:38.572847 140574694369152 deprecation_wrapper.py:119] From /usr/local/lib/python3.6/dist-packages/keras/backend/tensorflow_backend.py:517: The name tf.placeholder is deprecated. Please use tf.compat.v1.placeholder instead.\n",
            "\n",
            "W0805 08:13:38.580179 140574694369152 deprecation_wrapper.py:119] From /usr/local/lib/python3.6/dist-packages/keras/backend/tensorflow_backend.py:4138: The name tf.random_uniform is deprecated. Please use tf.random.uniform instead.\n",
            "\n",
            "W0805 08:13:38.604388 140574694369152 deprecation_wrapper.py:119] From /usr/local/lib/python3.6/dist-packages/keras/backend/tensorflow_backend.py:133: The name tf.placeholder_with_default is deprecated. Please use tf.compat.v1.placeholder_with_default instead.\n",
            "\n",
            "W0805 08:13:38.617275 140574694369152 deprecation.py:506] From /usr/local/lib/python3.6/dist-packages/keras/backend/tensorflow_backend.py:3445: calling dropout (from tensorflow.python.ops.nn_ops) with keep_prob is deprecated and will be removed in a future version.\n",
            "Instructions for updating:\n",
            "Please use `rate` instead of `keep_prob`. Rate should be set to `rate = 1 - keep_prob`.\n",
            "W0805 08:13:38.697274 140574694369152 deprecation_wrapper.py:119] From /usr/local/lib/python3.6/dist-packages/keras/optimizers.py:790: The name tf.train.Optimizer is deprecated. Please use tf.compat.v1.train.Optimizer instead.\n",
            "\n"
          ],
          "name": "stderr"
        },
        {
          "output_type": "stream",
          "text": [
            "_________________________________________________________________\n",
            "Layer (type)                 Output Shape              Param #   \n",
            "=================================================================\n",
            "dense_1 (Dense)              (None, 512)               1573376   \n",
            "_________________________________________________________________\n",
            "dropout_1 (Dropout)          (None, 512)               0         \n",
            "_________________________________________________________________\n",
            "dense_2 (Dense)              (None, 512)               262656    \n",
            "_________________________________________________________________\n",
            "dropout_2 (Dropout)          (None, 512)               0         \n",
            "_________________________________________________________________\n",
            "dense_3 (Dense)              (None, 10)                5130      \n",
            "=================================================================\n",
            "Total params: 1,841,162\n",
            "Trainable params: 1,841,162\n",
            "Non-trainable params: 0\n",
            "_________________________________________________________________\n"
          ],
          "name": "stdout"
        },
        {
          "output_type": "stream",
          "text": [
            "W0805 08:13:38.714424 140574694369152 deprecation_wrapper.py:119] From /usr/local/lib/python3.6/dist-packages/keras/backend/tensorflow_backend.py:3295: The name tf.log is deprecated. Please use tf.math.log instead.\n",
            "\n",
            "W0805 08:13:38.861399 140574694369152 deprecation.py:323] From /usr/local/lib/python3.6/dist-packages/tensorflow/python/ops/math_grad.py:1250: add_dispatch_support.<locals>.wrapper (from tensorflow.python.ops.array_ops) is deprecated and will be removed in a future version.\n",
            "Instructions for updating:\n",
            "Use tf.where in 2.0, which has the same broadcast rule as np.where\n"
          ],
          "name": "stderr"
        },
        {
          "output_type": "stream",
          "text": [
            "Train on 50000 samples, validate on 10000 samples\n",
            "Epoch 1/10\n",
            "50000/50000 [==============================] - 23s 460us/step - loss: 1.9535 - acc: 0.2968 - val_loss: 1.7792 - val_acc: 0.3695\n",
            "Epoch 2/10\n",
            "50000/50000 [==============================] - 23s 454us/step - loss: 1.7672 - acc: 0.3691 - val_loss: 1.6969 - val_acc: 0.3929\n",
            "Epoch 3/10\n",
            "50000/50000 [==============================] - 22s 439us/step - loss: 1.6915 - acc: 0.3980 - val_loss: 1.6073 - val_acc: 0.4340\n",
            "Epoch 4/10\n",
            "50000/50000 [==============================] - 22s 439us/step - loss: 1.6424 - acc: 0.4176 - val_loss: 1.6478 - val_acc: 0.4122\n",
            "Epoch 5/10\n",
            "50000/50000 [==============================] - 22s 434us/step - loss: 1.5960 - acc: 0.4360 - val_loss: 1.5837 - val_acc: 0.4324\n",
            "Epoch 6/10\n",
            "50000/50000 [==============================] - 22s 440us/step - loss: 1.5627 - acc: 0.4486 - val_loss: 1.5430 - val_acc: 0.4487\n",
            "Epoch 7/10\n",
            "50000/50000 [==============================] - 22s 442us/step - loss: 1.5336 - acc: 0.4549 - val_loss: 1.5312 - val_acc: 0.4522\n",
            "Epoch 8/10\n",
            "50000/50000 [==============================] - 22s 448us/step - loss: 1.5077 - acc: 0.4676 - val_loss: 1.4720 - val_acc: 0.4751\n",
            "Epoch 9/10\n",
            "50000/50000 [==============================] - 22s 445us/step - loss: 1.4795 - acc: 0.4797 - val_loss: 1.4700 - val_acc: 0.4728\n",
            "Epoch 10/10\n",
            "50000/50000 [==============================] - 22s 445us/step - loss: 1.4599 - acc: 0.4887 - val_loss: 1.4436 - val_acc: 0.4878\n",
            "Test loss: 1.443581227684021\n",
            "Test accuracy: 0.4878\n"
          ],
          "name": "stdout"
        }
      ]
    },
    {
      "cell_type": "markdown",
      "metadata": {
        "id": "du1z3s6Rw75p",
        "colab_type": "text"
      },
      "source": [
        "# 接下來我們使用 CNN 來訓練神經網路\n",
        "CNN 的原理非常適合處理影像類的資料，就讓我們來看看，同樣的訓練條件，CNN 是否顯著優於 DNN 呢?"
      ]
    },
    {
      "cell_type": "code",
      "metadata": {
        "id": "ro3_jpxFw75r",
        "colab_type": "code",
        "outputId": "997c6d5b-06f7-47e9-fdfc-b5d0bd794c17",
        "colab": {
          "base_uri": "https://localhost:8080/",
          "height": 70
        }
      },
      "source": [
        "( x_train, y_train ), ( x_test, y_test ) = cifar10.load_data( )\n",
        "print( 'x_train shape:', x_train.shape )\n",
        "print( x_train.shape[0], 'train samples' )\n",
        "print( x_test.shape[0], 'test samples' )\n",
        "x_train = x_train.astype( 'float32' )\n",
        "x_test = x_test.astype( 'float32' )\n",
        "x_train /= 255\n",
        "x_test /= 255\n",
        "\n",
        "# Convert class vectors to binary class matrices.\n",
        "y_train = keras.utils.to_categorical( y_train, num_classes )\n",
        "y_test = keras.utils.to_categorical( y_test, num_classes )"
      ],
      "execution_count": 6,
      "outputs": [
        {
          "output_type": "stream",
          "text": [
            "x_train shape: (50000, 32, 32, 3)\n",
            "50000 train samples\n",
            "10000 test samples\n"
          ],
          "name": "stdout"
        }
      ]
    },
    {
      "cell_type": "markdown",
      "metadata": {
        "id": "M9iPJiv17vpl",
        "colab_type": "text"
      },
      "source": [
        "##建立卷積神經網絡模型"
      ]
    },
    {
      "cell_type": "code",
      "metadata": {
        "id": "mR2KyBNYw75v",
        "colab_type": "code",
        "outputId": "8d846fcd-918c-4000-f639-a5f2d72436ea",
        "colab": {
          "base_uri": "https://localhost:8080/",
          "height": 1000
        }
      },
      "source": [
        "model = Sequential( )\n",
        "model.add( Conv2D( 32, ( 3, 3 ), \n",
        "                              padding = 'same',\n",
        "                              input_shape = x_train.shape[ 1: ] \n",
        "                              ) )\n",
        "\n",
        "model.add( Activation( 'relu' ) )\n",
        "model.add( Conv2D( 32, ( 3, 3 ) ) )\n",
        "model.add( Activation( 'relu' ) )\n",
        "model.add( MaxPooling2D( pool_size = ( 2, 2 ) ) )\n",
        "model.add( Dropout( 0.25 ) )\n",
        "\n",
        "model.add( Conv2D( 64, ( 3, 3 ), \n",
        "                              padding = 'same' \n",
        "                              ) )\n",
        "model.add( Activation( 'relu' ) )\n",
        "model.add( Conv2D( 64, ( 3, 3 ) ) )\n",
        "model.add( Activation( 'relu' ) )\n",
        "model.add( MaxPooling2D( pool_size = ( 2, 2 ) ) )\n",
        "model.add( Dropout( 0.25 ) )\n",
        "\n",
        "model.add( Flatten( ) )\n",
        "model.add( Dense( 512 ) )\n",
        "model.add( Activation( 'relu' ) )\n",
        "model.add( Dropout( 0.5 ) )\n",
        "model.add( Dense( num_classes ) )\n",
        "model.add( Activation( 'softmax' ) )\n",
        "model.summary( )\n",
        "\n",
        "model.compile( loss = 'categorical_crossentropy',\n",
        "                      optimizer = RMSprop( lr = lr ),\n",
        "                      metrics = [ 'accuracy' ] \n",
        "                      )\n",
        "\n",
        "history = model.fit( x_train, y_train,\n",
        "                           batch_size = batch_size,\n",
        "                           epochs = epochs,\n",
        "                           verbose = 1,\n",
        "                           validation_data = ( x_test, y_test ) \n",
        "                           )\n",
        "\n",
        "score = model.evaluate( x_test, y_test, verbose = 0 )\n",
        "\n",
        "print( 'Test loss: ', score[0] )\n",
        "print( 'Test accuracy: ', score[1] )"
      ],
      "execution_count": 7,
      "outputs": [
        {
          "output_type": "stream",
          "text": [
            "W0805 08:17:24.095393 140574694369152 deprecation_wrapper.py:119] From /usr/local/lib/python3.6/dist-packages/keras/backend/tensorflow_backend.py:3976: The name tf.nn.max_pool is deprecated. Please use tf.nn.max_pool2d instead.\n",
            "\n"
          ],
          "name": "stderr"
        },
        {
          "output_type": "stream",
          "text": [
            "_________________________________________________________________\n",
            "Layer (type)                 Output Shape              Param #   \n",
            "=================================================================\n",
            "conv2d_1 (Conv2D)            (None, 32, 32, 32)        896       \n",
            "_________________________________________________________________\n",
            "activation_1 (Activation)    (None, 32, 32, 32)        0         \n",
            "_________________________________________________________________\n",
            "conv2d_2 (Conv2D)            (None, 30, 30, 32)        9248      \n",
            "_________________________________________________________________\n",
            "activation_2 (Activation)    (None, 30, 30, 32)        0         \n",
            "_________________________________________________________________\n",
            "max_pooling2d_1 (MaxPooling2 (None, 15, 15, 32)        0         \n",
            "_________________________________________________________________\n",
            "dropout_3 (Dropout)          (None, 15, 15, 32)        0         \n",
            "_________________________________________________________________\n",
            "conv2d_3 (Conv2D)            (None, 15, 15, 64)        18496     \n",
            "_________________________________________________________________\n",
            "activation_3 (Activation)    (None, 15, 15, 64)        0         \n",
            "_________________________________________________________________\n",
            "conv2d_4 (Conv2D)            (None, 13, 13, 64)        36928     \n",
            "_________________________________________________________________\n",
            "activation_4 (Activation)    (None, 13, 13, 64)        0         \n",
            "_________________________________________________________________\n",
            "max_pooling2d_2 (MaxPooling2 (None, 6, 6, 64)          0         \n",
            "_________________________________________________________________\n",
            "dropout_4 (Dropout)          (None, 6, 6, 64)          0         \n",
            "_________________________________________________________________\n",
            "flatten_1 (Flatten)          (None, 2304)              0         \n",
            "_________________________________________________________________\n",
            "dense_4 (Dense)              (None, 512)               1180160   \n",
            "_________________________________________________________________\n",
            "activation_5 (Activation)    (None, 512)               0         \n",
            "_________________________________________________________________\n",
            "dropout_5 (Dropout)          (None, 512)               0         \n",
            "_________________________________________________________________\n",
            "dense_5 (Dense)              (None, 10)                5130      \n",
            "_________________________________________________________________\n",
            "activation_6 (Activation)    (None, 10)                0         \n",
            "=================================================================\n",
            "Total params: 1,250,858\n",
            "Trainable params: 1,250,858\n",
            "Non-trainable params: 0\n",
            "_________________________________________________________________\n",
            "Train on 50000 samples, validate on 10000 samples\n",
            "Epoch 1/10\n",
            "50000/50000 [==============================] - 240s 5ms/step - loss: 1.9519 - acc: 0.2847 - val_loss: 1.6719 - val_acc: 0.4000\n",
            "Epoch 2/10\n",
            "50000/50000 [==============================] - 240s 5ms/step - loss: 1.6607 - acc: 0.3967 - val_loss: 1.5765 - val_acc: 0.4272\n",
            "Epoch 3/10\n",
            "50000/50000 [==============================] - 239s 5ms/step - loss: 1.5542 - acc: 0.4374 - val_loss: 1.4348 - val_acc: 0.4865\n",
            "Epoch 4/10\n",
            "50000/50000 [==============================] - 240s 5ms/step - loss: 1.4741 - acc: 0.4686 - val_loss: 1.3624 - val_acc: 0.5181\n",
            "Epoch 5/10\n",
            "50000/50000 [==============================] - 240s 5ms/step - loss: 1.4103 - acc: 0.4954 - val_loss: 1.3299 - val_acc: 0.5308\n",
            "Epoch 6/10\n",
            "50000/50000 [==============================] - 240s 5ms/step - loss: 1.3531 - acc: 0.5183 - val_loss: 1.2466 - val_acc: 0.5570\n",
            "Epoch 7/10\n",
            "50000/50000 [==============================] - 239s 5ms/step - loss: 1.3007 - acc: 0.5357 - val_loss: 1.1960 - val_acc: 0.5790\n",
            "Epoch 8/10\n",
            "50000/50000 [==============================] - 240s 5ms/step - loss: 1.2569 - acc: 0.5536 - val_loss: 1.1866 - val_acc: 0.5854\n",
            "Epoch 9/10\n",
            "50000/50000 [==============================] - 240s 5ms/step - loss: 1.2163 - acc: 0.5682 - val_loss: 1.1724 - val_acc: 0.5831\n",
            "Epoch 10/10\n",
            "50000/50000 [==============================] - 240s 5ms/step - loss: 1.1843 - acc: 0.5836 - val_loss: 1.0946 - val_acc: 0.6134\n",
            "Test loss:  1.094625769996643\n",
            "Test accuracy:  0.6134\n"
          ],
          "name": "stdout"
        }
      ]
    },
    {
      "cell_type": "markdown",
      "metadata": {
        "id": "IPyoqhKAw75z",
        "colab_type": "text"
      },
      "source": [
        "## 同樣運算 10 個 epochs，但 CNN 在 test data 的準確率顯著優於 DNN!"
      ]
    },
    {
      "cell_type": "markdown",
      "metadata": {
        "id": "W6mO48sMw75z",
        "colab_type": "text"
      },
      "source": [
        "## 作業\n",
        "1. 請試著調整各個超參數，並說明那些超參數對於結果有明顯的影響?  \n",
        "  Ans : 將學習率調小( 0.001 --> 0.0001 )，CNN的學習明顯緩慢，損失函數從 0.73565 升至 1.0946，且準確率也較原本預設的結果低。  \n",
        "2. CNN 與 DNN 哪個模型的參數數量比較多? 造成參數的數量不同的原因在哪?  \n",
        "  Ans : DNN ; CNN 有透過池化層篩選特徵及降低資料維度。"
      ]
    }
  ]
}