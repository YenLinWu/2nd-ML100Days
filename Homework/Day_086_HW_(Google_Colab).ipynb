{
  "nbformat": 4,
  "nbformat_minor": 0,
  "metadata": {
    "kernelspec": {
      "display_name": "Python 3",
      "language": "python",
      "name": "python3"
    },
    "language_info": {
      "codemirror_mode": {
        "name": "ipython",
        "version": 3
      },
      "file_extension": ".py",
      "mimetype": "text/x-python",
      "name": "python",
      "nbconvert_exporter": "python",
      "pygments_lexer": "ipython3",
      "version": "3.6.5"
    },
    "colab": {
      "name": "Day_086_HW.ipynb",
      "version": "0.3.2",
      "provenance": [],
      "collapsed_sections": [],
      "toc_visible": true
    }
  },
  "cells": [
    {
      "cell_type": "markdown",
      "metadata": {
        "id": "i40KZkjBBpsH",
        "colab_type": "text"
      },
      "source": [
        "## Work\n",
        "1. 試比較 save_best_only 與否的差異\n",
        "2. 請僅存入將 save_weights_only 設定為 True, 並嘗試 reset ipynb 並將模型與權重重新建回並預測 x_test"
      ]
    },
    {
      "cell_type": "markdown",
      "metadata": {
        "id": "Ii8lbZ58lRDX",
        "colab_type": "text"
      },
      "source": [
        "#### Reference :   \n",
        "1. [How to Check-Point Deep Learning Models in Keras](https://machinelearningmastery.com/check-point-deep-learning-models-keras/)"
      ]
    },
    {
      "cell_type": "code",
      "metadata": {
        "id": "5fZ9zkzIBpsJ",
        "colab_type": "code",
        "colab": {
          "base_uri": "https://localhost:8080/",
          "height": 34
        },
        "outputId": "78a8835a-5aea-45cb-ec3e-f21fb442b647"
      },
      "source": [
        "import os\n",
        "import h5py\n",
        "import keras\n",
        "import itertools\n",
        "\n",
        "# 神經網絡正規化\n",
        "from keras.regularizers import l1, l2, l1_l2 \n",
        "# 神經網絡隨機拋棄、批次標準化、激活函數\n",
        "from keras.layers import Dropout, BatchNormalization, Activation \n",
        "# Early Stopping\n",
        "from keras.callbacks import EarlyStopping\n",
        "# 自動存取目前模型的最佳權重\n",
        "from keras.callbacks import ModelCheckpoint\n",
        "\n",
        "\n",
        "import matplotlib.pyplot as plt\n",
        "%matplotlib inline\n",
        "\n",
        "\n",
        "# Disable GPU\n",
        "# os.environ[\"CUDA_VISIBLE_DEVICES\"] = \"\""
      ],
      "execution_count": 1,
      "outputs": [
        {
          "output_type": "stream",
          "text": [
            "Using TensorFlow backend.\n"
          ],
          "name": "stderr"
        }
      ]
    },
    {
      "cell_type": "code",
      "metadata": {
        "id": "KrFjkEsJBpsO",
        "colab_type": "code",
        "colab": {
          "base_uri": "https://localhost:8080/",
          "height": 52
        },
        "outputId": "eba5e53d-37b3-4edd-c640-b0bcb69eda41"
      },
      "source": [
        "train, test = keras.datasets.cifar10.load_data( )"
      ],
      "execution_count": 2,
      "outputs": [
        {
          "output_type": "stream",
          "text": [
            "Downloading data from https://www.cs.toronto.edu/~kriz/cifar-10-python.tar.gz\n",
            "170500096/170498071 [==============================] - 4s 0us/step\n"
          ],
          "name": "stdout"
        }
      ]
    },
    {
      "cell_type": "markdown",
      "metadata": {
        "id": "jzP8P8QQCMV8",
        "colab_type": "text"
      },
      "source": [
        "# 資料前處理 - 標準化 及 獨熱編碼(OneHot Encoding)"
      ]
    },
    {
      "cell_type": "code",
      "metadata": {
        "id": "PtxLFPxdBpsR",
        "colab_type": "code",
        "colab": {}
      },
      "source": [
        "def preproc_x( x, flatten = True ) :\n",
        "    x = x / 255.\n",
        "    if flatten:\n",
        "        x = x.reshape( ( len(x), -1 ) )\n",
        "    return x\n",
        "\n",
        "def preproc_y( y, num_classes = 10 ) :\n",
        "    if y.shape[ -1 ] == 1:\n",
        "        y = keras.utils.to_categorical( y, num_classes )\n",
        "    return y  "
      ],
      "execution_count": 0,
      "outputs": []
    },
    {
      "cell_type": "code",
      "metadata": {
        "id": "ituBJ1VjBpsV",
        "colab_type": "code",
        "colab": {}
      },
      "source": [
        "x_train, y_train = train\n",
        "x_test, y_test = test\n",
        "\n",
        "# 資料前處理 - X 標準化\n",
        "x_train = preproc_x(x_train)\n",
        "x_test = preproc_x(x_test)\n",
        "\n",
        "# 資料前處理 - Y 轉成 onehot\n",
        "y_train = preproc_y(y_train)\n",
        "y_test = preproc_y(y_test)"
      ],
      "execution_count": 0,
      "outputs": []
    },
    {
      "cell_type": "markdown",
      "metadata": {
        "id": "xwt5AoBcCzE2",
        "colab_type": "text"
      },
      "source": [
        "# 建立神經網絡模型"
      ]
    },
    {
      "cell_type": "code",
      "metadata": {
        "id": "x5BVNtenBpsZ",
        "colab_type": "code",
        "colab": {
          "base_uri": "https://localhost:8080/",
          "height": 706
        },
        "outputId": "8e2cc205-173f-4d91-b917-c20475b261e8"
      },
      "source": [
        "def build_mlp( input_shape, output_units = 10, num_neurons = [ 512, 256, 128 ], pre_activate = False ) : \n",
        "    \n",
        "    input_layer = keras.layers.Input( input_shape )\n",
        "    \n",
        "    for i, n_units in enumerate( num_neurons ) : \n",
        "        if i == 0 :\n",
        "            x = keras.layers.Dense( units = n_units, \n",
        "                                    activation = \"relu\", \n",
        "                                    name = \"Hidden_Layer_\" + str( i+1 ) )( input_layer )  \n",
        "            \n",
        "            if pre_activate :\n",
        "                # Batch Normalization Layer before Activation Function \n",
        "                x = BatchNormalization( name = \"BN_Layer_\" + str( i+1 ) )( x )\n",
        "                x = Activation( 'relu', name = 'Activation_' + str( i+1 ) )( x )\n",
        "            else :\n",
        "                x = Activation( 'relu', name = 'Activation_' + str( i+1 ) )( x )\n",
        "                x = BatchNormalization( name = \"BN_Layer_\" + str( i+1 ) )( x )\n",
        "            \n",
        "            \n",
        "            \n",
        "        else :\n",
        "            x = keras.layers.Dense( units = n_units, \n",
        "                                    activation = \"relu\",  \n",
        "                                    name = \"Hidden_Layer_\" + str( i+1 ) )( x )  \n",
        "            \n",
        "            if pre_activate :\n",
        "                # Batch Normalization Layer before Activation Function\n",
        "                x = BatchNormalization( name = \"BN_Layer_\" + str( i+1 ) )( x )\n",
        "                x = Activation( 'relu', name = 'Activation_' + str( i+1 ) )( x )\n",
        "            else :\n",
        "                x = Activation( 'relu', name = 'Activation_' + str( i+1 ) )( x )\n",
        "                x = BatchNormalization( name = \"BN_Layer_\" + str( i+1 ) )( x )\n",
        "                          \n",
        "              \n",
        "    output_layer = keras.layers.Dense( units = output_units, \n",
        "                                       activation = 'softmax', \n",
        "                                       name = 'Output_Layer' )( x )\n",
        "    \n",
        "    model = keras.models.Model( inputs = [ input_layer ], outputs = [ output_layer ] )\n",
        "    return model\n",
        "\n",
        "model = build_mlp( input_shape = x_train.shape[ 1: ] ) \n",
        "model.summary( )"
      ],
      "execution_count": 5,
      "outputs": [
        {
          "output_type": "stream",
          "text": [
            "WARNING: Logging before flag parsing goes to stderr.\n",
            "W0722 16:57:37.234854 140645724194688 deprecation_wrapper.py:119] From /usr/local/lib/python3.6/dist-packages/keras/backend/tensorflow_backend.py:74: The name tf.get_default_graph is deprecated. Please use tf.compat.v1.get_default_graph instead.\n",
            "\n",
            "W0722 16:57:37.275388 140645724194688 deprecation_wrapper.py:119] From /usr/local/lib/python3.6/dist-packages/keras/backend/tensorflow_backend.py:517: The name tf.placeholder is deprecated. Please use tf.compat.v1.placeholder instead.\n",
            "\n",
            "W0722 16:57:37.282756 140645724194688 deprecation_wrapper.py:119] From /usr/local/lib/python3.6/dist-packages/keras/backend/tensorflow_backend.py:4138: The name tf.random_uniform is deprecated. Please use tf.random.uniform instead.\n",
            "\n",
            "W0722 16:57:37.395969 140645724194688 deprecation_wrapper.py:119] From /usr/local/lib/python3.6/dist-packages/keras/backend/tensorflow_backend.py:133: The name tf.placeholder_with_default is deprecated. Please use tf.compat.v1.placeholder_with_default instead.\n",
            "\n"
          ],
          "name": "stderr"
        },
        {
          "output_type": "stream",
          "text": [
            "_________________________________________________________________\n",
            "Layer (type)                 Output Shape              Param #   \n",
            "=================================================================\n",
            "input_1 (InputLayer)         (None, 3072)              0         \n",
            "_________________________________________________________________\n",
            "Hidden_Layer_1 (Dense)       (None, 512)               1573376   \n",
            "_________________________________________________________________\n",
            "Activation_1 (Activation)    (None, 512)               0         \n",
            "_________________________________________________________________\n",
            "BN_Layer_1 (BatchNormalizati (None, 512)               2048      \n",
            "_________________________________________________________________\n",
            "Hidden_Layer_2 (Dense)       (None, 256)               131328    \n",
            "_________________________________________________________________\n",
            "Activation_2 (Activation)    (None, 256)               0         \n",
            "_________________________________________________________________\n",
            "BN_Layer_2 (BatchNormalizati (None, 256)               1024      \n",
            "_________________________________________________________________\n",
            "Hidden_Layer_3 (Dense)       (None, 128)               32896     \n",
            "_________________________________________________________________\n",
            "Activation_3 (Activation)    (None, 128)               0         \n",
            "_________________________________________________________________\n",
            "BN_Layer_3 (BatchNormalizati (None, 128)               512       \n",
            "_________________________________________________________________\n",
            "Output_Layer (Dense)         (None, 10)                1290      \n",
            "=================================================================\n",
            "Total params: 1,742,474\n",
            "Trainable params: 1,740,682\n",
            "Non-trainable params: 1,792\n",
            "_________________________________________________________________\n"
          ],
          "name": "stdout"
        }
      ]
    },
    {
      "cell_type": "markdown",
      "metadata": {
        "id": "WBlp6mMNJi_h",
        "colab_type": "text"
      },
      "source": [
        "# 設定超參數"
      ]
    },
    {
      "cell_type": "code",
      "metadata": {
        "id": "xTgZ7iQNJiWH",
        "colab_type": "code",
        "colab": {}
      },
      "source": [
        "EPOCHS = 50\n",
        "BATCH_SIZE = 1024\n",
        "\n",
        "PRE_ACTIVATE = True      # Batch Normalization Layer before activation function \n",
        "\n",
        "LEARNING_RATE = [ 1e-3 ] # for optimizer\n",
        "MOMENTUM = 0.95          # for optimizer \n",
        "\n",
        "#PATIENCE = [ 10, 25 ]    # for early stopping"
      ],
      "execution_count": 0,
      "outputs": []
    },
    {
      "cell_type": "markdown",
      "metadata": {
        "id": "P_6yGFArKzdp",
        "colab_type": "text"
      },
      "source": [
        "# 優化器(Optimizer)"
      ]
    },
    {
      "cell_type": "code",
      "metadata": {
        "id": "1H7WSmP6K5Nf",
        "colab_type": "code",
        "colab": {}
      },
      "source": [
        "SGD = keras.optimizers.SGD( lr = LEARNING_RATE, \n",
        "                            momentum = MOMENTUM, \n",
        "                            nesterov = True\n",
        "                            )\n",
        "\n",
        "Optimizers = 'SGD'"
      ],
      "execution_count": 0,
      "outputs": []
    },
    {
      "cell_type": "markdown",
      "metadata": {
        "id": "Eq2YwZAMLBDu",
        "colab_type": "text"
      },
      "source": [
        "# 訓練模型"
      ]
    },
    {
      "cell_type": "code",
      "metadata": {
        "id": "s-xkzjtkLAFT",
        "colab_type": "code",
        "colab": {
          "base_uri": "https://localhost:8080/",
          "height": 1000
        },
        "outputId": "a9a01573-5c1a-4ca9-fe59-fe99f987eac3"
      },
      "source": [
        "results = {}\n",
        "\n",
        "\"\"\"\n",
        "建立訓練與實驗迴圈並蒐集資料\n",
        "\"\"\"\n",
        "for LEARNING_RATE in LEARNING_RATE :\n",
        "    keras.backend.clear_session( )    # 清掉舊的 Graph \n",
        "    \n",
        "    print( 'Learning Rate = ' + str( LEARNING_RATE ) )\n",
        "    \n",
        "    # Early Stopping\n",
        "    #EARLY_STOP = EarlyStopping( monitor = \"val_loss\", \n",
        "    #                            patience = PATIENCE,  # 容忍訓練無再改善時的 EPOCHS 次數\n",
        "    #                            verbose = 1\n",
        "    #                            )\n",
        "    \n",
        "    # Model Check Point( 自動存取目前模型的最佳權重 )\n",
        "    #filepath = 'weights-improvement-{epoch:02d}-{val_acc:.2f}.hdf5'\n",
        "    ModelCheckPoint = ModelCheckpoint( filepath = './weights.best.h5' ,\n",
        "                                       monitor = 'val_acc', \n",
        "                                       save_best_only = True\n",
        "                                       )\n",
        "    \n",
        "    model = build_mlp( input_shape = x_train.shape[ 1: ], pre_activate = PRE_ACTIVATE )\n",
        "    model.summary( )\n",
        "    \n",
        "\n",
        "    \n",
        "    # 執行神經網絡\n",
        "    model.compile( loss = 'categorical_crossentropy', \n",
        "                   optimizer = Optimizers, \n",
        "                   metrics=[ 'accuracy' ] \n",
        "                   )\n",
        "\n",
        "    model.fit( x_train, y_train, \n",
        "               epochs = EPOCHS,     \n",
        "               validation_data = ( x_test, y_test ), \n",
        "               # validation_split = 0.2,  # Fraction of the training data to be used as validation data.\n",
        "               batch_size = BATCH_SIZE, \n",
        "               #callbacks = [ EARLY_STOP ],\n",
        "               callbacks = [ ModelCheckPoint ],\n",
        "               shuffle = True\n",
        "               )\n",
        "    \n",
        "    # Collect results\n",
        "    train_loss = model.history.history[ 'loss' ]\n",
        "    valid_loss = model.history.history[ 'val_loss' ]\n",
        "    train_acc = model.history.history[ 'acc' ]\n",
        "    valid_acc = model.history.history[ 'val_acc' ]\n",
        "    \n",
        "    exp_name_tag = \"Learning Rate =  .-%s\" % str( LEARNING_RATE )\n",
        "    results[ exp_name_tag ] = { 'train-loss': train_loss,\n",
        "                                'valid-loss': valid_loss,\n",
        "                                'train-acc': train_acc,\n",
        "                                'valid-acc': valid_acc\n",
        "                                }"
      ],
      "execution_count": 8,
      "outputs": [
        {
          "output_type": "stream",
          "text": [
            "W0722 16:57:37.805016 140645724194688 deprecation_wrapper.py:119] From /usr/local/lib/python3.6/dist-packages/keras/backend/tensorflow_backend.py:95: The name tf.reset_default_graph is deprecated. Please use tf.compat.v1.reset_default_graph instead.\n",
            "\n"
          ],
          "name": "stderr"
        },
        {
          "output_type": "stream",
          "text": [
            "Learning Rate = 0.001\n"
          ],
          "name": "stdout"
        },
        {
          "output_type": "stream",
          "text": [
            "W0722 16:57:38.135396 140645724194688 deprecation_wrapper.py:119] From /usr/local/lib/python3.6/dist-packages/keras/optimizers.py:790: The name tf.train.Optimizer is deprecated. Please use tf.compat.v1.train.Optimizer instead.\n",
            "\n",
            "W0722 16:57:38.285565 140645724194688 deprecation.py:323] From /usr/local/lib/python3.6/dist-packages/tensorflow/python/ops/math_grad.py:1250: add_dispatch_support.<locals>.wrapper (from tensorflow.python.ops.array_ops) is deprecated and will be removed in a future version.\n",
            "Instructions for updating:\n",
            "Use tf.where in 2.0, which has the same broadcast rule as np.where\n"
          ],
          "name": "stderr"
        },
        {
          "output_type": "stream",
          "text": [
            "_________________________________________________________________\n",
            "Layer (type)                 Output Shape              Param #   \n",
            "=================================================================\n",
            "input_1 (InputLayer)         (None, 3072)              0         \n",
            "_________________________________________________________________\n",
            "Hidden_Layer_1 (Dense)       (None, 512)               1573376   \n",
            "_________________________________________________________________\n",
            "BN_Layer_1 (BatchNormalizati (None, 512)               2048      \n",
            "_________________________________________________________________\n",
            "Activation_1 (Activation)    (None, 512)               0         \n",
            "_________________________________________________________________\n",
            "Hidden_Layer_2 (Dense)       (None, 256)               131328    \n",
            "_________________________________________________________________\n",
            "BN_Layer_2 (BatchNormalizati (None, 256)               1024      \n",
            "_________________________________________________________________\n",
            "Activation_2 (Activation)    (None, 256)               0         \n",
            "_________________________________________________________________\n",
            "Hidden_Layer_3 (Dense)       (None, 128)               32896     \n",
            "_________________________________________________________________\n",
            "BN_Layer_3 (BatchNormalizati (None, 128)               512       \n",
            "_________________________________________________________________\n",
            "Activation_3 (Activation)    (None, 128)               0         \n",
            "_________________________________________________________________\n",
            "Output_Layer (Dense)         (None, 10)                1290      \n",
            "=================================================================\n",
            "Total params: 1,742,474\n",
            "Trainable params: 1,740,682\n",
            "Non-trainable params: 1,792\n",
            "_________________________________________________________________\n",
            "Train on 50000 samples, validate on 10000 samples\n",
            "Epoch 1/50\n",
            "50000/50000 [==============================] - 10s 209us/step - loss: 2.3960 - acc: 0.1997 - val_loss: 2.3066 - val_acc: 0.2438\n",
            "Epoch 2/50\n",
            "50000/50000 [==============================] - 9s 183us/step - loss: 2.0190 - acc: 0.3042 - val_loss: 2.0696 - val_acc: 0.3051\n",
            "Epoch 3/50\n",
            "50000/50000 [==============================] - 9s 183us/step - loss: 1.8804 - acc: 0.3553 - val_loss: 1.9440 - val_acc: 0.3310\n",
            "Epoch 4/50\n",
            "50000/50000 [==============================] - 9s 180us/step - loss: 1.7936 - acc: 0.3855 - val_loss: 1.8753 - val_acc: 0.3602\n",
            "Epoch 5/50\n",
            "50000/50000 [==============================] - 9s 180us/step - loss: 1.7311 - acc: 0.4072 - val_loss: 1.8185 - val_acc: 0.3805\n",
            "Epoch 6/50\n",
            "50000/50000 [==============================] - 9s 180us/step - loss: 1.6805 - acc: 0.4267 - val_loss: 1.7876 - val_acc: 0.3883\n",
            "Epoch 7/50\n",
            "50000/50000 [==============================] - 9s 180us/step - loss: 1.6372 - acc: 0.4421 - val_loss: 1.7632 - val_acc: 0.3963\n",
            "Epoch 8/50\n",
            "50000/50000 [==============================] - 9s 179us/step - loss: 1.5999 - acc: 0.4562 - val_loss: 1.7365 - val_acc: 0.4055\n",
            "Epoch 9/50\n",
            "50000/50000 [==============================] - 9s 179us/step - loss: 1.5649 - acc: 0.4694 - val_loss: 1.7204 - val_acc: 0.4168\n",
            "Epoch 10/50\n",
            "50000/50000 [==============================] - 9s 178us/step - loss: 1.5336 - acc: 0.4792 - val_loss: 1.7109 - val_acc: 0.4140\n",
            "Epoch 11/50\n",
            "50000/50000 [==============================] - 9s 179us/step - loss: 1.5045 - acc: 0.4893 - val_loss: 1.6946 - val_acc: 0.4178\n",
            "Epoch 12/50\n",
            "50000/50000 [==============================] - 9s 180us/step - loss: 1.4744 - acc: 0.5008 - val_loss: 1.6819 - val_acc: 0.4227\n",
            "Epoch 13/50\n",
            "50000/50000 [==============================] - 9s 180us/step - loss: 1.4475 - acc: 0.5105 - val_loss: 1.6653 - val_acc: 0.4323\n",
            "Epoch 14/50\n",
            "50000/50000 [==============================] - 9s 179us/step - loss: 1.4228 - acc: 0.5185 - val_loss: 1.6602 - val_acc: 0.4306\n",
            "Epoch 15/50\n",
            "50000/50000 [==============================] - 9s 181us/step - loss: 1.3991 - acc: 0.5272 - val_loss: 1.6545 - val_acc: 0.4393\n",
            "Epoch 16/50\n",
            "50000/50000 [==============================] - 9s 180us/step - loss: 1.3751 - acc: 0.5351 - val_loss: 1.6489 - val_acc: 0.4413\n",
            "Epoch 17/50\n",
            "50000/50000 [==============================] - 9s 181us/step - loss: 1.3513 - acc: 0.5447 - val_loss: 1.6390 - val_acc: 0.4367\n",
            "Epoch 18/50\n",
            "50000/50000 [==============================] - 9s 180us/step - loss: 1.3299 - acc: 0.5516 - val_loss: 1.6293 - val_acc: 0.4392\n",
            "Epoch 19/50\n",
            "50000/50000 [==============================] - 9s 180us/step - loss: 1.3081 - acc: 0.5588 - val_loss: 1.6301 - val_acc: 0.4437\n",
            "Epoch 20/50\n",
            "50000/50000 [==============================] - 9s 180us/step - loss: 1.2875 - acc: 0.5673 - val_loss: 1.6214 - val_acc: 0.4399\n",
            "Epoch 21/50\n",
            "50000/50000 [==============================] - 9s 181us/step - loss: 1.2669 - acc: 0.5736 - val_loss: 1.6208 - val_acc: 0.4434\n",
            "Epoch 22/50\n",
            "50000/50000 [==============================] - 9s 181us/step - loss: 1.2450 - acc: 0.5827 - val_loss: 1.6171 - val_acc: 0.4425\n",
            "Epoch 23/50\n",
            "50000/50000 [==============================] - 9s 179us/step - loss: 1.2272 - acc: 0.5877 - val_loss: 1.6147 - val_acc: 0.4496\n",
            "Epoch 24/50\n",
            "50000/50000 [==============================] - 9s 180us/step - loss: 1.2068 - acc: 0.5963 - val_loss: 1.6116 - val_acc: 0.4498\n",
            "Epoch 25/50\n",
            "50000/50000 [==============================] - 9s 181us/step - loss: 1.1871 - acc: 0.6032 - val_loss: 1.6026 - val_acc: 0.4499\n",
            "Epoch 26/50\n",
            "50000/50000 [==============================] - 9s 180us/step - loss: 1.1692 - acc: 0.6108 - val_loss: 1.5973 - val_acc: 0.4518\n",
            "Epoch 27/50\n",
            "50000/50000 [==============================] - 9s 179us/step - loss: 1.1496 - acc: 0.6181 - val_loss: 1.6071 - val_acc: 0.4473\n",
            "Epoch 28/50\n",
            "50000/50000 [==============================] - 9s 180us/step - loss: 1.1315 - acc: 0.6233 - val_loss: 1.6070 - val_acc: 0.4530\n",
            "Epoch 29/50\n",
            "50000/50000 [==============================] - 9s 180us/step - loss: 1.1136 - acc: 0.6307 - val_loss: 1.6027 - val_acc: 0.4539\n",
            "Epoch 30/50\n",
            "50000/50000 [==============================] - 9s 180us/step - loss: 1.0967 - acc: 0.6374 - val_loss: 1.6038 - val_acc: 0.4566\n",
            "Epoch 31/50\n",
            "50000/50000 [==============================] - 9s 179us/step - loss: 1.0781 - acc: 0.6429 - val_loss: 1.5998 - val_acc: 0.4582\n",
            "Epoch 32/50\n",
            "50000/50000 [==============================] - 9s 180us/step - loss: 1.0616 - acc: 0.6497 - val_loss: 1.6097 - val_acc: 0.4558\n",
            "Epoch 33/50\n",
            "50000/50000 [==============================] - 9s 180us/step - loss: 1.0425 - acc: 0.6568 - val_loss: 1.6064 - val_acc: 0.4530\n",
            "Epoch 34/50\n",
            "50000/50000 [==============================] - 9s 179us/step - loss: 1.0255 - acc: 0.6631 - val_loss: 1.6089 - val_acc: 0.4530\n",
            "Epoch 35/50\n",
            "50000/50000 [==============================] - 9s 179us/step - loss: 1.0089 - acc: 0.6715 - val_loss: 1.6128 - val_acc: 0.4580\n",
            "Epoch 36/50\n",
            "50000/50000 [==============================] - 9s 179us/step - loss: 0.9927 - acc: 0.6765 - val_loss: 1.6161 - val_acc: 0.4566\n",
            "Epoch 37/50\n",
            "50000/50000 [==============================] - 9s 179us/step - loss: 0.9758 - acc: 0.6823 - val_loss: 1.6098 - val_acc: 0.4540\n",
            "Epoch 38/50\n",
            "50000/50000 [==============================] - 9s 179us/step - loss: 0.9593 - acc: 0.6889 - val_loss: 1.6232 - val_acc: 0.4505\n",
            "Epoch 39/50\n",
            "50000/50000 [==============================] - 9s 180us/step - loss: 0.9432 - acc: 0.6944 - val_loss: 1.6263 - val_acc: 0.4556\n",
            "Epoch 40/50\n",
            "50000/50000 [==============================] - 9s 180us/step - loss: 0.9276 - acc: 0.7006 - val_loss: 1.6306 - val_acc: 0.4529\n",
            "Epoch 41/50\n",
            "50000/50000 [==============================] - 9s 180us/step - loss: 0.9118 - acc: 0.7066 - val_loss: 1.6319 - val_acc: 0.4537\n",
            "Epoch 42/50\n",
            "50000/50000 [==============================] - 9s 181us/step - loss: 0.8958 - acc: 0.7111 - val_loss: 1.6406 - val_acc: 0.4549\n",
            "Epoch 43/50\n",
            "50000/50000 [==============================] - 9s 181us/step - loss: 0.8806 - acc: 0.7185 - val_loss: 1.6484 - val_acc: 0.4528\n",
            "Epoch 44/50\n",
            "50000/50000 [==============================] - 9s 181us/step - loss: 0.8644 - acc: 0.7252 - val_loss: 1.6411 - val_acc: 0.4556\n",
            "Epoch 45/50\n",
            "50000/50000 [==============================] - 9s 181us/step - loss: 0.8519 - acc: 0.7298 - val_loss: 1.6456 - val_acc: 0.4562\n",
            "Epoch 46/50\n",
            "50000/50000 [==============================] - 9s 181us/step - loss: 0.8345 - acc: 0.7371 - val_loss: 1.6474 - val_acc: 0.4532\n",
            "Epoch 47/50\n",
            "50000/50000 [==============================] - 9s 180us/step - loss: 0.8194 - acc: 0.7433 - val_loss: 1.6530 - val_acc: 0.4572\n",
            "Epoch 48/50\n",
            "50000/50000 [==============================] - 9s 181us/step - loss: 0.8040 - acc: 0.7494 - val_loss: 1.6565 - val_acc: 0.4532\n",
            "Epoch 49/50\n",
            "50000/50000 [==============================] - 9s 182us/step - loss: 0.7910 - acc: 0.7519 - val_loss: 1.6760 - val_acc: 0.4543\n",
            "Epoch 50/50\n",
            "50000/50000 [==============================] - 9s 181us/step - loss: 0.7761 - acc: 0.7590 - val_loss: 1.6734 - val_acc: 0.4514\n"
          ],
          "name": "stdout"
        }
      ]
    },
    {
      "cell_type": "markdown",
      "metadata": {
        "id": "ZzNncRSROu5q",
        "colab_type": "text"
      },
      "source": [
        "# 載回已儲存的模型，並用其計算驗證集的評量指標(如：準確率)"
      ]
    },
    {
      "cell_type": "code",
      "metadata": {
        "id": "pOlx-yaBOvHY",
        "colab_type": "code",
        "colab": {
          "base_uri": "https://localhost:8080/",
          "height": 34
        },
        "outputId": "db1b92b3-3554-4fc4-bde7-1590bf8fd655"
      },
      "source": [
        "model = keras.models.load_model( './weights.best.h5' )\n",
        "\n",
        "Loss_loadback, Acc_loadback = model.evaluate( x_test, y_test )  # 評量驗證集"
      ],
      "execution_count": 9,
      "outputs": [
        {
          "output_type": "stream",
          "text": [
            "10000/10000 [==============================] - 2s 162us/step\n"
          ],
          "name": "stdout"
        }
      ]
    },
    {
      "cell_type": "markdown",
      "metadata": {
        "id": "SWz4iihZMCsc",
        "colab_type": "text"
      },
      "source": [
        "# 損失函數及準確率"
      ]
    },
    {
      "cell_type": "code",
      "metadata": {
        "id": "S7ty8R0hBpsh",
        "colab_type": "code",
        "colab": {
          "base_uri": "https://localhost:8080/",
          "height": 762
        },
        "outputId": "770e24be-1f82-41a9-e6a0-953e14c155fc"
      },
      "source": [
        "# color_bar = [ 'r', 'b' ]\n",
        "\n",
        "plt.figure( figsize = ( 8, 6 ) )\n",
        "for i, cond in enumerate( results.keys( ) ) :\n",
        "    plt.plot( range( len(results[ cond ][ 'train-loss' ] ) ), results[ cond ][ 'train-loss' ], '-', label = 'Train Loss: ' + cond )\n",
        "    plt.plot( range( len(results[ cond ][ 'valid-loss' ] ) ), results[ cond ][ 'valid-loss' ], '--', label = 'Valid Loss: ' + cond )\n",
        "    plt.hlines( y = Loss_loadback, xmin = 0, xmax = len( train_loss ), colors = 'r', linestyles = '-' )\n",
        "plt.title( 'Loss' )\n",
        "plt.legend( )\n",
        "plt.show( )\n",
        "\n",
        "plt.figure( figsize = ( 8, 6 ) )\n",
        "for i, cond in enumerate( results.keys( ) ) :\n",
        "    plt.plot(range( len( results[ cond ][ 'train-acc' ] ) ), results[ cond ][ 'train-acc' ], '-', label = 'Train acc: ' + cond )\n",
        "    plt.plot(range( len( results[ cond ][ 'valid-acc' ] ) ), results[ cond ][ 'valid-acc' ], '--', label = 'Valid acc: ' + cond )\n",
        "    plt.hlines( y = Acc_loadback, xmin = 0, xmax = len( train_loss ), colors = 'r', linestyles = '-') \n",
        "plt.title( 'Accuracy' )\n",
        "plt.legend( )\n",
        "plt.show( )"
      ],
      "execution_count": 10,
      "outputs": [
        {
          "output_type": "display_data",
          "data": {
            "image/png": "[encoded data removed]",
            "text/plain": [
              "<Figure size 576x432 with 1 Axes>"
            ]
          },
          "metadata": {
            "tags": []
          }
        },
        {
          "output_type": "display_data",
          "data": {
            "image/png": "[encoded data removed]",
            "text/plain": [
              "<Figure size 576x432 with 1 Axes>"
            ]
          },
          "metadata": {
            "tags": []
          }
        }
      ]
    },
    {
      "cell_type": "code",
      "metadata": {
        "id": "MbaEt3eqjclh",
        "colab_type": "code",
        "colab": {}
      },
      "source": [
        ""
      ],
      "execution_count": 0,
      "outputs": []
    }
  ]
}