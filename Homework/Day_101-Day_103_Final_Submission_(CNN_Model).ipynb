{
  "nbformat": 4,
  "nbformat_minor": 0,
  "metadata": {
    "colab": {
      "name": "CNN.ipynb",
      "version": "0.3.2",
      "provenance": [],
      "collapsed_sections": []
    },
    "kernelspec": {
      "name": "python3",
      "display_name": "Python 3"
    },
    "accelerator": "GPU"
  },
  "cells": [
    {
      "cell_type": "markdown",
      "metadata": {
        "id": "qe_aFYSHiDIx",
        "colab_type": "text"
      },
      "source": [
        "# (1)   **Import Library**\n",
        "\n",
        "\n",
        "\n"
      ]
    },
    {
      "cell_type": "code",
      "metadata": {
        "id": "3qAbF_WmhhlK",
        "colab_type": "code",
        "colab": {
          "base_uri": "https://localhost:8080/",
          "height": 125
        },
        "outputId": "594257f7-e01f-4fb1-d070-1817aa5f37e4"
      },
      "source": [
        "import os\n",
        "import shutil, sys\n",
        "import numpy as np\n",
        "import pandas as pd \n",
        "import random\n",
        "\n",
        "import keras\n",
        "from keras.models import Sequential\n",
        "# 卷積層、池化層\n",
        "from keras.layers import Conv2D, MaxPooling2D\n",
        "# 神經網絡隨機拋棄、批次標準化、激活函數、平坦層\n",
        "from keras.layers import Dense, Dropout, BatchNormalization, Activation, Flatten\n",
        "# 神經網絡正規化\n",
        "from keras.regularizers import l1, l2, l1_l2 \n",
        "# 優化器(Optimizer)\n",
        "from keras.optimizers import RMSprop, Adam\n",
        "# 隨機重新排列資料序列，再次建立餵入模型的批次資料\n",
        "from sklearn.utils import shuffle\n",
        "# Early Stopping、Learning Rate Reduction\n",
        "from keras.callbacks import EarlyStopping, ReduceLROnPlateau\n",
        "# 訓練模型時，利用 callback 紀錄或修改訓練過程\n",
        "from keras.callbacks import Callback\n",
        "# 自訂損失函數\n",
        "import tensorflow as tf\n",
        "import keras.backend as K\n",
        "\n",
        "\n",
        "from keras.preprocessing.image import ImageDataGenerator, load_img\n",
        "from keras.utils import to_categorical\n",
        "from sklearn.model_selection import train_test_split\n",
        "\n",
        "\n",
        "%pylab inline\n",
        "import matplotlib.pyplot as plt\n",
        "import matplotlib.image as mpimg"
      ],
      "execution_count": 1,
      "outputs": [
        {
          "output_type": "stream",
          "text": [
            "Using TensorFlow backend.\n"
          ],
          "name": "stderr"
        },
        {
          "output_type": "stream",
          "text": [
            "Populating the interactive namespace from numpy and matplotlib\n"
          ],
          "name": "stdout"
        },
        {
          "output_type": "stream",
          "text": [
            "/usr/local/lib/python3.6/dist-packages/IPython/core/magics/pylab.py:161: UserWarning: pylab import has clobbered these variables: ['random', 'shuffle']\n",
            "`%matplotlib` prevents importing * from pylab and numpy\n",
            "  \"\\n`%matplotlib` prevents importing * from pylab and numpy\"\n"
          ],
          "name": "stderr"
        }
      ]
    },
    {
      "cell_type": "markdown",
      "metadata": {
        "id": "huiatpo6tXtq",
        "colab_type": "text"
      },
      "source": [
        "# (2) Acquire Google Drive Authorization"
      ]
    },
    {
      "cell_type": "code",
      "metadata": {
        "id": "q5g8pHrYtN_f",
        "colab_type": "code",
        "colab": {
          "base_uri": "https://localhost:8080/",
          "height": 125
        },
        "outputId": "fa4dc121-5471-442a-e2d7-ac8f9e00154b"
      },
      "source": [
        "from google.colab import drive\n",
        "drive.mount( '/content/gdrive' )"
      ],
      "execution_count": 2,
      "outputs": [
        {
          "output_type": "stream",
          "text": [
            "Go to this URL in a browser: https://accounts.google.com/o/oauth2/auth?client_id=947318989803-6bn6qk8qdgf4n4g3pfee6491hc0brc4i.apps.googleusercontent.com&redirect_uri=urn%3Aietf%3Awg%3Aoauth%3A2.0%3Aoob&scope=email%20https%3A%2F%2Fwww.googleapis.com%2Fauth%2Fdocs.test%20https%3A%2F%2Fwww.googleapis.com%2Fauth%2Fdrive%20https%3A%2F%2Fwww.googleapis.com%2Fauth%2Fdrive.photos.readonly%20https%3A%2F%2Fwww.googleapis.com%2Fauth%2Fpeopleapi.readonly&response_type=code\n",
            "\n",
            "Enter your authorization code:\n",
            "··········\n",
            "Mounted at /content/gdrive\n"
          ],
          "name": "stdout"
        }
      ]
    },
    {
      "cell_type": "markdown",
      "metadata": {
        "id": "rHayz7uJtKtx",
        "colab_type": "text"
      },
      "source": [
        "# (3) Download Kaggle Dataset "
      ]
    },
    {
      "cell_type": "markdown",
      "metadata": {
        "id": "Bxz7arMitdIi",
        "colab_type": "text"
      },
      "source": [
        "## (3.1) Upload Kaggle API ( for downloading the Kaggle dataset )"
      ]
    },
    {
      "cell_type": "code",
      "metadata": {
        "id": "sfidca7MtOMk",
        "colab_type": "code",
        "colab": {}
      },
      "source": [
        "from google.colab import files\n",
        "uploaded = files.upload( )"
      ],
      "execution_count": 0,
      "outputs": []
    },
    {
      "cell_type": "markdown",
      "metadata": {
        "id": "KIHc62vDtkka",
        "colab_type": "text"
      },
      "source": [
        "## (3.2) Set up Kaggle Package ( for using Kaggle.json )"
      ]
    },
    {
      "cell_type": "code",
      "metadata": {
        "id": "FKSqGcX2uAmH",
        "colab_type": "code",
        "colab": {}
      },
      "source": [
        "!pip install -q kaggle\n",
        "!mkdir -p ~/.kaggle\n",
        "!cp kaggle.json ~/.kaggle/\n",
        "!ls ~/.kaggle\n",
        "# we need to set permissions \n",
        "!chmod 600 /root/.kaggle/kaggle.json"
      ],
      "execution_count": 0,
      "outputs": []
    },
    {
      "cell_type": "markdown",
      "metadata": {
        "id": "w6U43NxiuiDm",
        "colab_type": "text"
      },
      "source": [
        "## (3.3) Download Kaggle Dataset"
      ]
    },
    {
      "cell_type": "code",
      "metadata": {
        "id": "5clPHNmLuzyq",
        "colab_type": "code",
        "colab": {}
      },
      "source": [
        "# Download Data from Kaggle\n",
        "# data webpage in Kaggle --> copy API\n",
        "\n",
        "!kaggle competitions download -c ml-marathon-final"
      ],
      "execution_count": 0,
      "outputs": []
    },
    {
      "cell_type": "code",
      "metadata": {
        "id": "vOvCuB5hu-wb",
        "colab_type": "code",
        "colab": {}
      },
      "source": [
        "# 解壓縮 data.zip\n",
        "'''   \n",
        "檔案解壓縮至資料夾 語法：\n",
        "!unzip -q 檔案名稱.zip -d 資料夾名稱   \n",
        "'''\n",
        "\n",
        "!unzip -q data.zip   # unzip data.zip"
      ],
      "execution_count": 0,
      "outputs": []
    },
    {
      "cell_type": "markdown",
      "metadata": {
        "id": "lqegJ63zy14_",
        "colab_type": "text"
      },
      "source": [
        "## (3.4) Set up Kaggle Train and Test Dataset"
      ]
    },
    {
      "cell_type": "markdown",
      "metadata": {
        "id": "VSixJx4_SnMl",
        "colab_type": "text"
      },
      "source": [
        "### (3.4.1) Train Dataset  \n",
        "先將貓與狗的測試集照片，複製到同一個新的資料夾中，再將這個新資料夾移動至上層路徑。"
      ]
    },
    {
      "cell_type": "code",
      "metadata": {
        "id": "zo70Uwe18f41",
        "colab_type": "code",
        "colab": {
          "base_uri": "https://localhost:8080/",
          "height": 34
        },
        "outputId": "dadf629d-129d-463e-9e86-aa662b741e38"
      },
      "source": [
        "# 指定目錄中的所有檔案名稱和目錄名稱\n",
        "os.listdir( '/content/gdrive/My Drive/ML_100_Marathon_Final_Exam/kaggle_dogcat/train' )"
      ],
      "execution_count": 43,
      "outputs": [
        {
          "output_type": "execute_result",
          "data": {
            "text/plain": [
              "['dogs', 'cats']"
            ]
          },
          "metadata": {
            "tags": []
          },
          "execution_count": 43
        }
      ]
    },
    {
      "cell_type": "code",
      "metadata": {
        "id": "JplkFhsmvvZZ",
        "colab_type": "code",
        "colab": {}
      },
      "source": [
        "'''\n",
        "複製不同資料夾中的資料到同一資料夾中\n",
        "\n",
        "註 ：os.chdir( ) – 變更目錄到指定的目錄\n",
        "'''\n",
        "\n",
        "# Step 1: 建立新資料夾 \n",
        "os.chdir( '/content/gdrive/My Drive/ML_100_Marathon_Final_Exam/kaggle_dogcat/train' )\n",
        "!mkdir -p Training_Data  # 新資料夾的名稱：Training_Data \n",
        "\n",
        "# Step 2: 複製資料至新資料夾中 \n",
        "os.chdir( '/content/gdrive/My Drive/ML_100_Marathon_Final_Exam/kaggle_dogcat/train/dogs' )\n",
        "!cp dog.?.jpg dog.??.jpg dog.???.jpg dog.????.jpg dog.?????.jpg ../Training_Data\n",
        "os.chdir( '/content/gdrive/My Drive/ML_100_Marathon_Final_Exam/kaggle_dogcat/train/cats' )\n",
        "!cp cat.?.jpg cat.??.jpg cat.???.jpg cat.????.jpg cat.?????.jpg ../Training_Data"
      ],
      "execution_count": 0,
      "outputs": []
    },
    {
      "cell_type": "code",
      "metadata": {
        "id": "cLfodC62BSpS",
        "colab_type": "code",
        "colab": {
          "base_uri": "https://localhost:8080/",
          "height": 34
        },
        "outputId": "27710e61-66b9-4a08-d54a-d81b7352d3df"
      },
      "source": [
        "''' \n",
        "移動資料夾 \n",
        "\n",
        "註 ：os.path.abspath() – 得到資料夾的絕對路徑\n",
        "'''\n",
        "\n",
        "# Step 1: 原本資料夾的路徑\n",
        "oldpos = os.path.abspath( '/content/gdrive/My Drive/ML_100_Marathon_Final_Exam/kaggle_dogcat/train/Training_Data' )\n",
        "\n",
        "# Step 2: 欲將資料夾搬移到的目錄\n",
        "newpos = os.path.abspath( '/content/gdrive/My Drive/ML_100_Marathon_Final_Exam/' )\n",
        "\n",
        "# Step 3: 搬移資料夾\n",
        "shutil.move( oldpos, newpos )"
      ],
      "execution_count": 49,
      "outputs": [
        {
          "output_type": "execute_result",
          "data": {
            "text/plain": [
              "'/content/gdrive/My Drive/ML_100_Marathon_Final_Exam/Training_Data'"
            ]
          },
          "metadata": {
            "tags": []
          },
          "execution_count": 49
        }
      ]
    },
    {
      "cell_type": "code",
      "metadata": {
        "id": "9-3MjXKhaq1T",
        "colab_type": "code",
        "colab": {}
      },
      "source": [
        "filenames = os.listdir( '/content/gdrive/My Drive/ML_100_Marathon_Final_Exam/Training_Data' )\n",
        "print( 'Numbers of Kaggle Test Data = ', len( filenames ) )"
      ],
      "execution_count": 0,
      "outputs": []
    },
    {
      "cell_type": "markdown",
      "metadata": {
        "id": "WzEGD7eKW8gR",
        "colab_type": "text"
      },
      "source": [
        "### (3.4.2) Test Dataset "
      ]
    },
    {
      "cell_type": "code",
      "metadata": {
        "id": "gYgQ32ymXlA5",
        "colab_type": "code",
        "colab": {}
      },
      "source": [
        "'''\n",
        "複製測試集資料到新的資料夾中\n",
        "'''\n",
        "\n",
        "# Step 1: 建立新資料夾 \n",
        "os.chdir( '/content/gdrive/My Drive/ML_100_Marathon_Final_Exam/kaggle_dogcat/' )\n",
        "!mkdir -p Testing_Data  # 新資料夾的名稱：Testing_Data \n",
        "\n",
        "# Step 2: 複製資料至新資料夾中 \n",
        "os.chdir( '/content/gdrive/My Drive/ML_100_Marathon_Final_Exam/kaggle_dogcat/test' )\n",
        "!cp ???.jpg ../Testing_Data"
      ],
      "execution_count": 0,
      "outputs": []
    },
    {
      "cell_type": "code",
      "metadata": {
        "id": "J_ppwZzTXVXg",
        "colab_type": "code",
        "colab": {
          "base_uri": "https://localhost:8080/",
          "height": 34
        },
        "outputId": "6909b395-5a21-48d4-a943-88bd5f877812"
      },
      "source": [
        "''' \n",
        "移動新的測試集資料夾 \n",
        "'''\n",
        "\n",
        "# Step 1: 原本資料夾的路徑\n",
        "oldpos_test = os.path.abspath( '/content/gdrive/My Drive/ML_100_Marathon_Final_Exam/kaggle_dogcat/Testing_Data' )\n",
        "\n",
        "# Step 2: 欲將資料夾搬移到的目錄\n",
        "newpos_test = os.path.abspath( '/content/gdrive/My Drive/ML_100_Marathon_Final_Exam/' )\n",
        "\n",
        "# Step 3: 搬移資料夾\n",
        "shutil.move( oldpos_test, newpos_test )"
      ],
      "execution_count": 4,
      "outputs": [
        {
          "output_type": "execute_result",
          "data": {
            "text/plain": [
              "'/content/gdrive/My Drive/ML_100_Marathon_Final_Exam/Testing_Data'"
            ]
          },
          "metadata": {
            "tags": []
          },
          "execution_count": 4
        }
      ]
    },
    {
      "cell_type": "code",
      "metadata": {
        "id": "yQpMWsEtZUP8",
        "colab_type": "code",
        "colab": {
          "base_uri": "https://localhost:8080/",
          "height": 34
        },
        "outputId": "fe85c0b9-b2c5-41f6-a440-212facd00799"
      },
      "source": [
        "test_filenames = os.listdir( '/content/gdrive/My Drive/ML_100_Marathon_Final_Exam/Testing_Data' )\n",
        "print( 'Numbers of Kaggle Test Data = ', len( test_filenames ) )"
      ],
      "execution_count": 5,
      "outputs": [
        {
          "output_type": "stream",
          "text": [
            "Numbers of Kaggle Test Data =  400\n"
          ],
          "name": "stdout"
        }
      ]
    },
    {
      "cell_type": "markdown",
      "metadata": {
        "id": "JLX4LUZjjXJJ",
        "colab_type": "text"
      },
      "source": [
        "# (4) Prepare Traning and Validation Data"
      ]
    },
    {
      "cell_type": "code",
      "metadata": {
        "id": "XI6qJonxvvM0",
        "colab_type": "code",
        "colab": {}
      },
      "source": [
        "os.chdir( '/content/gdrive/My Drive/ML_100_Marathon_Final_Exam/' )"
      ],
      "execution_count": 0,
      "outputs": []
    },
    {
      "cell_type": "markdown",
      "metadata": {
        "id": "-AjoTW27c9YQ",
        "colab_type": "text"
      },
      "source": [
        "## (4.1) Label Kaggle Train Dataset"
      ]
    },
    {
      "cell_type": "code",
      "metadata": {
        "id": "W34EN2GDSetc",
        "colab_type": "code",
        "colab": {
          "base_uri": "https://localhost:8080/",
          "height": 34
        },
        "outputId": "01aaa5d5-9054-4528-cecc-8c1733920fb8"
      },
      "source": [
        "filenames = os.listdir( '/content/gdrive/My Drive/ML_100_Marathon_Final_Exam/Training_Data' )\n",
        "print( 'Numbers of Kaggle Train Data = ', len( filenames ) )"
      ],
      "execution_count": 4,
      "outputs": [
        {
          "output_type": "stream",
          "text": [
            "Numbers of Kaggle Train Data =  4000\n"
          ],
          "name": "stdout"
        }
      ]
    },
    {
      "cell_type": "code",
      "metadata": {
        "id": "qPqmxmXAjXjq",
        "colab_type": "code",
        "colab": {
          "base_uri": "https://localhost:8080/",
          "height": 351
        },
        "outputId": "c3bfaee9-eecb-42f6-aa2c-b7f5c0967826"
      },
      "source": [
        "categories = [ ]\n",
        "\n",
        "for filename in filenames:\n",
        "    category = filename.split( '.' )[0]\n",
        "    if category == 'dog':\n",
        "        categories.append( 0 )  # label of dog = 0\n",
        "    else:\n",
        "        categories.append( 1 )  # label of cat = 1\n",
        "\n",
        "df = pd.DataFrame( { 'filename': filenames, 'category': categories } )\n",
        "df[ 'category' ] = df[ 'category' ].replace( { 0: 'dog', 1: 'cat' } )\n",
        "\n",
        "print( 'The first 5 pictures : ' '\\n' )\n",
        "print( df.head( ) )\n",
        "\n",
        "print( '\\n' '======================' '\\n' )\n",
        "\n",
        "print( 'The last 5 pictures : ' '\\n' )\n",
        "print( df.head( ) )"
      ],
      "execution_count": 5,
      "outputs": [
        {
          "output_type": "stream",
          "text": [
            "The first 5 pictures : \n",
            "\n",
            "       filename category\n",
            "0  cat.5505.jpg      cat\n",
            "1  cat.5507.jpg      cat\n",
            "2  cat.5509.jpg      cat\n",
            "3  cat.5510.jpg      cat\n",
            "4  cat.5513.jpg      cat\n",
            "\n",
            "======================\n",
            "\n",
            "The last 5 pictures : \n",
            "\n",
            "       filename category\n",
            "0  cat.5505.jpg      cat\n",
            "1  cat.5507.jpg      cat\n",
            "2  cat.5509.jpg      cat\n",
            "3  cat.5510.jpg      cat\n",
            "4  cat.5513.jpg      cat\n"
          ],
          "name": "stdout"
        }
      ]
    },
    {
      "cell_type": "markdown",
      "metadata": {
        "id": "WBiErduXdJ9Q",
        "colab_type": "text"
      },
      "source": [
        "## (4.2) Split Kaggle Train Dataset into Random Training and Validation Subsets"
      ]
    },
    {
      "cell_type": "code",
      "metadata": {
        "id": "MArbLib3AC4J",
        "colab_type": "code",
        "colab": {
          "base_uri": "https://localhost:8080/",
          "height": 52
        },
        "outputId": "d1c912d9-185d-4f66-e05b-6880763c246d"
      },
      "source": [
        "train_df, validate_df = train_test_split( df, train_size = 0.9, shuffle = True, random_state = 42 )  \n",
        "train_df = train_df.reset_index( drop = True )\n",
        "validate_df = validate_df.reset_index( drop = True )\n",
        "\n",
        "print( 'Numbers of Train Data = ', train_df.shape[0]  )\n",
        "print( 'Numbers of Validation Data = ', validate_df.shape[0]  )"
      ],
      "execution_count": 6,
      "outputs": [
        {
          "output_type": "stream",
          "text": [
            "Numbers of Train Data =  3600\n",
            "Numbers of Validation Data =  400\n"
          ],
          "name": "stdout"
        }
      ]
    },
    {
      "cell_type": "code",
      "metadata": {
        "id": "l-iijkRlbyOM",
        "colab_type": "code",
        "colab": {
          "base_uri": "https://localhost:8080/",
          "height": 355
        },
        "outputId": "93c61954-b14a-426d-c5d0-53a33d26dd08"
      },
      "source": [
        "import seaborn as sns \n",
        "plt.style.use( 'ggplot' )   # 設定圖型風格\n",
        "sns.set( color_codes = True )\n",
        "\n",
        "train_df_counts = train_df.groupby( [ 'category' ] ).count( ).reset_index( )\n",
        "x1 = train_df_counts[ 'category' ]\n",
        "y1 = train_df_counts[ 'filename' ]\n",
        "\n",
        "validate_df_counts = validate_df.groupby( [ 'category' ] ).count( ).reset_index( )\n",
        "x2 = validate_df_counts[ 'category' ]\n",
        "y2 = validate_df_counts[ 'filename' ]\n",
        "\n",
        "\n",
        "# plot the barplot\n",
        "fig, axs = plt.subplots( 1, 2, figsize = ( 10, 5 ) )\n",
        "plt.suptitle( '' )\n",
        "\n",
        "plt.subplot( 1, 2, 1 )\n",
        "sns.barplot( x1, y1 )\n",
        "plt.ylabel( 'Counts' )\n",
        "plt.title( 'Train Data' )\n",
        "\n",
        "plt.subplot( 1, 2, 2 )\n",
        "sns.barplot( x2, y2 )\n",
        "plt.ylabel( '' )\n",
        "plt.title( 'Validation Data' )\n",
        "\n",
        "plt.show( ) "
      ],
      "execution_count": 7,
      "outputs": [
        {
          "output_type": "display_data",
          "data": {
            "image/png": "[encoded data removed]",
            "text/plain": [
              "<Figure size 720x360 with 2 Axes>"
            ]
          },
          "metadata": {
            "tags": []
          }
        }
      ]
    },
    {
      "cell_type": "markdown",
      "metadata": {
        "id": "acH5ZVteglTY",
        "colab_type": "text"
      },
      "source": [
        "# (5) Data Augmentation"
      ]
    },
    {
      "cell_type": "markdown",
      "metadata": {
        "id": "T0FNE8ZexF_x",
        "colab_type": "text"
      },
      "source": [
        "## (5.1) Define Constants"
      ]
    },
    {
      "cell_type": "code",
      "metadata": {
        "id": "jRRiBrqVwxbP",
        "colab_type": "code",
        "colab": {}
      },
      "source": [
        "IMAGE_WIDTH = 224\n",
        "IMAGE_HEIGHT = 224\n",
        "IMAGE_SIZE = ( IMAGE_WIDTH, IMAGE_HEIGHT )\n",
        "IMAGE_CHANNELS = 3\n",
        "\n",
        "BATCH_SIZE = 8"
      ],
      "execution_count": 0,
      "outputs": []
    },
    {
      "cell_type": "markdown",
      "metadata": {
        "id": "ZJ-N-SWg5U44",
        "colab_type": "text"
      },
      "source": [
        "## (5.2) Traning Generator"
      ]
    },
    {
      "cell_type": "code",
      "metadata": {
        "id": "I6GrV57a5UfG",
        "colab_type": "code",
        "colab": {
          "base_uri": "https://localhost:8080/",
          "height": 34
        },
        "outputId": "1236ea66-ef0c-47bf-f4d6-43dfbd9e19b7"
      },
      "source": [
        "train_datagen = ImageDataGenerator( featurewise_center = True, # 將資料的均值設為 0\n",
        "                                    featurewise_std_normalization = True,  # 資料標準化\n",
        "                                    rescale = 1./255, \n",
        "                                    rotation_range = 40,       # 隨機旋轉度數的範圍\n",
        "                                    shear_range = 0.2,\n",
        "                                    zoom_range = 0.2,                                   \n",
        "                                    width_shift_range = 0.2,\n",
        "                                    height_shift_range = 0.2,\n",
        "                                    horizontal_flip = True,    # 隨機水平翻轉\n",
        "                                    vertical_flip = False      # 隨機垂直翻轉\n",
        "                                    )\n",
        "\n",
        "train_generator = train_datagen.flow_from_dataframe( train_df, \n",
        "                                                     directory = '/content/gdrive/My Drive/ML_100_Marathon_Final_Exam/Training_Data/', \n",
        "                                                     x_col = 'filename',\n",
        "                                                     y_col = 'category',\n",
        "                                                     target_size = IMAGE_SIZE,\n",
        "                                                     class_mode = 'categorical',\n",
        "                                                     batch_size = BATCH_SIZE\n",
        "                                                     )"
      ],
      "execution_count": 9,
      "outputs": [
        {
          "output_type": "stream",
          "text": [
            "Found 3600 validated image filenames belonging to 2 classes.\n"
          ],
          "name": "stdout"
        }
      ]
    },
    {
      "cell_type": "markdown",
      "metadata": {
        "id": "i7hk2SxU50AF",
        "colab_type": "text"
      },
      "source": [
        "## (5.3) Validation Generator"
      ]
    },
    {
      "cell_type": "code",
      "metadata": {
        "id": "9cNydp3UqbdM",
        "colab_type": "code",
        "colab": {
          "base_uri": "https://localhost:8080/",
          "height": 34
        },
        "outputId": "87ff9a1c-8b27-4768-b490-fe916204a2b2"
      },
      "source": [
        "valid_datagen = ImageDataGenerator( rescale = 1./255 )\n",
        "\n",
        "validation_generator = valid_datagen.flow_from_dataframe( validate_df, \n",
        "                                                          directory = '/content/gdrive/My Drive/ML_100_Marathon_Final_Exam/Training_Data/', \n",
        "                                                          x_col = 'filename',\n",
        "                                                          y_col = 'category',\n",
        "                                                          target_size = IMAGE_SIZE,\n",
        "                                                          class_mode = 'categorical',\n",
        "                                                          batch_size = BATCH_SIZE\n",
        "                                                          )"
      ],
      "execution_count": 10,
      "outputs": [
        {
          "output_type": "stream",
          "text": [
            "Found 400 validated image filenames belonging to 2 classes.\n"
          ],
          "name": "stdout"
        }
      ]
    },
    {
      "cell_type": "markdown",
      "metadata": {
        "id": "DZDYpXDmi_nD",
        "colab_type": "text"
      },
      "source": [
        "# **Define Hyper-parameters**"
      ]
    },
    {
      "cell_type": "code",
      "metadata": {
        "id": "z0sKBIVai-q3",
        "colab_type": "code",
        "colab": {}
      },
      "source": [
        "# Early Stopping\n",
        "PATIENCE = 15  \n",
        "\n",
        "# Learning Rate Reduction\n",
        "REDUCE_LR_FACTOR = 0.5  \n",
        "REDUCE_LR_PATIENCE = 3    \n",
        "\n",
        "# Optimizer\n",
        "LEARNING_RATE = 1e-3"
      ],
      "execution_count": 0,
      "outputs": []
    },
    {
      "cell_type": "markdown",
      "metadata": {
        "id": "kkSdysUWkn_S",
        "colab_type": "text"
      },
      "source": [
        "# (6) Build Model"
      ]
    },
    {
      "cell_type": "code",
      "metadata": {
        "id": "t8JXQyNJkoLN",
        "colab_type": "code",
        "colab": {
          "base_uri": "https://localhost:8080/",
          "height": 1000
        },
        "outputId": "eb9227cb-ca7c-4dc6-dacf-e856fbbd650e"
      },
      "source": [
        "model = Sequential( )\n",
        "\n",
        "model.add( Conv2D( 32, (3, 3), \n",
        "                   activation = 'relu', \n",
        "                   input_shape = ( IMAGE_WIDTH, IMAGE_HEIGHT, IMAGE_CHANNELS )\n",
        "                   ) )\n",
        "\n",
        "model.add( BatchNormalization( ) )\n",
        "model.add( MaxPooling2D( pool_size = ( 2, 2 ) ) )\n",
        "model.add( Dropout( rate = 0.25 ) )\n",
        "\n",
        "model.add( Conv2D( 64, ( 3, 3 ), activation = 'relu' ) )\n",
        "model.add( BatchNormalization( ) )\n",
        "model.add( MaxPooling2D( pool_size = ( 2, 2 ) ) )\n",
        "model.add( Dropout( rate = 0.25 ) )\n",
        "\n",
        "model.add( Conv2D( 128, (3, 3), activation = 'relu' ) )\n",
        "model.add( BatchNormalization( ) )\n",
        "model.add( MaxPooling2D( pool_size = ( 2, 2 ) ) )\n",
        "model.add( Dropout( rate = 0.25 ) )\n",
        "\n",
        "model.add( Flatten() )\n",
        "model.add( Dense( 512, activation = 'relu' ) )\n",
        "model.add( BatchNormalization( ) )\n",
        "model.add( Dropout( rate = 0.25 ) )\n",
        "model.add( Dense( 512, activation = 'relu' ) )\n",
        "model.add( BatchNormalization( ) )\n",
        "model.add( Dropout( rate = 0.25 ) )\n",
        "model.add( Dense( 256, activation = 'relu' ) )\n",
        "model.add( BatchNormalization( ) )\n",
        "model.add( Dropout( rate = 0.25 ) )\n",
        "model.add( Dense( 2, activation = 'softmax' ) ) # 2 because we have cat and dog classes\n",
        "\n",
        "\n",
        "model.summary( )"
      ],
      "execution_count": 12,
      "outputs": [
        {
          "output_type": "stream",
          "text": [
            "WARNING: Logging before flag parsing goes to stderr.\n",
            "W0818 13:50:38.368038 140134396168064 deprecation_wrapper.py:119] From /usr/local/lib/python3.6/dist-packages/keras/backend/tensorflow_backend.py:74: The name tf.get_default_graph is deprecated. Please use tf.compat.v1.get_default_graph instead.\n",
            "\n",
            "W0818 13:50:38.415456 140134396168064 deprecation_wrapper.py:119] From /usr/local/lib/python3.6/dist-packages/keras/backend/tensorflow_backend.py:517: The name tf.placeholder is deprecated. Please use tf.compat.v1.placeholder instead.\n",
            "\n",
            "W0818 13:50:38.422453 140134396168064 deprecation_wrapper.py:119] From /usr/local/lib/python3.6/dist-packages/keras/backend/tensorflow_backend.py:4138: The name tf.random_uniform is deprecated. Please use tf.random.uniform instead.\n",
            "\n",
            "W0818 13:50:38.471706 140134396168064 deprecation_wrapper.py:119] From /usr/local/lib/python3.6/dist-packages/keras/backend/tensorflow_backend.py:174: The name tf.get_default_session is deprecated. Please use tf.compat.v1.get_default_session instead.\n",
            "\n",
            "W0818 13:50:38.473041 140134396168064 deprecation_wrapper.py:119] From /usr/local/lib/python3.6/dist-packages/keras/backend/tensorflow_backend.py:181: The name tf.ConfigProto is deprecated. Please use tf.compat.v1.ConfigProto instead.\n",
            "\n",
            "W0818 13:50:41.436996 140134396168064 deprecation_wrapper.py:119] From /usr/local/lib/python3.6/dist-packages/keras/backend/tensorflow_backend.py:1834: The name tf.nn.fused_batch_norm is deprecated. Please use tf.compat.v1.nn.fused_batch_norm instead.\n",
            "\n",
            "W0818 13:50:41.523933 140134396168064 deprecation_wrapper.py:119] From /usr/local/lib/python3.6/dist-packages/keras/backend/tensorflow_backend.py:3976: The name tf.nn.max_pool is deprecated. Please use tf.nn.max_pool2d instead.\n",
            "\n",
            "W0818 13:50:41.535349 140134396168064 deprecation.py:506] From /usr/local/lib/python3.6/dist-packages/keras/backend/tensorflow_backend.py:3445: calling dropout (from tensorflow.python.ops.nn_ops) with keep_prob is deprecated and will be removed in a future version.\n",
            "Instructions for updating:\n",
            "Please use `rate` instead of `keep_prob`. Rate should be set to `rate = 1 - keep_prob`.\n"
          ],
          "name": "stderr"
        },
        {
          "output_type": "stream",
          "text": [
            "_________________________________________________________________\n",
            "Layer (type)                 Output Shape              Param #   \n",
            "=================================================================\n",
            "conv2d_1 (Conv2D)            (None, 222, 222, 32)      896       \n",
            "_________________________________________________________________\n",
            "batch_normalization_1 (Batch (None, 222, 222, 32)      128       \n",
            "_________________________________________________________________\n",
            "max_pooling2d_1 (MaxPooling2 (None, 111, 111, 32)      0         \n",
            "_________________________________________________________________\n",
            "dropout_1 (Dropout)          (None, 111, 111, 32)      0         \n",
            "_________________________________________________________________\n",
            "conv2d_2 (Conv2D)            (None, 109, 109, 64)      18496     \n",
            "_________________________________________________________________\n",
            "batch_normalization_2 (Batch (None, 109, 109, 64)      256       \n",
            "_________________________________________________________________\n",
            "max_pooling2d_2 (MaxPooling2 (None, 54, 54, 64)        0         \n",
            "_________________________________________________________________\n",
            "dropout_2 (Dropout)          (None, 54, 54, 64)        0         \n",
            "_________________________________________________________________\n",
            "conv2d_3 (Conv2D)            (None, 52, 52, 128)       73856     \n",
            "_________________________________________________________________\n",
            "batch_normalization_3 (Batch (None, 52, 52, 128)       512       \n",
            "_________________________________________________________________\n",
            "max_pooling2d_3 (MaxPooling2 (None, 26, 26, 128)       0         \n",
            "_________________________________________________________________\n",
            "dropout_3 (Dropout)          (None, 26, 26, 128)       0         \n",
            "_________________________________________________________________\n",
            "flatten_1 (Flatten)          (None, 86528)             0         \n",
            "_________________________________________________________________\n",
            "dense_1 (Dense)              (None, 512)               44302848  \n",
            "_________________________________________________________________\n",
            "batch_normalization_4 (Batch (None, 512)               2048      \n",
            "_________________________________________________________________\n",
            "dropout_4 (Dropout)          (None, 512)               0         \n",
            "_________________________________________________________________\n",
            "dense_2 (Dense)              (None, 512)               262656    \n",
            "_________________________________________________________________\n",
            "batch_normalization_5 (Batch (None, 512)               2048      \n",
            "_________________________________________________________________\n",
            "dropout_5 (Dropout)          (None, 512)               0         \n",
            "_________________________________________________________________\n",
            "dense_3 (Dense)              (None, 256)               131328    \n",
            "_________________________________________________________________\n",
            "batch_normalization_6 (Batch (None, 256)               1024      \n",
            "_________________________________________________________________\n",
            "dropout_6 (Dropout)          (None, 256)               0         \n",
            "_________________________________________________________________\n",
            "dense_4 (Dense)              (None, 2)                 514       \n",
            "=================================================================\n",
            "Total params: 44,796,610\n",
            "Trainable params: 44,793,602\n",
            "Non-trainable params: 3,008\n",
            "_________________________________________________________________\n"
          ],
          "name": "stdout"
        }
      ]
    },
    {
      "cell_type": "markdown",
      "metadata": {
        "id": "wilXkQicl1Xs",
        "colab_type": "text"
      },
      "source": [
        "# (7) Callbacks  \n",
        "\n",
        "  * Early Stopping\n",
        "  * Learning Rate Reduction"
      ]
    },
    {
      "cell_type": "markdown",
      "metadata": {
        "id": "x7yI3n0VonKl",
        "colab_type": "text"
      },
      "source": [
        "##  (7.1) Early Stopping  \n",
        "To prevent over fitting we will stop the learning after 10 epochs and val_loss value not decreased."
      ]
    },
    {
      "cell_type": "code",
      "metadata": {
        "id": "haOJrI3IlzZn",
        "colab_type": "code",
        "colab": {}
      },
      "source": [
        "Early_Stopping = EarlyStopping( monitor = 'val_loss', \n",
        "                                patience = PATIENCE,  # 容忍訓練無再改善時的 EPOCHS 次數\n",
        "                                verbose = 1\n",
        "                                )  "
      ],
      "execution_count": 0,
      "outputs": []
    },
    {
      "cell_type": "markdown",
      "metadata": {
        "id": "RTj8yBIzosTw",
        "colab_type": "text"
      },
      "source": [
        "## (7.2) Learning Rate Reduction   \n",
        "Reduce the learning rate when then accuracy not increase for 2 steps.\n"
      ]
    },
    {
      "cell_type": "code",
      "metadata": {
        "id": "kdEESR-8lzfT",
        "colab_type": "code",
        "colab": {}
      },
      "source": [
        "LR_Reduction = ReduceLROnPlateau( factor = REDUCE_LR_FACTOR,\n",
        "                                  min_lr = 1e-5, # lower bound on lr\n",
        "                                  monitor = 'val_acc', \n",
        "                                  patience = REDUCE_LR_PATIENCE, \n",
        "                                  verbose = 1  \n",
        "                                  )"
      ],
      "execution_count": 0,
      "outputs": []
    },
    {
      "cell_type": "markdown",
      "metadata": {
        "id": "wS1as4Qfxp8X",
        "colab_type": "text"
      },
      "source": [
        "## (7.3) Define Callbacks"
      ]
    },
    {
      "cell_type": "code",
      "metadata": {
        "id": "wRJDgv-Ylzit",
        "colab_type": "code",
        "colab": {}
      },
      "source": [
        "Callbacks = [ Early_Stopping, LR_Reduction ]"
      ],
      "execution_count": 0,
      "outputs": []
    },
    {
      "cell_type": "markdown",
      "metadata": {
        "id": "PNg2nNuNyqxY",
        "colab_type": "text"
      },
      "source": [
        "# (8) Optimizer"
      ]
    },
    {
      "cell_type": "code",
      "metadata": {
        "id": "g6t0b7DeyiNg",
        "colab_type": "code",
        "colab": {
          "base_uri": "https://localhost:8080/",
          "height": 72
        },
        "outputId": "00e4d076-72dc-4aa6-d30c-fa21ec1d69d6"
      },
      "source": [
        "model.compile( loss = 'categorical_crossentropy', \n",
        "               optimizer = RMSprop( lr = LEARNING_RATE ), \n",
        "               metrics = [ 'accuracy' ]\n",
        "               )"
      ],
      "execution_count": 16,
      "outputs": [
        {
          "output_type": "stream",
          "text": [
            "W0818 13:50:42.501359 140134396168064 deprecation_wrapper.py:119] From /usr/local/lib/python3.6/dist-packages/keras/optimizers.py:790: The name tf.train.Optimizer is deprecated. Please use tf.compat.v1.train.Optimizer instead.\n",
            "\n"
          ],
          "name": "stderr"
        }
      ]
    },
    {
      "cell_type": "markdown",
      "metadata": {
        "id": "_MqT5wM0jfFV",
        "colab_type": "text"
      },
      "source": [
        "# (9) Fit Model"
      ]
    },
    {
      "cell_type": "code",
      "metadata": {
        "id": "0Oby-mVzqbju",
        "colab_type": "code",
        "colab": {
          "base_uri": "https://localhost:8080/",
          "height": 1000
        },
        "outputId": "85acd02c-45ac-4561-e5f7-6452fed5c5bd"
      },
      "source": [
        "FAST_RUN = False  \n",
        "\n",
        "EPOCHS = 5 if FAST_RUN else 50\n",
        "\n",
        "history = model.fit_generator( train_generator, \n",
        "                               epochs = EPOCHS,\n",
        "                               validation_data = validation_generator,\n",
        "                               validation_steps = validate_df.shape[0] // BATCH_SIZE,\n",
        "                               steps_per_epoch = train_df.shape[0] // BATCH_SIZE,\n",
        "                               callbacks = Callbacks\n",
        "                               )"
      ],
      "execution_count": 17,
      "outputs": [
        {
          "output_type": "stream",
          "text": [
            "W0818 13:50:42.651789 140134396168064 deprecation.py:323] From /usr/local/lib/python3.6/dist-packages/tensorflow/python/ops/math_grad.py:1250: add_dispatch_support.<locals>.wrapper (from tensorflow.python.ops.array_ops) is deprecated and will be removed in a future version.\n",
            "Instructions for updating:\n",
            "Use tf.where in 2.0, which has the same broadcast rule as np.where\n"
          ],
          "name": "stderr"
        },
        {
          "output_type": "stream",
          "text": [
            "Epoch 1/50\n"
          ],
          "name": "stdout"
        },
        {
          "output_type": "stream",
          "text": [
            "/usr/local/lib/python3.6/dist-packages/keras_preprocessing/image/image_data_generator.py:716: UserWarning: This ImageDataGenerator specifies `featurewise_center`, but it hasn't been fit on any training data. Fit it first by calling `.fit(numpy_data)`.\n",
            "  warnings.warn('This ImageDataGenerator specifies '\n",
            "/usr/local/lib/python3.6/dist-packages/keras_preprocessing/image/image_data_generator.py:724: UserWarning: This ImageDataGenerator specifies `featurewise_std_normalization`, but it hasn't been fit on any training data. Fit it first by calling `.fit(numpy_data)`.\n",
            "  warnings.warn('This ImageDataGenerator specifies '\n"
          ],
          "name": "stderr"
        },
        {
          "output_type": "stream",
          "text": [
            "450/450 [==============================] - 1329s 3s/step - loss: 0.9626 - acc: 0.5292 - val_loss: 0.8484 - val_acc: 0.5400\n",
            "Epoch 2/50\n",
            "450/450 [==============================] - 67s 148ms/step - loss: 0.7492 - acc: 0.5456 - val_loss: 0.9856 - val_acc: 0.5350\n",
            "Epoch 3/50\n",
            "450/450 [==============================] - 67s 150ms/step - loss: 0.7078 - acc: 0.5636 - val_loss: 0.7055 - val_acc: 0.5550\n",
            "Epoch 4/50\n",
            "450/450 [==============================] - 67s 149ms/step - loss: 0.7149 - acc: 0.5250 - val_loss: 0.7271 - val_acc: 0.5100\n",
            "Epoch 5/50\n",
            "450/450 [==============================] - 67s 148ms/step - loss: 0.6973 - acc: 0.5586 - val_loss: 0.6953 - val_acc: 0.5375\n",
            "Epoch 6/50\n",
            "450/450 [==============================] - 67s 148ms/step - loss: 0.6841 - acc: 0.5853 - val_loss: 0.6688 - val_acc: 0.5675\n",
            "Epoch 7/50\n",
            "450/450 [==============================] - 66s 148ms/step - loss: 0.6743 - acc: 0.5911 - val_loss: 0.6750 - val_acc: 0.5725\n",
            "Epoch 8/50\n",
            "450/450 [==============================] - 67s 149ms/step - loss: 0.6677 - acc: 0.6078 - val_loss: 0.6828 - val_acc: 0.5500\n",
            "Epoch 9/50\n",
            "450/450 [==============================] - 67s 149ms/step - loss: 0.6620 - acc: 0.5992 - val_loss: 0.6302 - val_acc: 0.6275\n",
            "Epoch 10/50\n",
            "450/450 [==============================] - 67s 148ms/step - loss: 0.6626 - acc: 0.6139 - val_loss: 0.6477 - val_acc: 0.6375\n",
            "Epoch 11/50\n",
            "450/450 [==============================] - 66s 147ms/step - loss: 0.6469 - acc: 0.6344 - val_loss: 0.7561 - val_acc: 0.5400\n",
            "Epoch 12/50\n",
            "450/450 [==============================] - 67s 148ms/step - loss: 0.6443 - acc: 0.6347 - val_loss: 0.6630 - val_acc: 0.5750\n",
            "Epoch 13/50\n",
            "450/450 [==============================] - 66s 147ms/step - loss: 0.6361 - acc: 0.6389 - val_loss: 0.6605 - val_acc: 0.6250\n",
            "\n",
            "Epoch 00013: ReduceLROnPlateau reducing learning rate to 0.0005000000237487257.\n",
            "Epoch 14/50\n",
            "450/450 [==============================] - 66s 147ms/step - loss: 0.6073 - acc: 0.6700 - val_loss: 0.6038 - val_acc: 0.7050\n",
            "Epoch 15/50\n",
            "450/450 [==============================] - 66s 146ms/step - loss: 0.6094 - acc: 0.6700 - val_loss: 0.6619 - val_acc: 0.6100\n",
            "Epoch 16/50\n",
            "450/450 [==============================] - 65s 145ms/step - loss: 0.6072 - acc: 0.6722 - val_loss: 0.6058 - val_acc: 0.6925\n",
            "Epoch 17/50\n",
            "450/450 [==============================] - 66s 146ms/step - loss: 0.6066 - acc: 0.6717 - val_loss: 0.5926 - val_acc: 0.7250\n",
            "Epoch 18/50\n",
            "450/450 [==============================] - 65s 145ms/step - loss: 0.6036 - acc: 0.6794 - val_loss: 0.6940 - val_acc: 0.5975\n",
            "Epoch 19/50\n",
            "450/450 [==============================] - 65s 145ms/step - loss: 0.5916 - acc: 0.6878 - val_loss: 0.6307 - val_acc: 0.6425\n",
            "Epoch 20/50\n",
            "450/450 [==============================] - 65s 145ms/step - loss: 0.5887 - acc: 0.6839 - val_loss: 0.5695 - val_acc: 0.6900\n",
            "\n",
            "Epoch 00020: ReduceLROnPlateau reducing learning rate to 0.0002500000118743628.\n",
            "Epoch 21/50\n",
            "450/450 [==============================] - 65s 145ms/step - loss: 0.5810 - acc: 0.6944 - val_loss: 0.5625 - val_acc: 0.6925\n",
            "Epoch 22/50\n",
            "450/450 [==============================] - 66s 147ms/step - loss: 0.5656 - acc: 0.7100 - val_loss: 0.5627 - val_acc: 0.7150\n",
            "Epoch 23/50\n",
            "450/450 [==============================] - 65s 145ms/step - loss: 0.5590 - acc: 0.7133 - val_loss: 0.5859 - val_acc: 0.6850\n",
            "\n",
            "Epoch 00023: ReduceLROnPlateau reducing learning rate to 0.0001250000059371814.\n",
            "Epoch 24/50\n",
            "450/450 [==============================] - 65s 145ms/step - loss: 0.5606 - acc: 0.7153 - val_loss: 0.5412 - val_acc: 0.7450\n",
            "Epoch 25/50\n",
            "450/450 [==============================] - 66s 146ms/step - loss: 0.5558 - acc: 0.7144 - val_loss: 0.5271 - val_acc: 0.7600\n",
            "Epoch 26/50\n",
            "450/450 [==============================] - 66s 147ms/step - loss: 0.5586 - acc: 0.7147 - val_loss: 0.5256 - val_acc: 0.7575\n",
            "Epoch 27/50\n",
            "450/450 [==============================] - 66s 146ms/step - loss: 0.5525 - acc: 0.7197 - val_loss: 0.5314 - val_acc: 0.7575\n",
            "Epoch 28/50\n",
            "450/450 [==============================] - 66s 146ms/step - loss: 0.5573 - acc: 0.7131 - val_loss: 0.5716 - val_acc: 0.7225\n",
            "\n",
            "Epoch 00028: ReduceLROnPlateau reducing learning rate to 6.25000029685907e-05.\n",
            "Epoch 29/50\n",
            "450/450 [==============================] - 66s 146ms/step - loss: 0.5483 - acc: 0.7283 - val_loss: 0.5245 - val_acc: 0.7625\n",
            "Epoch 30/50\n",
            "450/450 [==============================] - 66s 146ms/step - loss: 0.5505 - acc: 0.7175 - val_loss: 0.5268 - val_acc: 0.7625\n",
            "Epoch 31/50\n",
            "450/450 [==============================] - 68s 152ms/step - loss: 0.5442 - acc: 0.7222 - val_loss: 0.5156 - val_acc: 0.7600\n",
            "Epoch 32/50\n",
            "450/450 [==============================] - 67s 148ms/step - loss: 0.5443 - acc: 0.7264 - val_loss: 0.5088 - val_acc: 0.7600\n",
            "\n",
            "Epoch 00032: ReduceLROnPlateau reducing learning rate to 3.125000148429535e-05.\n",
            "Epoch 33/50\n",
            "450/450 [==============================] - 66s 147ms/step - loss: 0.5359 - acc: 0.7381 - val_loss: 0.5165 - val_acc: 0.7650\n",
            "Epoch 34/50\n",
            "450/450 [==============================] - 66s 147ms/step - loss: 0.5405 - acc: 0.7231 - val_loss: 0.5124 - val_acc: 0.7700\n",
            "Epoch 35/50\n",
            "450/450 [==============================] - 66s 147ms/step - loss: 0.5382 - acc: 0.7319 - val_loss: 0.5178 - val_acc: 0.7575\n",
            "Epoch 36/50\n",
            "450/450 [==============================] - 66s 148ms/step - loss: 0.5436 - acc: 0.7111 - val_loss: 0.5085 - val_acc: 0.7675\n",
            "Epoch 37/50\n",
            "450/450 [==============================] - 66s 148ms/step - loss: 0.5378 - acc: 0.7256 - val_loss: 0.5196 - val_acc: 0.7625\n",
            "\n",
            "Epoch 00037: ReduceLROnPlateau reducing learning rate to 1.5625000742147677e-05.\n",
            "Epoch 38/50\n",
            "450/450 [==============================] - 67s 148ms/step - loss: 0.5354 - acc: 0.7319 - val_loss: 0.5091 - val_acc: 0.7675\n",
            "Epoch 39/50\n",
            "450/450 [==============================] - 67s 148ms/step - loss: 0.5356 - acc: 0.7258 - val_loss: 0.5123 - val_acc: 0.7675\n",
            "Epoch 40/50\n",
            "450/450 [==============================] - 67s 148ms/step - loss: 0.5301 - acc: 0.7342 - val_loss: 0.5248 - val_acc: 0.7600\n",
            "\n",
            "Epoch 00040: ReduceLROnPlateau reducing learning rate to 1e-05.\n",
            "Epoch 41/50\n",
            "450/450 [==============================] - 67s 148ms/step - loss: 0.5322 - acc: 0.7283 - val_loss: 0.5149 - val_acc: 0.7600\n",
            "Epoch 42/50\n",
            "450/450 [==============================] - 67s 148ms/step - loss: 0.5389 - acc: 0.7294 - val_loss: 0.5130 - val_acc: 0.7675\n",
            "Epoch 43/50\n",
            "450/450 [==============================] - 66s 147ms/step - loss: 0.5428 - acc: 0.7258 - val_loss: 0.5148 - val_acc: 0.7675\n",
            "Epoch 44/50\n",
            "450/450 [==============================] - 66s 147ms/step - loss: 0.5261 - acc: 0.7372 - val_loss: 0.5120 - val_acc: 0.7675\n",
            "Epoch 45/50\n",
            "450/450 [==============================] - 67s 148ms/step - loss: 0.5323 - acc: 0.7281 - val_loss: 0.5111 - val_acc: 0.7750\n",
            "Epoch 46/50\n",
            "450/450 [==============================] - 67s 149ms/step - loss: 0.5393 - acc: 0.7261 - val_loss: 0.5109 - val_acc: 0.7675\n",
            "Epoch 47/50\n",
            "450/450 [==============================] - 67s 149ms/step - loss: 0.5407 - acc: 0.7158 - val_loss: 0.5141 - val_acc: 0.7575\n",
            "Epoch 48/50\n",
            "450/450 [==============================] - 67s 148ms/step - loss: 0.5260 - acc: 0.7356 - val_loss: 0.5121 - val_acc: 0.7700\n",
            "Epoch 49/50\n",
            "450/450 [==============================] - 67s 148ms/step - loss: 0.5309 - acc: 0.7342 - val_loss: 0.5138 - val_acc: 0.7700\n",
            "Epoch 50/50\n",
            "450/450 [==============================] - 67s 148ms/step - loss: 0.5386 - acc: 0.7339 - val_loss: 0.5126 - val_acc: 0.7575\n"
          ],
          "name": "stdout"
        }
      ]
    },
    {
      "cell_type": "markdown",
      "metadata": {
        "id": "96ipi5ZylSaV",
        "colab_type": "text"
      },
      "source": [
        "# (10) Virtualize Training"
      ]
    },
    {
      "cell_type": "code",
      "metadata": {
        "id": "pVth1VATqbqe",
        "colab_type": "code",
        "colab": {
          "base_uri": "https://localhost:8080/",
          "height": 545
        },
        "outputId": "e61313e5-fff1-4fab-9fcd-cec2eeb99544"
      },
      "source": [
        "fig, (ax1, ax2) = plt.subplots( 2, 1, figsize = ( 8, 6 ) )\n",
        "\n",
        "ax1.plot( history.history[ 'loss' ], color = 'b', label = 'Training Loss' )\n",
        "ax1.plot( history.history[ 'val_loss' ], color = 'r', label = 'Validation Loss' )\n",
        "#ax1.set_xticks( np.arange( 1, EPOCHS, 1 ) )\n",
        "#ax1.set_yticks( np.arange( 0, 1, 0.1 ) )\n",
        "legend = plt.legend( loc = 'best', shadow = True )\n",
        "plt.tight_layout( )\n",
        "\n",
        "ax2.plot( history.history[ 'acc' ], color = 'b', label = 'Training Accuracy' )\n",
        "ax2.plot( history.history[ 'val_acc' ], color = 'r',label = 'Validation Accuracy' )\n",
        "#ax2.set_xticks( np.arange( 1, EPOCHS, 1 ) )\n",
        "legend = plt.legend( loc = 'best', shadow = True )\n",
        "plt.tight_layout( )\n",
        "\n",
        "\n",
        "plt.show( )"
      ],
      "execution_count": 18,
      "outputs": [
        {
          "output_type": "stream",
          "text": [
            "/usr/local/lib/python3.6/dist-packages/keras_preprocessing/image/image_data_generator.py:716: UserWarning: This ImageDataGenerator specifies `featurewise_center`, but it hasn't been fit on any training data. Fit it first by calling `.fit(numpy_data)`.\n",
            "  warnings.warn('This ImageDataGenerator specifies '\n",
            "/usr/local/lib/python3.6/dist-packages/keras_preprocessing/image/image_data_generator.py:724: UserWarning: This ImageDataGenerator specifies `featurewise_std_normalization`, but it hasn't been fit on any training data. Fit it first by calling `.fit(numpy_data)`.\n",
            "  warnings.warn('This ImageDataGenerator specifies '\n",
            "W0818 15:07:01.869895 140134396168064 legend.py:1289] No handles with labels found to put in legend.\n"
          ],
          "name": "stderr"
        },
        {
          "output_type": "display_data",
          "data": {
            "image/png": "[encoded data removed]",
            "text/plain": [
              "<Figure size 576x432 with 2 Axes>"
            ]
          },
          "metadata": {
            "tags": []
          }
        }
      ]
    },
    {
      "cell_type": "markdown",
      "metadata": {
        "id": "f_rjz-COk7XO",
        "colab_type": "text"
      },
      "source": [
        "#  (11) Save Model"
      ]
    },
    {
      "cell_type": "code",
      "metadata": {
        "id": "s5nG1RbJqbyb",
        "colab_type": "code",
        "colab": {}
      },
      "source": [
        "model.save( 'CNN_for_cat_and_dog.h5' )"
      ],
      "execution_count": 0,
      "outputs": []
    },
    {
      "cell_type": "markdown",
      "metadata": {
        "id": "gXO7J7haQ9nj",
        "colab_type": "text"
      },
      "source": [
        "# (12) Prediction"
      ]
    },
    {
      "cell_type": "code",
      "metadata": {
        "id": "ANFsRY70qbnC",
        "colab_type": "code",
        "colab": {
          "base_uri": "https://localhost:8080/",
          "height": 1000
        },
        "outputId": "ff803acc-b855-4170-b4c3-497bbfcbf531"
      },
      "source": [
        "from tensorflow.python.keras.models import load_model\n",
        "from tensorflow.python.keras.preprocessing import image\n",
        "\n",
        "# load trained model\n",
        "os.chdir( '/content/gdrive/My Drive/ML_100_Marathon_Final_Exam/' )\n",
        "Model = load_model( 'CNN_for_cat_and_dog.h5' )\n",
        "\n",
        "# dogs = 0; cats = 1\n",
        "cls_list = [ 'dog', 'cat' ] \n",
        "\n",
        "# create an empty dataframe for submit\n",
        "Submission = pd.DataFrame( )\n",
        "Submission[ 'ID' ] = [ 'Prediction' ]\n",
        "\n",
        "# predict all photos (loop though the folder)\n",
        "directory = os.fsencode( '/content/gdrive/My Drive/ML_100_Marathon_Final_Exam/Testing_Data/' )\n",
        "for f in os.listdir( directory ):\n",
        "    f = os.fsdecode( f )\n",
        "    img = image.load_img( '/content/gdrive/My Drive/ML_100_Marathon_Final_Exam/Testing_Data/' + str(f), target_size = ( 224, 224 ) )\n",
        "    if img is None :\n",
        "        continue\n",
        "    x = image.img_to_array( img )\n",
        "    x = np.expand_dims( x, axis = 0 )\n",
        "    pred = Model.predict(x)[0]\n",
        "    \n",
        "    # collect all predicted results \n",
        "    Submission[ f[0:3] ] = [ pred[1] ]\n",
        "    \n",
        "    top_inds = pred.argsort()[::-1][:5]\n",
        "    print( f )\n",
        "    for i in top_inds:\n",
        "        print('    {:.3f}  {}'.format( pred[i], cls_list[i] ) )"
      ],
      "execution_count": 20,
      "outputs": [
        {
          "output_type": "stream",
          "text": [
            "000.jpg\n",
            "    1.000  dog\n",
            "    0.000  cat\n",
            "001.jpg\n",
            "    1.000  dog\n",
            "    0.000  cat\n",
            "002.jpg\n",
            "    1.000  dog\n",
            "    0.000  cat\n",
            "003.jpg\n",
            "    1.000  dog\n",
            "    0.000  cat\n",
            "004.jpg\n",
            "    1.000  cat\n",
            "    0.000  dog\n",
            "005.jpg\n",
            "    1.000  dog\n",
            "    0.000  cat\n",
            "006.jpg\n",
            "    1.000  dog\n",
            "    0.000  cat\n",
            "007.jpg\n",
            "    1.000  dog\n",
            "    0.000  cat\n",
            "008.jpg\n",
            "    1.000  dog\n",
            "    0.000  cat\n",
            "009.jpg\n",
            "    1.000  cat\n",
            "    0.000  dog\n",
            "010.jpg\n",
            "    1.000  cat\n",
            "    0.000  dog\n",
            "011.jpg\n",
            "    1.000  dog\n",
            "    0.000  cat\n",
            "012.jpg\n",
            "    1.000  dog\n",
            "    0.000  cat\n",
            "013.jpg\n",
            "    1.000  dog\n",
            "    0.000  cat\n",
            "014.jpg\n",
            "    1.000  dog\n",
            "    0.000  cat\n",
            "015.jpg\n",
            "    1.000  dog\n",
            "    0.000  cat\n",
            "016.jpg\n",
            "    1.000  cat\n",
            "    0.000  dog\n",
            "017.jpg\n",
            "    1.000  dog\n",
            "    0.000  cat\n",
            "018.jpg\n",
            "    1.000  cat\n",
            "    0.000  dog\n",
            "019.jpg\n",
            "    1.000  dog\n",
            "    0.000  cat\n",
            "020.jpg\n",
            "    1.000  dog\n",
            "    0.000  cat\n",
            "021.jpg\n",
            "    1.000  dog\n",
            "    0.000  cat\n",
            "022.jpg\n",
            "    1.000  dog\n",
            "    0.000  cat\n",
            "023.jpg\n",
            "    1.000  dog\n",
            "    0.000  cat\n",
            "024.jpg\n",
            "    1.000  dog\n",
            "    0.000  cat\n",
            "025.jpg\n",
            "    1.000  cat\n",
            "    0.000  dog\n",
            "026.jpg\n",
            "    1.000  dog\n",
            "    0.000  cat\n",
            "027.jpg\n",
            "    1.000  dog\n",
            "    0.000  cat\n",
            "028.jpg\n",
            "    1.000  dog\n",
            "    0.000  cat\n",
            "029.jpg\n",
            "    1.000  cat\n",
            "    0.000  dog\n",
            "030.jpg\n",
            "    1.000  cat\n",
            "    0.000  dog\n",
            "031.jpg\n",
            "    1.000  dog\n",
            "    0.000  cat\n",
            "032.jpg\n",
            "    1.000  dog\n",
            "    0.000  cat\n",
            "033.jpg\n",
            "    1.000  dog\n",
            "    0.000  cat\n",
            "034.jpg\n",
            "    1.000  cat\n",
            "    0.000  dog\n",
            "035.jpg\n",
            "    1.000  dog\n",
            "    0.000  cat\n",
            "036.jpg\n",
            "    1.000  dog\n",
            "    0.000  cat\n",
            "037.jpg\n",
            "    1.000  dog\n",
            "    0.000  cat\n",
            "038.jpg\n",
            "    1.000  cat\n",
            "    0.000  dog\n",
            "039.jpg\n",
            "    1.000  dog\n",
            "    0.000  cat\n",
            "040.jpg\n",
            "    1.000  cat\n",
            "    0.000  dog\n",
            "041.jpg\n",
            "    1.000  dog\n",
            "    0.000  cat\n",
            "042.jpg\n",
            "    1.000  cat\n",
            "    0.000  dog\n",
            "043.jpg\n",
            "    1.000  dog\n",
            "    0.000  cat\n",
            "044.jpg\n",
            "    1.000  dog\n",
            "    0.000  cat\n",
            "045.jpg\n",
            "    1.000  dog\n",
            "    0.000  cat\n",
            "046.jpg\n",
            "    1.000  dog\n",
            "    0.000  cat\n",
            "047.jpg\n",
            "    1.000  dog\n",
            "    0.000  cat\n",
            "048.jpg\n",
            "    1.000  dog\n",
            "    0.000  cat\n",
            "049.jpg\n",
            "    1.000  dog\n",
            "    0.000  cat\n",
            "050.jpg\n",
            "    1.000  dog\n",
            "    0.000  cat\n",
            "051.jpg\n",
            "    1.000  dog\n",
            "    0.000  cat\n",
            "052.jpg\n",
            "    1.000  dog\n",
            "    0.000  cat\n",
            "053.jpg\n",
            "    1.000  dog\n",
            "    0.000  cat\n",
            "054.jpg\n",
            "    1.000  cat\n",
            "    0.000  dog\n",
            "055.jpg\n",
            "    0.999  dog\n",
            "    0.001  cat\n",
            "056.jpg\n",
            "    1.000  dog\n",
            "    0.000  cat\n",
            "057.jpg\n",
            "    1.000  dog\n",
            "    0.000  cat\n",
            "058.jpg\n",
            "    1.000  dog\n",
            "    0.000  cat\n",
            "059.jpg\n",
            "    1.000  dog\n",
            "    0.000  cat\n",
            "060.jpg\n",
            "    1.000  cat\n",
            "    0.000  dog\n",
            "061.jpg\n",
            "    1.000  cat\n",
            "    0.000  dog\n",
            "062.jpg\n",
            "    1.000  dog\n",
            "    0.000  cat\n",
            "063.jpg\n",
            "    1.000  cat\n",
            "    0.000  dog\n",
            "064.jpg\n",
            "    1.000  dog\n",
            "    0.000  cat\n",
            "065.jpg\n",
            "    1.000  dog\n",
            "    0.000  cat\n",
            "066.jpg\n",
            "    1.000  dog\n",
            "    0.000  cat\n",
            "067.jpg\n",
            "    1.000  dog\n",
            "    0.000  cat\n",
            "068.jpg\n",
            "    1.000  dog\n",
            "    0.000  cat\n",
            "069.jpg\n",
            "    1.000  dog\n",
            "    0.000  cat\n",
            "070.jpg\n",
            "    1.000  dog\n",
            "    0.000  cat\n",
            "071.jpg\n",
            "    1.000  cat\n",
            "    0.000  dog\n",
            "072.jpg\n",
            "    1.000  dog\n",
            "    0.000  cat\n",
            "073.jpg\n",
            "    1.000  dog\n",
            "    0.000  cat\n",
            "074.jpg\n",
            "    1.000  dog\n",
            "    0.000  cat\n",
            "075.jpg\n",
            "    1.000  dog\n",
            "    0.000  cat\n",
            "076.jpg\n",
            "    1.000  dog\n",
            "    0.000  cat\n",
            "077.jpg\n",
            "    1.000  dog\n",
            "    0.000  cat\n",
            "078.jpg\n",
            "    1.000  dog\n",
            "    0.000  cat\n",
            "079.jpg\n",
            "    1.000  dog\n",
            "    0.000  cat\n",
            "080.jpg\n",
            "    1.000  dog\n",
            "    0.000  cat\n",
            "081.jpg\n",
            "    1.000  cat\n",
            "    0.000  dog\n",
            "082.jpg\n",
            "    1.000  dog\n",
            "    0.000  cat\n",
            "083.jpg\n",
            "    1.000  dog\n",
            "    0.000  cat\n",
            "084.jpg\n",
            "    1.000  dog\n",
            "    0.000  cat\n",
            "085.jpg\n",
            "    1.000  cat\n",
            "    0.000  dog\n",
            "086.jpg\n",
            "    1.000  dog\n",
            "    0.000  cat\n",
            "087.jpg\n",
            "    1.000  dog\n",
            "    0.000  cat\n",
            "088.jpg\n",
            "    1.000  cat\n",
            "    0.000  dog\n",
            "089.jpg\n",
            "    1.000  dog\n",
            "    0.000  cat\n",
            "090.jpg\n",
            "    1.000  dog\n",
            "    0.000  cat\n",
            "091.jpg\n",
            "    1.000  dog\n",
            "    0.000  cat\n",
            "092.jpg\n",
            "    1.000  cat\n",
            "    0.000  dog\n",
            "093.jpg\n",
            "    1.000  cat\n",
            "    0.000  dog\n",
            "094.jpg\n",
            "    1.000  dog\n",
            "    0.000  cat\n",
            "095.jpg\n",
            "    1.000  dog\n",
            "    0.000  cat\n",
            "096.jpg\n",
            "    1.000  dog\n",
            "    0.000  cat\n",
            "097.jpg\n",
            "    1.000  dog\n",
            "    0.000  cat\n",
            "098.jpg\n",
            "    1.000  dog\n",
            "    0.000  cat\n",
            "099.jpg\n",
            "    1.000  dog\n",
            "    0.000  cat\n",
            "100.jpg\n",
            "    1.000  cat\n",
            "    0.000  dog\n",
            "101.jpg\n",
            "    1.000  dog\n",
            "    0.000  cat\n",
            "102.jpg\n",
            "    1.000  cat\n",
            "    0.000  dog\n",
            "103.jpg\n",
            "    1.000  dog\n",
            "    0.000  cat\n",
            "104.jpg\n",
            "    1.000  cat\n",
            "    0.000  dog\n",
            "105.jpg\n",
            "    1.000  cat\n",
            "    0.000  dog\n",
            "106.jpg\n",
            "    1.000  dog\n",
            "    0.000  cat\n",
            "107.jpg\n",
            "    1.000  dog\n",
            "    0.000  cat\n",
            "108.jpg\n",
            "    1.000  cat\n",
            "    0.000  dog\n",
            "109.jpg\n",
            "    1.000  cat\n",
            "    0.000  dog\n",
            "110.jpg\n",
            "    1.000  dog\n",
            "    0.000  cat\n",
            "111.jpg\n",
            "    1.000  cat\n",
            "    0.000  dog\n",
            "112.jpg\n",
            "    1.000  dog\n",
            "    0.000  cat\n",
            "113.jpg\n",
            "    1.000  dog\n",
            "    0.000  cat\n",
            "114.jpg\n",
            "    1.000  cat\n",
            "    0.000  dog\n",
            "115.jpg\n",
            "    1.000  cat\n",
            "    0.000  dog\n",
            "116.jpg\n",
            "    1.000  dog\n",
            "    0.000  cat\n",
            "117.jpg\n",
            "    1.000  cat\n",
            "    0.000  dog\n",
            "118.jpg\n",
            "    1.000  dog\n",
            "    0.000  cat\n",
            "119.jpg\n",
            "    1.000  dog\n",
            "    0.000  cat\n",
            "120.jpg\n",
            "    1.000  dog\n",
            "    0.000  cat\n",
            "121.jpg\n",
            "    1.000  dog\n",
            "    0.000  cat\n",
            "122.jpg\n",
            "    1.000  dog\n",
            "    0.000  cat\n",
            "123.jpg\n",
            "    1.000  dog\n",
            "    0.000  cat\n",
            "124.jpg\n",
            "    1.000  dog\n",
            "    0.000  cat\n",
            "125.jpg\n",
            "    1.000  dog\n",
            "    0.000  cat\n",
            "126.jpg\n",
            "    1.000  cat\n",
            "    0.000  dog\n",
            "127.jpg\n",
            "    1.000  dog\n",
            "    0.000  cat\n",
            "128.jpg\n",
            "    1.000  dog\n",
            "    0.000  cat\n",
            "129.jpg\n",
            "    1.000  dog\n",
            "    0.000  cat\n",
            "130.jpg\n",
            "    1.000  dog\n",
            "    0.000  cat\n",
            "131.jpg\n",
            "    1.000  dog\n",
            "    0.000  cat\n",
            "132.jpg\n",
            "    1.000  cat\n",
            "    0.000  dog\n",
            "133.jpg\n",
            "    1.000  cat\n",
            "    0.000  dog\n",
            "134.jpg\n",
            "    1.000  dog\n",
            "    0.000  cat\n",
            "135.jpg\n",
            "    1.000  cat\n",
            "    0.000  dog\n",
            "136.jpg\n",
            "    1.000  dog\n",
            "    0.000  cat\n",
            "137.jpg\n",
            "    1.000  dog\n",
            "    0.000  cat\n",
            "138.jpg\n",
            "    1.000  dog\n",
            "    0.000  cat\n",
            "139.jpg\n",
            "    1.000  dog\n",
            "    0.000  cat\n",
            "140.jpg\n",
            "    1.000  dog\n",
            "    0.000  cat\n",
            "141.jpg\n",
            "    1.000  dog\n",
            "    0.000  cat\n",
            "142.jpg\n",
            "    1.000  dog\n",
            "    0.000  cat\n",
            "143.jpg\n",
            "    1.000  dog\n",
            "    0.000  cat\n",
            "144.jpg\n",
            "    1.000  dog\n",
            "    0.000  cat\n",
            "145.jpg\n",
            "    1.000  cat\n",
            "    0.000  dog\n",
            "146.jpg\n",
            "    1.000  cat\n",
            "    0.000  dog\n",
            "147.jpg\n",
            "    1.000  dog\n",
            "    0.000  cat\n",
            "148.jpg\n",
            "    1.000  cat\n",
            "    0.000  dog\n",
            "149.jpg\n",
            "    1.000  cat\n",
            "    0.000  dog\n",
            "150.jpg\n",
            "    1.000  dog\n",
            "    0.000  cat\n",
            "151.jpg\n",
            "    1.000  dog\n",
            "    0.000  cat\n",
            "152.jpg\n",
            "    1.000  dog\n",
            "    0.000  cat\n",
            "153.jpg\n",
            "    1.000  dog\n",
            "    0.000  cat\n",
            "154.jpg\n",
            "    1.000  dog\n",
            "    0.000  cat\n",
            "155.jpg\n",
            "    1.000  cat\n",
            "    0.000  dog\n",
            "156.jpg\n",
            "    1.000  dog\n",
            "    0.000  cat\n",
            "157.jpg\n",
            "    1.000  cat\n",
            "    0.000  dog\n",
            "158.jpg\n",
            "    1.000  dog\n",
            "    0.000  cat\n",
            "159.jpg\n",
            "    1.000  dog\n",
            "    0.000  cat\n",
            "160.jpg\n",
            "    1.000  dog\n",
            "    0.000  cat\n",
            "161.jpg\n",
            "    1.000  cat\n",
            "    0.000  dog\n",
            "162.jpg\n",
            "    1.000  dog\n",
            "    0.000  cat\n",
            "163.jpg\n",
            "    1.000  cat\n",
            "    0.000  dog\n",
            "164.jpg\n",
            "    1.000  cat\n",
            "    0.000  dog\n",
            "165.jpg\n",
            "    1.000  dog\n",
            "    0.000  cat\n",
            "166.jpg\n",
            "    1.000  dog\n",
            "    0.000  cat\n",
            "167.jpg\n",
            "    1.000  dog\n",
            "    0.000  cat\n",
            "168.jpg\n",
            "    1.000  dog\n",
            "    0.000  cat\n",
            "169.jpg\n",
            "    1.000  dog\n",
            "    0.000  cat\n",
            "170.jpg\n",
            "    1.000  dog\n",
            "    0.000  cat\n",
            "171.jpg\n",
            "    1.000  dog\n",
            "    0.000  cat\n",
            "172.jpg\n",
            "    1.000  dog\n",
            "    0.000  cat\n",
            "173.jpg\n",
            "    1.000  dog\n",
            "    0.000  cat\n",
            "174.jpg\n",
            "    1.000  dog\n",
            "    0.000  cat\n",
            "175.jpg\n",
            "    1.000  cat\n",
            "    0.000  dog\n",
            "176.jpg\n",
            "    1.000  cat\n",
            "    0.000  dog\n",
            "177.jpg\n",
            "    1.000  dog\n",
            "    0.000  cat\n",
            "178.jpg\n",
            "    1.000  dog\n",
            "    0.000  cat\n",
            "179.jpg\n",
            "    1.000  dog\n",
            "    0.000  cat\n",
            "180.jpg\n",
            "    1.000  dog\n",
            "    0.000  cat\n",
            "181.jpg\n",
            "    1.000  cat\n",
            "    0.000  dog\n",
            "182.jpg\n",
            "    1.000  dog\n",
            "    0.000  cat\n",
            "183.jpg\n",
            "    1.000  dog\n",
            "    0.000  cat\n",
            "184.jpg\n",
            "    1.000  dog\n",
            "    0.000  cat\n",
            "185.jpg\n",
            "    1.000  dog\n",
            "    0.000  cat\n",
            "186.jpg\n",
            "    1.000  dog\n",
            "    0.000  cat\n",
            "187.jpg\n",
            "    1.000  dog\n",
            "    0.000  cat\n",
            "188.jpg\n",
            "    1.000  dog\n",
            "    0.000  cat\n",
            "189.jpg\n",
            "    1.000  dog\n",
            "    0.000  cat\n",
            "190.jpg\n",
            "    1.000  dog\n",
            "    0.000  cat\n",
            "191.jpg\n",
            "    1.000  dog\n",
            "    0.000  cat\n",
            "192.jpg\n",
            "    1.000  dog\n",
            "    0.000  cat\n",
            "193.jpg\n",
            "    1.000  dog\n",
            "    0.000  cat\n",
            "194.jpg\n",
            "    1.000  cat\n",
            "    0.000  dog\n",
            "195.jpg\n",
            "    1.000  cat\n",
            "    0.000  dog\n",
            "196.jpg\n",
            "    1.000  cat\n",
            "    0.000  dog\n",
            "197.jpg\n",
            "    1.000  cat\n",
            "    0.000  dog\n",
            "198.jpg\n",
            "    1.000  dog\n",
            "    0.000  cat\n",
            "199.jpg\n",
            "    1.000  cat\n",
            "    0.000  dog\n",
            "200.jpg\n",
            "    1.000  cat\n",
            "    0.000  dog\n",
            "201.jpg\n",
            "    1.000  cat\n",
            "    0.000  dog\n",
            "202.jpg\n",
            "    1.000  cat\n",
            "    0.000  dog\n",
            "203.jpg\n",
            "    1.000  dog\n",
            "    0.000  cat\n",
            "204.jpg\n",
            "    1.000  cat\n",
            "    0.000  dog\n",
            "205.jpg\n",
            "    1.000  dog\n",
            "    0.000  cat\n",
            "206.jpg\n",
            "    1.000  dog\n",
            "    0.000  cat\n",
            "207.jpg\n",
            "    1.000  dog\n",
            "    0.000  cat\n",
            "208.jpg\n",
            "    1.000  cat\n",
            "    0.000  dog\n",
            "209.jpg\n",
            "    1.000  dog\n",
            "    0.000  cat\n",
            "210.jpg\n",
            "    1.000  dog\n",
            "    0.000  cat\n",
            "211.jpg\n",
            "    1.000  cat\n",
            "    0.000  dog\n",
            "212.jpg\n",
            "    1.000  dog\n",
            "    0.000  cat\n",
            "213.jpg\n",
            "    1.000  dog\n",
            "    0.000  cat\n",
            "214.jpg\n",
            "    1.000  dog\n",
            "    0.000  cat\n",
            "215.jpg\n",
            "    1.000  cat\n",
            "    0.000  dog\n",
            "216.jpg\n",
            "    1.000  cat\n",
            "    0.000  dog\n",
            "217.jpg\n",
            "    1.000  cat\n",
            "    0.000  dog\n",
            "218.jpg\n",
            "    1.000  cat\n",
            "    0.000  dog\n",
            "219.jpg\n",
            "    1.000  cat\n",
            "    0.000  dog\n",
            "220.jpg\n",
            "    1.000  cat\n",
            "    0.000  dog\n",
            "221.jpg\n",
            "    0.960  dog\n",
            "    0.040  cat\n",
            "222.jpg\n",
            "    1.000  cat\n",
            "    0.000  dog\n",
            "223.jpg\n",
            "    1.000  dog\n",
            "    0.000  cat\n",
            "224.jpg\n",
            "    1.000  dog\n",
            "    0.000  cat\n",
            "225.jpg\n",
            "    1.000  cat\n",
            "    0.000  dog\n",
            "226.jpg\n",
            "    1.000  dog\n",
            "    0.000  cat\n",
            "227.jpg\n",
            "    1.000  dog\n",
            "    0.000  cat\n",
            "228.jpg\n",
            "    1.000  cat\n",
            "    0.000  dog\n",
            "229.jpg\n",
            "    1.000  dog\n",
            "    0.000  cat\n",
            "230.jpg\n",
            "    1.000  cat\n",
            "    0.000  dog\n",
            "231.jpg\n",
            "    1.000  dog\n",
            "    0.000  cat\n",
            "232.jpg\n",
            "    1.000  dog\n",
            "    0.000  cat\n",
            "233.jpg\n",
            "    1.000  cat\n",
            "    0.000  dog\n",
            "234.jpg\n",
            "    1.000  dog\n",
            "    0.000  cat\n",
            "235.jpg\n",
            "    1.000  dog\n",
            "    0.000  cat\n",
            "236.jpg\n",
            "    1.000  dog\n",
            "    0.000  cat\n",
            "237.jpg\n",
            "    1.000  dog\n",
            "    0.000  cat\n",
            "238.jpg\n",
            "    1.000  dog\n",
            "    0.000  cat\n",
            "239.jpg\n",
            "    1.000  cat\n",
            "    0.000  dog\n",
            "240.jpg\n",
            "    1.000  cat\n",
            "    0.000  dog\n",
            "241.jpg\n",
            "    1.000  dog\n",
            "    0.000  cat\n",
            "242.jpg\n",
            "    1.000  dog\n",
            "    0.000  cat\n",
            "243.jpg\n",
            "    1.000  cat\n",
            "    0.000  dog\n",
            "244.jpg\n",
            "    1.000  dog\n",
            "    0.000  cat\n",
            "245.jpg\n",
            "    1.000  cat\n",
            "    0.000  dog\n",
            "246.jpg\n",
            "    1.000  dog\n",
            "    0.000  cat\n",
            "247.jpg\n",
            "    1.000  cat\n",
            "    0.000  dog\n",
            "248.jpg\n",
            "    1.000  dog\n",
            "    0.000  cat\n",
            "249.jpg\n",
            "    1.000  dog\n",
            "    0.000  cat\n",
            "250.jpg\n",
            "    1.000  dog\n",
            "    0.000  cat\n",
            "251.jpg\n",
            "    1.000  dog\n",
            "    0.000  cat\n",
            "252.jpg\n",
            "    1.000  dog\n",
            "    0.000  cat\n",
            "253.jpg\n",
            "    0.901  cat\n",
            "    0.099  dog\n",
            "254.jpg\n",
            "    1.000  dog\n",
            "    0.000  cat\n",
            "255.jpg\n",
            "    1.000  dog\n",
            "    0.000  cat\n",
            "256.jpg\n",
            "    1.000  dog\n",
            "    0.000  cat\n",
            "257.jpg\n",
            "    1.000  dog\n",
            "    0.000  cat\n",
            "258.jpg\n",
            "    1.000  dog\n",
            "    0.000  cat\n",
            "259.jpg\n",
            "    1.000  dog\n",
            "    0.000  cat\n",
            "260.jpg\n",
            "    1.000  dog\n",
            "    0.000  cat\n",
            "261.jpg\n",
            "    1.000  dog\n",
            "    0.000  cat\n",
            "262.jpg\n",
            "    1.000  dog\n",
            "    0.000  cat\n",
            "263.jpg\n",
            "    1.000  cat\n",
            "    0.000  dog\n",
            "264.jpg\n",
            "    1.000  cat\n",
            "    0.000  dog\n",
            "265.jpg\n",
            "    1.000  dog\n",
            "    0.000  cat\n",
            "266.jpg\n",
            "    1.000  dog\n",
            "    0.000  cat\n",
            "267.jpg\n",
            "    1.000  dog\n",
            "    0.000  cat\n",
            "268.jpg\n",
            "    1.000  dog\n",
            "    0.000  cat\n",
            "269.jpg\n",
            "    1.000  cat\n",
            "    0.000  dog\n",
            "270.jpg\n",
            "    1.000  dog\n",
            "    0.000  cat\n",
            "271.jpg\n",
            "    1.000  cat\n",
            "    0.000  dog\n",
            "272.jpg\n",
            "    1.000  dog\n",
            "    0.000  cat\n",
            "273.jpg\n",
            "    1.000  dog\n",
            "    0.000  cat\n",
            "274.jpg\n",
            "    1.000  dog\n",
            "    0.000  cat\n",
            "275.jpg\n",
            "    1.000  dog\n",
            "    0.000  cat\n",
            "276.jpg\n",
            "    1.000  dog\n",
            "    0.000  cat\n",
            "277.jpg\n",
            "    1.000  cat\n",
            "    0.000  dog\n",
            "278.jpg\n",
            "    1.000  cat\n",
            "    0.000  dog\n",
            "279.jpg\n",
            "    1.000  dog\n",
            "    0.000  cat\n",
            "280.jpg\n",
            "    1.000  dog\n",
            "    0.000  cat\n",
            "281.jpg\n",
            "    1.000  cat\n",
            "    0.000  dog\n",
            "282.jpg\n",
            "    1.000  cat\n",
            "    0.000  dog\n",
            "283.jpg\n",
            "    1.000  dog\n",
            "    0.000  cat\n",
            "284.jpg\n",
            "    1.000  dog\n",
            "    0.000  cat\n",
            "285.jpg\n",
            "    1.000  dog\n",
            "    0.000  cat\n",
            "286.jpg\n",
            "    1.000  cat\n",
            "    0.000  dog\n",
            "287.jpg\n",
            "    1.000  dog\n",
            "    0.000  cat\n",
            "288.jpg\n",
            "    1.000  dog\n",
            "    0.000  cat\n",
            "289.jpg\n",
            "    1.000  dog\n",
            "    0.000  cat\n",
            "290.jpg\n",
            "    1.000  dog\n",
            "    0.000  cat\n",
            "291.jpg\n",
            "    1.000  dog\n",
            "    0.000  cat\n",
            "292.jpg\n",
            "    1.000  dog\n",
            "    0.000  cat\n",
            "293.jpg\n",
            "    1.000  dog\n",
            "    0.000  cat\n",
            "294.jpg\n",
            "    1.000  dog\n",
            "    0.000  cat\n",
            "295.jpg\n",
            "    1.000  dog\n",
            "    0.000  cat\n",
            "296.jpg\n",
            "    1.000  dog\n",
            "    0.000  cat\n",
            "297.jpg\n",
            "    1.000  dog\n",
            "    0.000  cat\n",
            "298.jpg\n",
            "    1.000  dog\n",
            "    0.000  cat\n",
            "299.jpg\n",
            "    1.000  dog\n",
            "    0.000  cat\n",
            "300.jpg\n",
            "    1.000  dog\n",
            "    0.000  cat\n",
            "301.jpg\n",
            "    1.000  cat\n",
            "    0.000  dog\n",
            "302.jpg\n",
            "    1.000  dog\n",
            "    0.000  cat\n",
            "303.jpg\n",
            "    1.000  cat\n",
            "    0.000  dog\n",
            "304.jpg\n",
            "    1.000  dog\n",
            "    0.000  cat\n",
            "305.jpg\n",
            "    1.000  dog\n",
            "    0.000  cat\n",
            "306.jpg\n",
            "    1.000  cat\n",
            "    0.000  dog\n",
            "307.jpg\n",
            "    1.000  cat\n",
            "    0.000  dog\n",
            "308.jpg\n",
            "    1.000  dog\n",
            "    0.000  cat\n",
            "309.jpg\n",
            "    1.000  dog\n",
            "    0.000  cat\n",
            "310.jpg\n",
            "    1.000  dog\n",
            "    0.000  cat\n",
            "311.jpg\n",
            "    1.000  cat\n",
            "    0.000  dog\n",
            "312.jpg\n",
            "    1.000  cat\n",
            "    0.000  dog\n",
            "313.jpg\n",
            "    1.000  dog\n",
            "    0.000  cat\n",
            "314.jpg\n",
            "    1.000  dog\n",
            "    0.000  cat\n",
            "315.jpg\n",
            "    1.000  cat\n",
            "    0.000  dog\n",
            "316.jpg\n",
            "    1.000  cat\n",
            "    0.000  dog\n",
            "317.jpg\n",
            "    1.000  cat\n",
            "    0.000  dog\n",
            "318.jpg\n",
            "    1.000  cat\n",
            "    0.000  dog\n",
            "319.jpg\n",
            "    1.000  dog\n",
            "    0.000  cat\n",
            "320.jpg\n",
            "    1.000  dog\n",
            "    0.000  cat\n",
            "321.jpg\n",
            "    1.000  dog\n",
            "    0.000  cat\n",
            "322.jpg\n",
            "    1.000  cat\n",
            "    0.000  dog\n",
            "323.jpg\n",
            "    1.000  dog\n",
            "    0.000  cat\n",
            "324.jpg\n",
            "    1.000  dog\n",
            "    0.000  cat\n",
            "325.jpg\n",
            "    1.000  dog\n",
            "    0.000  cat\n",
            "326.jpg\n",
            "    1.000  dog\n",
            "    0.000  cat\n",
            "327.jpg\n",
            "    1.000  dog\n",
            "    0.000  cat\n",
            "328.jpg\n",
            "    1.000  dog\n",
            "    0.000  cat\n",
            "329.jpg\n",
            "    1.000  dog\n",
            "    0.000  cat\n",
            "330.jpg\n",
            "    1.000  dog\n",
            "    0.000  cat\n",
            "331.jpg\n",
            "    1.000  cat\n",
            "    0.000  dog\n",
            "332.jpg\n",
            "    1.000  dog\n",
            "    0.000  cat\n",
            "333.jpg\n",
            "    1.000  dog\n",
            "    0.000  cat\n",
            "334.jpg\n",
            "    1.000  cat\n",
            "    0.000  dog\n",
            "335.jpg\n",
            "    1.000  dog\n",
            "    0.000  cat\n",
            "336.jpg\n",
            "    1.000  dog\n",
            "    0.000  cat\n",
            "337.jpg\n",
            "    1.000  dog\n",
            "    0.000  cat\n",
            "338.jpg\n",
            "    1.000  cat\n",
            "    0.000  dog\n",
            "339.jpg\n",
            "    1.000  cat\n",
            "    0.000  dog\n",
            "340.jpg\n",
            "    1.000  dog\n",
            "    0.000  cat\n",
            "341.jpg\n",
            "    1.000  cat\n",
            "    0.000  dog\n",
            "342.jpg\n",
            "    1.000  dog\n",
            "    0.000  cat\n",
            "343.jpg\n",
            "    1.000  dog\n",
            "    0.000  cat\n",
            "344.jpg\n",
            "    1.000  dog\n",
            "    0.000  cat\n",
            "345.jpg\n",
            "    1.000  cat\n",
            "    0.000  dog\n",
            "346.jpg\n",
            "    0.559  dog\n",
            "    0.441  cat\n",
            "347.jpg\n",
            "    1.000  dog\n",
            "    0.000  cat\n",
            "348.jpg\n",
            "    1.000  cat\n",
            "    0.000  dog\n",
            "349.jpg\n",
            "    1.000  dog\n",
            "    0.000  cat\n",
            "350.jpg\n",
            "    1.000  dog\n",
            "    0.000  cat\n",
            "351.jpg\n",
            "    1.000  dog\n",
            "    0.000  cat\n",
            "352.jpg\n",
            "    1.000  dog\n",
            "    0.000  cat\n",
            "353.jpg\n",
            "    1.000  cat\n",
            "    0.000  dog\n",
            "354.jpg\n",
            "    1.000  dog\n",
            "    0.000  cat\n",
            "355.jpg\n",
            "    1.000  dog\n",
            "    0.000  cat\n",
            "356.jpg\n",
            "    1.000  dog\n",
            "    0.000  cat\n",
            "357.jpg\n",
            "    1.000  dog\n",
            "    0.000  cat\n",
            "358.jpg\n",
            "    1.000  dog\n",
            "    0.000  cat\n",
            "359.jpg\n",
            "    1.000  dog\n",
            "    0.000  cat\n",
            "360.jpg\n",
            "    1.000  dog\n",
            "    0.000  cat\n",
            "361.jpg\n",
            "    1.000  dog\n",
            "    0.000  cat\n",
            "362.jpg\n",
            "    1.000  dog\n",
            "    0.000  cat\n",
            "363.jpg\n",
            "    1.000  cat\n",
            "    0.000  dog\n",
            "364.jpg\n",
            "    1.000  dog\n",
            "    0.000  cat\n",
            "365.jpg\n",
            "    1.000  dog\n",
            "    0.000  cat\n",
            "366.jpg\n",
            "    1.000  dog\n",
            "    0.000  cat\n",
            "367.jpg\n",
            "    1.000  dog\n",
            "    0.000  cat\n",
            "368.jpg\n",
            "    1.000  dog\n",
            "    0.000  cat\n",
            "369.jpg\n",
            "    1.000  cat\n",
            "    0.000  dog\n",
            "370.jpg\n",
            "    1.000  dog\n",
            "    0.000  cat\n",
            "371.jpg\n",
            "    1.000  dog\n",
            "    0.000  cat\n",
            "372.jpg\n",
            "    1.000  dog\n",
            "    0.000  cat\n",
            "373.jpg\n",
            "    1.000  cat\n",
            "    0.000  dog\n",
            "374.jpg\n",
            "    1.000  cat\n",
            "    0.000  dog\n",
            "375.jpg\n",
            "    1.000  cat\n",
            "    0.000  dog\n",
            "376.jpg\n",
            "    1.000  dog\n",
            "    0.000  cat\n",
            "377.jpg\n",
            "    1.000  dog\n",
            "    0.000  cat\n",
            "378.jpg\n",
            "    1.000  dog\n",
            "    0.000  cat\n",
            "379.jpg\n",
            "    1.000  dog\n",
            "    0.000  cat\n",
            "380.jpg\n",
            "    1.000  dog\n",
            "    0.000  cat\n",
            "381.jpg\n",
            "    1.000  dog\n",
            "    0.000  cat\n",
            "382.jpg\n",
            "    1.000  dog\n",
            "    0.000  cat\n",
            "383.jpg\n",
            "    1.000  cat\n",
            "    0.000  dog\n",
            "384.jpg\n",
            "    1.000  dog\n",
            "    0.000  cat\n",
            "385.jpg\n",
            "    1.000  cat\n",
            "    0.000  dog\n",
            "386.jpg\n",
            "    1.000  cat\n",
            "    0.000  dog\n",
            "387.jpg\n",
            "    1.000  dog\n",
            "    0.000  cat\n",
            "388.jpg\n",
            "    1.000  dog\n",
            "    0.000  cat\n",
            "389.jpg\n",
            "    1.000  dog\n",
            "    0.000  cat\n",
            "390.jpg\n",
            "    1.000  dog\n",
            "    0.000  cat\n",
            "391.jpg\n",
            "    1.000  cat\n",
            "    0.000  dog\n",
            "392.jpg\n",
            "    1.000  cat\n",
            "    0.000  dog\n",
            "393.jpg\n",
            "    1.000  dog\n",
            "    0.000  cat\n",
            "394.jpg\n",
            "    1.000  dog\n",
            "    0.000  cat\n",
            "395.jpg\n",
            "    1.000  dog\n",
            "    0.000  cat\n",
            "396.jpg\n",
            "    1.000  cat\n",
            "    0.000  dog\n",
            "397.jpg\n",
            "    1.000  dog\n",
            "    0.000  cat\n",
            "398.jpg\n",
            "    1.000  dog\n",
            "    0.000  cat\n",
            "399.jpg\n",
            "    1.000  dog\n",
            "    0.000  cat\n"
          ],
          "name": "stdout"
        }
      ]
    },
    {
      "cell_type": "code",
      "metadata": {
        "id": "FlW98WqFix4w",
        "colab_type": "code",
        "colab": {
          "base_uri": "https://localhost:8080/",
          "height": 351
        },
        "outputId": "f664a558-9742-4b36-938c-ea1d5843bf97"
      },
      "source": [
        "import copy\n",
        "\n",
        "\n",
        "Submit_Data = copy.deepcopy( Submission )\n",
        "\n",
        "Submit_Data.drop( columns = [ 'ID' ], inplace = True )\n",
        "Submit_Data = Submission.loc[ 0, : ].to_frame( )\n",
        "Submit_Data.reset_index( inplace = True )\n",
        "Submit_Data.columns = [ 'ID', 'Predicted' ]\n",
        "Submit_Data.sort_values( by = 'ID', inplace = True )\n",
        "\n",
        "# delete the last row of dataframe, and then reset index\n",
        "Submit_Data = Submit_Data[ : -1 ].set_index( ['ID'] ).reset_index( ) \n",
        "\n",
        "\n",
        "print( 'The first 5 prdictions : ' '\\n' )\n",
        "print( Submit_Data.head( ) )\n",
        "\n",
        "print( '\\n' '======================' '\\n' )\n",
        "\n",
        "print( 'The last 5 prdictions : ' '\\n' )\n",
        "print( Submit_Data.tail( ) )"
      ],
      "execution_count": 21,
      "outputs": [
        {
          "output_type": "stream",
          "text": [
            "The first 5 prdictions : \n",
            "\n",
            "    ID Predicted\n",
            "0  000         0\n",
            "1  001         0\n",
            "2  002         0\n",
            "3  003         0\n",
            "4  004         1\n",
            "\n",
            "======================\n",
            "\n",
            "The last 5 prdictions : \n",
            "\n",
            "      ID Predicted\n",
            "395  395         0\n",
            "396  396         1\n",
            "397  397         0\n",
            "398  398         0\n",
            "399  399         0\n"
          ],
          "name": "stdout"
        }
      ]
    },
    {
      "cell_type": "markdown",
      "metadata": {
        "id": "hBG_BZ0ai7SE",
        "colab_type": "text"
      },
      "source": [
        "# (13) Download the Submission from Colab"
      ]
    },
    {
      "cell_type": "code",
      "metadata": {
        "id": "UvV3ZM40jC9q",
        "colab_type": "code",
        "colab": {}
      },
      "source": [
        "from google.colab import files\n",
        "\n",
        "os.chdir( '/content/gdrive/My Drive/ML_100_Marathon_Final_Exam' )\n",
        "Submit_Data.to_csv( 'Submission_CNN_Model_v1.csv', header = True, index = False, encoding = 'utf-8' )\n",
        "files.download( 'Submission_CNN_Model_v1.csv' )"
      ],
      "execution_count": 0,
      "outputs": []
    },
    {
      "cell_type": "code",
      "metadata": {
        "id": "mJcKy6QLIsu8",
        "colab_type": "code",
        "colab": {}
      },
      "source": [
        ""
      ],
      "execution_count": 0,
      "outputs": []
    }
  ]
}