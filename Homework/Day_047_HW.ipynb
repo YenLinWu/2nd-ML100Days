{
 "cells": [
  {
   "cell_type": "markdown",
   "metadata": {},
   "source": [
    "## [作業重點]\n",
    "了解如何使用 Sklearn 中的 hyper-parameter search 找出最佳的超參數"
   ]
  },
  {
   "cell_type": "markdown",
   "metadata": {},
   "source": [
    "### 作業\n",
    "請使用不同的資料集，並使用 hyper-parameter search 的方式，看能不能找出最佳的超參數組合"
   ]
  },
  {
   "cell_type": "code",
   "execution_count": 1,
   "metadata": {},
   "outputs": [],
   "source": [
    "import numpy as np\n",
    "import pandas as pd\n",
    "\n",
    "from sklearn import datasets, metrics\n",
    "from sklearn.model_selection import train_test_split\n",
    "\n",
    "# 分類問題：LogisticRegression；迴歸問題：LinearRegression\n",
    "from sklearn.linear_model import LogisticRegression, LinearRegression \n",
    "\n",
    "# 決策樹：\n",
    "# 分類問題：DecisionTreeClassifier；迴歸問題：DecisionTreeRegressor\n",
    "from sklearn.tree import DecisionTreeClassifier, DecisionTreeRegressor\n",
    "\n",
    "# 隨機森林\n",
    "# 分類問題：RandomForestClassifier；迴歸問題：RandomForestRegressor\n",
    "from sklearn.ensemble import RandomForestClassifier, RandomForestRegressor\n",
    "\n",
    "# 梯度提升機\n",
    "# 分類問題：GradientBoostingClassifier；迴歸問題：GradientBoostingRegressor\n",
    "from sklearn.ensemble import GradientBoostingClassifier, GradientBoostingRegressor\n",
    "\n",
    "# 評估模型\n",
    "from sklearn.metrics import mean_squared_error, r2_score, accuracy_score"
   ]
  },
  {
   "cell_type": "markdown",
   "metadata": {},
   "source": [
    "### 梯度提升機（分類問題）"
   ]
  },
  {
   "cell_type": "code",
   "execution_count": 2,
   "metadata": {},
   "outputs": [],
   "source": [
    "# 讀取資料集\n",
    "wine = datasets.load_wine( ) \n",
    "\n",
    "# 切分訓練集/測試集\n",
    "x_train, x_test, y_train, y_test = train_test_split( wine.data, wine.target, test_size = 0.35, random_state = 4 )"
   ]
  },
  {
   "cell_type": "code",
   "execution_count": 3,
   "metadata": {},
   "outputs": [
    {
     "name": "stdout",
     "output_type": "stream",
     "text": [
      "Acuuracy :  0.6507936507936508 \n",
      "\n",
      "預測值 ：[1 1 0 0 1 1 0 1 0 1 1 0 1 1 0 1 0 1 1 1 1 1 1 1 0 1 1 1 1 1 0 1 0 1 1 1 0\n",
      " 0 0 1 1 0 1 1 1 0 1 1 1 1 1 1 1 0 0 1 1 1 1 1 0 1 1]\n",
      "實際值 ：[2 2 0 0 1 2 0 1 0 1 1 0 2 2 0 1 0 1 1 2 1 2 1 2 0 2 1 1 2 2 0 1 0 1 2 2 0\n",
      " 0 0 2 2 0 0 1 1 0 1 2 0 2 1 1 1 0 0 1 1 1 2 2 0 2 1]\n",
      "\n"
     ]
    }
   ],
   "source": [
    "# 建立梯度提升機模型\n",
    "GBC_1 = GradientBoostingClassifier( n_estimators = 5, learning_rate = 0.01 )\n",
    "# n_estimators ( default = 100 )：最大的迭代次數，即模型的數量 ( 過大容易產生過擬合 )\n",
    "# learning_rate ( default = 0.1 )：每個模型的權重數，較小的 learning_rate 會需要較多的迭代次數(n_estimators)\n",
    "# 註：調參數時， n_estimators 與  learning_rate 會一起調整！\n",
    "# loss ( default = ’deviance’ )：分類模型的損失函數有 'deviance' 及 'exponential' 兩種；若選用 'exponential' ，則是套用 Adaboost 演算法。\n",
    "#                                          一般建議使用預設，它對二元或多元分類有較佳的優化效果。\n",
    "\n",
    "\n",
    "# 訓練模型\n",
    "GBC_1.fit( x_train, y_train )\n",
    "\n",
    "# 預測測試集\n",
    "y_pred = GBC_1.predict( x_test )\n",
    "\n",
    "# 評估模型\n",
    "acc = metrics.accuracy_score( y_test, y_pred )\n",
    "print( 'Acuuracy : ', acc,  '\\n' )\n",
    "\n",
    "print( '預測值 ：' + str( y_pred ) )\n",
    "print( '實際值 ：' + str( y_test ) + '\\n' )"
   ]
  },
  {
   "cell_type": "code",
   "execution_count": 4,
   "metadata": {},
   "outputs": [
    {
     "data": {
      "text/plain": [
       "GradientBoostingClassifier(criterion='friedman_mse', init=None,\n",
       "              learning_rate=0.01, loss='deviance', max_depth=3,\n",
       "              max_features=None, max_leaf_nodes=None,\n",
       "              min_impurity_decrease=0.0, min_impurity_split=None,\n",
       "              min_samples_leaf=1, min_samples_split=2,\n",
       "              min_weight_fraction_leaf=0.0, n_estimators=5,\n",
       "              n_iter_no_change=None, presort='auto', random_state=None,\n",
       "              subsample=1.0, tol=0.0001, validation_fraction=0.1,\n",
       "              verbose=0, warm_start=False)"
      ]
     },
     "execution_count": 4,
     "metadata": {},
     "output_type": "execute_result"
    }
   ],
   "source": [
    "# 檢視模型的參數\n",
    "GBC_1"
   ]
  },
  {
   "cell_type": "markdown",
   "metadata": {},
   "source": [
    "### Hyperparameter Optimisation"
   ]
  },
  {
   "cell_type": "markdown",
   "metadata": {},
   "source": [
    "##### 隨機搜尋 ( Random Search )：\n",
    "\n",
    "函數  RandomizedSearchCV( )\n",
    "- https://scikit-learn.org/stable/modules/generated/sklearn.model_selection.RandomizedSearchCV.html \n",
    "  \n",
    "搭配相關函數\n",
    "- np.arange : https://docs.scipy.org/doc/numpy/reference/generated/numpy.arange.html  \n",
    "- np.linspace : https://docs.scipy.org/doc/numpy/reference/generated/numpy.linspace.html\n",
    "\n",
    "  \n",
    "相關文獻：\n",
    "- https://towardsdatascience.com/algorithms-for-hyperparameter-optimisation-in-python-edda4bdb167\n"
   ]
  },
  {
   "cell_type": "code",
   "execution_count": 5,
   "metadata": {},
   "outputs": [
    {
     "data": {
      "text/plain": [
       "{'n_estimators': array([ 20,  24,  28,  32,  36,  40,  44,  48,  52,  56,  60,  64,  68,\n",
       "         72,  76,  80,  84,  88,  92,  96, 100, 104, 108, 112, 116]),\n",
       " 'learning_rate': array([0.01      , 0.11473684, 0.21947368, 0.32421053, 0.42894737,\n",
       "        0.53368421, 0.63842105, 0.74315789, 0.84789474, 0.95263158,\n",
       "        1.05736842, 1.16210526, 1.26684211, 1.37157895, 1.47631579,\n",
       "        1.58105263, 1.68578947, 1.79052632, 1.89526316, 2.        ]),\n",
       " 'max_depth': array([1, 2, 3])}"
      ]
     },
     "execution_count": 5,
     "metadata": {},
     "output_type": "execute_result"
    }
   ],
   "source": [
    "# 設定搜尋引數搜尋範圍\n",
    "param_dist = { 'n_estimators' : np.arange( 20, 120, 4 ), \n",
    "                     'learning_rate' : np.linspace( 0.01, 2, 20 ), \n",
    "                     'max_depth' : np.arange( 1, 4 ) \n",
    "                    }\n",
    "\n",
    "param_dist"
   ]
  },
  {
   "cell_type": "code",
   "execution_count": 6,
   "metadata": {},
   "outputs": [
    {
     "name": "stdout",
     "output_type": "stream",
     "text": [
      "Best Accuracy : 0.982609 using {'n_estimators': 48, 'max_depth': 2, 'learning_rate': 1.371578947368421}\n"
     ]
    },
    {
     "name": "stderr",
     "output_type": "stream",
     "text": [
      "/anaconda3/lib/python3.6/site-packages/sklearn/model_selection/_search.py:841: DeprecationWarning: The default of the `iid` parameter will change from True to False in version 0.22 and will be removed in 0.24. This will change numeric results when test-set sizes are unequal.\n",
      "  DeprecationWarning)\n"
     ]
    }
   ],
   "source": [
    "from sklearn.model_selection import RandomizedSearchCV\n",
    "\n",
    "# 建立梯度提升機模型\n",
    "GBC = GradientBoostingClassifier( )\n",
    "\n",
    "# 隨機搜尋函數設定\n",
    "rs_random = RandomizedSearchCV( estimator = GBC, param_distributions = param_dist, cv = 5, n_iter = 100, n_jobs = -1 )\n",
    "# n_iter：訓練次數。次數越大可獲得的引數精度越大，但是搜尋的時間也相對增加。\n",
    "# n_jobs = -1：使用所有的CPU進行訓練，預設為1，使用1個CPU。\n",
    "\n",
    "\n",
    "# 搜尋模型的最佳參數\n",
    "rs_random.fit( x_train, y_train )\n",
    "\n",
    "# 最佳結果與最佳參數\n",
    "print( 'Best Accuracy : %f using %s' % ( rs_random.best_score_ , rs_random.best_params_ ) )"
   ]
  },
  {
   "cell_type": "code",
   "execution_count": 7,
   "metadata": {},
   "outputs": [
    {
     "name": "stdout",
     "output_type": "stream",
     "text": [
      "Acuuracy :  0.9682539682539683 \n",
      "\n",
      "預測值 ：[2 2 0 0 1 2 0 1 0 1 1 0 2 2 0 1 0 1 1 2 1 2 1 2 0 2 1 1 2 2 0 1 0 1 2 2 0\n",
      " 0 0 2 2 0 0 2 1 0 1 2 0 2 1 1 1 0 0 1 2 1 2 2 0 2 1]\n",
      "實際值 ：[2 2 0 0 1 2 0 1 0 1 1 0 2 2 0 1 0 1 1 2 1 2 1 2 0 2 1 1 2 2 0 1 0 1 2 2 0\n",
      " 0 0 2 2 0 0 1 1 0 1 2 0 2 1 1 1 0 0 1 1 1 2 2 0 2 1]\n",
      "\n"
     ]
    }
   ],
   "source": [
    "# 使用最佳參數重新建立模型\n",
    "GBC_best_param = GradientBoostingClassifier( n_estimators = rs_random.best_params_[ 'n_estimators' ],\n",
    "                                                                   max_depth = rs_random.best_params_[ 'max_depth' ],\n",
    "                                                                   learning_rate = rs_random.best_params_[ 'learning_rate' ] )\n",
    "                                                             \n",
    "# 訓練模型\n",
    "GBC_best_param.fit( x_train, y_train )\n",
    "\n",
    "# 預測測試集\n",
    "y_pred_best_param = GBC_best_param.predict( x_test )\n",
    "\n",
    "# 評估模型\n",
    "accy_best_param = metrics.accuracy_score( y_test, y_pred_best_param )\n",
    "print( 'Acuuracy : ', accy_best_param,  '\\n' )\n",
    "\n",
    "print( '預測值 ：' + str( y_pred_best_param ) )\n",
    "print( '實際值 ：' + str( y_test ) + '\\n' )"
   ]
  }
 ],
 "metadata": {
  "kernelspec": {
   "display_name": "Python 3",
   "language": "python",
   "name": "python3"
  },
  "language_info": {
   "codemirror_mode": {
    "name": "ipython",
    "version": 3
   },
   "file_extension": ".py",
   "mimetype": "text/x-python",
   "name": "python",
   "nbconvert_exporter": "python",
   "pygments_lexer": "ipython3",
   "version": "3.6.8"
  }
 },
 "nbformat": 4,
 "nbformat_minor": 2
}
