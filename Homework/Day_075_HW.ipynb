{
 "cells": [
  {
   "cell_type": "markdown",
   "metadata": {},
   "source": [
    "# 作業目標:\n",
    "\n",
    "    通過建立多層的神經網路, 了解權值矩陣更新"
   ]
  },
  {
   "cell_type": "markdown",
   "metadata": {},
   "source": [
    "# 作業重點: \n",
    "\n",
    "3  層神經網路\n",
    "\n",
    "通過增加更多的中間層，以對更多關係的組合進行建模\n",
    "\n",
    "syn1 權值矩陣將隱層的組合輸出映射到最終結果，\n",
    "\n",
    "而在更新 syn1 的同時，還需要更新 syn0 權值矩陣，\n",
    "\n",
    "以從輸入資料中更好地產生這些組合"
   ]
  },
  {
   "cell_type": "markdown",
   "metadata": {},
   "source": [
    "### Derivative of Sigmoid Function  \n",
    "\n",
    "$\\displaystyle  \\frac{ d }{ dx } \\sigma ( x ) = \\sigma ( x ) \\cdot ( 1 - \\sigma ( x ) ) $  \n",
    "  \n",
    "Reference : https://towardsdatascience.com/derivative-of-the-sigmoid-function-536880cf918e"
   ]
  },
  {
   "cell_type": "code",
   "execution_count": 1,
   "metadata": {},
   "outputs": [],
   "source": [
    "import numpy as np\n",
    "\n",
    "\n",
    "# Sigmoid 函數可以將任何值都映射到一個位於 0 到  1 範圍內的值。通過它，我們可以將實數轉化為概率值\n",
    "def nonlin( x, deriv = False ) :\n",
    "    if( deriv == True ) :\n",
    "        return x*( 1 - x )               # deriv 為 True 時，得到 sigmod 函數的導數\n",
    "    return 1/( 1 + np.exp( -x ) )\n",
    "\n",
    "\n",
    "'''\n",
    "Input Dataset\n",
    "輸入資料集初始化為 numpy 中的矩陣。\n",
    "每個 row 為一個“訓練實例”，每個 column 對應著一個輸入節點。\n",
    "\n",
    "表示我們的神經網路有 4 個訓練實例、3 個輸入節點( 或 features )。\n",
    "'''\n",
    "X = np.array( [  [ 0, 0, 1 ],\n",
    "                      [ 0, 1, 1 ],\n",
    "                      [ 1, 0, 1 ],\n",
    "                      [ 1, 1, 1 ] ] )  \n",
    "        \n",
    "\n",
    "'''\n",
    "Output Datase y 為一個 4 x 1 向量\n",
    "'''\n",
    "y = np.array( [ [ 0, 0, 1, 1 ] ] ).T"
   ]
  },
  {
   "cell_type": "code",
   "execution_count": 2,
   "metadata": {},
   "outputs": [],
   "source": [
    "# seed random numbers to make calculation\n",
    "# deterministic (just a good practice)\n",
    "np.random.seed( 1 )\n",
    "#亂數設定產生種子得到的權重初始化集仍是隨機分佈的，\n",
    "#但每次開始訓練時，得到的權重初始集分佈都是完全一致的。\n",
    " \n",
    "\n",
    "#該神經網路權重矩陣的初始化操作。\n",
    "#用 “syn0” 來代指 (即“輸入層-第一層隱層”間權重矩陣）\n",
    "#用 “syn1” 來代指 (即“輸入層-第二層隱層”間權重矩陣）\n",
    "# initialize weights randomly with mean 0\n",
    "syn0 = 2 * np.random.random( ( 3, 4 ) ) - 1   # 輸入層與第一個隱藏層間的權重( 3 x 4 )初始化\n",
    "syn1 = 2 * np.random.random( ( 4, 1 ) ) - 1    # 第一與第二個隱藏層間的權重( 4 x 1 )初始化\n",
    "\n",
    "syn0_history = [ syn0 ]\n",
    "syn1_history = [syn1]"
   ]
  },
  {
   "cell_type": "markdown",
   "metadata": {},
   "source": [
    "神經網路訓練\n",
    "for 迴圈反覆運算式地多次執行訓練代碼，使得我們的網路能更好地擬合訓練集"
   ]
  },
  {
   "cell_type": "code",
   "execution_count": 3,
   "metadata": {},
   "outputs": [
    {
     "name": "stdout",
     "output_type": "stream",
     "text": [
      "Hidden Layer 2 Output : \n",
      "[[0.06261002]\n",
      " [0.06035201]\n",
      " [0.90249854]\n",
      " [0.90152592]]\n",
      "Hidden Layer 2 Output : \n",
      "[[0.06261002]\n",
      " [0.06035201]\n",
      " [0.90249854]\n",
      " [0.90152592]]\n"
     ]
    }
   ],
   "source": [
    "iter = 0\n",
    "for iter in range( 10000 ) :\n",
    "    # forward propagation\n",
    "    input_layer = X\n",
    "    hidden_1 = nonlin( np.dot( input_layer, syn0 ) )   # output of hidden_1\n",
    "    hidden_2 = nonlin( np.dot( hidden_1, syn1 ) )      # output of hidden_2\n",
    "    \n",
    "    '''\n",
    "    新增\n",
    "    l2_error 該值說明了神經網路預測時“丟失”的數目。\n",
    "    l2_delta 該值為經確信度加權後的神經網路的誤差，除了確信誤差很小時，它近似等於預測誤差。\n",
    "    '''\n",
    "    # how much did we miss?\n",
    "    hidden_2_error = y - hidden_2\n",
    "    \n",
    "    # back propagation\n",
    "    hidden_2_delta = hidden_2_error * nonlin( hidden_2, True )\n",
    "    hidden_1_error = np.dot( hidden_2_delta, syn1.T )\n",
    "    hidden_1_delta = hidden_1_error * nonlin( hidden_1, True ) \n",
    "\n",
    "    # update weights\n",
    "    syn0 += np.dot( input_layer.T, hidden_1_delta )\n",
    "    syn1 += np.dot( hidden_1_delta.T, hidden_2_delta )\n",
    "\n",
    "print( \"Hidden Layer 2 Output : \" )\n",
    "print( hidden_2 )"
   ]
  },
  {
   "cell_type": "code",
   "execution_count": 4,
   "metadata": {},
   "outputs": [
    {
     "data": {
      "image/png": "[encoded data removed]",
      "text/plain": [
       "<Figure size 432x288 with 1 Axes>"
      ]
     },
     "metadata": {
      "needs_background": "light"
     },
     "output_type": "display_data"
    },
    {
     "data": {
      "image/png": "[encoded data removed]",
      "text/plain": [
       "<Figure size 432x288 with 1 Axes>"
      ]
     },
     "metadata": {
      "needs_background": "light"
     },
     "output_type": "display_data"
    }
   ],
   "source": [
    "import matplotlib.pyplot as plt\n",
    "%matplotlib inline \n",
    "#適用於 Jupyter Notebook, 宣告直接在cell 內印出執行結果\n",
    "\n",
    "plt.plot( syn1_history[0], ms = 3, lw = 1.5, color = 'blue' )\n",
    "plt.xlabel( r'$Hidden 1$', fontsize = 16 )\n",
    "plt.show()"
   ]
  },
  {
   "cell_type": "code",
   "execution_count": null,
   "metadata": {},
   "outputs": [],
   "source": []
  }
 ],
 "metadata": {
  "kernelspec": {
   "display_name": "Python 3",
   "language": "python",
   "name": "python3"
  },
  "language_info": {
   "codemirror_mode": {
    "name": "ipython",
    "version": 3
   },
   "file_extension": ".py",
   "mimetype": "text/x-python",
   "name": "python",
   "nbconvert_exporter": "python",
   "pygments_lexer": "ipython3",
   "version": "3.7.3"
  }
 },
 "nbformat": 4,
 "nbformat_minor": 2
}
