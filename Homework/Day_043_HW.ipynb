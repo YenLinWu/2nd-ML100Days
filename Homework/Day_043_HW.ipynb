{
 "cells": [
  {
   "cell_type": "markdown",
   "metadata": {},
   "source": [
    "## [作業重點]\n",
    "了解隨機森林改善了決策樹的什麼缺點？是用什麼方法改進的？"
   ]
  },
  {
   "cell_type": "markdown",
   "metadata": {},
   "source": [
    "## 作業\n",
    "\n",
    "閱讀以下兩篇文獻，了解隨機森林原理，並試著回答後續的思考問題\n",
    "- [隨機森林 (random forest) - 中文](http://hhtucode.blogspot.tw/2013/06/ml-random-forest.html)\n",
    "- [how random forest works - 英文](https://medium.com/@Synced/how-random-forest-algorithm-works-in-machine-learning-3c0fe15b6674)"
   ]
  },
  {
   "cell_type": "markdown",
   "metadata": {},
   "source": [
    "\n",
    "1. 隨機森林中的每一棵樹，是希望能夠\n",
    "\n",
    "    - 沒有任何限制，讓樹可以持續生長 (讓樹生成很深，讓模型變得複雜)\n",
    "    \n",
    "    - 不要過度生長，避免 Overfitting\n",
    "    \n",
    "    \n",
    "2. 假設總共有 N 筆資料，每棵樹用取後放回的方式抽了總共 N 筆資料生成，請問這棵樹大約使用了多少 % 不重複的原資料生成?\n",
    "hint: 0.632 bootstrap\n"
   ]
  },
  {
   "cell_type": "markdown",
   "metadata": {},
   "source": [
    "1.\n",
    "   不要過度生長，避免 Overfitting  \n",
    "    \n",
    "    \n",
    "      \n",
    "2.\n",
    "     Bootstrap :   \n",
    "     每筆資料被抽中的機率為 $1/Ｎ$，不被抽中的機率為 $1 - 1/Ｎ$；\n",
    "     因抽取方式為取後放回，且需抽取Ｎ筆資料，  \n",
    "     所以每筆資料在 Ｎ 次抽取中皆不被抽到的機率為 $\\displaystyle （ 1 - 1/Ｎ )^N $。  \n",
    "     當 Ｎ 足夠大時，在N次抽取中資料皆不被抽取到的機率近似於 $\\displaystyle e^{-1} \\approx 0.368 $。  \n",
    "     因此，每棵樹約使用 63.2% ( = 1 - 36.8% ) 的資料生成。  \n",
    "     Reference : https://en.wikipedia.org/wiki/Bootstrap_aggregating  \n"
   ]
  }
 ],
 "metadata": {
  "kernelspec": {
   "display_name": "Python 3",
   "language": "python",
   "name": "python3"
  },
  "language_info": {
   "codemirror_mode": {
    "name": "ipython",
    "version": 3
   },
   "file_extension": ".py",
   "mimetype": "text/x-python",
   "name": "python",
   "nbconvert_exporter": "python",
   "pygments_lexer": "ipython3",
   "version": "3.6.8"
  }
 },
 "nbformat": 4,
 "nbformat_minor": 2
}
