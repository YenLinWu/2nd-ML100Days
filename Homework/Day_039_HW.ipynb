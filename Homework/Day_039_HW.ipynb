{
 "cells": [
  {
   "cell_type": "markdown",
   "metadata": {},
   "source": [
    "## [作業重點]\n",
    "清楚了解 L1, L2 的意義與差異為何，並了解 LASSO 與 Ridge 之間的差異與使用情境"
   ]
  },
  {
   "cell_type": "markdown",
   "metadata": {},
   "source": [
    "## 作業"
   ]
  },
  {
   "cell_type": "markdown",
   "metadata": {},
   "source": [
    "請閱讀相關文獻，並回答下列問題\n",
    "\n",
    "[脊回歸 (Ridge Regression)](https://blog.csdn.net/daunxx/article/details/51578787)\n",
    "[Linear, Ridge, Lasso Regression 本質區別](https://www.zhihu.com/question/38121173)\n",
    "\n",
    "1. LASSO 回歸可以被用來作為 Feature selection 的工具，請了解 LASSO 模型為什麼可用來作 Feature selection\n",
    "2. 當自變數 (X) 存在高度共線性時，Ridge Regression 可以處理這樣的問題嗎?   Ans: Yes!\n"
   ]
  },
  {
   "cell_type": "markdown",
   "metadata": {},
   "source": [
    "##### 正則化(regularization) : 降低模型 Variance 的程度。\n",
    "- 當資料存有多元共線性(multicollinearity)的特性時，模型容易產生過擬合(overfitting)的預測結果，使其無法預測其他較為普遍的資料集。\n",
    "\n",
    "##### Lasso  \n",
    "(1) 正則化 : L1 norm  \n",
    "(2)  L1 norm 具有將不重要的變數，使其估計係數為0的特性，故亦可作為特徵選擇(feature selection)的工具。  \n",
    "(3) 當 alpha 越大，則係數為0的變數越多。  \n",
    "(4)  alpha的選定可藉由交叉驗證(cross validation)方法來決定。  \n",
    "   \n",
    "##### Ridge  \n",
    "(1) 正則化 : L2 norm\n"
   ]
  }
 ],
 "metadata": {
  "kernelspec": {
   "display_name": "Python 3",
   "language": "python",
   "name": "python3"
  },
  "language_info": {
   "codemirror_mode": {
    "name": "ipython",
    "version": 3
   },
   "file_extension": ".py",
   "mimetype": "text/x-python",
   "name": "python",
   "nbconvert_exporter": "python",
   "pygments_lexer": "ipython3",
   "version": "3.6.8"
  }
 },
 "nbformat": 4,
 "nbformat_minor": 2
}
