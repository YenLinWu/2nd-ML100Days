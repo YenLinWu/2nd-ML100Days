{
  "nbformat": 4,
  "nbformat_minor": 0,
  "metadata": {
    "colab": {
      "name": "Day_078_HW.ipynb",
      "version": "0.3.2",
      "provenance": [],
      "collapsed_sections": []
    },
    "language_info": {
      "codemirror_mode": {
        "name": "ipython",
        "version": 3
      },
      "file_extension": ".py",
      "mimetype": "text/x-python",
      "name": "python",
      "nbconvert_exporter": "python",
      "pygments_lexer": "ipython3",
      "version": "3.7.3"
    },
    "kernelspec": {
      "display_name": "Python 3",
      "language": "python",
      "name": "python3"
    }
  },
  "cells": [
    {
      "cell_type": "markdown",
      "metadata": {
        "id": "3Gvrnr7pabF1",
        "colab_type": "text"
      },
      "source": [
        "## Work\n",
        "1. 請嘗試將 preproc_x 替換成以每筆資料的 min/max 進行標準化至 -1 ~ 1 間，再進行訓練\n",
        "2. 請嘗試將 mlp 疊更深 (e.g 5~10 層)，進行訓練後觀察 learning curve 的走勢\n",
        "3. (optional) 請改用 GPU 進行訓練 (如果你有 GPU 的話)，比較使用 CPU 與 GPU 的訓練速度"
      ]
    },
    {
      "cell_type": "code",
      "metadata": {
        "id": "Zc0CYq8_abF2",
        "colab_type": "code",
        "colab": {
          "base_uri": "https://localhost:8080/",
          "height": 72
        },
        "outputId": "df42d2e4-8c2e-4d33-a726-266f4cc99005"
      },
      "source": [
        "## \n",
        "\"\"\"\n",
        "Your code here (optional)\n",
        "確認硬體資源\n",
        "\"\"\"\n",
        "!nvidia-smi"
      ],
      "execution_count": 1,
      "outputs": [
        {
          "output_type": "stream",
          "text": [
            "NVIDIA-SMI has failed because it couldn't communicate with the NVIDIA driver. Make sure that the latest NVIDIA driver is installed and running.\n",
            "\n"
          ],
          "name": "stdout"
        }
      ]
    },
    {
      "cell_type": "code",
      "metadata": {
        "id": "8eWqij5xabF6",
        "colab_type": "code",
        "colab": {
          "base_uri": "https://localhost:8080/",
          "height": 34
        },
        "outputId": "a59a295a-637a-4417-fa2e-b7a84421dd78"
      },
      "source": [
        "import numpy as np\n",
        "import pandas as pd\n",
        "import os\n",
        "import keras\n",
        "\n",
        "# 請嘗試設定 GPU：os.environ \n",
        "#os.environ[ \"CUDA_VISIBLE_DEVICES\" ] = \" \""
      ],
      "execution_count": 2,
      "outputs": [
        {
          "output_type": "stream",
          "text": [
            "Using TensorFlow backend.\n"
          ],
          "name": "stderr"
        }
      ]
    },
    {
      "cell_type": "code",
      "metadata": {
        "id": "86k9NWXUabF8",
        "colab_type": "code",
        "colab": {
          "base_uri": "https://localhost:8080/",
          "height": 158
        },
        "outputId": "bdd8e167-6ee6-46b5-c0c5-2f7a173d6700"
      },
      "source": [
        "# 從 Keras 的內建資料集中，取得 train 與 test 資料集\n",
        "train, test = keras.datasets.cifar10.load_data( )\n",
        "\n",
        "x_train, y_train = train\n",
        "x_test, y_test = test\n",
        "\n",
        "print( 'Shape of Train Data : ' + str( x_train.shape ) )\n",
        "print( 'Shape of Train Label : ' + str( y_train.shape ) + '\\n' )\n",
        "\n",
        "print( 'Shape of Test Data : ' + str( x_test.shape ) )\n",
        "print( 'Shape of Test Label : ' + str( y_test.shape ) + '\\n' )"
      ],
      "execution_count": 3,
      "outputs": [
        {
          "output_type": "stream",
          "text": [
            "Downloading data from https://www.cs.toronto.edu/~kriz/cifar-10-python.tar.gz\n",
            "170500096/170498071 [==============================] - 2s 0us/step\n",
            "Shape of Train Data : (50000, 32, 32, 3)\n",
            "Shape of Train Label : (50000, 1)\n",
            "\n",
            "Shape of Test Data : (10000, 32, 32, 3)\n",
            "Shape of Test Label : (10000, 1)\n",
            "\n"
          ],
          "name": "stdout"
        }
      ]
    },
    {
      "cell_type": "code",
      "metadata": {
        "id": "npPP6O1jabF_",
        "colab_type": "code",
        "colab": {}
      },
      "source": [
        "## 資料前處理\n",
        "\n",
        "# 最小最大化\n",
        "def preproc_x( x, flatten = True ) : \n",
        "    minimum = x.min( )\n",
        "    maximum = x.max( )\n",
        "    x = 2 * ( x - minimum ) / ( maximum -minimum ) - 1 \n",
        "    if flatten :\n",
        "        x = x.reshape( ( len( x ), -1 ) )\n",
        "    return x\n",
        "\n",
        "        \n",
        "# OneHot Encoding\n",
        "def preproc_y( y, num_classes = 10 ) :\n",
        "    if y.shape[ -1 ] == 1 :\n",
        "        y = keras.utils.to_categorical( y, num_classes )\n",
        "    return y"
      ],
      "execution_count": 0,
      "outputs": []
    },
    {
      "cell_type": "code",
      "metadata": {
        "id": "JjCvqDJjabGC",
        "colab_type": "code",
        "colab": {}
      },
      "source": [
        "# Preproc the inputs\n",
        "x_train = preproc_x( x_train )\n",
        "x_test = preproc_x( x_test )\n",
        "\n",
        "# Preprc the outputs\n",
        "y_train = preproc_y( y_train )\n",
        "y_test = preproc_y( y_test )"
      ],
      "execution_count": 0,
      "outputs": []
    },
    {
      "cell_type": "code",
      "metadata": {
        "id": "uSptW-99abGE",
        "colab_type": "code",
        "colab": {
          "base_uri": "https://localhost:8080/",
          "height": 530
        },
        "outputId": "01cb70fd-611c-40e1-e81a-db91b9003439"
      },
      "source": [
        "\"\"\"Code Here\n",
        "建立你的神經網路\n",
        "\"\"\"\n",
        "def build_mlp( input_shape, output_units = 10, num_neurons = [ 512, 256, 256, 128, 128 ] ) : \n",
        "    input_layer = keras.layers.Input( input_shape )\n",
        "    \n",
        "    for i, n_units in enumerate( num_neurons ) : \n",
        "        if i == 0 :\n",
        "            x = keras.layers.Dense( units = n_units, \n",
        "                                    activation = \"relu\", \n",
        "                                    name = \"hidden_layer\" + str( i+1 ) )( input_layer )\n",
        "        else:\n",
        "            x = keras.layers.Dense( units = n_units, \n",
        "                                    activation = \"relu\", \n",
        "                                    name = \"hidden_layer\" + str( i+1 ) )( x )\n",
        "    \n",
        "    output_layer = keras.layers.Dense( units = output_units, \n",
        "                                       activation = 'softmax', \n",
        "                                       name = 'output_layer' )( x )\n",
        "    \n",
        "    model = keras.models.Model( inputs = [ input_layer ], outputs = [ output_layer ] )\n",
        "    return model\n",
        "\n",
        "model = build_mlp( input_shape = x_train.shape[ 1: ] ) \n",
        "model.summary( )"
      ],
      "execution_count": 6,
      "outputs": [
        {
          "output_type": "stream",
          "text": [
            "WARNING: Logging before flag parsing goes to stderr.\n",
            "W0714 07:43:20.447916 139943508744064 deprecation_wrapper.py:119] From /usr/local/lib/python3.6/dist-packages/keras/backend/tensorflow_backend.py:74: The name tf.get_default_graph is deprecated. Please use tf.compat.v1.get_default_graph instead.\n",
            "\n",
            "W0714 07:43:20.487812 139943508744064 deprecation_wrapper.py:119] From /usr/local/lib/python3.6/dist-packages/keras/backend/tensorflow_backend.py:517: The name tf.placeholder is deprecated. Please use tf.compat.v1.placeholder instead.\n",
            "\n",
            "W0714 07:43:20.497209 139943508744064 deprecation_wrapper.py:119] From /usr/local/lib/python3.6/dist-packages/keras/backend/tensorflow_backend.py:4138: The name tf.random_uniform is deprecated. Please use tf.random.uniform instead.\n",
            "\n"
          ],
          "name": "stderr"
        },
        {
          "output_type": "stream",
          "text": [
            "_________________________________________________________________\n",
            "Layer (type)                 Output Shape              Param #   \n",
            "=================================================================\n",
            "input_1 (InputLayer)         (None, 3072)              0         \n",
            "_________________________________________________________________\n",
            "hidden_layer1 (Dense)        (None, 512)               1573376   \n",
            "_________________________________________________________________\n",
            "hidden_layer2 (Dense)        (None, 256)               131328    \n",
            "_________________________________________________________________\n",
            "hidden_layer3 (Dense)        (None, 256)               65792     \n",
            "_________________________________________________________________\n",
            "hidden_layer4 (Dense)        (None, 128)               32896     \n",
            "_________________________________________________________________\n",
            "hidden_layer5 (Dense)        (None, 128)               16512     \n",
            "_________________________________________________________________\n",
            "output_layer (Dense)         (None, 10)                1290      \n",
            "=================================================================\n",
            "Total params: 1,821,194\n",
            "Trainable params: 1,821,194\n",
            "Non-trainable params: 0\n",
            "_________________________________________________________________\n"
          ],
          "name": "stdout"
        }
      ]
    },
    {
      "cell_type": "code",
      "metadata": {
        "id": "05SzDZY3abGG",
        "colab_type": "code",
        "colab": {}
      },
      "source": [
        "## 超參數設定\n",
        "LEARNING_RATE = 0.001\n",
        "EPOCHS = 100\n",
        "BATCH_SIZE = 256"
      ],
      "execution_count": 0,
      "outputs": []
    },
    {
      "cell_type": "code",
      "metadata": {
        "id": "RI8hui5QabGJ",
        "colab_type": "code",
        "colab": {
          "base_uri": "https://localhost:8080/",
          "height": 107
        },
        "outputId": "359a9ba5-e817-45a8-c387-e8c76fa563f7"
      },
      "source": [
        "optimizer = keras.optimizers.Adam( lr = LEARNING_RATE )\n",
        "\n",
        "model.compile( loss = 'categorical_crossentropy', \n",
        "               optimizer = optimizer , \n",
        "               metrics = [ 'accuracy' ] \n",
        "               )"
      ],
      "execution_count": 8,
      "outputs": [
        {
          "output_type": "stream",
          "text": [
            "W0714 07:43:20.631520 139943508744064 deprecation_wrapper.py:119] From /usr/local/lib/python3.6/dist-packages/keras/optimizers.py:790: The name tf.train.Optimizer is deprecated. Please use tf.compat.v1.train.Optimizer instead.\n",
            "\n",
            "W0714 07:43:20.644814 139943508744064 deprecation_wrapper.py:119] From /usr/local/lib/python3.6/dist-packages/keras/backend/tensorflow_backend.py:3295: The name tf.log is deprecated. Please use tf.math.log instead.\n",
            "\n"
          ],
          "name": "stderr"
        }
      ]
    },
    {
      "cell_type": "code",
      "metadata": {
        "id": "X_GTpW6babGL",
        "colab_type": "code",
        "colab": {
          "base_uri": "https://localhost:8080/",
          "height": 1000
        },
        "outputId": "c4c10e15-c2e2-4c42-91f8-99e6a206108e"
      },
      "source": [
        "model.fit( x_train, y_train, \n",
        "           epochs = EPOCHS, \n",
        "           batch_size = BATCH_SIZE, \n",
        "           validation_data = ( x_test, y_test ), \n",
        "           shuffle = True \n",
        "           )"
      ],
      "execution_count": 9,
      "outputs": [
        {
          "output_type": "stream",
          "text": [
            "W0714 07:43:20.797559 139943508744064 deprecation.py:323] From /usr/local/lib/python3.6/dist-packages/tensorflow/python/ops/math_grad.py:1250: add_dispatch_support.<locals>.wrapper (from tensorflow.python.ops.array_ops) is deprecated and will be removed in a future version.\n",
            "Instructions for updating:\n",
            "Use tf.where in 2.0, which has the same broadcast rule as np.where\n",
            "W0714 07:43:20.867817 139943508744064 deprecation_wrapper.py:119] From /usr/local/lib/python3.6/dist-packages/keras/backend/tensorflow_backend.py:986: The name tf.assign_add is deprecated. Please use tf.compat.v1.assign_add instead.\n",
            "\n"
          ],
          "name": "stderr"
        },
        {
          "output_type": "stream",
          "text": [
            "Train on 50000 samples, validate on 10000 samples\n",
            "Epoch 1/100\n",
            "50000/50000 [==============================] - 16s 329us/step - loss: 2.2254 - acc: 0.1630 - val_loss: 2.1686 - val_acc: 0.1982\n",
            "Epoch 2/100\n",
            "50000/50000 [==============================] - 16s 317us/step - loss: 2.1142 - acc: 0.2227 - val_loss: 2.1278 - val_acc: 0.2133\n",
            "Epoch 3/100\n",
            "50000/50000 [==============================] - 16s 313us/step - loss: 2.0375 - acc: 0.2600 - val_loss: 2.0507 - val_acc: 0.2483\n",
            "Epoch 4/100\n",
            "50000/50000 [==============================] - 16s 312us/step - loss: 1.9881 - acc: 0.2799 - val_loss: 2.0618 - val_acc: 0.2477\n",
            "Epoch 5/100\n",
            "50000/50000 [==============================] - 16s 316us/step - loss: 1.9559 - acc: 0.2936 - val_loss: 1.9807 - val_acc: 0.2803\n",
            "Epoch 6/100\n",
            "50000/50000 [==============================] - 16s 315us/step - loss: 1.9281 - acc: 0.3034 - val_loss: 2.0225 - val_acc: 0.2695\n",
            "Epoch 7/100\n",
            "50000/50000 [==============================] - 16s 318us/step - loss: 1.8952 - acc: 0.3188 - val_loss: 1.9743 - val_acc: 0.2874\n",
            "Epoch 8/100\n",
            "50000/50000 [==============================] - 16s 318us/step - loss: 1.8650 - acc: 0.3291 - val_loss: 1.9697 - val_acc: 0.2932\n",
            "Epoch 9/100\n",
            "50000/50000 [==============================] - 16s 317us/step - loss: 1.8274 - acc: 0.3464 - val_loss: 1.9941 - val_acc: 0.2844\n",
            "Epoch 10/100\n",
            "50000/50000 [==============================] - 16s 315us/step - loss: 1.7992 - acc: 0.3564 - val_loss: 1.9678 - val_acc: 0.2945\n",
            "Epoch 11/100\n",
            "50000/50000 [==============================] - 16s 314us/step - loss: 1.7714 - acc: 0.3674 - val_loss: 1.9926 - val_acc: 0.2960\n",
            "Epoch 12/100\n",
            "50000/50000 [==============================] - 16s 314us/step - loss: 1.7383 - acc: 0.3794 - val_loss: 1.9878 - val_acc: 0.2962\n",
            "Epoch 13/100\n",
            "50000/50000 [==============================] - 16s 313us/step - loss: 1.7080 - acc: 0.3902 - val_loss: 1.9972 - val_acc: 0.2967\n",
            "Epoch 14/100\n",
            "50000/50000 [==============================] - 16s 314us/step - loss: 1.6671 - acc: 0.4066 - val_loss: 1.9566 - val_acc: 0.3120\n",
            "Epoch 15/100\n",
            "50000/50000 [==============================] - 16s 317us/step - loss: 1.6338 - acc: 0.4179 - val_loss: 1.9925 - val_acc: 0.3082\n",
            "Epoch 16/100\n",
            "50000/50000 [==============================] - 16s 320us/step - loss: 1.5995 - acc: 0.4282 - val_loss: 1.9917 - val_acc: 0.3092\n",
            "Epoch 17/100\n",
            "50000/50000 [==============================] - 16s 317us/step - loss: 1.5675 - acc: 0.4419 - val_loss: 2.0252 - val_acc: 0.3079\n",
            "Epoch 18/100\n",
            "50000/50000 [==============================] - 16s 318us/step - loss: 1.5240 - acc: 0.4593 - val_loss: 2.0367 - val_acc: 0.3100\n",
            "Epoch 19/100\n",
            "50000/50000 [==============================] - 16s 317us/step - loss: 1.4788 - acc: 0.4729 - val_loss: 2.0604 - val_acc: 0.3088\n",
            "Epoch 20/100\n",
            "50000/50000 [==============================] - 16s 318us/step - loss: 1.4449 - acc: 0.4861 - val_loss: 2.0868 - val_acc: 0.3115\n",
            "Epoch 21/100\n",
            "50000/50000 [==============================] - 16s 320us/step - loss: 1.4116 - acc: 0.4985 - val_loss: 2.1296 - val_acc: 0.3135\n",
            "Epoch 22/100\n",
            "50000/50000 [==============================] - 16s 320us/step - loss: 1.3835 - acc: 0.5068 - val_loss: 2.1402 - val_acc: 0.3167\n",
            "Epoch 23/100\n",
            "50000/50000 [==============================] - 16s 319us/step - loss: 1.3239 - acc: 0.5292 - val_loss: 2.2547 - val_acc: 0.3027\n",
            "Epoch 24/100\n",
            "50000/50000 [==============================] - 16s 319us/step - loss: 1.2881 - acc: 0.5404 - val_loss: 2.2610 - val_acc: 0.3068\n",
            "Epoch 25/100\n",
            "50000/50000 [==============================] - 16s 320us/step - loss: 1.2513 - acc: 0.5540 - val_loss: 2.2808 - val_acc: 0.3039\n",
            "Epoch 26/100\n",
            "50000/50000 [==============================] - 16s 316us/step - loss: 1.2044 - acc: 0.5688 - val_loss: 2.2995 - val_acc: 0.3165\n",
            "Epoch 27/100\n",
            "50000/50000 [==============================] - 16s 312us/step - loss: 1.1649 - acc: 0.5831 - val_loss: 2.3440 - val_acc: 0.3022\n",
            "Epoch 28/100\n",
            "50000/50000 [==============================] - 16s 313us/step - loss: 1.1491 - acc: 0.5912 - val_loss: 2.4291 - val_acc: 0.3051\n",
            "Epoch 29/100\n",
            "50000/50000 [==============================] - 16s 313us/step - loss: 1.0930 - acc: 0.6103 - val_loss: 2.4134 - val_acc: 0.3026\n",
            "Epoch 30/100\n",
            "50000/50000 [==============================] - 16s 313us/step - loss: 1.0666 - acc: 0.6187 - val_loss: 2.5153 - val_acc: 0.3016\n",
            "Epoch 31/100\n",
            "50000/50000 [==============================] - 16s 314us/step - loss: 1.0182 - acc: 0.6363 - val_loss: 2.5495 - val_acc: 0.3001\n",
            "Epoch 32/100\n",
            "50000/50000 [==============================] - 16s 312us/step - loss: 0.9616 - acc: 0.6553 - val_loss: 2.7477 - val_acc: 0.2918\n",
            "Epoch 33/100\n",
            "50000/50000 [==============================] - 16s 314us/step - loss: 0.9250 - acc: 0.6699 - val_loss: 2.9520 - val_acc: 0.3062\n",
            "Epoch 34/100\n",
            "50000/50000 [==============================] - 16s 312us/step - loss: 0.8986 - acc: 0.6819 - val_loss: 2.8627 - val_acc: 0.2979\n",
            "Epoch 35/100\n",
            "50000/50000 [==============================] - 16s 311us/step - loss: 0.8701 - acc: 0.6919 - val_loss: 2.9357 - val_acc: 0.3019\n",
            "Epoch 36/100\n",
            "50000/50000 [==============================] - 16s 314us/step - loss: 0.8335 - acc: 0.7036 - val_loss: 3.0722 - val_acc: 0.2945\n",
            "Epoch 37/100\n",
            "50000/50000 [==============================] - 16s 313us/step - loss: 0.7998 - acc: 0.7157 - val_loss: 3.0906 - val_acc: 0.2945\n",
            "Epoch 38/100\n",
            "50000/50000 [==============================] - 16s 312us/step - loss: 0.7661 - acc: 0.7265 - val_loss: 3.1616 - val_acc: 0.2780\n",
            "Epoch 39/100\n",
            "50000/50000 [==============================] - 16s 313us/step - loss: 0.7579 - acc: 0.7283 - val_loss: 3.3177 - val_acc: 0.2869\n",
            "Epoch 40/100\n",
            "50000/50000 [==============================] - 16s 313us/step - loss: 0.6991 - acc: 0.7521 - val_loss: 3.4461 - val_acc: 0.2953\n",
            "Epoch 41/100\n",
            "50000/50000 [==============================] - 16s 312us/step - loss: 0.7006 - acc: 0.7500 - val_loss: 3.4237 - val_acc: 0.2828\n",
            "Epoch 42/100\n",
            "50000/50000 [==============================] - 16s 314us/step - loss: 0.6296 - acc: 0.7770 - val_loss: 3.6405 - val_acc: 0.2846\n",
            "Epoch 43/100\n",
            "50000/50000 [==============================] - 16s 312us/step - loss: 0.6218 - acc: 0.7803 - val_loss: 3.6861 - val_acc: 0.2890\n",
            "Epoch 44/100\n",
            "50000/50000 [==============================] - 16s 311us/step - loss: 0.6066 - acc: 0.7857 - val_loss: 3.8275 - val_acc: 0.2913\n",
            "Epoch 45/100\n",
            "50000/50000 [==============================] - 16s 315us/step - loss: 0.5914 - acc: 0.7894 - val_loss: 3.8082 - val_acc: 0.2769\n",
            "Epoch 46/100\n",
            "50000/50000 [==============================] - 16s 310us/step - loss: 0.5343 - acc: 0.8124 - val_loss: 4.0667 - val_acc: 0.2908\n",
            "Epoch 47/100\n",
            "50000/50000 [==============================] - 16s 313us/step - loss: 0.5499 - acc: 0.8043 - val_loss: 4.2086 - val_acc: 0.2891\n",
            "Epoch 48/100\n",
            "50000/50000 [==============================] - 16s 313us/step - loss: 0.5236 - acc: 0.8153 - val_loss: 4.2469 - val_acc: 0.2909\n",
            "Epoch 49/100\n",
            "50000/50000 [==============================] - 16s 312us/step - loss: 0.5102 - acc: 0.8203 - val_loss: 4.2822 - val_acc: 0.2844\n",
            "Epoch 50/100\n",
            "50000/50000 [==============================] - 15s 310us/step - loss: 0.5122 - acc: 0.8196 - val_loss: 4.3313 - val_acc: 0.2880\n",
            "Epoch 51/100\n",
            "50000/50000 [==============================] - 16s 312us/step - loss: 0.4521 - acc: 0.8409 - val_loss: 4.4076 - val_acc: 0.2794\n",
            "Epoch 52/100\n",
            "50000/50000 [==============================] - 16s 311us/step - loss: 0.4328 - acc: 0.8479 - val_loss: 4.6397 - val_acc: 0.2828\n",
            "Epoch 53/100\n",
            "50000/50000 [==============================] - 16s 312us/step - loss: 0.4045 - acc: 0.8580 - val_loss: 4.6331 - val_acc: 0.2897\n",
            "Epoch 54/100\n",
            "50000/50000 [==============================] - 16s 311us/step - loss: 0.3967 - acc: 0.8606 - val_loss: 4.7343 - val_acc: 0.2832\n",
            "Epoch 55/100\n",
            "50000/50000 [==============================] - 16s 312us/step - loss: 0.3979 - acc: 0.8608 - val_loss: 4.7846 - val_acc: 0.2805\n",
            "Epoch 56/100\n",
            "50000/50000 [==============================] - 16s 310us/step - loss: 0.3997 - acc: 0.8615 - val_loss: 4.7162 - val_acc: 0.2827\n",
            "Epoch 57/100\n",
            "50000/50000 [==============================] - 16s 312us/step - loss: 0.3684 - acc: 0.8709 - val_loss: 4.9456 - val_acc: 0.2887\n",
            "Epoch 58/100\n",
            "50000/50000 [==============================] - 16s 310us/step - loss: 0.3765 - acc: 0.8679 - val_loss: 4.8082 - val_acc: 0.2858\n",
            "Epoch 59/100\n",
            "50000/50000 [==============================] - 15s 309us/step - loss: 0.3473 - acc: 0.8791 - val_loss: 5.2599 - val_acc: 0.2753\n",
            "Epoch 60/100\n",
            "50000/50000 [==============================] - 16s 310us/step - loss: 0.3574 - acc: 0.8745 - val_loss: 5.0822 - val_acc: 0.2692\n",
            "Epoch 61/100\n",
            "50000/50000 [==============================] - 16s 310us/step - loss: 0.3709 - acc: 0.8709 - val_loss: 5.3160 - val_acc: 0.2747\n",
            "Epoch 62/100\n",
            "50000/50000 [==============================] - 15s 309us/step - loss: 0.3515 - acc: 0.8772 - val_loss: 5.0915 - val_acc: 0.2866\n",
            "Epoch 63/100\n",
            "50000/50000 [==============================] - 15s 310us/step - loss: 0.3167 - acc: 0.8896 - val_loss: 5.1606 - val_acc: 0.2853\n",
            "Epoch 64/100\n",
            "50000/50000 [==============================] - 16s 312us/step - loss: 0.2695 - acc: 0.9066 - val_loss: 5.5623 - val_acc: 0.2831\n",
            "Epoch 65/100\n",
            "50000/50000 [==============================] - 16s 313us/step - loss: 0.3033 - acc: 0.8934 - val_loss: 5.3387 - val_acc: 0.2863\n",
            "Epoch 66/100\n",
            "50000/50000 [==============================] - 16s 317us/step - loss: 0.3082 - acc: 0.8920 - val_loss: 5.6815 - val_acc: 0.2775\n",
            "Epoch 67/100\n",
            "50000/50000 [==============================] - 16s 316us/step - loss: 0.3002 - acc: 0.8971 - val_loss: 5.4564 - val_acc: 0.2842\n",
            "Epoch 68/100\n",
            "50000/50000 [==============================] - 16s 314us/step - loss: 0.3081 - acc: 0.8926 - val_loss: 5.5530 - val_acc: 0.2766\n",
            "Epoch 69/100\n",
            "50000/50000 [==============================] - 16s 314us/step - loss: 0.2924 - acc: 0.8991 - val_loss: 5.4668 - val_acc: 0.2801\n",
            "Epoch 70/100\n",
            "50000/50000 [==============================] - 16s 313us/step - loss: 0.2967 - acc: 0.8972 - val_loss: 5.6112 - val_acc: 0.2851\n",
            "Epoch 71/100\n",
            "50000/50000 [==============================] - 16s 315us/step - loss: 0.2404 - acc: 0.9155 - val_loss: 5.9023 - val_acc: 0.2777\n",
            "Epoch 72/100\n",
            "50000/50000 [==============================] - 16s 312us/step - loss: 0.3120 - acc: 0.8922 - val_loss: 5.6104 - val_acc: 0.2736\n",
            "Epoch 73/100\n",
            "50000/50000 [==============================] - 16s 313us/step - loss: 0.2574 - acc: 0.9117 - val_loss: 5.8277 - val_acc: 0.2863\n",
            "Epoch 74/100\n",
            "50000/50000 [==============================] - 16s 311us/step - loss: 0.2867 - acc: 0.9009 - val_loss: 5.6721 - val_acc: 0.2759\n",
            "Epoch 75/100\n",
            "50000/50000 [==============================] - 16s 313us/step - loss: 0.1871 - acc: 0.9361 - val_loss: 5.9354 - val_acc: 0.2815\n",
            "Epoch 76/100\n",
            "50000/50000 [==============================] - 16s 313us/step - loss: 0.2880 - acc: 0.9020 - val_loss: 5.8308 - val_acc: 0.2713\n",
            "Epoch 77/100\n",
            "50000/50000 [==============================] - 16s 312us/step - loss: 0.2503 - acc: 0.9156 - val_loss: 5.9196 - val_acc: 0.2858\n",
            "Epoch 78/100\n",
            "50000/50000 [==============================] - 16s 312us/step - loss: 0.2571 - acc: 0.9123 - val_loss: 5.9011 - val_acc: 0.2841\n",
            "Epoch 79/100\n",
            "50000/50000 [==============================] - 16s 315us/step - loss: 0.1981 - acc: 0.9327 - val_loss: 6.1161 - val_acc: 0.2771\n",
            "Epoch 80/100\n",
            "50000/50000 [==============================] - 16s 314us/step - loss: 0.1942 - acc: 0.9331 - val_loss: 6.3261 - val_acc: 0.2845\n",
            "Epoch 81/100\n",
            "50000/50000 [==============================] - 16s 314us/step - loss: 0.2698 - acc: 0.9077 - val_loss: 6.1971 - val_acc: 0.2816\n",
            "Epoch 82/100\n",
            "50000/50000 [==============================] - 16s 312us/step - loss: 0.2522 - acc: 0.9134 - val_loss: 6.3380 - val_acc: 0.2750\n",
            "Epoch 83/100\n",
            "50000/50000 [==============================] - 16s 315us/step - loss: 0.2063 - acc: 0.9303 - val_loss: 6.0441 - val_acc: 0.2827\n",
            "Epoch 84/100\n",
            "50000/50000 [==============================] - 16s 314us/step - loss: 0.1945 - acc: 0.9337 - val_loss: 6.2015 - val_acc: 0.2747\n",
            "Epoch 85/100\n",
            "50000/50000 [==============================] - 16s 314us/step - loss: 0.2137 - acc: 0.9260 - val_loss: 6.2988 - val_acc: 0.2824\n",
            "Epoch 86/100\n",
            "50000/50000 [==============================] - 16s 313us/step - loss: 0.2439 - acc: 0.9169 - val_loss: 6.2024 - val_acc: 0.2885\n",
            "Epoch 87/100\n",
            "50000/50000 [==============================] - 16s 313us/step - loss: 0.2248 - acc: 0.9243 - val_loss: 6.3561 - val_acc: 0.2781\n",
            "Epoch 88/100\n",
            "50000/50000 [==============================] - 16s 315us/step - loss: 0.2078 - acc: 0.9300 - val_loss: 6.2002 - val_acc: 0.2829\n",
            "Epoch 89/100\n",
            "50000/50000 [==============================] - 16s 315us/step - loss: 0.2085 - acc: 0.9289 - val_loss: 6.3224 - val_acc: 0.2778\n",
            "Epoch 90/100\n",
            "50000/50000 [==============================] - 16s 316us/step - loss: 0.1970 - acc: 0.9324 - val_loss: 6.5037 - val_acc: 0.2815\n",
            "Epoch 91/100\n",
            "50000/50000 [==============================] - 16s 317us/step - loss: 0.1302 - acc: 0.9564 - val_loss: 6.5182 - val_acc: 0.2806\n",
            "Epoch 92/100\n",
            "50000/50000 [==============================] - 16s 316us/step - loss: 0.3268 - acc: 0.8918 - val_loss: 6.1344 - val_acc: 0.2805\n",
            "Epoch 93/100\n",
            "50000/50000 [==============================] - 16s 317us/step - loss: 0.1981 - acc: 0.9345 - val_loss: 6.2580 - val_acc: 0.2757\n",
            "Epoch 94/100\n",
            "50000/50000 [==============================] - 16s 316us/step - loss: 0.1868 - acc: 0.9376 - val_loss: 6.2158 - val_acc: 0.2773\n",
            "Epoch 95/100\n",
            "50000/50000 [==============================] - 16s 314us/step - loss: 0.1703 - acc: 0.9421 - val_loss: 6.4592 - val_acc: 0.2773\n",
            "Epoch 96/100\n",
            "50000/50000 [==============================] - 16s 312us/step - loss: 0.2315 - acc: 0.9216 - val_loss: 6.2339 - val_acc: 0.2787\n",
            "Epoch 97/100\n",
            "50000/50000 [==============================] - 16s 313us/step - loss: 0.1543 - acc: 0.9491 - val_loss: 6.6295 - val_acc: 0.2817\n",
            "Epoch 98/100\n",
            "50000/50000 [==============================] - 16s 317us/step - loss: 0.2220 - acc: 0.9273 - val_loss: 6.2329 - val_acc: 0.2757\n",
            "Epoch 99/100\n",
            "50000/50000 [==============================] - 16s 317us/step - loss: 0.2071 - acc: 0.9314 - val_loss: 6.4078 - val_acc: 0.2809\n",
            "Epoch 100/100\n",
            "50000/50000 [==============================] - 16s 312us/step - loss: 0.1278 - acc: 0.9576 - val_loss: 6.5922 - val_acc: 0.2829\n"
          ],
          "name": "stdout"
        },
        {
          "output_type": "execute_result",
          "data": {
            "text/plain": [
              "<keras.callbacks.History at 0x7f46e96b6588>"
            ]
          },
          "metadata": {
            "tags": []
          },
          "execution_count": 9
        }
      ]
    },
    {
      "cell_type": "code",
      "metadata": {
        "id": "xTwsO6gyabGO",
        "colab_type": "code",
        "colab": {
          "base_uri": "https://localhost:8080/",
          "height": 545
        },
        "outputId": "1a2e6fed-2b35-4002-95c1-4f715502e6e4"
      },
      "source": [
        "import matplotlib.pyplot as plt\n",
        "\n",
        "\n",
        "train_loss = model.history.history[ 'loss' ]\n",
        "valid_loss = model.history.history[ 'val_loss' ]\n",
        "\n",
        "train_acc = model.history.history[ 'acc' ]\n",
        "valid_acc = model.history.history[ 'val_acc' ]\n",
        "\n",
        "plt.plot( range( len( train_loss ) ), train_loss, label = 'train loss' )\n",
        "plt.plot( range( len( valid_loss ) ), valid_loss, label = 'valid loss' )\n",
        "plt.legend( )\n",
        "plt.title( 'Loss' )\n",
        "plt.show( )\n",
        "\n",
        "plt.plot( range( len( train_acc ) ), train_acc, label = 'train accuracy' )\n",
        "plt.plot( range( len( valid_acc ) ), valid_acc, label = 'valid accuracy' )\n",
        "plt.legend( )\n",
        "plt.title( 'Accuracy' )\n",
        "plt.show( )"
      ],
      "execution_count": 10,
      "outputs": [
        {
          "output_type": "display_data",
          "data": {
            "image/png": "[encoded data removed]",
            "text/plain": [
              "<Figure size 432x288 with 1 Axes>"
            ]
          },
          "metadata": {
            "tags": []
          }
        },
        {
          "output_type": "display_data",
          "data": {
            "image/png": "[encoded data removed]",
            "text/plain": [
              "<Figure size 432x288 with 1 Axes>"
            ]
          },
          "metadata": {
            "tags": []
          }
        }
      ]
    }
  ]
}